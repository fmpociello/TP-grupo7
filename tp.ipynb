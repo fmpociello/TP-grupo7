{
  "cells": [
    {
      "cell_type": "markdown",
      "metadata": {
        "id": "56CezKtz5vJH"
      },
      "source": [
        "# Setup Inicial"
      ]
    },
    {
      "cell_type": "code",
      "execution_count": 11,
      "metadata": {
        "id": "54U35qeULfr6"
      },
      "outputs": [
        {
          "name": "stdout",
          "output_type": "stream",
          "text": [
            "zsh:1: command not found: gdown\n",
            "zsh:1: command not found: gdown\n",
            "zsh:1: command not found: gdown\n",
            "zsh:1: command not found: gdown\n",
            "zsh:1: command not found: gdown\n",
            "zsh:1: command not found: gdown\n",
            "zsh:1: command not found: gdown\n"
          ]
        }
      ],
      "source": [
        "#descargo archivos\n",
        "! gdown 1Ui7dofcyVVJlqPSqnJjmufPKnZxw5ZAj #properatti.csv\n",
        "! gdown 1I2V15Sf2mUqXQUQvExfvzipDxnWMqvXM #provincia.shx\n",
        "! gdown 1Im6hNqTDb1zaCX4Lo9czGaMmqgzvDj9S #ar.csv\n",
        "! gdown 1RCIHoEfk07OiSZw5PtOxVdj4aiHxQJpC #provincia.shp\n",
        "! gdown 1EcVqccbr0qdJtuyzOHBRtSkkJZlxf6_Z #provincia.prj\n",
        "! gdown 1r3ElDulmkTvdGwL6zuIWLZ08C8bM4kqw #provincia.dbf\n",
        "! gdown 11VXNu7X_BIfB-2ZtStlxQmHoL_OBdafk #provincia.cpg"
      ]
    },
    {
      "cell_type": "code",
      "execution_count": 12,
      "metadata": {
        "id": "viOO1B_zsL-r"
      },
      "outputs": [],
      "source": [
        "#instalo dependencias\n",
        "# !pip install --upgrade geopandas pyshp shapely descartes\n",
        "# !pip install --upgrade unidecode\n",
        "import geopandas as gpd\n",
        "import numpy as np\n",
        "import pandas as pd\n",
        "import matplotlib.pyplot as plt\n",
        "import re\n",
        "from shapely.geometry import Point, Polygon\n",
        "import matplotlib.pyplot as plt\n",
        "from unidecode import unidecode\n",
        "import seaborn as sns\n",
        "from sklearn.linear_model import Ridge, Lasso, RidgeCV, LassoCV, LinearRegression\n",
        "from sklearn.model_selection import train_test_split, GridSearchCV, cross_val_score\n",
        "from sklearn.metrics import mean_absolute_error, mean_squared_error, r2_score\n",
        "from sklearn.preprocessing import StandardScaler   \n"
      ]
    },
    {
      "cell_type": "markdown",
      "metadata": {
        "id": "P_f2-2VT027T"
      },
      "source": [
        "<h3>Defino Funciones de Correlacion que luego utilizaremos</h3>"
      ]
    },
    {
      "cell_type": "code",
      "execution_count": 13,
      "metadata": {
        "id": "kftT474m00QO"
      },
      "outputs": [],
      "source": [
        "def calculate_correlation(dataframe, column1, column2, lower_bound1=None, lower_bound2=None, upper_bound1=None, upper_bound2=None):\n",
        "    #If bounds are not given, calculate them\n",
        "    if lower_bound1 is None or upper_bound1 is None:\n",
        "        Q1 = dataframe[column1].quantile(0.25)\n",
        "        Q3 = dataframe[column1].quantile(0.75)\n",
        "        IQR = Q3 - Q1\n",
        "        if lower_bound1 is None:\n",
        "            lower_bound1 = Q1 - 1.5 * IQR\n",
        "        if upper_bound1 is None:\n",
        "            upper_bound1 = Q3 + 1.5 * IQR\n",
        "\n",
        "    if lower_bound2 is None or upper_bound2 is None:\n",
        "        Q1 = dataframe[column2].quantile(0.25)\n",
        "        Q3 = dataframe[column2].quantile(0.75)\n",
        "        IQR = Q3 - Q1\n",
        "        if lower_bound2 is None:\n",
        "            lower_bound2 = Q1 - 1.5 * IQR\n",
        "        if upper_bound2 is None:\n",
        "            upper_bound2 = Q3 + 1.5 * IQR\n",
        "\n",
        "    #Filter out the outliers\n",
        "    dataframe = dataframe[(dataframe[column1] >= lower_bound1) & (dataframe[column1] <= upper_bound1)]\n",
        "    dataframe = dataframe[(dataframe[column2] >= lower_bound2) & (dataframe[column2] <= upper_bound2)]\n",
        "\n",
        "    #Compute the correlation\n",
        "    correlation = dataframe[[column1, column2]].corr().iloc[0,1]\n",
        "\n",
        "    return correlation\n",
        "\n",
        "\n",
        "#correlacion en grupos\n",
        "def calculate_correlation_grouped(df, column1, column2, groupby_column,\n",
        "                           lower_bound1=None, lower_bound2=None,\n",
        "                           upper_bound1=None, upper_bound2=None):\n",
        "\n",
        "    # Group the dataframe using groupby_column\n",
        "    grouped = df.groupby(groupby_column)\n",
        "\n",
        "    correlation_list = []\n",
        "    for name, group in grouped:\n",
        "\n",
        "        # Define lower and upper bounds from Interquartile range if not given\n",
        "        if lower_bound1 is None or upper_bound1 is None:\n",
        "            Q1 = group[column1].quantile(0.25)\n",
        "            Q3 = group[column1].quantile(0.75)\n",
        "            IQR = Q3 - Q1\n",
        "            if lower_bound1 is None:\n",
        "                lower_bound1 = Q1 - 1.5 * IQR\n",
        "            if upper_bound1 is None:\n",
        "                upper_bound1 = Q3 + 1.5 * IQR\n",
        "\n",
        "        if lower_bound2 is None or upper_bound2 is None:\n",
        "            Q1 = group[column2].quantile(0.25)\n",
        "            Q3 = group[column2].quantile(0.75)\n",
        "            IQR = Q3 - Q1\n",
        "            if lower_bound2 is None:\n",
        "                lower_bound2 = Q1 - 1.5 * IQR\n",
        "            if upper_bound2 is None:\n",
        "                upper_bound2 = Q3 + 1.5 * IQR\n",
        "\n",
        "        # Filter outlier rows\n",
        "        group = group[(group[column1] > lower_bound1) & (group[column1] < upper_bound1) &\n",
        "                      (group[column2] > lower_bound2) & (group[column2] < upper_bound2)]\n",
        "\n",
        "        # Check if the group has enough data to calculate correlation\n",
        "        if group.shape[0] > 1 and group[column1].nunique() > 1 and group[column2].nunique() > 1:\n",
        "            correlation = group[[column1, column2]].corr().iloc[0,1]\n",
        "            correlation_list.append(correlation)\n",
        "\n",
        "    # Check if you've found any valid correlations before calculating the mean\n",
        "    if len(correlation_list) > 0:\n",
        "        return np.mean(correlation_list)\n",
        "    else:\n",
        "        return None"
      ]
    },
    {
      "cell_type": "markdown",
      "metadata": {
        "id": "wrw8tj4c54hQ"
      },
      "source": [
        "#Análisis Preliminar #"
      ]
    },
    {
      "cell_type": "code",
      "execution_count": 14,
      "metadata": {
        "id": "QWN9550LtHV3"
      },
      "outputs": [],
      "source": [
        "properatti_df_original=pd.read_csv('../properatti.csv', sep=\",\", index_col=0)\n",
        "properatti_df=properatti_df_original.copy()"
      ]
    },
    {
      "cell_type": "markdown",
      "metadata": {
        "id": "SbauCipjotT2"
      },
      "source": [
        "<h3>Hacemos un paneo preliminar del dataset</h3>"
      ]
    },
    {
      "cell_type": "code",
      "execution_count": 15,
      "metadata": {
        "id": "75rvEghnovpF"
      },
      "outputs": [
        {
          "data": {
            "text/html": [
              "<div>\n",
              "<style scoped>\n",
              "    .dataframe tbody tr th:only-of-type {\n",
              "        vertical-align: middle;\n",
              "    }\n",
              "\n",
              "    .dataframe tbody tr th {\n",
              "        vertical-align: top;\n",
              "    }\n",
              "\n",
              "    .dataframe thead th {\n",
              "        text-align: right;\n",
              "    }\n",
              "</style>\n",
              "<table border=\"1\" class=\"dataframe\">\n",
              "  <thead>\n",
              "    <tr style=\"text-align: right;\">\n",
              "      <th></th>\n",
              "      <th>operation</th>\n",
              "      <th>property_type</th>\n",
              "      <th>place_name</th>\n",
              "      <th>place_with_parent_names</th>\n",
              "      <th>country_name</th>\n",
              "      <th>state_name</th>\n",
              "      <th>geonames_id</th>\n",
              "      <th>lat-lon</th>\n",
              "      <th>lat</th>\n",
              "      <th>lon</th>\n",
              "      <th>price</th>\n",
              "      <th>currency</th>\n",
              "      <th>price_aprox_local_currency</th>\n",
              "      <th>price_aprox_usd</th>\n",
              "      <th>surface_total_in_m2</th>\n",
              "      <th>surface_covered_in_m2</th>\n",
              "      <th>price_usd_per_m2</th>\n",
              "      <th>price_per_m2</th>\n",
              "      <th>floor</th>\n",
              "      <th>rooms</th>\n",
              "      <th>expenses</th>\n",
              "      <th>properati_url</th>\n",
              "      <th>description</th>\n",
              "      <th>title</th>\n",
              "      <th>image_thumbnail</th>\n",
              "    </tr>\n",
              "  </thead>\n",
              "  <tbody>\n",
              "    <tr>\n",
              "      <th>0</th>\n",
              "      <td>sell</td>\n",
              "      <td>PH</td>\n",
              "      <td>Mataderos</td>\n",
              "      <td>|Argentina|Capital Federal|Mataderos|</td>\n",
              "      <td>Argentina</td>\n",
              "      <td>Capital Federal</td>\n",
              "      <td>3430787.0</td>\n",
              "      <td>-34.6618237,-58.5088387</td>\n",
              "      <td>-34.661824</td>\n",
              "      <td>-58.508839</td>\n",
              "      <td>62000.0</td>\n",
              "      <td>USD</td>\n",
              "      <td>1093959.0</td>\n",
              "      <td>62000.0</td>\n",
              "      <td>55.0</td>\n",
              "      <td>40.0</td>\n",
              "      <td>1127.272727</td>\n",
              "      <td>1550.000000</td>\n",
              "      <td>NaN</td>\n",
              "      <td>NaN</td>\n",
              "      <td>NaN</td>\n",
              "      <td>http://www.properati.com.ar/15bo8_venta_ph_mat...</td>\n",
              "      <td>2 AMBIENTES TIPO CASA PLANTA BAJA POR PASILLO,...</td>\n",
              "      <td>2 AMB TIPO CASA SIN EXPENSAS EN PB</td>\n",
              "      <td>https://thumbs4.properati.com/8/BluUYiHJLhgIIK...</td>\n",
              "    </tr>\n",
              "    <tr>\n",
              "      <th>1</th>\n",
              "      <td>sell</td>\n",
              "      <td>apartment</td>\n",
              "      <td>La Plata</td>\n",
              "      <td>|Argentina|Bs.As. G.B.A. Zona Sur|La Plata|</td>\n",
              "      <td>Argentina</td>\n",
              "      <td>Bs.As. G.B.A. Zona Sur</td>\n",
              "      <td>3432039.0</td>\n",
              "      <td>-34.9038831,-57.9643295</td>\n",
              "      <td>-34.903883</td>\n",
              "      <td>-57.964330</td>\n",
              "      <td>150000.0</td>\n",
              "      <td>USD</td>\n",
              "      <td>2646675.0</td>\n",
              "      <td>150000.0</td>\n",
              "      <td>NaN</td>\n",
              "      <td>NaN</td>\n",
              "      <td>NaN</td>\n",
              "      <td>NaN</td>\n",
              "      <td>NaN</td>\n",
              "      <td>NaN</td>\n",
              "      <td>NaN</td>\n",
              "      <td>http://www.properati.com.ar/15bob_venta_depart...</td>\n",
              "      <td>Venta de departamento en décimo piso al frente...</td>\n",
              "      <td>VENTA Depto 2 dorm. a estrenar 7 e/ 36 y 37   ...</td>\n",
              "      <td>https://thumbs4.properati.com/7/ikpVBu2ztHA7jv...</td>\n",
              "    </tr>\n",
              "    <tr>\n",
              "      <th>2</th>\n",
              "      <td>sell</td>\n",
              "      <td>apartment</td>\n",
              "      <td>Mataderos</td>\n",
              "      <td>|Argentina|Capital Federal|Mataderos|</td>\n",
              "      <td>Argentina</td>\n",
              "      <td>Capital Federal</td>\n",
              "      <td>3430787.0</td>\n",
              "      <td>-34.6522615,-58.5229825</td>\n",
              "      <td>-34.652262</td>\n",
              "      <td>-58.522982</td>\n",
              "      <td>72000.0</td>\n",
              "      <td>USD</td>\n",
              "      <td>1270404.0</td>\n",
              "      <td>72000.0</td>\n",
              "      <td>55.0</td>\n",
              "      <td>55.0</td>\n",
              "      <td>1309.090909</td>\n",
              "      <td>1309.090909</td>\n",
              "      <td>NaN</td>\n",
              "      <td>NaN</td>\n",
              "      <td>NaN</td>\n",
              "      <td>http://www.properati.com.ar/15bod_venta_depart...</td>\n",
              "      <td>2 AMBIENTES 3ER PISO LATERAL LIVING COMEDOR AM...</td>\n",
              "      <td>2 AMB 3ER PISO CON ASCENSOR APTO CREDITO</td>\n",
              "      <td>https://thumbs4.properati.com/5/SXKr34F_IwG3W_...</td>\n",
              "    </tr>\n",
              "    <tr>\n",
              "      <th>3</th>\n",
              "      <td>sell</td>\n",
              "      <td>PH</td>\n",
              "      <td>Liniers</td>\n",
              "      <td>|Argentina|Capital Federal|Liniers|</td>\n",
              "      <td>Argentina</td>\n",
              "      <td>Capital Federal</td>\n",
              "      <td>3431333.0</td>\n",
              "      <td>-34.6477969,-58.5164244</td>\n",
              "      <td>-34.647797</td>\n",
              "      <td>-58.516424</td>\n",
              "      <td>95000.0</td>\n",
              "      <td>USD</td>\n",
              "      <td>1676227.5</td>\n",
              "      <td>95000.0</td>\n",
              "      <td>NaN</td>\n",
              "      <td>NaN</td>\n",
              "      <td>NaN</td>\n",
              "      <td>NaN</td>\n",
              "      <td>NaN</td>\n",
              "      <td>NaN</td>\n",
              "      <td>NaN</td>\n",
              "      <td>http://www.properati.com.ar/15boh_venta_ph_lin...</td>\n",
              "      <td>PH 3 ambientes con patio. Hay 3 deptos en lote...</td>\n",
              "      <td>PH 3 amb. cfte. reciclado</td>\n",
              "      <td>https://thumbs4.properati.com/3/DgIfX-85Mog5SP...</td>\n",
              "    </tr>\n",
              "    <tr>\n",
              "      <th>4</th>\n",
              "      <td>sell</td>\n",
              "      <td>apartment</td>\n",
              "      <td>Centro</td>\n",
              "      <td>|Argentina|Buenos Aires Costa Atlántica|Mar de...</td>\n",
              "      <td>Argentina</td>\n",
              "      <td>Buenos Aires Costa Atlántica</td>\n",
              "      <td>3435548.0</td>\n",
              "      <td>-38.0026256,-57.5494468</td>\n",
              "      <td>-38.002626</td>\n",
              "      <td>-57.549447</td>\n",
              "      <td>64000.0</td>\n",
              "      <td>USD</td>\n",
              "      <td>1129248.0</td>\n",
              "      <td>64000.0</td>\n",
              "      <td>35.0</td>\n",
              "      <td>35.0</td>\n",
              "      <td>1828.571429</td>\n",
              "      <td>1828.571429</td>\n",
              "      <td>NaN</td>\n",
              "      <td>NaN</td>\n",
              "      <td>NaN</td>\n",
              "      <td>http://www.properati.com.ar/15bok_venta_depart...</td>\n",
              "      <td>DEPARTAMENTO CON FANTÁSTICA ILUMINACIÓN NATURA...</td>\n",
              "      <td>DEPTO 2 AMB AL CONTRAFRENTE ZONA CENTRO/PLAZA ...</td>\n",
              "      <td>https://thumbs4.properati.com/5/xrRqlNcSI_vs-f...</td>\n",
              "    </tr>\n",
              "  </tbody>\n",
              "</table>\n",
              "</div>"
            ],
            "text/plain": [
              "  operation property_type place_name  \\\n",
              "0      sell            PH  Mataderos   \n",
              "1      sell     apartment   La Plata   \n",
              "2      sell     apartment  Mataderos   \n",
              "3      sell            PH    Liniers   \n",
              "4      sell     apartment     Centro   \n",
              "\n",
              "                             place_with_parent_names country_name  \\\n",
              "0              |Argentina|Capital Federal|Mataderos|    Argentina   \n",
              "1        |Argentina|Bs.As. G.B.A. Zona Sur|La Plata|    Argentina   \n",
              "2              |Argentina|Capital Federal|Mataderos|    Argentina   \n",
              "3                |Argentina|Capital Federal|Liniers|    Argentina   \n",
              "4  |Argentina|Buenos Aires Costa Atlántica|Mar de...    Argentina   \n",
              "\n",
              "                     state_name  geonames_id                  lat-lon  \\\n",
              "0               Capital Federal    3430787.0  -34.6618237,-58.5088387   \n",
              "1        Bs.As. G.B.A. Zona Sur    3432039.0  -34.9038831,-57.9643295   \n",
              "2               Capital Federal    3430787.0  -34.6522615,-58.5229825   \n",
              "3               Capital Federal    3431333.0  -34.6477969,-58.5164244   \n",
              "4  Buenos Aires Costa Atlántica    3435548.0  -38.0026256,-57.5494468   \n",
              "\n",
              "         lat        lon     price currency  price_aprox_local_currency  \\\n",
              "0 -34.661824 -58.508839   62000.0      USD                   1093959.0   \n",
              "1 -34.903883 -57.964330  150000.0      USD                   2646675.0   \n",
              "2 -34.652262 -58.522982   72000.0      USD                   1270404.0   \n",
              "3 -34.647797 -58.516424   95000.0      USD                   1676227.5   \n",
              "4 -38.002626 -57.549447   64000.0      USD                   1129248.0   \n",
              "\n",
              "   price_aprox_usd  surface_total_in_m2  surface_covered_in_m2  \\\n",
              "0          62000.0                 55.0                   40.0   \n",
              "1         150000.0                  NaN                    NaN   \n",
              "2          72000.0                 55.0                   55.0   \n",
              "3          95000.0                  NaN                    NaN   \n",
              "4          64000.0                 35.0                   35.0   \n",
              "\n",
              "   price_usd_per_m2  price_per_m2  floor  rooms  expenses  \\\n",
              "0       1127.272727   1550.000000    NaN    NaN       NaN   \n",
              "1               NaN           NaN    NaN    NaN       NaN   \n",
              "2       1309.090909   1309.090909    NaN    NaN       NaN   \n",
              "3               NaN           NaN    NaN    NaN       NaN   \n",
              "4       1828.571429   1828.571429    NaN    NaN       NaN   \n",
              "\n",
              "                                       properati_url  \\\n",
              "0  http://www.properati.com.ar/15bo8_venta_ph_mat...   \n",
              "1  http://www.properati.com.ar/15bob_venta_depart...   \n",
              "2  http://www.properati.com.ar/15bod_venta_depart...   \n",
              "3  http://www.properati.com.ar/15boh_venta_ph_lin...   \n",
              "4  http://www.properati.com.ar/15bok_venta_depart...   \n",
              "\n",
              "                                         description  \\\n",
              "0  2 AMBIENTES TIPO CASA PLANTA BAJA POR PASILLO,...   \n",
              "1  Venta de departamento en décimo piso al frente...   \n",
              "2  2 AMBIENTES 3ER PISO LATERAL LIVING COMEDOR AM...   \n",
              "3  PH 3 ambientes con patio. Hay 3 deptos en lote...   \n",
              "4  DEPARTAMENTO CON FANTÁSTICA ILUMINACIÓN NATURA...   \n",
              "\n",
              "                                               title  \\\n",
              "0                 2 AMB TIPO CASA SIN EXPENSAS EN PB   \n",
              "1  VENTA Depto 2 dorm. a estrenar 7 e/ 36 y 37   ...   \n",
              "2           2 AMB 3ER PISO CON ASCENSOR APTO CREDITO   \n",
              "3                       PH 3 amb. cfte. reciclado      \n",
              "4  DEPTO 2 AMB AL CONTRAFRENTE ZONA CENTRO/PLAZA ...   \n",
              "\n",
              "                                     image_thumbnail  \n",
              "0  https://thumbs4.properati.com/8/BluUYiHJLhgIIK...  \n",
              "1  https://thumbs4.properati.com/7/ikpVBu2ztHA7jv...  \n",
              "2  https://thumbs4.properati.com/5/SXKr34F_IwG3W_...  \n",
              "3  https://thumbs4.properati.com/3/DgIfX-85Mog5SP...  \n",
              "4  https://thumbs4.properati.com/5/xrRqlNcSI_vs-f...  "
            ]
          },
          "execution_count": 15,
          "metadata": {},
          "output_type": "execute_result"
        }
      ],
      "source": [
        "#seteo para ver todas las colkumnas sin el \"...\"\n",
        "pd.options.display.max_columns = None\n",
        "#imprimo el head del df\n",
        "properatti_df.head()"
      ]
    },
    {
      "cell_type": "markdown",
      "metadata": {
        "id": "B3mSRgRqpKcM"
      },
      "source": [
        "<h4>Observamos las columnas y sus tipos de datos utilizando el atributo</h4>\n",
        "Observamos las distintas columnas del Dataframe con el atributo  Dataframe.dtypes\n"
      ]
    },
    {
      "cell_type": "code",
      "execution_count": 16,
      "metadata": {
        "id": "7_n0axK1pLRR"
      },
      "outputs": [
        {
          "data": {
            "text/plain": [
              "operation                      object\n",
              "property_type                  object\n",
              "place_name                     object\n",
              "place_with_parent_names        object\n",
              "country_name                   object\n",
              "state_name                     object\n",
              "geonames_id                   float64\n",
              "lat-lon                        object\n",
              "lat                           float64\n",
              "lon                           float64\n",
              "price                         float64\n",
              "currency                       object\n",
              "price_aprox_local_currency    float64\n",
              "price_aprox_usd               float64\n",
              "surface_total_in_m2           float64\n",
              "surface_covered_in_m2         float64\n",
              "price_usd_per_m2              float64\n",
              "price_per_m2                  float64\n",
              "floor                         float64\n",
              "rooms                         float64\n",
              "expenses                      float64\n",
              "properati_url                  object\n",
              "description                    object\n",
              "title                          object\n",
              "image_thumbnail                object\n",
              "dtype: object"
            ]
          },
          "execution_count": 16,
          "metadata": {},
          "output_type": "execute_result"
        }
      ],
      "source": [
        "properatti_df.dtypes"
      ]
    },
    {
      "cell_type": "markdown",
      "metadata": {
        "id": "D6WanVnkpU1h"
      },
      "source": [
        "<h2>Aqui podemos ver que las columnas tienen el tipo de dato esperado, estando todas las columnas que representan numeros en formato float64</h2>"
      ]
    },
    {
      "cell_type": "code",
      "execution_count": 17,
      "metadata": {
        "id": "elCkZ1xFpVqE"
      },
      "outputs": [
        {
          "data": {
            "text/plain": [
              "operation                     121220\n",
              "property_type                 121220\n",
              "place_name                    121197\n",
              "place_with_parent_names       121220\n",
              "country_name                  121220\n",
              "state_name                    121220\n",
              "geonames_id                   102503\n",
              "lat-lon                        69670\n",
              "lat                            69670\n",
              "lon                            69670\n",
              "price                         100810\n",
              "currency                      100809\n",
              "price_aprox_local_currency    100810\n",
              "price_aprox_usd               100810\n",
              "surface_total_in_m2            81892\n",
              "surface_covered_in_m2         101313\n",
              "price_usd_per_m2               68617\n",
              "price_per_m2                   87658\n",
              "floor                           7899\n",
              "rooms                          47390\n",
              "expenses                       14262\n",
              "properati_url                 121220\n",
              "description                   121218\n",
              "title                         121220\n",
              "image_thumbnail               118108\n",
              "dtype: int64"
            ]
          },
          "execution_count": 17,
          "metadata": {},
          "output_type": "execute_result"
        }
      ],
      "source": [
        "properatti_df.count()"
      ]
    },
    {
      "cell_type": "markdown",
      "metadata": {
        "id": "bF0UcGkipkLt"
      },
      "source": [
        "<h3>A primera vista, podemos ver que todos nuestros entries tienen valores en las columnas operation, property_type, place_with_parent_names, country_name, state_name, properati_url y title</h3>\n",
        "<h3>Definimos estrategia para las columnas:</h3>\n",
        "<h4><u>Operation</u></h4>\n",
        "<h5>Veremos el tipo de operaciones que estan presentes en el DataFrame y normalizaremos si es necesario</h5>\n",
        "<h4><u>property_type</u></h4>\n",
        "<h5>Veremos los distintos tipos de propiedades, normalizaremos de ser necesario. Esta columna es importante ya que luego para analisis de precio seguramente sea necesario discriminar</h5>\n",
        "<h4><u>geonames_id, lat-lon, lat y lon</u></h4>\n",
        "<h5>Limpiaremos y utilizaremos esta informacion para visualizar la ubicacion de las propiedades. La informacion de la geografia se complementa con informacion proveniente de un dataframe extra (DATA_GEONAMES) y dos mapas de Argentina, uno con division politica y otro continental.</h5>\n",
        "<h4><u>place_with_parent_names</u></h4>\n",
        "<h5>Normalizaremos esta columna, para obtener informacion acerca de la ubicacion en terminos de provincia, ciudad y barrio. Dicha informacion se guardara en columnas nuevas.</h5>\n",
        "<h4><u>price, currency, price_aprox_local_currency,price_aprox_usd</u></h4>\n",
        "<h5>Normalizaremos en una nueva columna con precio aproximado en usd, utilizando el valor de la columna price_aprox_usd, intentando extraer via regex de la columna descripcion, o convirtiendo los valores en caso de que esten en otra moneda</h5>\n",
        "<h4><u>surface_total_in_m2</u></h4>\n",
        "<h5>Crearemos una nueva columna con los valores de la columna original y extrayendo los faltantes que se puedan encontrar, mediante una regex, en las columnas descripción, title y url.</h5>\n",
        "<h4><u>Columna</u></h4>\n",
        "<h5>Estrategia</h5>\n",
        "<h4><u>Columna</u></h4>\n",
        "<h5>Estrategia</h5>\n",
        "<h4><u>Columna</u></h4>\n",
        "<h5>Estrategia</h5>\n",
        "<h4><u>Columna</u></h4>\n",
        "<h5>Estrategia</h5>\n",
        "<h4><u>Columna</u></h4>\n",
        "<h5>Estrategia</h5>\n",
        "\n",
        "\n",
        "\n"
      ]
    },
    {
      "cell_type": "markdown",
      "metadata": {
        "id": "hHWceKAfrZAH"
      },
      "source": []
    },
    {
      "cell_type": "markdown",
      "metadata": {
        "id": "KXwcyk8ThVtw"
      },
      "source": [
        "#limpieza preliminar"
      ]
    },
    {
      "cell_type": "code",
      "execution_count": 18,
      "metadata": {
        "id": "bbfec026"
      },
      "outputs": [
        {
          "name": "stdout",
          "output_type": "stream",
          "text": [
            "Numero de filas en el Dataframe original: 121220\n",
            "Numero de filas en el Dataframe sin duplicados: 121220\n"
          ]
        }
      ],
      "source": [
        "df_num_of_entries = properatti_df.shape[0]\n",
        "df_num_of_entries_no_duplicates = properatti_df.drop_duplicates().shape[0]\n",
        "\n",
        "print(\"Numero de filas en el Dataframe original:\", df_num_of_entries)\n",
        "print(\"Numero de filas en el Dataframe sin duplicados:\", df_num_of_entries)"
      ]
    },
    {
      "cell_type": "markdown",
      "metadata": {
        "id": "93257d37"
      },
      "source": [
        "Podemos ver que no tenemos duplicados en nuestro dataframe"
      ]
    },
    {
      "cell_type": "code",
      "execution_count": 19,
      "metadata": {
        "id": "fe08a66d"
      },
      "outputs": [
        {
          "name": "stdout",
          "output_type": "stream",
          "text": [
            "Numero de operaciones de 'sell' = 121220\n"
          ]
        }
      ],
      "source": [
        "#aplico mascara de operation = sell  y miro cuantas entries son\n",
        "df_operation = properatti_df[properatti_df['operation']=='sell']\n",
        "print(f\"Numero de operaciones de 'sell' = {df_operation.shape[0]}\")\n"
      ]
    },
    {
      "cell_type": "markdown",
      "metadata": {
        "id": "8224c080-a994-4b78-ba92-eaf4d0467007"
      },
      "source": [
        "Podemos ver que todas las operaciones son de Ventas, ya que la unica key del atributo groups de nuestro objeto DataFrameGroupBy es \"sell\", por lo cual quitamos la columna del dataframe"
      ]
    },
    {
      "cell_type": "code",
      "execution_count": 20,
      "metadata": {
        "id": "MbBsR87Szf5C"
      },
      "outputs": [],
      "source": [
        "properatti_df.drop('operation', axis=1, inplace=True)"
      ]
    },
    {
      "cell_type": "code",
      "execution_count": 21,
      "metadata": {
        "id": "IE5JU36GhZJ2"
      },
      "outputs": [
        {
          "name": "stdout",
          "output_type": "stream",
          "text": [
            "Index: 41\n",
            "Title: Venta en pozo deptos-dúplex- Barrio Santa Rita del Lago\n",
            "Description: “Arecas” es un complejo de dúplex y departamentos de primera calidad constructiva ubicado en el mejor Barrio Residencial de Villa Carlos Paz. Pensamos en brindarles una opción acorde a cada necesidad: para la persona o familia que busca su vivienda, el ahorrista que elige una vivienda en construcción para capitalizarse y el inversionista que apuesta a la excelente renta que ofrece la Villa en alquileres temporarios. • Financiación: FINANCIACIÓN PROPIA | MÁX. RENTABILIDAD 100% PESOS | CUOTAS CONVENIDAS • Ubicación privilegiada a metros de la Costanera del Lago San Roque . • Departamentos de 1, 2 y 3 dorm. • Barrio con zona comercial propia • Calidad constructiva • Entrega pactada• Desarrollo: MP Innovación & Desarrollo • Comercializadora: MAM InmobiliariaBONIFICACIÓN POR PAGO DE CONTADO- Consulte:- 351-7061857 (Maria)- 86 (Noelia)\n",
            "Rooms: 4.0\n",
            "Floor: nan\n",
            "Price: nan\n",
            "\n",
            "\n",
            "Index: 100\n",
            "Title: Rosario - San Nicolas 300 - Venta Deptos 1 Dor estrenar Escalera - InmGazze\n",
            "Description: San Nicolás 365ENTREGA INMEDIATA.Edificio de escaleraPlanta baja y 3 pisosCompuesto de:4 Departamentos dos dormitorios7 Departamentos un dormitorio7 Monoambientes3 Cocheras. 4404242 / 4403232Santa Fe Piso 6 Oficina 42000 | Rosario | Santa Fe | Argentina Horario de Atención: Lunes a Viernes de 10.00 a 18.00. EasyBroker ID: EB-AI0748\n",
            "Rooms: nan\n",
            "Floor: nan\n",
            "Price: nan\n",
            "\n",
            "\n",
            "Index: 130\n",
            "Title: En venta 3 departamentos a estrenar\n",
            "Description: CODIGO: 3852-001 ubicado en: H. Graziani esq. 9 de Julio  -  Publicado por: ROSSIER INMOBILIARIA & REMATES. El precio es de ARS 1111111 null. En venta 3 departamentos a estrenar, cocina/comedor 2 baños, 2 dormitorios, 2 baños, garage. Servicios agua potable, luz, gas, cloacas. Posible permuta.  . Publicado a través de Mapaprop\n",
            "Rooms: nan\n",
            "Floor: nan\n",
            "Price: 62315.19\n",
            "\n",
            "\n",
            "Index: 209\n",
            "Title: Ultimas Unidades\n",
            "Description: Excelente 2 Ambientes orientacion Este, Muy luminoso a estrenar a 1 cuadra de libertador.Amenities:SumPiletaParillaSolariumLa venta/alquiler del Inmueble referido se encuentra sujeta a la tramitación del Código de Oferta de Transferencia de Inmuebles (C.O.T.I.) por parte del propietario. Las medidas son Aproximadas y al solo efecto orientativo, las medidas reales surgirán del Título de Propiedad respectivo.- \n",
            "Rooms: 2.0\n",
            "Floor: nan\n",
            "Price: 235000.0\n",
            "\n",
            "\n",
            "Index: 212\n",
            "Title: Departamentos De 1 Ambiente Financiados En Pesos Escobar\n",
            "Description: Anuncio provisto por NAVARRETE Propiedades PLANOS ARROBADOS Y ESCRITURA DE FIDEICOMISO !!! ENTREGA EN 18 MESES!!! Muy buena oportunidad de inversión de bajo costo y buena rentabilidad.Dentro de la tranquilidad de la calle JUAN BAUTISTAALBERDI Nº 178 de la localidad de Belen de Escobar y a solo 150 metros de la Avenida 25 de mayo con conexión directa a Panamericana a solo 3 cuadras, Se encuentra implantado este emprendimiento sobre un terreno de 11 m de frente por 43,30 m de fondo (476.30 m2 de superficie), Disponemos de unidades de 1 y 2 ambientes, de aproximadamente 30 y 52 metros cuadrados con opcionales de cocherasConsulte Precios y su Plan de Pago sin Compromiso con un Agente*Las cuotas serán actualizadas por CAC índice de la CAMARA ARGENTINA DE LA CONSTRUCCIÓN, La forma de pago es sugerida. Se puede entregar anticipos más grandes, hasta el 100% Y cuotas diferentes en función de su etapa laboral, es decir, planes de pagos personalizados.\n",
            "Rooms: 1.0\n",
            "Floor: nan\n",
            "Price: 45988.61\n",
            "\n",
            "\n",
            "Index: 213\n",
            "Title: Departamentos De 2 Ambiente Financiados En Pesos Escobar\n",
            "Description: Anuncio provisto por NAVARRETE Propiedades PLANOS ARROBADOS Y ESCRITURA DE FIDEICOMISO !!! ENTREGA EN 18 MESES!!! Muy buena oportunidad de inversión de bajo costo y buena rentabilidad.Dentro de la tranquilidad de la calle JUAN BAUTISTAALBERDI Nº 178 de la localidad de Belen de Escobar y a solo 150 metros de la Avenida 25 de mayo con conexión directa a Panamericana a solo 3 cuadras, Se encuentra implantado este emprendimiento sobre un terreno de 11 m de frente por 43,30 m de fondo (476.30 m2 de superficie), Disponemos de unidades de 1 y 2 ambientes, de aproximadamente 30 y 52 metros cuadrados con opcionales de cocherasConsulte Precios y su Plan de Pago sin Compromiso con un Agente*Las cuotas serán actualizadas por CAC índice de la CAMARA ARGENTINA DE LA CONSTRUCCIÓN, La forma de pago es sugerida. Se puede entregar anticipos más grandes, hasta el 100% Y cuotas diferentes en función de su etapa laboral, es decir, planes de pagos personalizados.\n",
            "Rooms: 2.0\n",
            "Floor: nan\n",
            "Price: 67300.41\n",
            "\n",
            "\n",
            "Index: 220\n",
            "Title: Ultimas Unidades\n",
            "Description: El edificio está situado en el barrio de  las Cañitas en la ciudad  autonoma de Buenos Aires, en la calle Soldado de la Independencia 1100.Consta de 2 Subsuelos, Planta Baja y 9 pisos, con destino de vivienda multifamiliar y cocheras.El edificio se desarrolla entre medianeras, bajo el esquema de enrase. Respeta la altura de los edificios linderos y el peril de retiros. El piso 7 posee un retiro de 2 m al frente y en el piso 8 el retiro es de 1 metro al frente y de 4 mts al contrafrente generando terrazas en los respectivos departamentos.En el  primer y segundo subsuelo se ubican 16 cocheras simples y 4 bauleras. 8 cocheras por nivel. El acceso vehicular a las cocheras es atraves de un ascensor montavehiculos.La planta baja cuenta con un local al frente con la porteria y un departamento de 1 ambiente al contrafrente, el cual tiene patio propio. La planta del primer piso esta compuesta por 4 departamentos, dos al frente y 2 al contrafrente. Los departamentos son de 1 ambiente divisible y 2 ambientes con una superficie que va desde 58 a 67 mts. Los de 1 ambiente cuentan con acceso a un patio interno.La planta tipo se desarrolla de los Pisos 2º al 6º  donde se desarrollan 4 departamentos, dos al frente y dos al contrafrente, cada uno con su expansión. Los departamentos son de 1 ambiente divisible con iluminacion y ventilacion al patio de luz, y 2  ambientes con una superficie propia que va aproximadamente desde los 55 a los 59m2.  La planta del piso 7 se compone por tres departamentos, 2 al contrafrente y uno al frente con un retiro que genera una gran terraza. Las superficies son entre 55 a 105 mts aproximadamente.En el piso 8 se proyectaron dos departamentos. Un duplex al frente, en su planta baja se desarrolla cocina, comedor, toilette y los dormitorios, y en planta alta una terraza como posible futura expansion. Al contrafrente se desarrolla un departamento de 3 ambientes con retiro y con una amplia terraza. Estos departamentos tienen una superficie cubierta que va aproximadamente entre los 90 y 100 m2.El piso 9º cuenta con un solarium y pileta. Ademas se encuentran las areas tecnicas de tanque de reserva, y sala de termotanques de agua caliente central.\n",
            "Rooms: 2.0\n",
            "Floor: nan\n",
            "Price: 237895.0\n",
            "\n",
            "\n",
            "Index: 221\n",
            "Title: Ultimas Unidades\n",
            "Description: El edificio está situado en el barrio de  las Cañitas en la ciudad  autonoma de Buenos Aires, en la calle Soldado de la Independencia 1100.Consta de 2 Subsuelos, Planta Baja y 9 pisos, con destino de vivienda multifamiliar y cocheras.El edificio se desarrolla entre medianeras, bajo el esquema de enrase. Respeta la altura de los edificios linderos y el peril de retiros. El piso 7 posee un retiro de 2 m al frente y en el piso 8 el retiro es de 1 metro al frente y de 4 mts al contrafrente generando terrazas en los respectivos departamentos.En el  primer y segundo subsuelo se ubican 16 cocheras simples y 4 bauleras. 8 cocheras por nivel. El acceso vehicular a las cocheras es atraves de un ascensor montavehiculos.La planta baja cuenta con un local al frente con la porteria y un departamento de 1 ambiente al contrafrente, el cual tiene patio propio. La planta del primer piso esta compuesta por 4 departamentos, dos al frente y 2 al contrafrente. Los departamentos son de 1 ambiente divisible y 2 ambientes con una superficie que va desde 58 a 67 mts. Los de 1 ambiente cuentan con acceso a un patio interno.La planta tipo se desarrolla de los Pisos 2º al 6º  donde se desarrollan 4 departamentos, dos al frente y dos al contrafrente, cada uno con su expansión. Los departamentos son de 1 ambiente divisible con iluminacion y ventilacion al patio de luz, y 2  ambientes con una superficie propia que va aproximadamente desde los 55 a los 59m2.  La planta del piso 7 se compone por tres departamentos, 2 al contrafrente y uno al frente con un retiro que genera una gran terraza. Las superficies son entre 55 a 105 mts aproximadamente.En el piso 8 se proyectaron dos departamentos. Un duplex al frente, en su planta baja se desarrolla cocina, comedor, toilette y los dormitorios, y en planta alta una terraza como posible futura expansion. Al contrafrente se desarrolla un departamento de 3 ambientes con retiro y con una amplia terraza. Estos departamentos tienen una superficie cubierta que va aproximadamente entre los 90 y 100 m2.El piso 9º cuenta con un solarium y pileta. Ademas se encuentran las areas tecnicas de tanque de reserva, y sala de termotanques de agua caliente central.\n",
            "Rooms: 2.0\n",
            "Floor: nan\n",
            "Price: 237895.0\n",
            "\n",
            "\n",
            "Index: 236\n",
            "Title: Departamentos monoambiente, zona parque Independencia\n",
            "Description: Departamento de un ambiente al contrafrente con balcón. Tiene cocina integrada, con muebles de bajo mesada y alacenas, un baño completo. \n",
            "Rooms: 1.0\n",
            "Floor: nan\n",
            "Price: nan\n",
            "\n",
            "\n",
            "Index: 240\n",
            "Title: Departamentos monoambiente con patio, zona parque Independencia\n",
            "Description: Departamento de un ambiente al contrafrente con balcón y patio de 25 m2. Tiene cocina integrada, con muebles de bajo mesada y alacenas, un baño completo. \n",
            "Rooms: 1.0\n",
            "Floor: nan\n",
            "Price: nan\n",
            "\n",
            "\n",
            "Index: 243\n",
            "Title: Departamentos monoambiente con patio, zona parque Independencia\n",
            "Description: Departamento de un ambiente al contrafrente con patio de 25 m2. Tiene cocina integrada, con muebles de bajo mesada y alacenas, un baño completo. \n",
            "Rooms: 1.0\n",
            "Floor: nan\n",
            "Price: nan\n",
            "\n",
            "\n",
            "Index: 245\n",
            "Title: Departamentos monoambiente, zona parque Independencia\n",
            "Description: Departamento de un ambiente al contrafrente con balcón. Tiene cocina integrada, con muebles de bajo mesada y alacenas, un baño completo. \n",
            "Rooms: 1.0\n",
            "Floor: nan\n",
            "Price: nan\n",
            "\n",
            "\n",
            "Index: 247\n",
            "Title: Departamentos monoambiente, zona parque Independencia\n",
            "Description: Departamento de un ambiente al contrafrente con balcón. Tiene cocina integrada, con muebles de bajo mesada y alacenas, un baño completo. \n",
            "Rooms: 1.0\n",
            "Floor: nan\n",
            "Price: nan\n",
            "\n",
            "\n",
            "Index: 248\n",
            "Title: Departamentos monoambiente, zona parque Independencia\n",
            "Description: Departamento de un ambiente al contrafrente con balcón. Tiene cocina integrada, con muebles de bajo mesada y alacenas, un baño completo. \n",
            "Rooms: 1.0\n",
            "Floor: nan\n",
            "Price: nan\n",
            "\n",
            "\n",
            "Index: 249\n",
            "Title: Departamentos monoambiente, zona parque Independencia\n",
            "Description: Departamento de un ambiente al contrafrente con balcón. Tiene cocina integrada, con muebles de bajo mesada y alacenas, un baño completo. \n",
            "Rooms: 1.0\n",
            "Floor: nan\n",
            "Price: nan\n",
            "\n",
            "\n",
            "Index: 250\n",
            "Title: Departamentos monoambiente, zona parque Independencia\n",
            "Description: Departamento de un ambiente al contrafrente con balcón. Tiene cocina integrada, con muebles de bajo mesada y alacenas, un baño completo. \n",
            "Rooms: 1.0\n",
            "Floor: nan\n",
            "Price: nan\n",
            "\n",
            "\n",
            "Index: 264\n",
            "Title: VENTA / Casa y departamentos MERLO- SAN LUIS\n",
            "Description: CODIGO: 3452-dar990 ubicado en: Merlo - El Ceibo -  Publicado por: DAR INVERSIONES INMOBILIARIAS. El precio es de USD 220 null. VENTA / Casa y departamentos  todos los servicios  Casa de 95 m2 cubiertos , 2 habitaciones ,baño, cocina comedor amplios , cochera , c/ gas natural, ambiente climatizado. Todos los espacios de esta vivienda amplios y cómodos, la cocina tiene una mesada de 5 metros  Dto 1: 1 Habitación (4x4) , cocina comedor (5x5) , baño (2,5 x 2,5) red de gas natural sin conexión. Dto 2: 1 Habitacion (3x3) , cocina comedor (4x4) , baño (3x3) red de gas natural sin conexión Superficie de terreno: 520 m2 / Ideal proyecto de viviendas para alquiler permanente. CONSULTAS 0266 15 4742252 / 041 -  https:// . Publicado a través de Mapaprop\n",
            "Rooms: nan\n",
            "Floor: nan\n",
            "Price: nan\n",
            "\n",
            "\n",
            "Index: 1031\n",
            "Title: COMPLEJO DE 4 DEPARTAMENTOS Y PLANOS APROBADOS PARA 8 EN TOTAL.\n",
            "Description: CODIGO: 2821-DEPTO-002 ubicado en: POBLADOR DESCONOCIDO 325 -  Publicado por: GUILLERMO SANCHEZ DESARROLLOS INMOBILIARIOS. El precio es de ARS 3700 null. Complejo de 4 departamentos y 3 cocheras. Planos aprobados para continuar con 4 mas.  Superficie total cubierta de 225 m2 sobre un terreno de 12,5 metros de frente x 46 metros de fondo .Cada departamento son tipo duplex de aproximadamente 55 m2 cada uno. Compuesto de estar comedor (3,3 metros x5 metros), cocina, baño y dormitorio arriba ( 4 x 5 metros aproximadamente ). Negocio: se aceptan autos, terrenos y pesos.  . Publicado a través de Mapaprop\n",
            "Rooms: nan\n",
            "Floor: nan\n",
            "Price: nan\n",
            "\n",
            "\n",
            "Index: 1157\n",
            "Title: Exclusivas unidades con vista abierta\n",
            "Description:  En el Corazón verde de la ciudad, con vistas abiertas y frente a la cancha de golf, nace Pasaje del Golf. Una ubicación privilegiada que combina el verde y la tranquilidad de el barrio Belgrano Chico con excelentes accesos .Un edificio de 11 pisos, con departamentos de 2 y 3 dormitorios con terminaciones de primera calidad. Amenities en ultimo piso con espectaculares vistas.La obra se inicia en Septiembre de 2016 y las unidades se ofrecen con financiación a 30 meses.•Hall de acceso de doble altura revestido en mármol.•Piscina con solarium en Piso 11. •Parrillas.•Salón de fiestas.•Gimnasio vidriado •Cocheras•Equipo Multi SPLIT individual instalado.•Living con pisos de mármol travertino. •Doble Vidrio\n",
            "Rooms: 3.0\n",
            "Floor: nan\n",
            "Price: 385014.0\n",
            "\n",
            "\n",
            "Index: 1158\n",
            "Title: Exclusivas unidades con vista abierta\n",
            "Description: En el Corazón verde de la ciudad, con vistas abiertas y frente a la cancha de golf, nace Pasaje del Golf. Una ubicación privilegiada que combina el verde y la tranquilidad de el barrio Belgrano Chico con excelentes accesos .Un edificio de 11 pisos, con departamentos de 2 y 3 dormitorios con terminaciones de primera calidad. Amenities en ultimo piso con espectaculares vistas.La obra se inicia en Septiembre de 2016 y las unidades se ofrecen con financiación a 30 meses.•Hall de acceso de doble altura revestido en mármol.•Piscina con solarium en Piso 11. •Parrillas.•Salón de fiestas.•Gimnasio vidriado •Cocheras•Equipo Multi SPLIT individual instalado.•Living con pisos de mármol travertino. •Doble Vidrio\n",
            "Rooms: 4.0\n",
            "Floor: nan\n",
            "Price: 587895.0\n",
            "\n",
            "\n",
            "Index: 1159\n",
            "Title: Exclusivas unidades con vista al golf\n",
            "Description: En el Corazón verde de la ciudad, con vistas abiertas y frente a la cancha de golf, nace Pasaje del Golf. Una ubicación privilegiada que combina el verde y la tranquilidad de el barrio Belgrano Chico con excelentes accesos .Un edificio de 11 pisos, con departamentos de 2 y 3 dormitorios con terminaciones de primera calidad. Amenities en ultimo piso con espectaculares vistas.La obra se inicia en Septiembre de 2016 y las unidades se ofrecen con financiación a 30 meses.•Hall de acceso de doble altura revestido en mármol.•Piscina con solarium en Piso 11. •Parrillas.•Salón de fiestas.•Gimnasio vidriado •Cocheras•Equipo Multi SPLIT individual instalado.•Living con pisos de mármol travertino. •Doble Vidrio\n",
            "Rooms: 3.0\n",
            "Floor: nan\n",
            "Price: 506468.0\n",
            "\n",
            "\n",
            "Index: 1414\n",
            "Title: Departamentos en Venta en Lomas de Zamora\n",
            "Description: CODIGO:  ubicado en: Pellegrini 200 -  Publicado por: VELAZQUEZ MANN PROPIEDADES. El precio es de USD 105000 null. Departamentos en Venta en Lomas de Zamora, de 2 ambientes  de 59m2. Edificio con amenities.  Living comedor muy luminoso Amplia cocina comedor diario Baño completo Dormitorio con placard Gran  balcón en L Calefacción por radiadores.  El edificio cuenta con piscina, parrilla, SUM y cocheras. Expensas $1700 Aprox. Para Mayor Información Comunicate con VELAZQUEZ MANN Propiedades al . . Publicado a través de Mapaprop\n",
            "Rooms: nan\n",
            "Floor: nan\n",
            "Price: 105000.0\n",
            "\n",
            "\n",
            "Index: 1521\n",
            "Title: Pre Venta! Departamentos en Bº General Paz - 1 y 2 Dormitorios, Cocheras\n",
            "Description: CODIGO: 2242-MAR61 ubicado en: ROMA 368 -  Publicado por: MONICA GIRAUDO SERVICIOS INMOBILIARIOS. El precio es de ARS 981000 null. Monica Giraudo Servicios Inmobiliarios comercializa departamentos de 1ra Calidad y Diseño. Ubicados en el corazon de General Paz sobre una de las vias conectoras secundarias de mayor importancia. Cerca de Nueva Córdoba, cerca del Parque Sarmiento, cerca de tu trabajo, cerca de TODO   DETALLES: Carpinteria de Aluminio. Puertas Interiores con Diseño. Pisos de Pocerlanato en palieres, estares y comedores. Interiores terminados en yeso. Cocinas equipadas con muebles bajo mesada y mesada de granito. Baños equipados con artefactos de primera categoria y vanitory.   AMENITIES EN ALTURA: Amplia Terraza con vistas a la Ciudad y a las Sierras. Asadores Equipados. Quincho para Reuniones. Piscina. Solarium.    POSESIÓN FINALES DEL 2018   Tipología 1 – Ubicación “A” - Frente Metros Cubiertos 52.25 m2 1 Dormitorio Balcón Estar / Comedor Ante Baño y Baño Valor: $1.237.803   Tipología 2 – Ubicación “B” – Frente Metros Cubiertos 81.10 m2 2 Dormitorios Balcón Estar / Comedor 2 Baños uno de ellos en Suite Valor: $1.921.259   Tipología 3 – Ubicación “C” – Lateral Metros Cubiertos 41.40 m2 1 Dormitorios Balcón Estar / Comedor Baños con ante Baño Valor: $980.766   Tipología 4 – Ubicación “D” – Lateral Metros Cubiertos 41.90 m2 1 Dormitorios Balcón Estar / Comedor Baños con ante Baño Valor: $992.611   Tipología 5 – Ubicación “E” – Contra Frente Metros Cubiertos 50.70 m2 1 Dormitorios Balcón Estar / Comedor Baños con ante Baño Valor: $1.201.083   Cocheras Simple $360.500 Doble (Uno delante de otro) $515.000 . Publicado a través de Mapaprop\n",
            "Rooms: nan\n",
            "Floor: nan\n",
            "Price: 55018.08\n",
            "\n",
            "\n",
            "Index: 4526\n",
            "Title: DEPARTAMENTOS DE UN DORMITORIO CON COCHERA OPCIONAL A ESTRENAR                  \n",
            "Description: Departamentos de un dormitorio, con cochera opcional. quedan solo cuatro unidades y una cochera disponibles. los departamentos de referencia pueden ser al frente con balcón o al contra frente. todos cuentan con lavadero separado, baño completo, dormitorio con excelentes placares, y living/comedor con cocina integrada de amplias dimensiones. Todas las unidades son muy luminosas y ventiladas. Excelente oportunidad de inversión debido a la cercanía de avenidas y universidades.   ESTA PROPIEDAD NO ES APTA PARA CRÉDITO BANCARIO.                      Aviso publicado por Pixel Inmobiliario (Servicio de Páginas Web para Inmobiliarias).\n",
            "Rooms: nan\n",
            "Floor: nan\n",
            "Price: 70104.59\n",
            "\n",
            "\n",
            "Index: 4591\n",
            "Title: Deptos en venta en Emilio Zola a cuadras de Las Flores a estrenar!!\n",
            "Description: Deptos de 2 ambientes a estrenar a cuadras de Las flores, amplios. Baño completo con balcón, todos al frente.\n",
            "Rooms: 2.0\n",
            "Floor: nan\n",
            "Price: 85000.0\n",
            "\n",
            "\n",
            "Index: 4611\n",
            "Title: Excelentes departamentos de dos ambientes en pozo\n",
            "Description: Excelentes departamentos para inversión de pozo 2 y 3 ambientes en Wilde. IDEAL INVERSION !!!!!!!!!\n",
            "Rooms: 2.0\n",
            "Floor: nan\n",
            "Price: 58000.0\n",
            "\n",
            "\n",
            "Index: 4618\n",
            "Title:  DEPARTAMENTOS DE 3 AMBIENTES!!!!!DETALLES DE CATEGORIA!!!\n",
            "Description: DEPARTAMENTOS DE 2 Y 3 AMBIENTES EN MITRE AL 5500 .EXCELENTE CALIDAD DE CONSTRUCCIÓN .DETALLES DE CATEGORIA SUM CON PARRILLA /JUEGOS /LAUNDRY/TERRAZA . SI ESTAS BUSCANDO ALGO BUENO NO DUDES EN VISITARLOS!!!\n",
            "Rooms: 3.0\n",
            "Floor: nan\n",
            "Price: 139000.0\n",
            "\n",
            "\n",
            "Index: 4691\n",
            "Title: Departamentos 1 y 2 dormitorios 100% Financiados HASTA 20 AÑOS\n",
            "Description: CODIGO: 8 ubicado en: Mate de Luna 2098- Santiago 721 -  Publicado por: GUZMÁN & GUZMÁN INMOBILIARIA + CONSTRUCTORA. El precio es de ARS 64000 null. § Anticipo: $ 64.000 (con opción de financiarlo en 6 cuotas sin interés) § Total de 240 cuotas que comienzas pagando $ 3.380 § Cuota semestral (40 cuotas) de $ 2.264, (julio y enero) § Cada seis meses se licitan 6 dptos y la base para licitar es de $198.075 que equivalen a 25 cuotas posesión que se descuentan del total de cuotas. La licitación es la que te va a permitir elegir la ubicación del edificio y el piso del mismo, § Una vez entregado el dpto. la cuota pasa a llamarse cuota posesión que es de $7.923 § La financiación contempla una unidad por 60m2. En caso de que el departamento elegido supere los 60 m2 se pagara la diferencia de m2 financiados hasta el momento de la entrega. Si el departamento que elegiste tiene menos de 60m2, se lo compensa con un servicio de pack mejoras que podes agregarle al departamento.  Para el caso de dptos de 2 dormitorios (se adquieren 2 planes de 60m2 que comprenden una unidad de 120m2):  § Anticipo: $128.000 § 240 cuotas que comienzas pagando $6.760. § Cuota semestral (40 cuotas) de $4.528, (julio y enero) § Base para licitar es de $396.150 que equivalen a 25 cuotas posesión que se descuentan del total de cuotas. § Una vez entregado el dpto. comienzas a pagar la cuota posesión que es de $15.846 § En caso de que los Dptos superen los 120 m2 se pagara la diferencia de m2. . Publicado a través de Mapaprop\n",
            "Rooms: nan\n",
            "Floor: nan\n",
            "Price: nan\n",
            "\n",
            "\n",
            "Index: 4888\n",
            "Title: Casa en terreno propio con 6 departamentos \n",
            "Description: Casa en lote propio de 8.44 de frente por 36.37 de fondo. Ubicado en el distrito de las artes. Inmueble de 2 plantas, resultando el mismo ideal para inversores o vivienda más renta. La construcción de planta baja es todo realizada en material y la planta alta en material, madera y chapa. Tiene amplio  local de 6.70 por 7.50 m2. En el fondo posee 2 patios amplios y dos departamentos de 2 habitaciones con baño independiente. Algunos sectores son a reciclar, siendo igualmente habitables. La fachada fue restaurada aproximadamente hace 5 años.Código de Planeamiento Urbano: R2b lll 2. Actualmente posee 6 rentas.\n",
            "Rooms: nan\n",
            "Floor: nan\n",
            "Price: 180000.0\n",
            "\n",
            "\n",
            "Index: 5567\n",
            "Title: DEPARTAMENTOS DRUMOND - FINANCIADOS\n",
            "Description: CODIGO: 74 ubicado en: DRUMOND 1056 -  Publicado por: MONICA PETRINO PROPIEDADES. El precio es de USD 94000 null. AMPLIO PREDIO UBICADO A METROS DE LA PLAZA ALMIRANTE BROWN Y A SOLO 2 CUADRAS DEL CENTRO DE ADROGUE.  PORCELANATO GRIS EN TODOS LOS AMBIENTES. CALEFACCION DUAL POR LOZA RADIANTE. ASCENSOR DE ULTIMA GENERACION. COCHERAS CUBIERTAS. QUINCHO CON PARRILLA.  . Publicado a través de Mapaprop\n",
            "Rooms: nan\n",
            "Floor: nan\n",
            "Price: 94000.0\n",
            "\n",
            "\n",
            "Index: 5568\n",
            "Title: EDIFICIO NOTHER - VENTA DE POZO - DEPTOS / DUPLEX / COCHERAS\n",
            "Description: CODIGO: 76 ubicado en: NOTHER 1122 -  Publicado por: MONICA PETRINO PROPIEDADES. El precio es de USD 149500 null. 7 DEPARTAMENTOS DE 2 Y 3 AMBIENTES  Y DOS DUPLEX (2 Y 3 AMB) EN EDIFICIO DE 3 PISOS, CADA UNO DE ELLOS CON COCHERA CUBIERTA CON PORTON AUTOMATIZADO. APTO PROFESIONAL. . Publicado a través de Mapaprop\n",
            "Rooms: nan\n",
            "Floor: nan\n",
            "Price: 149500.0\n",
            "\n",
            "\n",
            "Index: 5569\n",
            "Title: EDIFICIO NOTHER - VENTA DE POZO - DEPTOS / DUPLEX / COCHERAS\n",
            "Description: CODIGO: 77 ubicado en: NOTHER 1122 -  Publicado por: MONICA PETRINO PROPIEDADES. El precio es de USD 149500 null. 7 DEPARTAMENTOS DE 2 Y 3 AMBIENTES  Y DOS DUPLEX (2 Y 3 AMB) EN EDIFICIO DE 3 PISOS, CADA UNO DE ELLOS CON COCHERA CUBIERTA CON PORTON AUTOMATIZADO. APTO PROFESIONAL. . Publicado a través de Mapaprop\n",
            "Rooms: nan\n",
            "Floor: nan\n",
            "Price: 149500.0\n",
            "\n",
            "\n",
            "Index: 5866\n",
            "Title: Rosario - San Juan 2600 - Venta Deptos 1 Dor balcón terraza - De pozo - InmGazze\n",
            "Description: EDIFICIO CODIGO XISan Juan 2679 – RosarioENTREGA MAYO 2019Semipisos 1 dormitorio con balcón y balcón terraza10° Piso - Unidades de 33m2 + 15m2 de balconesCocheras opcionalesUBICACIÓNSe encuentra situado en una importante zona de la ciudad, en la calle San Juan entre Rodríguez yCallao; a pocas cuadras de Bv.Oroño, Av Pellegrini y del Parque Independencia. Con afluencia de grancantidad de líneas de transporte público hacia los distintos puntos de la ciudad. Próximo a importantescentros educativos, Facultad Ciencias Económicas y Estadísticas, Universidad Abierta Interamericana(UAI), Universidad Católica Argentina (UCA), Tribunales, facultad de Medicina, Centros de Salud,Museos y centros de actividades culturales y deportivas, y a minutos del microcentro.CARACTERISTICASEl edificio está compuesto por 10 pisos de 2 departamentos de un dormitorio cada uno, todos conventilación cruzada y amplios balcones aterrazados con barandas vidriadas, creando así un ambientecontiguo.Cocheras opcionales en planta baja con portón automatizado.TERMINACIONES Cielorrasos y paredes en yeso terminados con pintura al latex. Aberturas de aluminio blanco línea Modena con protección de cortina de enrollar en los dormitoriosy mosquiteros en todas las aberturas. Puertas placas en madera lustradas con herrajes de primera calidad. Frente de placares de piso a techo con guías de aluminio. Pisos porcellanatos en estar, cocina, baño y balcón y pisos flotante en dormitorios. Zócalos de madera lustrados en todos los ambientes. Muebles de cocina completos: bajo mesada, alacenas, porta microondas, bodeguero, en melaninablanca con filos de aluminio, mesada en granito gris mara, pileta de acero inoxidable Johnson ygritería monocomando FV. En todos los departamentos, quedarán instalados, la cocina, el calefón y una estufa en el dormitorio,todos de primera calidad y pico adicional para futura conexión en el estar. Instalación de cañerías para futura conexión de equipos split en estar y dormitorios. Baño: mesada en mármol beige Sahara o blanco turco con bacha bajo mesada en losa blanca Ferrum,sanitarios blancos FERRUM línea Bari, grifería Village y bañera. Instalación de cañerías para telefonía y TV cable en todos los ambientes. Hall de ingreso con detalles en madera y pisos de porcellanato.DEPARTAMENTOS TERMINADOS DE LA CONSTRUCTORA:http:// PROYECTOS EN OBRA:http:// 4404242 / 4403232Santa Fe Piso 6 Oficina 42000 | Rosario | Santa Fe | Argentina Horario de Atención: Lunes a Viernes de 10.00 a 18.00. EasyBroker ID: EB-AG5612\n",
            "Rooms: nan\n",
            "Floor: nan\n",
            "Price: nan\n",
            "\n",
            "\n",
            "Index: 6116\n",
            "Title: VENTA DEPARTAMENTOS EN POSO\n",
            "Description: DEPARTAMENTOS DE 1 AMBIENTE DE 28 M² Y DE 2 AMBIENTES DE 50 M²VENTA EN POSO - EN CUOTAS - EN EXCELENTE ZONAEl edificio está ubicado a 100mts de Av. Jujuy, 150mts de Av. San Juan; a 250mts de Av. Independencia; con numerosos medios de transporte como ser el subte línea E estación “Jujuy” y el subte lineaHestación “Humberto Primero”,m á s de 15 líneas de transporte y a 300mts, acceso a Au 25 deMayoAMENITIESServicio de LaundrySUMSolariumSaunaJacuzziServiciosAgua CorrienteLuzGas NaturalDesagüe cloacalPavimentoFORMAS DE PAGODesde $ 821.398 Pesos. 35 % Boleto (hasta en 12 cuotas) + 60 CUOTAS en PESOS + 15% a la ENTREGA / POSESIÓN de la unidadCOCHERAS: u$ 20.000 dólaresBOLETO desde: $ 287.489 Pesos. CUOTAS desde: $ 6.845 Pesos.* Flexibilidad en pago de boleto y cuotas. Se pueden adelantar pagos y abonar menos cuotas o a la inversa* Cuotas Ajustables según Indice C.A.C\n",
            "Rooms: 1.0\n",
            "Floor: nan\n",
            "Price: nan\n",
            "\n",
            "\n",
            "Index: 6117\n",
            "Title: VENTA DEPARTAMENTOS EN POSO\n",
            "Description: DEPARTAMENTOS DE 1 AMBIENTE DE 32 M² Y DE 2 AMBIENTES DE 50 M²VENTA EN POSO - EN CUOTAS - EN EXCELENTE ZONAUbicado en la Castro 1176, esquina San Juan, a tan sólo pocos metros de las avenidas Castro Barros e Independecia, y próximo a la tradicional esquina conocida como \"Esquina Homero Manzi\", gran centro comercial y turístico, con numerosos medios de transporte como el subte línea \"E\" Estación Boedo, más de 15 líneas de transporte y a 100 metros del acceso a la Autopista 25 de Mayo.Es un edificio desarrollado en PB y 4 pisos que ofrece departamentos studio, 1 y 2 ambientes con balcón. Cuenta con un total de 20 unidades, 5 por piso: 2 departamentos de 1 ambiente y 2 estudios y 1 departamento de de 2 ambientes. En PB se ubica un local comercial y 3 cocheras optativas. El edificio es apto profesional; posee ascensor automático, SUM, laundry, solárium, jacuzzi y parrilla.FORMAS DE PAGO 35% Boleto (hasta en 12 cuotas) + 96 CUOTAS EN PESOS + 15% POSESION / ENTREGA de la propiedad.BOLETO desde: $ 233.607 Pesos. CUOTAS desde: $ 3.476 Pesos.* Flexibilidad en pago de boleto y cuotas. Se pueden adelantar pagos y abonar menos cuotas o a la inversa* Cuotas Ajustables según Indice C.A.CDesde $ 667.450 PesosCOCHERAS: u$s23.000ENTREGA SEPTIEMBRE 2016\n",
            "Rooms: 1.0\n",
            "Floor: nan\n",
            "Price: nan\n",
            "\n",
            "\n",
            "Index: 6118\n",
            "Title: VENTA DEPARTAMENTOS EN POSO\n",
            "Description: DEPARTAMENTOS DE 42 m²  y 53 m²Edificio de 14 pisos que cuenta con subsuelo y planta baja. En el Piso 15 se encuentra la poscina, solarium y S.U.M..Departamentos de 1 y 2 ambientes, 8 dptos por piso distribuidos 4 al frente y 4 al contrafrente. Cocheras fija.  Baulera en subsuelo. Con 3 ascensores automáticos de acero inoxidable.VENTA EN POZOAmenitiesSoláriumPiscinaSUMFormas de pagoDesde $ 844.790 Pesos40% Boleto en PESOS + 24 Cuotas en PESOS ajustadas por CAC.BOLETO desde: $ 337.916. CUOTAS desde: $21.150.COCHERAS: $231.000 PESOS.* Flexibilidad en pago de boleto y cuotas. Se pueden adelantar pagos y abonar menos cuotas ó a la inversa* Cuotas Ajustables según Indice C.A.C\n",
            "Rooms: 1.0\n",
            "Floor: nan\n",
            "Price: nan\n",
            "\n",
            "\n",
            "Index: 6119\n",
            "Title: VENTA DEPARTAMENTOS EN POSO\n",
            "Description: DEPARTAMENTOS DE 1 AMBIENTE DE 32 M² Y DE 2 AMBIENTES DE 50 M²VENTA EN POSO - EN CUOTAS - EN EXCELENTE ZONAFlores es un barrio tradicional. Limita con los barrios de Villa Santa Rita y Villa Mitre alnorte, Caballito y Parque Chacabuco al este, Nueva Pompeya y Villa Soldati al sur yParque Avellaneda y Floresta al oeste. Pertenece a la Comuna 7.VENTA EN POZOAmenitiesServicio de LaundrySUMSaunaJacuzziServiciosAgua CorrienteLuzGas NaturalDesagüe cloacalPavimentoFormas de pago1 ambiente: Boleto 30 %, 60 cuotas y 10% a la posesión ajustado p/CAC.2 ambientes: Boleto 30%, 60 cuotas y 10% a la posesión ajustado p/CAC.3 ambientes: Boleto 30%, 60 cuotas y 10% a la posesión ajustado p/CACAlgunas características técnicas:Estructura hormigón armado independiente.Albañilería en elevación con ladrillos huecos ymacizos, construcción tradicional.Frente en tarquini o ladrillo a la vista.Revoques internos con yeso y enduído conterminación con fijador.Carpintería exterior de hojas de aluminio conmarcos de chapa.Pisos flotante en ambiente.Pisos cerámicos “Lourdes” o similar enbaños y cocina.Mesada de cocina de granito gris Mara, piletade acero inoxidable “Mi pileta” o similar.Artefactos de cocina eléctricos “Longvie”,“Domec” o similar.Artefactos de baño línea “Roca” o similar.Bañadera, bidet e inodoro.Agua caliente central (2 termotanques“Rheem” de alta recuperación).Grifería FV con cierre cerámico o similar.Cañería de agua caliente plástica termofusiónHueco para la colocación de placard.Balcón con piso cerámico Lourdes o similar ybarandas de metal.Ascensor automático cabina acero inoxidablecon espejo y puertas automáticas.Instalación preparada para recibir equipossplit de aire acondicionado frío / calor.POSESIONES MARZO 2016\n",
            "Rooms: 1.0\n",
            "Floor: nan\n",
            "Price: 63654.97\n",
            "\n",
            "\n",
            "Index: 6141\n",
            "Title: VENDO DEPARTAMENTOS PARA REFACCIONAR\n",
            "Description: Se venden departamentos a refaccionar. Incluye monoambiente + Un departamento de un dormitorio + Un departamento de dos dormitorios.Lorena Curcho Corredor Inmobiliario Matrícula 0191. Santa Fe. ArgentinaVentas en Argentina, Uruguay, Panamá y Miami. Contacto desde Argentina: 0810 888 7475 / Resto del mundo: +54 9 342 4452679.\n",
            "Rooms: 2.0\n",
            "Floor: nan\n",
            "Price: 64496.22\n",
            "\n",
            "\n",
            "Index: 6179\n",
            "Title: DEPARTAMENTOS A ESTRENAR VISTA PANORAMICA A MAR\n",
            "Description: CODIGO: 26 ubicado en:  Bvard. MARITIMO F.U. CAMET  -  Publicado por: ARANJUEZ INMOBILIARIA. El precio es de ARS 10 null. Este desarrollo inmobiliario estará ubicado en Bvard. MARITIMO F.U. CAMET esq. Vuelta de OBLIGADO (Bº Constitución), a pocas cuadras del Parque CAMET, a unos 7 minutos del centro de la ciudad de Mar del Plata y en una zona lindera con un conjunto de Playas hermosas y apacibles del norte de la ciudad, entre las que se encuentran Playa Estrada, Morgan, Acevedo, etc.  Por su ubicación privilegiada frente al Boulevard Marítimo, su accesibilidad es una de sus ventajas competitivas.  Contará con una fantástica vista a toda la costa balnearia llegando hasta Cabo Corrientes, y a calles Vuelta de Obligado y Pasteur, con vista panorámica a toda la ciudad.  El tradicional barrio Constitución albergará este nuevo desarrollo del SOLTWIN, siendo este barrio uno de los más frescos, jóvenes y alegres de la ciudad felíz. Su cercanía con Av. Constitución, hacen de BRISAMAR II un lugar ideal para los amantes de la vida nocturna.  BRISAMAR II constará de 69 confortables departamentos de 1, 2 y 3 ambientes (todos externos y con vistas únicas panorámicas a la ciudad y al mar). El desarrollo inmobiliario se ha proyectado con Planta Baja Libre, 9 pisos altos y Subsuelo donde se distribuirán cocheras cubiertas y bauleras (optativas).  Las características distintivas del emprendimiento harán que sus unidades funcionales sean modernas, ventiladas, luminosas, dotadas de todo lo necesario para vivir en forma segura y confortable.  Con más de 3500 mts cuadrados totales y 69 departamentos cada uno con cocheras y bauleras (optativas), configurarán un emprendimiento inmobiliario de envergadura que será distribuido armónicamente sobre un lote de 1070 m2 con frente a 2 calles y el Bvard Marítimo, bajo la tipología de PERÍMETRO LIBRE. Dicho lote se emplaza en una manzana de conformación atípica que la hace poseedora de más de un tercio de la superficie de toda la manzana.  Se utilizará el concepto de construcción sustentable para BRISAMAR II, que redundará en una reducción considerable del consumo de energía, se implementarán sistemas de uso racional del agua, etc.  Un lugar privilegiado para VIVIR en PRIMERA LINEA FRENTE al MAR . Publicado a través de Mapaprop\n",
            "Rooms: nan\n",
            "Floor: nan\n",
            "Price: nan\n",
            "\n",
            "\n",
            "Index: 6185\n",
            "Title: Departamentos de 2 y 3 Dormitorios en Macrocentro\n",
            "Description: CODIGO: 2284-A00311 ubicado en: Lavalle Esquina Caseros -  Publicado por: DEALTA INMOBILIARIA. El precio es de ARS 800000 null. Contamos con unidades de 2 y 3 dormitorios, que estan alquilados y en muy buen estado. Cuentan con todos los servicios y en una ubicación privilegiada. Escuchamos ofertas. Cel 154317014 . Publicado a través de Mapaprop\n",
            "Rooms: nan\n",
            "Floor: nan\n",
            "Price: 44866.94\n",
            "\n",
            "\n",
            "Index: 6693\n",
            "Title: Excelente deptos de 1/2/3 Ambientes\n",
            "Description: CODIGO:  D0012 ubicado en: 1º DE MAYO 6000 -  Publicado por: KARINA MONTENEGRO BIENES RAICES. El precio es de USD 76000 null. EXCELENTES DEPTOS DE 1/2/3 AMBIENTES A ESTRENAR EN EDIFICIO DE CATEGORÍA CON AMENITIES Y SUM, AMPLIA TERRAZA, PISOS PORCELANATO, GRIFERIA FV,SANITARIOS ROCA,MUEBLES DE COCINA EN MELAMINA CON CANTO DE ALUMINIO, ABERTURA DE ALUMINIO BLANCO. EXCELENTE UBICACIÓN EN CENTRO COMERCIAL Y A METROS DE LA ESTACIÓN DE TREN TROPEZÓN (Linea Urquiza) Consulte precio de contado y planes de financiacion. . Publicado a través de Mapaprop\n",
            "Rooms: nan\n",
            "Floor: nan\n",
            "Price: 76000.0\n",
            "\n",
            "\n",
            "Index: 7136\n",
            "Title: Venta en pozo deptos 2 amb.   \n",
            "Description: Nuevo emprendimiento.3 deptos de 2 amb.Cocheras fijas.50 % al contado/boleto. Resto 24 cuotas fijas en dólares.Visite nuestro showroom!!     Aviso publicado por Pixel Inmobiliario (Servicio de Páginas Web para Inmobiliarias).\n",
            "Rooms: nan\n",
            "Floor: nan\n",
            "Price: nan\n",
            "\n",
            "\n",
            "Index: 7432\n",
            "Title: 12 Departamentos a 300 mts. de la estacion \n",
            "Description: CODIGO: 3484-REF. 3378 ubicado en: Piovano 3226 -  Publicado por: RAMIREZ MANDATOS & NEGOCIOS INMOBILIARIOS. El precio es de USD 45000 null. MORENO CENTRO.  Venta o Alquiler:  12 Departamento de 2 y 3 ambientes a 300 mts de la estación de Moreno. Sobre calle Piovano. Todos los servicios. Excelente oportunidad. ----- Dto. 2 ambientes 40 M2 = USD 45.000  ---- Dto. 3 ambientes 60 M2 = USD 65.000 ---- REF. 3378  -------------------------------------------------------------------------------------  RAMIREZ Mandatos y Negocios Inmobiliarios.  www ramirezprop com ar . Publicado a través de Mapaprop\n",
            "Rooms: nan\n",
            "Floor: nan\n",
            "Price: 45000.0\n",
            "\n",
            "\n",
            "Index: 7434\n",
            "Title: Departamentos internos en venta\n",
            "Description: CODIGO: 3165-D0009 ubicado en: Thompson 800 -  Publicado por: AGUSTIN LATORRE PROPIEDADES. El precio es de ARS 890000 null. Departamento de 1 dormitorio interno a estrenar en calle Thompson al 800, totalmente eléctrico. Sin expensas NO APTO CRÉDITO. Se evalúa permuta por auto. . Publicado a través de Mapaprop\n",
            "Rooms: nan\n",
            "Floor: nan\n",
            "Price: 49914.47\n",
            "\n",
            "\n",
            "Index: 7458\n",
            "Title: VENTA UNIDADES EN POZO 2 Y 3 AMB.\n",
            "Description: Edificio de 9 pisos, posee en venta unidades en pozo: disponibles loft de 42 m2, 2 ambientes de 45 m2 y loft de 3 ambientes de 91 m2.Carpintería de aluminio de máxima hermeticidad.Pisos de porcelanato en hall, palier y departamentos.Revestimientos cerámicos de primera calidad en cocinas, baños y toilettes.Muebles de cocina: sistema modular con frentes de melamina, aluminio y vidrio.Mesadas de granito.Artefactos sanitarios linea Roca y/o Ferrum.Grifería FV.Ascensores de última generación con cabina de acero inoxidable.Los loft cuentan con la posibilidad de rediseño interior de ambientes personalizados según las necesidades de distribución del propietario.El edificio cuenta con hall de recepcion, cicheras (cubiertas y descubiertas), salón de usos múltiples, parrilla y solárium.\n",
            "Rooms: nan\n",
            "Floor: nan\n",
            "Price: nan\n",
            "\n",
            "\n",
            "Index: 7557\n",
            "Title: Rosario - Paraguay 2100 - Venta Deptos 1 Dor en construcción - InmGazze\n",
            "Description: INMOBILIARIA GAZZE VENDE PARAGUAY 2100Edificio en construcciónPB y 10 pisos.1 dormitorio de 54 y 63m22 dormitorios de 72m2 y 87m23 dormitorios de 100m2 y 187m2Local / Oficina en planta baja de 90m2Cocheras opcionales.FECHA DE ENTREGA: ABRIL/2018FINANCIACION: 30% ANTICIPO - 70% HASTA 24 CUOTAS AJUSTADAS CON EL INDICE CAC.CARACTERÍSTICAS TÉCNICASGENERALES - Hall de ingreso control de acceso con sistema \"chip electronico\" .- Terraza.- 2 ascensores velocidad variable con puertas automaticas en cabinas y palieres. Planta Baja en acero inoxidable. Control de Sistema de chip electronico.EXTERIOR- Mampostería de Ladrillo Comun revocado y pintado hasta 12m de altura, A partir 12m Ladrillo hueco c/camara de aire, revoque impermeable, grueso y pintura.- Aberturas línea Modena.- Piso Porcellanato en balcones.INTERIOR- Paredes terminadas con enduído de yeso y pintura latex.- Pisos de porcelanato esmaltado en palieres, livings, antebaños, baños , cocinas y dormitorios.- Revestimiento de baño porcellanato esmaltado con guardas combinado con enlucido de yeso y pintado.- Puertas placas melaminica enchapada con picaportes de bronce platil laqueado.- Placard con frente melaminico simil madera e interior completo.- Muebles bajo mesada y alacena completa.- Mesadas de granito y bachas de acero inoxidable marca \"Johnson\".- Griferias monocomando en cocinas.- Provisión Calefon para agua caliente 14 litros .- Gas: instalación de cañeria para anafe, horno, calefon y calefactor en estar comedor; caño con revestimiento Epoxi.- Artefactos de baño en loza blanca.- Receptaculo de ducha sin mampara y mueble vanitory.- Grifería con cierre cerámico en baños.- Cañería de distribución agua fría y caliente en Eco-Agua fusion.- Instalación en funda de PVC para pasar cañerias de cobre de Aire acondicionado Split Frio-Calor. EasyBroker ID: EB-AP1901\n",
            "Rooms: nan\n",
            "Floor: nan\n",
            "Price: nan\n",
            "\n",
            "\n",
            "Index: 7666\n",
            "Title: Departamentos a estrenar Quilmes Oeste\n",
            "Description: Corredor Responsable: Mauro Perri - CDCPDJLP 7190Contacto: Johanna Beli - MLS ID # 420551026-12Complejo de 8 departamentos a estrenar, 2 ambientes, con balcón. Opción a compra de estacionamiento por $8300. Parrilla en terraza compartida. Entrega en Enero del 2018.NO APTO CREDITO Se acepta financiación a precio de lista( $52.000 precio de contado)\n",
            "Rooms: 2.0\n",
            "Floor: nan\n",
            "Price: 52000.0\n",
            "\n",
            "\n",
            "Index: 7778\n",
            "Title: Casa con loza mas 2 deptos ideal constructores\n",
            "Description: Loza de 10 x 12 mts. total 120 m2, con escalera para construcción de deptos en primer piso, todo sobre lote de 10 x 26 mts. total de metros del terreno 260 m2, sobre asfalto, con servicios de luz, gas, tel, agua corriente, a 4 cuadras de importante avenida que va hacia san miguel y moreno centro. barrio cercano a acceso oeste Aviso publicado por Pixel Inmobiliario (Servicio de Páginas Web para Inmobiliarias).\n",
            "Rooms: nan\n",
            "Floor: nan\n",
            "Price: nan\n",
            "\n",
            "\n",
            "Index: 7792\n",
            "Title: Excelentes unidades de 2 ambientes \n",
            "Description: Excelente ubicación Av. Cordoba y Julian AlvarezCerca de la Universidad de Palermo y Universidad de KennedyUnidades de 2 ambientes de 40 m2Frente y contrafrenteDesde U$S100000Consulte unidades disponibles\n",
            "Rooms: 2.0\n",
            "Floor: nan\n",
            "Price: 120000.0\n",
            "\n",
            "\n",
            "Index: 7864\n",
            "Title: Departamentos en pozo.\n",
            "Description: CODIGO: 646-B011 200 ubicado en: arieta 2700 -  Publicado por: PABLO COLACE PROPIEDADES. El precio es de USD 70000 null. Departamentos en pozo. Financiación CONTRAFRENTE: 2DO PISO 2 ambientes 36m2 BALCÓN EN LIVING. -PORTERO AUTOMATICO -BAÑO CON GRIFERIAS ,BAÑERA -COCINA CON MESADA, GRIFERIA MONO-COMANDO, TERMO TANQUE ELÉCTRICO. -MUEBLE BAJO MESADA, ALACENA -PLACARD EN DORMITORIO -TERRAZA USO COMÚN. -HALL DE ENTRADA AMBIENTADO. -ASCENSOR. COCHERAS: UNIDADES COMPLEMENTARIAS (SOLO PROPIETARIOS DEL EDIFICIO) VALOR: 17.000 USD  -ANTICIPO 50 PESOS O DOLARES. -FINANCIACIÓN 15 CUOTAS EN PESOS POR VALOR DE M2. FINALIZACIÓN DE OBRA JUNIO 201 . Publicado a través de Mapaprop\n",
            "Rooms: nan\n",
            "Floor: nan\n",
            "Price: 70000.0\n",
            "\n",
            "\n",
            "Index: 7865\n",
            "Title: Departamentos de dos ambientes con cochera.\n",
            "Description: CODIGO: 646-b011 202 ubicado en: Brown 200 -  Publicado por: PABLO COLACE PROPIEDADES. El precio es de USD 105000 null. Departamentos de 2 ambientes con cochera. OPCION 1 : PB B CON PATIO 50M2 CONTRAFRENTE (CON COCHERA) expensas $600  apto profesional . OPCION 2 : PB C CON PATIO 50M2 CONTRAFRENTE (CON COCHERA) expensas $600  apto profesional .  Pisos : 4 -Cantidad de deptos por piso: 6 Ascensores : 2 Cocheras subterraneas Detalles: Dormitorio con Placard y estanterias. Estufa. Baño con bañera y ducha desplegable griferias ferrum Cocina con termotanque electrico, barra tipo isla de madera , alacenas, mesada marmol, griferias monocomando. Living preparado para conexión Aire Acondicionado. Conexiones para tv, internet, telefono. SEGURIDAD: -Camaras de seguridad en todo el edificio. -Todos los departamentos poseen canal \"98\" de TV especial para controlar las camaras de vigilancia dentro de su departamento. El edificio esta asegurado con \"cerco eléctrico con alarma integrada de seguridad\" HALL PRINCIPAL (pb) : posee garita de seguridad , con control de camaras. BIENES COMUNES:- Pileta para uso general del edificio . -Parrillas -TERRAZA USO COMÚN  . Publicado a través de Mapaprop\n",
            "Rooms: nan\n",
            "Floor: nan\n",
            "Price: 105000.0\n",
            "\n",
            "\n",
            "Index: 7867\n",
            "Title: Departamentos de dos ambientes y cocheras\n",
            "Description: CODIGO: 646-b011 203 ubicado en: laprida 200 -  Publicado por: PABLO COLACE PROPIEDADES. El precio es de USD 77500 null. Departamentos de dos ambientes Opcion 1: (2 AMBIENTES 50m2) Planta Baja \"C\" (entrada por hall) SIN PATIO expensas $550  apto profesional . Valor :77.500 USD Opcion 2: (2 AMBIENTES 55m2) Planta Baja \"A\" (muy amplio) (a la calle) con Patio expensas $550  apto profesional . Valor :82.000 USD Opcion 3: (2 AMBIENTES 40m2) 2do Piso \"D\" (frente) con balcón a la calle expensas $550  apto profesional . Valor :78.000 USD O (PESOS VALOR BLUE) <--------- Se encuentra en alquiler hasta 2018 , pero se puede vender y tomar el alquiler. ($4.600 con aumento del 12 c/ 6 meses) INTERESANTE INVERSORES Opcion 4: (2 AMBIENTES 55m2) Planta Baja \"E\" (entrada por hall) con Patio expensas $550  apto profesional . Valor :77.000 USD Opcion 5: (2 AMBIENTES 40m2) \"2do Piso \"J\" contrafrente sin balcon expensas $550  apto profesional . Valor :68.000 USD (TODOS CON COCINA Y TERMO COLOCADOS)  Venta de cocheras subterraneas UF ( unidad funcional / puede comprar cualquier persona externa al edificio) . Publicado a través de Mapaprop\n",
            "Rooms: nan\n",
            "Floor: nan\n",
            "Price: 77500.0\n",
            "\n",
            "\n",
            "Index: 7868\n",
            "Title: Departamentos de dos ambientes con y sin cochera.\n",
            "Description: CODIGO: 646-b011 204 ubicado en: paso 1000 -  Publicado por: PABLO COLACE PROPIEDADES. El precio es de USD 53500 null. Departamentos dos ambientes con y sin cochera. CONTRAFRENTE: TODOS CON BALCÓN ULTIMOS 3 DISPONIBLES , EN 1ER PISO. ULTIMO DISPONIBLE , EN 2DO PISO. 1er piso c/cochera descubierta valor: 60.500 u$s 1er piso s/cochera valor: 57.000 u$s 2do piso c/cochera descubierta: 58.500 u$s 2do piso s/cochera: 53.500u$s  -5 CUADRAS DE AV. DON BOSCO -NO TIENE ASCENSOR -BAÑO CON GRIFERIAS ,BAÑERA -COCINA CON MESADA, GRIFERIA MONO-COMANDO, TERMO TANQUE ELÉCTRICO. -MUEBLE BAJO MESADA, ALACENA -PLACARD EN DORMITORIO -TERRAZA USO COMÚN. . Publicado a través de Mapaprop\n",
            "Rooms: nan\n",
            "Floor: nan\n",
            "Price: 53500.0\n",
            "\n",
            "\n",
            "Index: 8207\n",
            "Title: DEPARTAMENTOS DE 2 AMBIENTES CON COCHERA EN CONSTRUCCIÓN. MUÑIZ\n",
            "Description: CODIGO:  ubicado en: CASEROS 77 -  Publicado por: KARINA COSEGLIA PROPIEDADES. El precio es de ARS 850000 null. CONDOMINIO EN MUÑIZ COMODIDADES: 1 dormitorio, baño completo , cocina-comedor, con espacio guardacoche.. Pisos de ceramicos, calefaccion preparada para calefactores. FECHA DE ENTREGA JUNIO 2018 . Publicado a través de Mapaprop\n",
            "Rooms: nan\n",
            "Floor: nan\n",
            "Price: 47671.12\n",
            "\n",
            "\n",
            "Index: 8333\n",
            "Title: MB VENDE DEPARTAMENTOS AVENIDA FRANCIA 735. EXCELENTE INVERSION. DETALLES CATEGORIA. Financiacion         \n",
            "Description: Ubicado a 30 metros del ingreso de la Facultad de Medicina, sobre Av. Francia, un boulevard amplio alejado de los ruidos. Entre Santa Fe y Córdoba, principales arterias de la ciudad de Rosario. Pensado y diseñado para tener bajas expensas y mínimo mantenimiento- Cocheras en subsuelo y planta baja- Espacio para bicicletas- Local comercial en planta baja.- Ingreso vehicular con control remoto- Balcones terraza- Parrillero y pérgola en azotea- Solarium- Laundry- Terminación en hormigón visto.- Ascensores de última generación con puertas automáticas. - Revestidos en acero inoxidable y espejo, piso de mármol o granito - Iluminación inteligenteLos Departamentos- Amoblamiento de cocina completo con alacenas y bajo mesadas- Barra desayunadora- Preparado para instalación de TV por cable, teléfono e internet.- Preparado para instalación de refrigeración y calefacción por splits. - Aberturas de aluminio de piso a techo con vidrio laminado de seguridad.- Puertas de ingreso reforzadas (opcional blindado).- Pisos y revestimientos de porcellanato.- Equipamiento completo en baños (espejo y accesorios).- Anafe, horno y purificador eléctrico de primera marca.- Termotanque- Mesadas de granito.- Sanitarios y griferías de primera marca.- Puertas interiores de madera- Terminaciones de calidad -     Fecha de entrega: Agosto/2018         Aviso publicado por Pixel Inmobiliario (Servicio de Páginas Web para Inmobiliarias).\n",
            "Rooms: nan\n",
            "Floor: nan\n",
            "Price: nan\n",
            "\n",
            "\n",
            "Index: 8646\n",
            "Title: Emprendimiento - CASA CRESPO - Exclusivos departamentos a Estrenar en el corazón de Villa Crespo! INICIO OBRA AGOSTO 2017\n",
            "Description: INICIO OBRA: Agosto 2017Casa Crespo es un proyecto único en su tipo, que combina espacios de oficina, vivienda y amenities exclusivos!El emprendimiento se desarrolla en 15 pisos, y 3 subsuelos. Posee 46 espacios de cocheras para las viviendas; 7 tipologías diferentes de oficinas, con balcón o patio; y departamentos de 2, 3 y 4 ambientes.El edificio posee además Patio con cancha de fútbol/basquet con piso de material, playground para niños, una piscina en planta baja, sala de juegos. Además, en el piso 15 se ubicarán el gimnasio, una segunda piscina con solarium, sauna y el sector de parrillas y SUM.Se encuentra cerca de importantes áreas verdes de la ciudad, como el renovado Parque Centenario, a solo 15 minutos de los Bosques de Palermo, Alto Palermo Shopping y Zona Facultades (IUNA, Ftad. Medicina y Económicas UBA. Univ. de Palermo, Agronomía UBA).Asimismo, se localiza en el área de outlets, con variada oferta gastronómica, cercanías a Plaza Serrano y Malabia en Palermo Soho; y múltiples accesos (Subte B estación Malabia; Metrobús Juan B Justo; Múltiples Líneas de Colectivos en Av. Corrientes y Av. Scalabrini Ortiz).DEPARTAMENTOS: Tipología 2 amb desde 33m2Tipología 3 amb desde 75m2Tipología 4 amb + dep desde 130m2El precio publicado corresponde a una unidad de 2 ambientes de 68 m2 en piso 3 lateral con patio.Consultar por diferentes tipologías/precios. Consultar disponibilidad. *Los precios, características de las  unidades y medidas son de referencia y pueden estar sujetos a cambios sin previo aviso por parte del desarrollador. Forma de pago: 40% del precio a la firma del boleto + 30 cuotas desde el comienzo de la obra.\n",
            "Rooms: 2.0\n",
            "Floor: nan\n",
            "Price: 207483.0\n",
            "\n",
            "\n",
            "Index: 8648\n",
            "Title: Emprendimiento - CASA CRESPO - Exclusivos departamentos a Estrenar en el corazón de Villa Crespo! INICIO OBRA AGOSTO 2017\n",
            "Description: INICIO OBRA: Agosto 2017Casa Crespo es un proyecto único en su tipo, que combina espacios de oficina, vivienda y amenities exclusivos!El emprendimiento se desarrolla en 15 pisos, y 3 subsuelos. Posee 46 espacios de cocheras para las viviendas; 7 tipologías diferentes de oficinas, con balcón o patio; y departamentos de 2, 3 y 4 ambientes.El edificio posee además Patio con cancha de fútbol/basquet con piso de material, playground para niños, una piscina en planta baja, sala de juegos. Además, en el piso 15 se ubicarán el gimnasio, una segunda piscina con solarium, sauna y el sector de parrillas y SUM.Se encuentra cerca de importantes áreas verdes de la ciudad, como el renovado Parque Centenario, a solo 15 minutos de los Bosques de Palermo, Alto Palermo Shopping y Zona Facultades (IUNA, Ftad. Medicina y Económicas UBA. Univ. de Palermo, Agronomía UBA).Asimismo, se localiza en el área de outlets, con variada oferta gastronómica, cercanías a Plaza Serrano y Malabia en Palermo Soho; y múltiples accesos (Subte B estación Malabia; Metrobús Juan B Justo; Múltiples Líneas de Colectivos en Av. Corrientes y Av. Scalabrini Ortiz).DEPARTAMENTOS: Tipología 2 amb desde 33m2Tipología 3 amb desde 75m2Tipología 4 amb + dep desde 130m2El precio publicado corresponde a una unidad de 3 ambientes de 72.24 m2 en piso 4 Contrafrente.Consultar por diferentes tipologías/precios. Consultar disponibilidad. *Los precios, características de las  unidades y medidas son de referencia y pueden estar sujetos a cambios sin previo aviso por parte del desarrollador. Forma de pago: 40% del precio a la firma del boleto + 30 cuotas desde el comienzo de la obra.\n",
            "Rooms: 3.0\n",
            "Floor: nan\n",
            "Price: 210580.0\n",
            "\n",
            "\n",
            "Index: 8713\n",
            "Title: EXCLUSIVOS DEPARTAMENTOS - BARRIO NORTE \n",
            "Description: The Edge se ubica en pleno Barrio Norte; será un edificio residencial de 19 pisos de altura, con unidades de 2, 3 y 4 ambientes con dependencia . Contara con amenities de primer nivel en la Planta Baja y 3 subsuelos de cocheras.• 2, 3 Y 4 AMBIENTES CON DEPENDENCIA• CARPINTERÍA DE ALUMINIO ANODIZADO Y/O PVC• FRENTES DE PLACARD DE ALUMINIO Y ESPEJO• PISOS EN PORCELLANATO• INSTALACIÓN SANITARIA COMPLETA CON AGUA CALIENTE CENTRAL• INSTALACIÓN ELÉCTRICA, DE TV POR CABLE Y TELÉFONO COMPLETAS• COCINA: MUEBLES Y EQUIPAMIENTO COMPLETOS• BAÑOS CON PORCELLANATO O CERÁMICA ESMALTADAY MESADA DE DISEÑO+ TERRAZA CON SOLARIUM+ PISCINA DESCUBIERTA CLIMATIZADA+ GIMNASIO+ VESTUARIOS+ SALÓN DE USOS MÚLTIPLES+ ESTACIONAMIENTO DE CORTESÍA+ ÁREAS PARQUIZADAS+ LAUNDRY\n",
            "Rooms: 4.0\n",
            "Floor: nan\n",
            "Price: nan\n",
            "\n",
            "\n",
            "Index: 8714\n",
            "Title: EXCLUSIVOS DEPARTAMENTOS - BARRIO NORTE - \n",
            "Description: The Edge se ubica en pleno Barrio Norte; será un edificio residencial de 19 pisos de altura, con unidades de 2, 3 y 4 ambientes con dependencia . Contara con amenities de primer nivel en la Planta Baja y 3 subsuelos de cocheras.• 2, 3 Y 4 AMBIENTES CON DEPENDENCIA• CARPINTERÍA DE ALUMINIO ANODIZADO Y/O PVC• FRENTES DE PLACARD DE ALUMINIO Y ESPEJO• PISOS EN PORCELLANATO• INSTALACIÓN SANITARIA COMPLETA CON AGUA CALIENTE CENTRAL• INSTALACIÓN ELÉCTRICA, DE TV POR CABLE Y TELÉFONO COMPLETAS• COCINA: MUEBLES Y EQUIPAMIENTO COMPLETOS• BAÑOS CON PORCELLANATO O CERÁMICA ESMALTADAY MESADA DE DISEÑO+ TERRAZA CON SOLARIUM+ PISCINA DESCUBIERTA CLIMATIZADA+ GIMNASIO+ VESTUARIOS+ SALÓN DE USOS MÚLTIPLES+ ESTACIONAMIENTO DE CORTESÍA+ ÁREAS PARQUIZADAS+ LAUNDRY\n",
            "Rooms: 3.0\n",
            "Floor: nan\n",
            "Price: nan\n",
            "\n",
            "\n",
            "Index: 8872\n",
            "Title: Local Comercial y Dos deptos\n",
            "Description: LOCAL COMERCIALCON DOS DEPTOS DE DOS DORMITORIOS IDEAL PARA CONSTRUCTORAS O INVERSORES\n",
            "Rooms: nan\n",
            "Floor: nan\n",
            "Price: 175000.0\n",
            "\n",
            "\n",
            "Index: 8886\n",
            "Title: Rosario - Colon 1889 - Venta Departamentos 1 Dor - InmGazze\n",
            "Description: Inmobiliaria Gazze Vende Colon esquina PascoEntrega Diciembre 2017Edificio de ascensor, PB y 6 pisos.Monoambiente, 1 y 2 dormitorios.1° PisoDepartamento A - 42m2 (1 Dor)Monoambiente B - 30m2Departamento C - 43m2 (1 Dor)Departamento D - 53m2 (1 Dor)Del 2° al 4° PisoDepartamento A - 50m2 (1 Dor)Departamento B - 57,5m2 (1 Dor)Departamento C - 51m2 (1 Dor)Departamento D - 53m2 (1 Dor)5° PisoDepartamento A - 130,20m2 (3 Dor)Departamento B - 90,60m2 (2 Dor)6° PisoDepartamento A - 81,75m2 (2 Dor)Departamento B - 79m2 (2 Dor)Departamento C - 60,30m2 (1 Dor)CARACTERÍSTICAS TÉCNICASGenerales- Hall de ingreso control de acceso con sistema \"chip electronico\" .- Terraza.- 2 ascensores velocidad variable con puertas automaticas en cabinas y palieres.Planta Baja en acero inoxidable. Control de Sistema de chip electronico.Exterior - Mampostería de Ladrillo Comun revocado y pintado hasta 12m de altura,A partir 12m Ladrillo hueco c/camara de aire, revoque impermeable, grueso y pintura.- Aberturas línea Modena.- Piso Porcellanato en balcones.Interior- Paredes terminadas con enduído de yeso y pintura latex.- Pisos de porcelanato esmaltado en palieres,livings, antebaños, baños , cocinas y dormitorios.- Revestimiento de baño porcellanato esmaltado con guardascombinado con enlucido de yeso y pintado.- Puertas placas melaminica enchapada con picaportes de bronceplatil laqueado.- Placard con frente melaminico simil madera e interior completo.- Muebles bajo mesada y alacena completa.- Mesadas de granito y bachas de acero inoxidable marca \"Johnson\".- Griferias monocomando en cocinas.- Provisión Calefon para agua caliente 14 litros .- Gas: instalación de cañeria para anafe, horno, calefon y calefactor en estarcomedor; caño con revestimiento Epoxi.- Artefactos de baño en loza blanca.- Receptaculo de ducha sin mampara y mueble vanitory.- Grifería con cierre cerámico en baños.- Cañería de distribución agua fría y caliente en Eco-Agua fusion.- Instalación en funda de PVC para pasarcañerias de cobre de Aire acondicionado Split Frio-Calor.30% Y SALDO 24 CUOTAS ACTUALIZADAS. EasyBroker ID: EB-AP4798\n",
            "Rooms: nan\n",
            "Floor: nan\n",
            "Price: nan\n",
            "\n",
            "\n",
            "Index: 8987\n",
            "Title: DEPARTAMENTOS DE UN DORMITORIO EN VENTA EN TORRE ARES\n",
            "Description: DEPARTAMENTO EN VENTA DEUN DORMITORIO CON RADIADORES, VIDRIOS DOBLES, IMPECABLE PARA MUDARSE YA EN GORRITI 95POR CONSULTAS COMUNIQUESE CON NOCETI PROPIEDADES EN DRAGO 26 PISO 3TO  DE LUNES A VIERNES DE 930 A 16HS o al 0291154321090.  DEPARTAMENTOS PREMIUM DE UN DORMITORIO Y DE DOS DORMITORIOSPisos de Porcellanato,Calefacción individual por radiadores y agua caliente por caldera dual.Vidrios dobles herméticos, aberturas de aluminioCocinas completas todas equipadas,Instalaciones eléctricas preparadas para aire acondicionado, tv, internet, tel.Portero con visorESPACIOS COMUNES:Terraza, 2 ascensores, pisos porcellanato en el Hall,\n",
            "Rooms: 2.0\n",
            "Floor: nan\n",
            "Price: 90000.0\n",
            "\n",
            "\n",
            "Index: 9108\n",
            "Title: ¿Buscas Invertir? Departamentos Bien Ubicados en Bº Pueyrredon\n",
            "Description: CODIGO: 2242-MAR67 ubicado en: ARMENIA 1574 -  Publicado por: MONICA GIRAUDO SERVICIOS INMOBILIARIOS. El precio es de USD 50000 null. Monica Giraudo Servicios Inmobiliarios te ofrece una excelente inversion Departamentos de 1 Dormitorio bien ubicados en Bº Pueyrredon.    Armenia 1574, entre Gral Deheza y Roma.   Puntos de Referencias: Hospital Italiano, Hospital Córdoba y Hospital Transito en un Radio de 400 mts. Supermercado Vea a 100 mts y Hiper Libertad a 4 cuadras.  El Parque General Paz es una muy buena alternativa tanto para hacer Ejercicio como para pasar la Tarde. Multiples Lineas Transportes con direccion a Ciudad Universitaria y el Centro: 60, 62, 63, 66, Trole B, 600.   Detalle de las Unidades: Cocinas Separadas Espaciosas para una mayor comodidad, equipadas con muebles bajo mesada y alacena. Carpinteria de Aluminio en aberturas y para una mayor seguridad tienen colocadas rejas. Baño equipado con bañera y materiales de categoria tales como Ferrum y Fv, para una mayor durabilidad y calidad. Instalaciones para Calefactores, Aire Acondicionado, Teléfono y Cable. Acceso a el edificio mediante llavero sensor.   Unidades disponibles:   Planta Baja \"F\" - Contrafrente 1 Dormitorio con placares e interiores. Baño con bañera. Cocina Separada. Living / Comedor . Patio. 40 m2 Propios Patio de 15 m2 \"Alquilado\"   Planta Baja \"E\" - Contrafrente 1 Dormitorio con placares e interiores. Baño con bañera. Cocina Separada. Living / Comedor 2 Patios. 40 m2 Propios 15 m2 uno de los Patios 9 m2 el otro Patio. \"Desocupado\"   1º Piso \"B\" - Frente 1 Dormitorio con Placares e Interiores. Baño con Bañera. Cocina Separada: Living / Comedor. Balcon. 40 m2 Propios. 2 m2 Balcón. \"Alquilado\"   Notas: El valor de la unidad depende de la Tipologia. Valor de Expensas: $1000 (incluye Luz de Servicios Generales, Agua, Municipalidad, Rentas y Servicio de Limpieza) El servicio de Gas Natural esta en proceso de inspeccion para colocación de medidores.    Monica Giraudo CPI 3701    No pierda Oportunidad, su consulta no Molesta . Publicado a través de Mapaprop\n",
            "Rooms: nan\n",
            "Floor: nan\n",
            "Price: 50000.0\n",
            "\n",
            "\n",
            "Index: 9111\n",
            "Title: CON ESCRITURA! Excelente Ubicación y Buen Precio! Departamentos con Cochera\n",
            "Description: CODIGO: 2242-MAR69 ubicado en: COCHABAMBA 1684 -  Publicado por: MONICA GIRAUDO SERVICIOS INMOBILIARIOS. El precio es de USD 60000 null. Monica Giraudo Servicios Inmobiliarios te ofrece Departamentos de 2 dormitorios con cochera en una Excelente Ubicación Cochabamba 1684 Bº Pueyrredon.   Puntos de Referencias: En un Radio de 100 mts se encuentran Colegios como El Robles, Sagrado Corazon, Caixal, Sagrada Familia, etc. A una cuadra esta el Supermercado Vea. A 100 mts esta la Calle Roma que posee Multiples Comercios.  La Plaza mas cercana se encuentra a una cuadra Plaza de la Docencia.    Detalle de las Unidades: Cocinas Espaciosas para una mayor comodidad, equipadas con muebles bajo mesada y alacena de Melamina y detalles en Aluminio. Carpinteria de Aluminio en aberturas. Baño equipado materiales de categoria tales como Ferrum y Fv, para una mayor durabilidad y calidad. Instalaciones para Calefactores, Aire Acondicionado, Teléfono y Cable. Posee una gran calidad y tiene gas natural.   Unidades disponibles:   Planta Baja \"A\" - Frente 2 Dormitorios uno de ellos con placard e interiores. Patio. Cocina / Comedor. Cochera. Baño. Estado: Alquilado   Planta Baja \"E\" - Contrafrente 2 Dormitorios uno de ellos con placard. Cocina / Comedor. Patio. Baño. Sin Cochera. Estado: Alquilado   Planta Baja \"F\" - Contrafrente 2 Dormitorios uno de ellos con placard e interiores. 2 Patios. Cocina / Comedor. Cochera. Baño. Estado: Alquilado     Notas: El valor de la unidad depende de la Tipologia. Valor de Expensas: $1000 (Agua, Municipalidad, Rentas y Servicio de Limpieza)   Monica Giraudo CPI 3701    No pierda Oportunidad, su consulta no Molesta . Publicado a través de Mapaprop\n",
            "Rooms: nan\n",
            "Floor: nan\n",
            "Price: 60000.0\n",
            "\n",
            "\n",
            "Index: 9329\n",
            "Title: Departamentos en Condominio Altos del Ombú\n",
            "Description: CODIGO: 3885-Prop0002 ubicado en: Uruguay 1319 -  Publicado por: INMOBILIARIA GONZÁLEZ. El precio es de USD 40000 null. Toda la Confianza de 40 años en Pilar INMOBILIARIA GONZALEZ  Fideicomiso Garantizado   Condominio Altos Del Ombú Departamentos de 1, 2 y 3 Ambientes a Estrenar  Anticipo y Financiación 12, 24, 36, 48 y 60 Cuotas Fijas en Pesos.   >Unid. 1 ambiente 35m2 / u$s 40.000 (Precio Final Contado) Anticipo: 40 + 12, 24, 36, 48 y 60 Cuotas Fijas   >Unid. 2 ambientes 48m2 / u$s 57.600 (Precio Final Contado) Anticipo: 40 + 12, 24, 36, 48 y 60 Cuotas Fijas   >Unid. 2 ambientes 53m2 / u$s 64.000 (Precio Final Contado) Anticipo: 40 + 12, 24, 36, 48 y 60 Cuotas Fijas   >Unid. 3 ambientes 78m2 / u$s 93.600 (Precio Final Contado) Anticipo: 40 + 12, 24, 36, 48 y 60 Cuotas Fijas  Tenemos la mayor variedad de Unidades 1, 2 y 3 ambientes. Cocheras - Seguridad - Pileta - Áreas Verdes - Locales - SUM *Se aceptan Vehículos y Propiedades en Parte de Pago.  Asesórate con Nosotros Comercializa INMOBILIARIA GONZALEZ Cel/WhatApp 11. santiago.inmobiliaria. Diseño y Construcción PSC Desarrollos Todas las Propuestas en Negocios & Desarrollos Inmobiliarios CSI 6113 . Publicado a través de Mapaprop\n",
            "Rooms: nan\n",
            "Floor: nan\n",
            "Price: 40000.0\n",
            "\n",
            "\n",
            "Index: 9334\n",
            "Title: Departamentos en Condominio Altos del Ombú\n",
            "Description: CODIGO: 3885-Prop0004 ubicado en: Uruguay 1319 -  Publicado por: INMOBILIARIA GONZÁLEZ. El precio es de USD 57600 null. Toda la Confianza de 40 años en Pilar INMOBILIARIA GONZALEZ  Fideicomiso Garantizado   Condominio Altos Del Ombú Departamentos de 1, 2 y 3 Ambientes a Estrenar  Anticipo y Financiación 12, 24, 36, 48 y 60 Cuotas Fijas en Pesos.   >Unid. 1 ambiente 35m2 / u$s 40.000 (Precio Final Contado) Anticipo: 40 + 12, 24, 36, 48 y 60 Cuotas Fijas   >Unid. 2 ambientes 48m2 / u$s 57.600 (Precio Final Contado) Anticipo: 40 + 12, 24, 36, 48 y 60 Cuotas Fijas   >Unid. 2 ambientes 53m2 / u$s 64.000 (Precio Final Contado) Anticipo: 40 + 12, 24, 36, 48 y 60 Cuotas Fijas   >Unid. 3 ambientes 78m2 / u$s 93.600 (Precio Final Contado) Anticipo: 40 + 12, 24, 36, 48 y 60 Cuotas Fijas  Tenemos la mayor variedad de Unidades 1, 2 y 3 ambientes. Cocheras - Seguridad - Pileta - Áreas Verdes - Locales - SUM *Se aceptan Vehículos y Propiedades en Parte de Pago.  Asesórate con Nosotros Comercializa INMOBILIARIA GONZALEZ Cel/WhatApp 11. santiago.inmobiliaria. Diseño y Construcción PSC Desarrollos Todas las Propuestas en Negocios & Desarrollos Inmobiliarios CSI 6113 . Publicado a través de Mapaprop\n",
            "Rooms: nan\n",
            "Floor: nan\n",
            "Price: 57600.0\n",
            "\n",
            "\n",
            "Index: 9395\n",
            "Title: DEPARTAMENTOS  Y  COCHERAS EN TORRE ATENEA APTOS CREDITO\n",
            "Description: Departamento de un dormitorio en diferentes pisos aptos crédito, en Torre Atenea, Santa Fé 56 de Bahía Blanca.El edificio al igual que los departamentos se encuentran a estrenar, hay de un y dos dormitorios, todos poseen balcones,  estar comedor , cocina separada toda amoblada, baños completos con bañera, caldera duál y radiadores, ventanas y aberturas exteriores de aluminio anodizado, vidrios dobles en todas las aberturas, dormitorio con frente de placar. Listos para mudarse!!.Hay cocheras a la Venta desde $ 280.000. Descubiertas y cubiertas.El edificio cuenta con dos ascensores con capacidad de 6 personas cada uno, con Piscina y quincho con dos baños de uso común.Consulte pisos y ubicaciones contra frente o frente.-\n",
            "Rooms: 2.0\n",
            "Floor: nan\n",
            "Price: 81321.33\n",
            "\n",
            "\n",
            "Index: 9402\n",
            "Title: NVA CORDOBA VENTA DEPARTAMENTOS 1 DORM AV PUEYRREDON 200 DESDE  $ 1.201.000 A ESTRENAR\n",
            "Description: NVA CORDOBA DEPARTAMENTOS 1 DORM AV PUEYRREDON 200 DESDE  $ 1.201.000 A ESTRENAR CATEGORIA, CON BALCON, COCINA INDEPENDIENTE,AMPLIOS, ENTREGA INMEDIATA. CARPINTERIA DE ALUMINIO,PORCCELLANATO PULIDO, CERAMICOS ESMALTADOS, BAÑERA, CALEFON , GRIFERIA MONOCOMANDO CONSULTE, VISITA Y POSESIÓN INMEDIATA4214522 o 4214255\n",
            "Rooms: 3.0\n",
            "Floor: nan\n",
            "Price: nan\n",
            "\n",
            "\n",
            "Index: 9485\n",
            "Title: DEPARTAMENTOS EN ALTA CORDOBA A ESTRENAR URQUIZA Y ARRELLANO\n",
            "Description: Departamentos ubicados en barrio Alta Córdoba, a metros de escuela García Faure,  sobre calle Urquiza esquina Arellano, unidades de un dormitorio, living comedor , un baño y balcón externo.  Unidades listas para entregarCUENTA CON GAS NATURALPRECIO: DESDE $ 990.000*El precio indicado es de referencia, sujeto a modificaciones sin previo aviso.*Los datos consignados en esta web pueden contener errores y son no contractuales; verifique los mismos con nuestros asesores comercialesPara mayor información o visitas al inmueble comuníquese al 76179 / 424\n",
            "Rooms: 5.0\n",
            "Floor: nan\n",
            "Price: 55522.84\n",
            "\n",
            "\n",
            "Index: 9486\n",
            "Title: BARRIO COFICO, UNIDADES LISTAS PARA ENTREGAR SOBRE CALLE CAMPILLO\n",
            "Description: EN VENTA, departamentos a estrenar, ubicados en pleno barrio Cofico, a 2 minutos del centro, excelente zona, sobre calle Campillo esquina Avellaneda. Características de las unidades:•Un dormitorio con placard e interiores•Pisos flotantes•Cocina semi integrada con alacenas , muebles bajo mesada y artefacto de cocina,• Living comedor con calefactor•Un baño completo con bañera•Balcón externo. •40 m2 propios•Cuenta con los servicios de GAS, cloacas y luzPRECIO$ 850.000*El precio indicado es de referencia, sujeto a modificaciones sin previo aviso.*Los datos consignados en esta web pueden contener errores y son no contractuales; verifique los mismos con nuestros asesores comercialesPara mayor información o visitas al inmueble comuníquese al 76179 / 424\n",
            "Rooms: 5.0\n",
            "Floor: nan\n",
            "Price: 47671.12\n",
            "\n",
            "\n",
            "Index: 9518\n",
            "Title: Departamentos en Condominio Altos del Ombú\n",
            "Description: CODIGO: 3885-Prop0005 ubicado en: Uruguay 1319 -  Publicado por: INMOBILIARIA GONZÁLEZ. El precio es de USD 64000 null. Toda la Confianza de 40 años en Pilar INMOBILIARIA GONZALEZ  Fideicomiso Garantizado   Condominio Altos Del Ombú Departamentos de 1, 2 y 3 Ambientes a Estrenar  Anticipo y Financiación 12, 24, 36, 48 y 60 Cuotas Fijas en Pesos.   >Unid. 1 ambiente 35m2 / u$s 40.000 (Precio Final Contado) Anticipo: 40 + 12, 24, 36, 48 y 60 Cuotas Fijas   >Unid. 2 ambientes 48m2 / u$s 57.600 (Precio Final Contado) Anticipo: 40 + 12, 24, 36, 48 y 60 Cuotas Fijas   >Unid. 2 ambientes 53m2 / u$s 64.000 (Precio Final Contado) Anticipo: 40 + 12, 24, 36, 48 y 60 Cuotas Fijas   >Unid. 3 ambientes 78m2 / u$s 93.600 (Precio Final Contado) Anticipo: 40 + 12, 24, 36, 48 y 60 Cuotas Fijas  Tenemos la mayor variedad de Unidades 1, 2 y 3 ambientes. Cocheras - Seguridad - Pileta - Áreas Verdes - Locales - SUM *Se aceptan Vehículos y Propiedades en Parte de Pago.  Asesórate con Nosotros Comercializa INMOBILIARIA GONZALEZ Cel/WhatApp 11. santiago.inmobiliaria. Diseño y Construcción PSC Desarrollos Todas las Propuestas en Negocios & Desarrollos Inmobiliarios CSI 6113 . Publicado a través de Mapaprop\n",
            "Rooms: nan\n",
            "Floor: nan\n",
            "Price: 64000.0\n",
            "\n",
            "\n",
            "Index: 9521\n",
            "Title: Departamentos en Condominio Altos del Ombú\n",
            "Description: CODIGO: 3885-Prop0006 ubicado en: Uruguay 1319 -  Publicado por: INMOBILIARIA GONZÁLEZ. El precio es de USD 93600 null. Toda la Confianza de 40 años en Pilar INMOBILIARIA GONZALEZ  Fideicomiso Garantizado   Condominio Altos Del Ombú Departamentos de 1, 2 y 3 Ambientes a Estrenar  Anticipo y Financiación 12, 24, 36, 48 y 60 Cuotas Fijas en Pesos.   >Unid. 1 ambiente 35m2 / u$s 40.000 (Precio Final Contado) Anticipo: 40 + 12, 24, 36, 48 y 60 Cuotas Fijas   >Unid. 2 ambientes 48m2 / u$s 57.600 (Precio Final Contado) Anticipo: 40 + 12, 24, 36, 48 y 60 Cuotas Fijas   >Unid. 2 ambientes 53m2 / u$s 64.000 (Precio Final Contado) Anticipo: 40 + 12, 24, 36, 48 y 60 Cuotas Fijas   >Unid. 3 ambientes 78m2 / u$s 93.600 (Precio Final Contado) Anticipo: 40 + 12, 24, 36, 48 y 60 Cuotas Fijas  Tenemos la mayor variedad de Unidades 1, 2 y 3 ambientes. Cocheras - Seguridad - Pileta - Áreas Verdes - Locales - SUM *Se aceptan Vehículos y Propiedades en Parte de Pago.  Asesórate con Nosotros Comercializa INMOBILIARIA GONZALEZ Cel/WhatApp 11. santiago.inmobiliaria. Diseño y Construcción PSC Desarrollos Todas las Propuestas en Negocios & Desarrollos Inmobiliarios CSI 6113 . Publicado a través de Mapaprop\n",
            "Rooms: nan\n",
            "Floor: nan\n",
            "Price: 93600.0\n",
            "\n",
            "\n",
            "Index: 9756\n",
            "Title: Departamentos de 1 dor a estrenar TERRAZ\n",
            "Description: Departamento en Venta de 1 dorm. en Cordoba\n",
            "Rooms: 1.0\n",
            "Floor: 1.0\n",
            "Price: 530000.0\n",
            "\n",
            "\n",
            "Index: 9757\n",
            "Title: Departamentos a estrenar Pueyrredon Plaz\n",
            "Description: Departamento en Venta de 1 dorm. en Cordoba\n",
            "Rooms: 1.0\n",
            "Floor: 1.0\n",
            "Price: 560000.0\n",
            "\n",
            "\n",
            "Index: 9795\n",
            "Title: VICINO II | ULTIMAS UNIDADES | CONSULTE\n",
            "Description: Departamento en Venta en Cordoba\n",
            "Rooms: 1.0\n",
            "Floor: nan\n",
            "Price: 48000.0\n",
            "\n",
            "\n",
            "Index: 10019\n",
            "Title: Departamentos monoambiente, zona parque Independencia\n",
            "Description: Departamento de un ambiente al contrafrente con balcón. Tiene cocina integrada, con muebles de bajo mesada y alacenas, un baño completo. \n",
            "Rooms: 1.0\n",
            "Floor: nan\n",
            "Price: nan\n",
            "\n",
            "\n",
            "Index: 10125\n",
            "Title: Departamentos 3 ambientes\n",
            "Description: CODIGO: 3893-FS 002 ubicado en: San Lorenzo 2600 -  Publicado por: FABIAN SOSA NEGOCIOS INMOBILIARIOS. El precio es de USD 90000 null. Moderna propiedad en el corazón de San Martín.  Consta de amplia cocina comedor de 7 x 4 m, cocina equipada con muebles altos y bajos, pisos cerámicos. Dos dormitorios de 3 x 3 m con placard, pisos flotantes. Baño con revestimiento cerámico Balcón corrido cerrado con lavadero . Publicado a través de Mapaprop\n",
            "Rooms: nan\n",
            "Floor: nan\n",
            "Price: 90000.0\n",
            "\n",
            "\n",
            "Index: 10313\n",
            "Title: Departamentos de 1 y 2 Dormitorios zona Sur\n",
            "Description: Departamentos de 1 y 2 dormitorios, ubicados en la zona Sur de la Ciudad.Entrega Enero 2017Departamentos de 1 dormitorio, cocina con lavadero, living comedor, baño. Cochera opcional\n",
            "Rooms: 3.0\n",
            "Floor: nan\n",
            "Price: nan\n",
            "\n",
            "\n",
            "Index: 10453\n",
            "Title: EDIFICIO POCAS UNIDADES - SIN EXPENSAS - COCINA SEPARADA\n",
            "Description: A 3 C/ AV. CORRIENTES, A 7 C/ SUBTE LINEA B \"FEDERICO LACROZE\" CERCANÍA A TREN URQUIZA Y SAN MARTIN-DEPARTAMENTO 3 AMBIENTES AMPLIOS A REFACCIONAR-LAVADERO INDEPENDIENTE-COCINA SEPARADA-DORMITORIOS CON PISO PARQUET Y PLACARD C/UNO.-SÓLO NECESITA NUEVA INSTALACIÓN ELECTRICA Y PINTURA \n",
            "Rooms: 3.0\n",
            "Floor: nan\n",
            "Price: 112000.0\n",
            "\n",
            "\n",
            "Index: 10706\n",
            "Title: LATORRE PROP VENDE 3 DEPARTAMENTOS EN  PH ,VENTA EN BLOCK,EN Z/ JUAN, B.JUSTO Y BAHÍA BLANCA\n",
            "Description: TRES DEPARTAMENTOS EN PH TODO EN ESQUINA , EL MISMO ESTA COMPUESTO POR 2 DE TRES AMBIENTES EN PLANTA BAJA, Y UN MONO AMBIENTE EN PLANTA ALTA,CON POSIBILIDAD DE CONSTRUIR OTRO DEPARTAMENTO MAS SOBRE LA TERRAZA DE LA ESQUINA,IDEAL INVERSIÓN PARA RENTA, TODOS LOS DEPARTAMENTOS SE ENCUENTRAN REFACCIONADOS,SALVO ALGUNOS DETALLES...SE VENDEN TODOS EN BLOCK, UBICACIÓN CERCA DEL HOSPITAL REGIONAL,ZONA BAHÍA BLANCA Y MATHEU , SE ACEPTAN PERMUTAS ,SE ESCUCHAN PROPUESTAS....\n",
            "Rooms: 6.0\n",
            "Floor: nan\n",
            "Price: 89000.0\n",
            "\n",
            "\n",
            "Index: 10739\n",
            "Title: DEPARTAMENTOS A ESTRENAR- ZONA FACULTADES. \n",
            "Description: LAVALLE Y SANTA FE- Departamentos a estrenar, entrega y escrituracion inmediata.Unidad con cocina comedor, dormitorio con placard, baño con ducha. Amplio patio!posibilidad de cochera. \n",
            "Rooms: 2.0\n",
            "Floor: nan\n",
            "Price: 86772.66\n",
            "\n",
            "\n",
            "Index: 11089\n",
            "Title: Departamentos 2 ambientes a estrenar\n",
            "Description: CODIGO: 486-374 ubicado en: Simbron 2800 -  Publicado por: PERFORMANCE PROPIEDADES. El precio es de USD 78000 null. Departamentos 2 Ambientes a estrenar. 3º Piso por escalera. Cocina comedor, baño, dormitorio. Cochera opcional. (U$s 12.000) . Publicado a través de Mapaprop\n",
            "Rooms: nan\n",
            "Floor: nan\n",
            "Price: 78000.0\n",
            "\n",
            "\n",
            "Index: 11092\n",
            "Title: Departamentos 2 ambientes en Pb\n",
            "Description: CODIGO: 486-377 ubicado en: Juan Florio 500 -  Publicado por: PERFORMANCE PROPIEDADES. El precio es de USD 88000 null. Departamentos 2 ambientes con cochera. Consta de cocina comedor, dormitorio, baño completo. . Publicado a través de Mapaprop\n",
            "Rooms: nan\n",
            "Floor: nan\n",
            "Price: 88000.0\n",
            "\n",
            "\n",
            "Index: 11105\n",
            "Title: PH 2 AMBIENTES - SOLO 4 UNIDADES\n",
            "Description: PH 2 AMBIENTES CON PARQUECITO DE 45 MTS. - BAÑO COMPLETO - COCINA COMEDOR CON PARRILLA - AMPLIA HABITACIÓN.A ESTRENAR - MUY LUMINOSO\n",
            "Rooms: 2.0\n",
            "Floor: nan\n",
            "Price: 35000.0\n",
            "\n",
            "\n",
            "Index: 11124\n",
            "Title: DOS UNIDADES EN VENTA SOBRE LOTE DE 1.013 m2\n",
            "Description: Lote= 1013 m2 -  2 Cabañas = 80 m2 cada una - Total semi cubiertos = 74 m2 \"Pergolas y Deck\" - Parrillas - Piscina de 4 x 8 mtrs \" Con iluminación en su interior\" - Motor de filtrado completo - Solarium = 36 m2 - Cerco perimetral de piscina de 1.20 mts.  según ley para el seguro por RC. - El perímetro del predio comprende un alambre romboidal de 1.80 de altura , con mas de 170 plantas de colores intercaladas y pasto sembrado por semilla en todo el predio. - Tranquera de ingreso doble y espacio de cocheras al frente - Iluminación exterior en todo el predio con foto célula. - Las cabañas se entregan totalmente equipadas y funcionando con el libro de clientes que ingresaron desde su inauguración , base de datos completa .- Planilla con ingresos y gastos para poder ver su rentabilidad. - Algunos detalles mas : Cortinas roller black out  en todas las ventanas, 3 Aires frío calor por casa , cocinas , heladeras , cafeteras , micro ondas vajilla completa , elementos de cocina completos, ropa de cama , camas , muebles ....Todo tal cual se describe y esta en las fotos.\n",
            "Rooms: 6.0\n",
            "Floor: nan\n",
            "Price: 290000.0\n",
            "\n",
            "\n",
            "Index: 11130\n",
            "Title: Zona Chauvin. Departamentos a estrenar de 2 y 3 ambientes.\n",
            "Description: Departamentos a estrenar en zona ChauvinExcelente Semipisos de 2 y 3 ambientes a estrenar ubicado en zona Chauvin. Situado una cuadra de la Avenida Independencia y una cuadra de Avenida Paso. Las unidades cuentan con amplio living comedor muy luminoso al frente con balcón saliente. Cocina separada con barra desayunadora y sector para lavarropas. Toilette o Baño completo en los de 3 ambientes. Cómodas habitaciones con pisos flotantes, la principal en suite con vestidor e hidromasaje. Pisos de porcellanato en living, cocina y baños. Cuenta con DVH en todas sus aberturas. Calefacción por radiadores por caldera dual. Cocheras descubiertas disponibles. Excelente calidad de construcción.. Posición inmediata. Consúltenos. \n",
            "Rooms: 2.0\n",
            "Floor: nan\n",
            "Price: 130000.0\n",
            "\n",
            "\n",
            "Index: 11201\n",
            "Title: B° ACOSTA VENDO CASA + 2 DEPTOS\n",
            "Description: Casa en Venta de 3 dorm. en Cordoba\n",
            "Rooms: 4.0\n",
            "Floor: nan\n",
            "Price: 1600000.0\n",
            "\n",
            "\n",
            "Index: 11222\n",
            "Title: CASA EN PLENO PALERMO SOHO 2 UNIDADES EN BLOCK A RECICLAR. LOTE PROPIO.\n",
            "Description: Casa sobre lote propio, dos unidades en block. UNIDAD 1) PB Gran espacio para garage, 1 patio al fondo, 1 patio cubierto, 3 dormitorios, 1 baño completo, toilette. UNIDAD 2) 1er piso entrada independiente 3 Dormitorios 1 living, gran cocina de 5x3.30 1 baño completo, toilette, lavadero, balcon al frente, terraza propia con un dormitorio mas EN ESTADO A RECICLAR LAS DOS UNIDADES.TERRENO Propio de 211M2 Frente 8,70 por 24,20 de fondo. Superficie máxima a construir según FOT , 337 m2. Zonificación R2B1. FOT 1.6 Ubicada a metros de Av. Córdoba. \n",
            "Rooms: nan\n",
            "Floor: nan\n",
            "Price: 500000.0\n",
            "\n",
            "\n",
            "Index: 11223\n",
            "Title: CASA EN PLENO PALERMO SOHO 2 UNIDADES EN BLOCK A RECICLAR. LOTE PROPIO.\n",
            "Description: TERRENO Propio de 211M2 Frente 8,70 por 24,20 de fondo. Superficie máxima a construir según FOT , 337 m2. Zonificación R2B1. FOT 1.6 Ubicada a metros de Av. Córdoba. ACTUALMENTE:Casa sobre lote propio, dos unidades en block. UNIDAD 1) PB Gran espacio para garage, 1 patio al fondo, 1 patio cubierto, 3 dormitorios, 1 baño completo, toilette. UNIDAD 2) 1er piso entrada independiente 3 Dormitorios 1 living, gran cocina de 5x3.30 1 baño completo, toilette, lavadero, balcon al frente, terraza propia con un dormitorio mas EN ESTADO A RECICLAR LAS DOS UNIDADES.\n",
            "Rooms: nan\n",
            "Floor: nan\n",
            "Price: 500000.0\n",
            "\n",
            "\n",
            "Index: 11224\n",
            "Title: PLENO PALERMO SOHO 2 UNIDADES EN BLOCK A RECICLAR. LOTE PROPIO.\n",
            "Description: CASA USO IDEAL COMERCIAL TERRENO Propio de 211M2 Frente 8,70 por 24,20 de fondo. Superficie máxima a construir según FOT , 337 m2. Zonificación R2B1. FOT 1.6 Ubicada a metros de Av. Córdoba. ACTUALMENTE:Casa sobre lote propio, dos unidades en block. UNIDAD 1) PB Gran espacio para garage, 1 patio al fondo, 1 patio cubierto, 3 dormitorios, 1 baño completo, toilette. UNIDAD 2) 1er piso entrada independiente 3 Dormitorios 1 living, gran cocina de 5x3.30 1 baño completo, toilette, lavadero, balcon al frente, terraza propia con un dormitorio mas EN ESTADO A RECICLAR LAS DOS UNIDADES.\n",
            "Rooms: nan\n",
            "Floor: nan\n",
            "Price: 500000.0\n",
            "\n",
            "\n",
            "Index: 11305\n",
            "Title: Departamentos a Estrenar en Villa Gesell\n",
            "Description: CODIGO: 452-532 ubicado en: Paseo 120 y Avenida 1 -  Publicado por: ALICIA FOGLIESE PROPIEDADES. El precio es de USD 80000 null. A pasos del mar en una ubicación estratégica se realizo este gran emprendimiento en Villa Gesell. Situado en un barrio residencial, rodeado de servicios para la vida cotidiana. Edificio con unidades preparadas para vivienda o renta, con las más amplias características de un edificio de vanguardia. La propuesta arquitectónica parte de la base de la búsqueda de departamentos funcionales, con medidas muy generosas para disfrutar al maximo la estadia. Construido con los mejores materiales, cuidando todo los detalles para obtener un producto diferenciado y único en la zona.  El edificio cuenta con Hall de entrada , ascensor para 4 personas , zona de garage , zona de bauleras , pasillos muy amplios e iluminados. En el 3° Nivel podran disfrutar un gran quincho con parrillas y terraza solarium con vista al mar.   U.F. 3: Departamento de 2 ambientes de 47 m2 con cocina totalmente eléctrica , Living comedor , habitación Principal , baño amplio con cabina de ducha y patio propio con parrilla de 15 m2. Valor : U$S 80.000.-  U.F. 2: Departamento de 2 ambientes y 1/2 muy amplio de 56 m2 con cocina totalmente eléctrica , Living comedor , habitación principal , habitación secundaria, Baño amplio con cabina de ducha, Increíble Patio propio con parrilla de 40 m2. Valor : U$S 90.000.-  U.F. 7: Departamento de 2 ambientes y 1/2 de 70 m2 con gran cocina , living comedor , habitacion principal , vestidor , baño amplio con cabina de ducha y espectacular balcon con vista al frente de 8 m2. Valor: U$S 100.000.-  . Publicado a través de Mapaprop\n",
            "Rooms: nan\n",
            "Floor: nan\n",
            "Price: 80000.0\n",
            "\n",
            "\n",
            "Index: 11321\n",
            "Title: Departamentos de 3 ambientes  en venta en Bella Vista\n",
            "Description: CODIGO: 339-C163 ubicado en: Moine 892 -  Publicado por: PAISSAN NEGOCIOS INMOBILIARIOS. El precio es de USD 260000 null. Departamentos de 3 ambientes con patio interno , jardin al frente , entrada para varios autos , quincho grande cubierto. . Publicado a través de Mapaprop\n",
            "Rooms: nan\n",
            "Floor: nan\n",
            "Price: 260000.0\n",
            "\n",
            "\n",
            "Index: 11327\n",
            "Title: Departamentos 2 ambientes, a la calle. \n",
            "Description: CODIGO: 486-380 ubicado en: Cafayate 721 -  Publicado por: PERFORMANCE PROPIEDADES. El precio es de USD 93000 null. Departamentos 2 ambientes. a la calle con balcón en comedor y cocina, baño, dormitorio con placard . 42 mts cubiertos y 46 mts en total. . Publicado a través de Mapaprop\n",
            "Rooms: nan\n",
            "Floor: nan\n",
            "Price: 93000.0\n",
            "\n",
            "\n",
            "Index: 11338\n",
            "Title: Departamentos a estrenar en Mar de Ajó Norte (190)\n",
            "Description: CODIGO: 3107-190 ubicado en: Corrientes 655 -  Publicado por: LUCIANA SOLDAVINI INMOBILIARIA. El precio es de USD 45000 null. Departamentos de dos y tres ambientes a estrenar a 6 cuadras del mar. Todas las unidades se entregan con bajo mesada, termo, cocina, sanitarios y grifería. El complejo contará con 6 unidades. Adelante dos unidades de 3 ambientes y atras con 4 unidades de dos ambientes. Todos con espacio guarda coche, excepto los dos dptos traseros de planta alta. Lavadero, patio/balcón y parrilla para todas las unidades. Las unidades se entregan listas para la conexión a los servicios que correrá por parte de los compradores. Los valores van desde u$s45.000 a u$s58.000. Se toman vehículos en parte de pago y posibilidad de financiación. . Publicado a través de Mapaprop\n",
            "Rooms: nan\n",
            "Floor: nan\n",
            "Price: 45000.0\n",
            "\n",
            "\n",
            "Index: 11473\n",
            "Title: SLS LUX Puerto MADERO Torre 2 Unidades  A 02\n",
            "Description: CARACTERÍSTICAS DE LOS EDIFICIOS• 2 torres de 30 pisos cada una con 67 residencias exclusivas, todas con palier privado y las mejores vistas de Puerto Madero • Residencias de 119 m2 a 521m2 por torre • 2 triplex exclusivos por torre con roof garden, piscina propia y área con summer kitchen/parrilla • Arquitectura de BMA • Diseño de interiores por Piero Lissoni, Milán • Paisajismo de Enzo Enea, Zurich • Impresionante lobby de 15 metros de altura con arte monumental selecciondo por curadores de Related Group e integrado a los jardines de Enzo Enea • Seguridad y vigilancia 24 horas • Aproximadamente 500 cocheras en dos subsuelos privados, incluyendo cocheras privadas cerradas con aire acondicionado para coleccionistas • Zona de bauleras con estacionamiento para bicicletas • Ascensores alta velocidad para cada unidad y palier adicional con ascensor de servicio • Hotel SLS LUX con 60 suites amuebladas por Piero Lissoni, Milán • Restaurant Gourmet sobre el dique 1 • Casi 2.000 metros cuadrados de parque de esculturas sobre el dique 1 • y Rosario Vera Peñaloza AMENITIES • Servicios de hotel de SLS LUX “a la carta”: - Recepción y conserjería - Room service - Servicio de car wash - Spa de mascotas • Gimnasio con máquinas de última generación • Spa & health center con salas de masajes y sauna • Casi 4.000 metros cuadrados de jardines, con juegos de niños y jardín • de yoga • Solarium • Piscina descubierta elevada con increibles vistas • Salón de eventos para 150 personas con servicio de catering y organización de fiestas a cargo de la consergería de SLS LUX • Cocheras de cortesía RESIDENCIAS • Amplias terrazas de aproximadamente 4 metros de profunidad con summer kitchens/parrillas • Mayoría de unidades con dependencia de servicio y doble circulación • Palier de ascensores privados • Cocinas completas con electrodomésticos de primera línea • Áreas de estar 3m de altura • Pintura interior terminada • Aire Acondicionado frío/calor (VRV) • Agua caliente central • Grifería de alta calidad • Pisos radiantes en baños • Pisos de Porcellanato en baños y cocinas • Carpinterias de aluminio de alta tecnologia con doble vidrio hermetico (DVH) • Puertas de madera La información comercial incluida representa material de caracter informativo y/o ilustrativo pudiendo no ser exacta, estar sujeta a errores, omisiones y cambios, incluyendo el precio o la retirada de la oferta sin previo aviso. LEY 2340 ART. 11- DERECHOS SON DERECHOS DE LOS CORREDORES INMOBILIARIOS: Inciso 2º: Percibir honorarios por la actividad realizada y comisiones de su comitente según la retribución que libremente pacten y, de quien resulte cocontratante, la que se establezca por la ley. En el caso de tratarse de alquiler de inmuebles destinados a vivienda administrados por un corredor inmobiliario, el monto de los honorarios mensuales no podrá ser exigido a los inquilinos. ART. 57- Hasta tanto se regulen los aranceles según lo previsto en el inciso 2º del art. 11, para los casos de locación de inmuebles destinados a vivienda única, el monto máximo de la comisión a cobrar al inquilino, será el equivalente al cuatro, quince centésimos por ciento (4,15%) del valor total del respectivo contrato. LEY N° 3.588 Art. 1°- Los corredores inmobiliarios deben exhibir en forma visible y destacada en los locales u oficinas comerciales en que desarrollen sus actividades -así como en su sitio web, si lo tuvieran- la transcripción de los artículos 11, inciso 2°, y 57 de la Ley N° 2.340, y de las normas nacionales aplicables en la materia, o las que en el futuro las reemplacen. Art. 2°.- Sin perjuicio de las facultades conferidas por ley al Colegio único de Corredores Inmobiliarios de la Ciudad Autónoma de Buenos Aires, las infracciones a la presente ley son pasibles de las sanciones previstas por las leyes nacionales N° 22.802 y 24.240, según el caso, a través del procedimiento establecido por la Ley N° 757. Art. 3°- Comuníquese, etc.\n",
            "Rooms: 4.0\n",
            "Floor: nan\n",
            "Price: 1700000.0\n",
            "\n",
            "\n",
            "Index: 11497\n",
            "Title: Departamentos Monte Hermoso\n",
            "Description: CODIGO: 1818-v138 ubicado en: P. Pandeles 654 -  Publicado por: RUSCONI PROPIEDADES. El precio es de ARS 1111111 null. En venta dos departamentos de un dormitorio, un baño, cocina comedor, patio y entrada para auto al frente.Todos los servicios. En muy buenas condiciones. . Publicado a través de Mapaprop\n",
            "Rooms: nan\n",
            "Floor: nan\n",
            "Price: 62315.19\n",
            "\n",
            "\n",
            "Index: 12589\n",
            "Title: DEPARTAMENTOS 1 DORMITORIO CODIGO IV  FRENTE PATIO\n",
            "Description: Corredor Responsable: Sebastian Pellegrini - CI Mat N° 571Contacto: Marisa Esther Pacheco - MLS ID # 420031005-332VENTA - Excelente Departamento de un dormitorio con patio de 62m2. ubicado Sobre Calle Rodriguez;  a pocas cuadras de Bv. Oroño y Av. Pellegrini.   Próximo a Facultades UAI- UCA. Tribunales. Primera Calidad Constructiva. Todas las unidades con balcón.   Posibilidad de Cochera.  FECHA ESTIMADA DE ENTREGA DICIEMBRE 2017.   Financiación entrega y cuotas.  \n",
            "Rooms: 2.0\n",
            "Floor: nan\n",
            "Price: nan\n",
            "\n",
            "\n",
            "Index: 12641\n",
            "Title: VENTA COMPLEJO DE DEPARTAMENTOS BARRIO 9 DE JULIO\n",
            "Description: Corredor Responsable: Martin Eguiazu - C.C.I. Santa Fe Mat Nº 0179Contacto: Gabriel Airaudo - MLS ID # 420311028-101Se venden departamentos ubicados en calle 25 de mayo al 600. Compuestos por estar comedor, baño, 1 dormitorio y patio. Aberturas línea Modena, termotanque eléctrico Longvie, sanitarios y griferías de primera calidad, bajo mesada y alacena. A pasos de facultad UCES, colegio, supermercado, arterias principales de la ciudad. Entrega 50% y resto en 24 cuotas. CONTADO 10% DESCUENTO Tiempo de obra 24 meses. OPORTUNIDAD!!!  Martillero: Martín Eguiazu CCI Santa Fe Matrícula Nº 0179 \n",
            "Rooms: 2.0\n",
            "Floor: nan\n",
            "Price: nan\n",
            "\n",
            "\n",
            "Index: 12646\n",
            "Title: Cuatro Departamentos en Las Gaviotas\n",
            "Description: Corredor Responsable: Daniel Aibe - CMCPD 1155Contacto: Mario Bordeira - MLS ID # 420351015-183Cuatro impecables departamentos de 50 mt2 c/u de 3 ambientes en dos módulos con todos los servicios y equipados a 6 cuadras del mar a 1 cuadra de Mar de las Pampas Muy buena renta en temporada  Gas envasado, riego, alarma Se puede otorgar una pequeña financiación y/o permutas en zona de Berazategui  Las Gaviotas tiene sus orígenes en 1810, al mismo tiempo que Mar de las Pampas, cuando el doctor Manuel Rico le vendió ambos loteos, que eran parte de Mar Azul a Ricardo B. Astengo Morando, quien fallecería años más tarde. Se hicieron trabajos de forestación pero recién en 1976 comenzó la urbanización, de la mano del doctor Rico, Jorge Vázquez y la empresa Di Tulio.\n",
            "Rooms: 8.0\n",
            "Floor: nan\n",
            "Price: 310000.0\n",
            "\n",
            "\n",
            "Index: 12651\n",
            "Title: Venta. Departamentos en pozo de 2 y 3 ambientes. Punta Mogotes, Mar del Plata\n",
            "Description: Ubicados en la mejor zona de Mogotes. Cerca de Havanna, de El Pato, Via Apia. A 5 cuadras del centro comercial de calle Puán.  Derecho a la bajada del balneario 9 El Carmen.Excelente desarrollo en pozo en la mejor zona de Punta Mogotes. Edificio de moderno diseño de 7 pisos con departamentos de 2 y 3 ambientes con medidas variantes de 50 a 100 metros cuadrados.Se trata de una inigualable propuesta en relación precio / calidad / ubicación. Cada unidad se compone por amplios living comedor con cocinas incorporadas con o sin barras; dormitorios al frente con placard, principal en suite. Baño completo con box de ducha.Balcones al frente y al contrafrente, donde en estos últimos se dispondrá de parrillas individuales.Gran calidad en materiales de construcción y terminación: Circuito cerrado de cámaras, cerraduras electrónicas en unidades, aberturas termoacústicas,  paredes de ladrillo con doble emplacado, pisos en porcelanato y madera natural, calefacción central, mobiliario de diseño exclusivo, carpinteria a medida, artefactos sanitarios y griferías de categoría, doble cortinado roller\n",
            "Rooms: nan\n",
            "Floor: nan\n",
            "Price: 84500.0\n",
            "\n",
            "\n",
            "Index: 12704\n",
            "Title: PRE VENTA Exclusivos departamentos SYRAH   pozo en Pilar zona La Masia desde 30.000 dolares \n",
            "Description: entrega prevista septiembre 2018SEGUNDO MARZO 2019TERCER MARZO 2020OBRAS COMIENZAN EN MARZO 2017PRE VENTAVenta de Departamento 1 AMBIENTE en Pilar Lanzamiento Syrah Pilar Excelente oportunidad en PRE VENTA. El complejo está conformado con 3 bloques de 3 pisos cada uno con amplias zonas verdes. Departamentos de 1 y 2 ambientes en una ubicación inmejorable a 400 mts de Panamericana km 48,5 sobre calle Chacabuco. Seguridad 24 hs, 2 Piletas y SUM/Gimnasio. Cocheras descubiertas individuales y de cortesía. Entrega prevista Primer Bloque para Septiembre 2018 Segundo Bloque para Marzo de 2019, Tercer Bloque Marzo 2020. Martillero y corredor público: Paola Pettinato (Mat.CMCPSI 6246 Libro 9 Folio 330) Puerta Norte II – Del Caminante 30, Of 132, Nordelta, 1670, Buenos Aires - \n",
            "Rooms: 1.0\n",
            "Floor: nan\n",
            "Price: 40000.0\n",
            "\n",
            "\n"
          ]
        }
      ],
      "source": [
        "# busco publicaciones que tengan palabras que sugieran publicaciones de tipo lote de multiples propiedades, las cual no nos interesa ya que contaminan el dataset\n",
        "search_strings = [\"unidades\", \"departamentos\", \" uds\", \"deptos\"]\n",
        "\n",
        "# Concatenate the title and description columns and convert them to lowercase for case-insensitive search\n",
        "title_lower = properatti_df['title'].str.lower()\n",
        "\n",
        "# Creo mascara para detectar si la columna title tiene alguna de mis palabras a buscar\n",
        "mask_search_string = title_lower.str.contains('|'.join(search_strings))\n",
        "\n",
        "# Filter the DataFrame based on the mask\n",
        "multiple_filter_df = properatti_df[mask_search_string]\n",
        "\n",
        "# imprimo las primeras 100 descripciones de entries que cumplan mi mascara para analizarlas\n",
        "row_iterator=0\n",
        "for index, row in multiple_filter_df.iterrows():\n",
        "  if row_iterator>100:\n",
        "    break\n",
        "  print(f\"Index: {index}\\nTitle: {row['title']}\\nDescription: {row['description']}\\nRooms: {row['rooms']}\\nFloor: {row['floor']}\\nPrice: {row['price_aprox_usd']}\\n\\n\")\n",
        "  row_iterator+=1\n"
      ]
    },
    {
      "cell_type": "code",
      "execution_count": 22,
      "metadata": {
        "id": "CIbp_SIvikFN"
      },
      "outputs": [
        {
          "name": "stdout",
          "output_type": "stream",
          "text": [
            "1313\n"
          ]
        }
      ],
      "source": [
        "print(multiple_filter_df.shape[0])"
      ]
    },
    {
      "cell_type": "markdown",
      "metadata": {
        "id": "WiG9riyjil02"
      },
      "source": [
        "Vemos que la mayoria de estas entries son efectivamente publicaciones de pozo, o de multiples departamentos a la vez, y al ver que son 1313, decidimos retirarlas del Dataframe sobre el cual trabajaremos"
      ]
    },
    {
      "cell_type": "code",
      "execution_count": 23,
      "metadata": {
        "id": "Ta12n_y2jE2o"
      },
      "outputs": [
        {
          "name": "stdout",
          "output_type": "stream",
          "text": [
            "119907\n"
          ]
        }
      ],
      "source": [
        "properatti_df = properatti_df[~mask_search_string]\n",
        "print(properatti_df.shape[0])"
      ]
    },
    {
      "cell_type": "markdown",
      "metadata": {
        "id": "9SdCvlDl_kCd"
      },
      "source": [
        "# Rooms"
      ]
    },
    {
      "cell_type": "code",
      "execution_count": 24,
      "metadata": {
        "id": "0c0538a4"
      },
      "outputs": [],
      "source": [
        "#paso a lowercase las columnas a analizar\n",
        "properatti_df['description'] = properatti_df['description'].str.lower()\n",
        "properatti_df['title'] = properatti_df['title'].str.lower()\n"
      ]
    },
    {
      "cell_type": "markdown",
      "metadata": {
        "id": "ccd90684"
      },
      "source": [
        "<h1>VEMOS 73830 DATOS NO VALIDOS</h1>"
      ]
    },
    {
      "cell_type": "code",
      "execution_count": 25,
      "metadata": {
        "id": "270cba4b"
      },
      "outputs": [
        {
          "name": "stdout",
          "output_type": "stream",
          "text": [
            "73156\n",
            "73156\n"
          ]
        }
      ],
      "source": [
        "filtered_df = properatti_df[(properatti_df['rooms'].isnull())]\n",
        "\n",
        "# Filtramos los datos no validos\n",
        "print(filtered_df.shape[0])\n",
        "print(filtered_df['rooms'].isnull().sum())"
      ]
    },
    {
      "cell_type": "code",
      "execution_count": 26,
      "metadata": {
        "id": "6c312971"
      },
      "outputs": [],
      "source": [
        "pattern_space_between = re.compile(r'(\\d+)\\s*amb')\n",
        "pattern_space_after_dot = re.compile(r'\\.(?!\\s)')\n",
        "def remove_whitespace_between_number_and_amb(text):\n",
        "    # Define a regular expression pattern to match \"<number> amb\" with optional white spaces\n",
        "\n",
        "\n",
        "    result = re.sub(pattern_space_after_dot, '. ', text)\n",
        "    # Use re.sub to replace matched patterns with \"<number>amb\"\n",
        "    result = re.sub(pattern_space_between, r'\\1amb', result)\n",
        "\n",
        "    return result\n",
        "\n",
        "\n",
        "\n",
        "#definimos funcion para reemplazar palabras\n",
        "def replace_words_in_column(df, column_name, word_replacements):\n",
        "    for word, replacement in word_replacements:\n",
        "        df[column_name] = df[column_name].str.replace(rf'{word}', str(replacement))\n",
        "\n",
        "    return df\n",
        "\n",
        "# definimos funcion para extraer numero\n",
        "def extract_substring(text, regex_pattern):\n",
        "  matches = re.findall(regex_pattern, text)\n",
        "\n",
        "  if matches:\n",
        "    numbers = [int(n) for n in matches if int(n)<15]\n",
        "\n",
        "    if numbers:\n",
        "      return max(numbers)\n",
        "    else:\n",
        "      return \"\"\n",
        "  else:\n",
        "    return \"\""
      ]
    },
    {
      "cell_type": "code",
      "execution_count": 27,
      "metadata": {
        "id": "M7WU2KsTQWAm"
      },
      "outputs": [
        {
          "name": "stdout",
          "output_type": "stream",
          "text": [
            "3. 2amb, 8ambasdlk 9 2amb\n"
          ]
        }
      ],
      "source": [
        "print(remove_whitespace_between_number_and_amb(\"3.2 amb, 8 ambasdlk 9 2 amb\"))"
      ]
    },
    {
      "cell_type": "code",
      "execution_count": 28,
      "metadata": {
        "id": "41f2d6d1"
      },
      "outputs": [
        {
          "name": "stderr",
          "output_type": "stream",
          "text": [
            "/var/folders/cv/c6ctbt612w9_hm1ltt9l68vc0000gn/T/ipykernel_55149/1050586170.py:18: SettingWithCopyWarning: \n",
            "A value is trying to be set on a copy of a slice from a DataFrame.\n",
            "Try using .loc[row_indexer,col_indexer] = value instead\n",
            "\n",
            "See the caveats in the documentation: https://pandas.pydata.org/pandas-docs/stable/user_guide/indexing.html#returning-a-view-versus-a-copy\n",
            "  df[column_name] = df[column_name].str.replace(rf'{word}', str(replacement))\n",
            "/var/folders/cv/c6ctbt612w9_hm1ltt9l68vc0000gn/T/ipykernel_55149/2833574507.py:17: SettingWithCopyWarning: \n",
            "A value is trying to be set on a copy of a slice from a DataFrame.\n",
            "Try using .loc[row_indexer,col_indexer] = value instead\n",
            "\n",
            "See the caveats in the documentation: https://pandas.pydata.org/pandas-docs/stable/user_guide/indexing.html#returning-a-view-versus-a-copy\n",
            "  filtered_df['title'] = filtered_df['title'].apply(lambda x: remove_whitespace_between_number_and_amb(x))\n",
            "/var/folders/cv/c6ctbt612w9_hm1ltt9l68vc0000gn/T/ipykernel_55149/2833574507.py:22: SettingWithCopyWarning: \n",
            "A value is trying to be set on a copy of a slice from a DataFrame.\n",
            "Try using .loc[row_indexer,col_indexer] = value instead\n",
            "\n",
            "See the caveats in the documentation: https://pandas.pydata.org/pandas-docs/stable/user_guide/indexing.html#returning-a-view-versus-a-copy\n",
            "  filtered_df['description'] = filtered_df['description'].apply(str).apply(lambda x: remove_whitespace_between_number_and_amb(x))\n"
          ]
        }
      ],
      "source": [
        "#definimos las palabras a reemplazar\n",
        "word_replacements = [\n",
        "    ('un', 1),\n",
        "    ('mono', 1),\n",
        "    ('dos', 2),\n",
        "    ('tres', 3),\n",
        "    ('cuatro', 4),\n",
        "    ('cinco', 5),\n",
        "    ('seis', 6),\n",
        "    ('siete', 7),\n",
        "    ('ocho', 8),\n",
        "    ('nueve', 9)\n",
        "]\n",
        "#aplicamos nuestro filtro a title\n",
        "filtered_df = replace_words_in_column(filtered_df,\"title\",word_replacements)\n",
        "#aplicamos la remocion de whitespaces entre numeros y amb\n",
        "filtered_df['title'] = filtered_df['title'].apply(lambda x: remove_whitespace_between_number_and_amb(x))\n",
        "\n",
        "#aplicamos nuestro filtro a description\n",
        "filtered_df = replace_words_in_column(filtered_df,\"description\",word_replacements)\n",
        "#aplicamos la remocion de whitespaces entre numeros y amb\n",
        "filtered_df['description'] = filtered_df['description'].apply(str).apply(lambda x: remove_whitespace_between_number_and_amb(x))\n"
      ]
    },
    {
      "cell_type": "markdown",
      "metadata": {
        "id": "89ff52a8"
      },
      "source": [
        "<h1>Normalizamos title para que contenga {numero}amb</h1>"
      ]
    },
    {
      "cell_type": "code",
      "execution_count": 29,
      "metadata": {
        "id": "28f7696b"
      },
      "outputs": [
        {
          "name": "stderr",
          "output_type": "stream",
          "text": [
            "/var/folders/cv/c6ctbt612w9_hm1ltt9l68vc0000gn/T/ipykernel_55149/2104243757.py:4: SettingWithCopyWarning: \n",
            "A value is trying to be set on a copy of a slice from a DataFrame.\n",
            "Try using .loc[row_indexer,col_indexer] = value instead\n",
            "\n",
            "See the caveats in the documentation: https://pandas.pydata.org/pandas-docs/stable/user_guide/indexing.html#returning-a-view-versus-a-copy\n",
            "  filtered_df['title_short'] = filtered_df['title'].apply(lambda x: extract_substring(x, pattern))\n"
          ]
        },
        {
          "name": "stdout",
          "output_type": "stream",
          "text": [
            "(73156, 26)\n"
          ]
        },
        {
          "name": "stderr",
          "output_type": "stream",
          "text": [
            "/var/folders/cv/c6ctbt612w9_hm1ltt9l68vc0000gn/T/ipykernel_55149/2104243757.py:5: SettingWithCopyWarning: \n",
            "A value is trying to be set on a copy of a slice from a DataFrame.\n",
            "Try using .loc[row_indexer,col_indexer] = value instead\n",
            "\n",
            "See the caveats in the documentation: https://pandas.pydata.org/pandas-docs/stable/user_guide/indexing.html#returning-a-view-versus-a-copy\n",
            "  filtered_df['description_short'] = filtered_df['description'].apply(lambda x: extract_substring(x, pattern))\n"
          ]
        }
      ],
      "source": [
        "#pattern para encontrar{numero}amb\n",
        "pattern = re.compile(r'(\\d+)amb')\n",
        "\n",
        "filtered_df['title_short'] = filtered_df['title'].apply(lambda x: extract_substring(x, pattern))\n",
        "filtered_df['description_short'] = filtered_df['description'].apply(lambda x: extract_substring(x, pattern))\n",
        "print(filtered_df.shape)"
      ]
    },
    {
      "cell_type": "code",
      "execution_count": 30,
      "metadata": {
        "id": "1c1c41c2"
      },
      "outputs": [
        {
          "name": "stderr",
          "output_type": "stream",
          "text": [
            "/var/folders/cv/c6ctbt612w9_hm1ltt9l68vc0000gn/T/ipykernel_55149/4292333989.py:1: SettingWithCopyWarning: \n",
            "A value is trying to be set on a copy of a slice from a DataFrame.\n",
            "Try using .loc[row_indexer,col_indexer] = value instead\n",
            "\n",
            "See the caveats in the documentation: https://pandas.pydata.org/pandas-docs/stable/user_guide/indexing.html#returning-a-view-versus-a-copy\n",
            "  filtered_df['title_short'] = pd.to_numeric(filtered_df['title_short'], errors='coerce')\n",
            "/var/folders/cv/c6ctbt612w9_hm1ltt9l68vc0000gn/T/ipykernel_55149/4292333989.py:2: SettingWithCopyWarning: \n",
            "A value is trying to be set on a copy of a slice from a DataFrame.\n",
            "Try using .loc[row_indexer,col_indexer] = value instead\n",
            "\n",
            "See the caveats in the documentation: https://pandas.pydata.org/pandas-docs/stable/user_guide/indexing.html#returning-a-view-versus-a-copy\n",
            "  filtered_df['description_short'] = pd.to_numeric(filtered_df['description_short'], errors='coerce')\n",
            "/var/folders/cv/c6ctbt612w9_hm1ltt9l68vc0000gn/T/ipykernel_55149/4292333989.py:3: SettingWithCopyWarning: \n",
            "A value is trying to be set on a copy of a slice from a DataFrame.\n",
            "Try using .loc[row_indexer,col_indexer] = value instead\n",
            "\n",
            "See the caveats in the documentation: https://pandas.pydata.org/pandas-docs/stable/user_guide/indexing.html#returning-a-view-versus-a-copy\n",
            "  filtered_df['rooms'] = filtered_df['rooms'].combine_first(filtered_df['title_short'])\n",
            "/var/folders/cv/c6ctbt612w9_hm1ltt9l68vc0000gn/T/ipykernel_55149/4292333989.py:4: SettingWithCopyWarning: \n",
            "A value is trying to be set on a copy of a slice from a DataFrame.\n",
            "Try using .loc[row_indexer,col_indexer] = value instead\n",
            "\n",
            "See the caveats in the documentation: https://pandas.pydata.org/pandas-docs/stable/user_guide/indexing.html#returning-a-view-versus-a-copy\n",
            "  filtered_df['rooms'] = filtered_df['rooms'].combine_first(filtered_df['description_short'])\n"
          ]
        }
      ],
      "source": [
        "filtered_df['title_short'] = pd.to_numeric(filtered_df['title_short'], errors='coerce')\n",
        "filtered_df['description_short'] = pd.to_numeric(filtered_df['description_short'], errors='coerce')\n",
        "filtered_df['rooms'] = filtered_df['rooms'].combine_first(filtered_df['title_short'])\n",
        "filtered_df['rooms'] = filtered_df['rooms'].combine_first(filtered_df['description_short'])\n"
      ]
    },
    {
      "cell_type": "code",
      "execution_count": 31,
      "metadata": {
        "id": "d3c980f5"
      },
      "outputs": [
        {
          "name": "stdout",
          "output_type": "stream",
          "text": [
            "rooms\n",
            "2.0     7864\n",
            "3.0     7626\n",
            "1.0     5893\n",
            "4.0     4590\n",
            "5.0     1488\n",
            "6.0      426\n",
            "7.0      160\n",
            "8.0       34\n",
            "9.0       17\n",
            "11.0       8\n",
            "10.0       8\n",
            "14.0       4\n",
            "12.0       3\n",
            "Name: count, dtype: int64\n"
          ]
        }
      ],
      "source": [
        "value_counts = filtered_df['rooms'].value_counts()\n",
        "print(value_counts)"
      ]
    },
    {
      "cell_type": "code",
      "execution_count": 32,
      "metadata": {
        "id": "VgSe-ebdMhij"
      },
      "outputs": [
        {
          "name": "stdout",
          "output_type": "stream",
          "text": [
            "Series([], Name: count, dtype: int64)\n"
          ]
        }
      ],
      "source": [
        "# Filter dataframe\n",
        "filtered_df_rooms = filtered_df[filtered_df['rooms'] == 20172.0]\n",
        "value_counts = filtered_df_rooms['rooms'].value_counts()\n",
        "print(value_counts)\n",
        "\n",
        "for description in filtered_df_rooms['description']:\n",
        "    print(description)"
      ]
    },
    {
      "cell_type": "code",
      "execution_count": 33,
      "metadata": {
        "id": "9309be19"
      },
      "outputs": [
        {
          "name": "stdout",
          "output_type": "stream",
          "text": [
            "45035\n",
            "45035\n",
            "rooms\n",
            "2.0     7864\n",
            "3.0     7626\n",
            "1.0     5893\n",
            "4.0     4590\n",
            "5.0     1488\n",
            "6.0      426\n",
            "7.0      160\n",
            "8.0       34\n",
            "9.0       17\n",
            "11.0       8\n",
            "10.0       8\n",
            "14.0       4\n",
            "12.0       3\n",
            "Name: count, dtype: int64\n"
          ]
        }
      ],
      "source": [
        "print(filtered_df['rooms'].isnull().sum())\n",
        "filtered_df.loc[filtered_df['rooms'] > 30, 'rooms'] = np.nan\n",
        "print(filtered_df['rooms'].isnull().sum())\n",
        "value_counts = filtered_df['rooms'].value_counts()\n",
        "print(value_counts)"
      ]
    },
    {
      "cell_type": "markdown",
      "metadata": {
        "id": "C6Qw5lLMNHR-"
      },
      "source": [
        "# Ubicaciones (Juan)"
      ]
    },
    {
      "cell_type": "code",
      "execution_count": 34,
      "metadata": {
        "id": "cxE5rWCxiMek"
      },
      "outputs": [
        {
          "data": {
            "text/html": [
              "<div>\n",
              "<style scoped>\n",
              "    .dataframe tbody tr th:only-of-type {\n",
              "        vertical-align: middle;\n",
              "    }\n",
              "\n",
              "    .dataframe tbody tr th {\n",
              "        vertical-align: top;\n",
              "    }\n",
              "\n",
              "    .dataframe thead th {\n",
              "        text-align: right;\n",
              "    }\n",
              "</style>\n",
              "<table border=\"1\" class=\"dataframe\">\n",
              "  <thead>\n",
              "    <tr style=\"text-align: right;\">\n",
              "      <th></th>\n",
              "      <th>title</th>\n",
              "      <th>geonames_id</th>\n",
              "      <th>lat</th>\n",
              "      <th>lon</th>\n",
              "      <th>lat-lon</th>\n",
              "    </tr>\n",
              "  </thead>\n",
              "  <tbody>\n",
              "    <tr>\n",
              "      <th>0</th>\n",
              "      <td>2 amb tipo casa sin expensas en pb</td>\n",
              "      <td>3430787.0</td>\n",
              "      <td>-34.661824</td>\n",
              "      <td>-58.508839</td>\n",
              "      <td>-34.6618237,-58.5088387</td>\n",
              "    </tr>\n",
              "    <tr>\n",
              "      <th>1</th>\n",
              "      <td>venta depto 2 dorm. a estrenar 7 e/ 36 y 37   ...</td>\n",
              "      <td>3432039.0</td>\n",
              "      <td>-34.903883</td>\n",
              "      <td>-57.964330</td>\n",
              "      <td>-34.9038831,-57.9643295</td>\n",
              "    </tr>\n",
              "    <tr>\n",
              "      <th>2</th>\n",
              "      <td>2 amb 3er piso con ascensor apto credito</td>\n",
              "      <td>3430787.0</td>\n",
              "      <td>-34.652262</td>\n",
              "      <td>-58.522982</td>\n",
              "      <td>-34.6522615,-58.5229825</td>\n",
              "    </tr>\n",
              "    <tr>\n",
              "      <th>3</th>\n",
              "      <td>ph 3 amb. cfte. reciclado</td>\n",
              "      <td>3431333.0</td>\n",
              "      <td>-34.647797</td>\n",
              "      <td>-58.516424</td>\n",
              "      <td>-34.6477969,-58.5164244</td>\n",
              "    </tr>\n",
              "    <tr>\n",
              "      <th>4</th>\n",
              "      <td>depto 2 amb al contrafrente zona centro/plaza ...</td>\n",
              "      <td>3435548.0</td>\n",
              "      <td>-38.002626</td>\n",
              "      <td>-57.549447</td>\n",
              "      <td>-38.0026256,-57.5494468</td>\n",
              "    </tr>\n",
              "    <tr>\n",
              "      <th>...</th>\n",
              "      <td>...</td>\n",
              "      <td>...</td>\n",
              "      <td>...</td>\n",
              "      <td>...</td>\n",
              "      <td>...</td>\n",
              "    </tr>\n",
              "    <tr>\n",
              "      <th>121215</th>\n",
              "      <td>torre forum alcorta- impecable 3 ambientes</td>\n",
              "      <td>3436077.0</td>\n",
              "      <td>NaN</td>\n",
              "      <td>NaN</td>\n",
              "      <td>NaN</td>\n",
              "    </tr>\n",
              "    <tr>\n",
              "      <th>121216</th>\n",
              "      <td>ruca inmuebles | venta | lomas de san isidro |...</td>\n",
              "      <td>3436080.0</td>\n",
              "      <td>NaN</td>\n",
              "      <td>NaN</td>\n",
              "      <td>NaN</td>\n",
              "    </tr>\n",
              "    <tr>\n",
              "      <th>121217</th>\n",
              "      <td>venta departamento ambiente divisible a estren...</td>\n",
              "      <td>3433775.0</td>\n",
              "      <td>-34.570639</td>\n",
              "      <td>-58.475596</td>\n",
              "      <td>-34.5706388726,-58.4755963355</td>\n",
              "    </tr>\n",
              "    <tr>\n",
              "      <th>121218</th>\n",
              "      <td>2 amb. c/ dep. de servicio al contrafrente| re...</td>\n",
              "      <td>NaN</td>\n",
              "      <td>NaN</td>\n",
              "      <td>NaN</td>\n",
              "      <td>NaN</td>\n",
              "    </tr>\n",
              "    <tr>\n",
              "      <th>121219</th>\n",
              "      <td>departamento apto profesional en el centro</td>\n",
              "      <td>3433955.0</td>\n",
              "      <td>NaN</td>\n",
              "      <td>NaN</td>\n",
              "      <td>NaN</td>\n",
              "    </tr>\n",
              "  </tbody>\n",
              "</table>\n",
              "<p>119907 rows × 5 columns</p>\n",
              "</div>"
            ],
            "text/plain": [
              "                                                    title  geonames_id  \\\n",
              "0                      2 amb tipo casa sin expensas en pb    3430787.0   \n",
              "1       venta depto 2 dorm. a estrenar 7 e/ 36 y 37   ...    3432039.0   \n",
              "2                2 amb 3er piso con ascensor apto credito    3430787.0   \n",
              "3                            ph 3 amb. cfte. reciclado       3431333.0   \n",
              "4       depto 2 amb al contrafrente zona centro/plaza ...    3435548.0   \n",
              "...                                                   ...          ...   \n",
              "121215         torre forum alcorta- impecable 3 ambientes    3436077.0   \n",
              "121216  ruca inmuebles | venta | lomas de san isidro |...    3436080.0   \n",
              "121217  venta departamento ambiente divisible a estren...    3433775.0   \n",
              "121218  2 amb. c/ dep. de servicio al contrafrente| re...          NaN   \n",
              "121219         departamento apto profesional en el centro    3433955.0   \n",
              "\n",
              "              lat        lon                        lat-lon  \n",
              "0      -34.661824 -58.508839        -34.6618237,-58.5088387  \n",
              "1      -34.903883 -57.964330        -34.9038831,-57.9643295  \n",
              "2      -34.652262 -58.522982        -34.6522615,-58.5229825  \n",
              "3      -34.647797 -58.516424        -34.6477969,-58.5164244  \n",
              "4      -38.002626 -57.549447        -38.0026256,-57.5494468  \n",
              "...           ...        ...                            ...  \n",
              "121215        NaN        NaN                            NaN  \n",
              "121216        NaN        NaN                            NaN  \n",
              "121217 -34.570639 -58.475596  -34.5706388726,-58.4755963355  \n",
              "121218        NaN        NaN                            NaN  \n",
              "121219        NaN        NaN                            NaN  \n",
              "\n",
              "[119907 rows x 5 columns]"
            ]
          },
          "execution_count": 34,
          "metadata": {},
          "output_type": "execute_result"
        }
      ],
      "source": [
        "# En el dataframe properatti_df, la informacion relevante para limpiar relacionada a la geografia esta distribuida en 4 columnas:\n",
        "  # geonames_id, lat,\tlon, y\tlat-lon\n",
        "\n",
        "# Se limpiarán los datos relacionados a la geografia, con el objetivo de:\n",
        "  # poder graficar cada propiedad como un punto en un mapa. El mapa puede ser de todo el pais, por provincia o por region.\n",
        "  # poder utilizar datos geograficos para realizar analisis exploratorios (ej., histograma de precios por ciudad, provincia, etc.)\n",
        "\n",
        "# la estrategia para limpiar la geografia va a ser:\n",
        "  # Imputar en la medida de lo posible la informacion de ubicación geografica (latitud y longitud) sobre las columnas 'lat' y 'lon' para todas las propiedades.\n",
        "  # cuando no haya informacion en estos campos, tratar de recolectarla del geodataframe 'DATA_GEONAMES' (https://www.geonames.org/countries/AR/argentina.html)\n",
        "    # Esto se hara de dos maneras:\n",
        "      # la primera, trayendo la informacion de latitud y longitud de DATA_GEONAMES que coincida con el identificador de geonames de la propiedad.\n",
        "      # Cuando esto no sea posible, se entrecruzará la informacion de ciudad o provincia de cada propiedad con la del dataframe DATA_GEONAMES, para traer la informacion de lat y lon correspondiente.\n",
        "      # (esto es una aproximacion, ya que para cada propiedad, los valores de latitud y longitud seran los de la ciudad o provincia correspondiente)\n",
        "    # Para esto, se limpiará la columna 'place_with_parent_names', y la información se distribuirá en cuatro columnas nuevas:\n",
        "      # provincia, partido, ciudad y barrio.\n",
        "\n",
        "properatti_df[['title','geonames_id','lat','lon', 'lat-lon']]"
      ]
    },
    {
      "cell_type": "code",
      "execution_count": 35,
      "metadata": {
        "id": "S-0RuEcyD_2k"
      },
      "outputs": [
        {
          "name": "stderr",
          "output_type": "stream",
          "text": [
            "/var/folders/cv/c6ctbt612w9_hm1ltt9l68vc0000gn/T/ipykernel_55149/3730548221.py:8: FutureWarning: The geopandas.dataset module is deprecated and will be removed in GeoPandas 1.0. You can get the original 'naturalearth_lowres' data from https://www.naturalearthdata.com/downloads/110m-cultural-vectors/.\n",
            "  mundo = gpd.read_file(gpd.datasets.get_path(\"naturalearth_lowres\"))\n"
          ]
        },
        {
          "data": {
            "text/html": [
              "<div>\n",
              "<style scoped>\n",
              "    .dataframe tbody tr th:only-of-type {\n",
              "        vertical-align: middle;\n",
              "    }\n",
              "\n",
              "    .dataframe tbody tr th {\n",
              "        vertical-align: top;\n",
              "    }\n",
              "\n",
              "    .dataframe thead th {\n",
              "        text-align: right;\n",
              "    }\n",
              "</style>\n",
              "<table border=\"1\" class=\"dataframe\">\n",
              "  <thead>\n",
              "    <tr style=\"text-align: right;\">\n",
              "      <th></th>\n",
              "      <th>gid</th>\n",
              "      <th>entidad</th>\n",
              "      <th>fna</th>\n",
              "      <th>gna</th>\n",
              "      <th>nam</th>\n",
              "      <th>in1</th>\n",
              "      <th>fdc</th>\n",
              "      <th>sag</th>\n",
              "      <th>geometry</th>\n",
              "    </tr>\n",
              "  </thead>\n",
              "  <tbody>\n",
              "    <tr>\n",
              "      <th>0</th>\n",
              "      <td>1</td>\n",
              "      <td>0</td>\n",
              "      <td>Ciudad Autónoma de Buenos Aires</td>\n",
              "      <td>Ciudad Autónoma</td>\n",
              "      <td>Ciudad Autónoma de Buenos Aires</td>\n",
              "      <td>02</td>\n",
              "      <td>Geografía</td>\n",
              "      <td>IGN</td>\n",
              "      <td>POLYGON ((-58.45535 -34.52776, -58.45404 -34.5...</td>\n",
              "    </tr>\n",
              "    <tr>\n",
              "      <th>1</th>\n",
              "      <td>2</td>\n",
              "      <td>0</td>\n",
              "      <td>Provincia del Neuquén</td>\n",
              "      <td>Provincia</td>\n",
              "      <td>Neuquén</td>\n",
              "      <td>58</td>\n",
              "      <td>Geografía</td>\n",
              "      <td>IGN</td>\n",
              "      <td>POLYGON ((-70.39341 -36.15624, -70.39333 -36.1...</td>\n",
              "    </tr>\n",
              "    <tr>\n",
              "      <th>2</th>\n",
              "      <td>3</td>\n",
              "      <td>0</td>\n",
              "      <td>Provincia de San Luis</td>\n",
              "      <td>Provincia</td>\n",
              "      <td>San Luis</td>\n",
              "      <td>74</td>\n",
              "      <td>Geografía</td>\n",
              "      <td>IGN</td>\n",
              "      <td>POLYGON ((-67.05547 -31.85605, -67.05000 -31.8...</td>\n",
              "    </tr>\n",
              "    <tr>\n",
              "      <th>3</th>\n",
              "      <td>4</td>\n",
              "      <td>0</td>\n",
              "      <td>Provincia de Santa Fe</td>\n",
              "      <td>Provincia</td>\n",
              "      <td>Santa Fe</td>\n",
              "      <td>82</td>\n",
              "      <td>Geografía</td>\n",
              "      <td>IGN</td>\n",
              "      <td>POLYGON ((-61.04639 -27.99800, -61.00805 -27.9...</td>\n",
              "    </tr>\n",
              "    <tr>\n",
              "      <th>4</th>\n",
              "      <td>5</td>\n",
              "      <td>0</td>\n",
              "      <td>Provincia de La Rioja</td>\n",
              "      <td>Provincia</td>\n",
              "      <td>La Rioja</td>\n",
              "      <td>46</td>\n",
              "      <td>Geografía</td>\n",
              "      <td>IGN</td>\n",
              "      <td>POLYGON ((-68.52136 -27.81792, -68.52148 -27.8...</td>\n",
              "    </tr>\n",
              "    <tr>\n",
              "      <th>5</th>\n",
              "      <td>6</td>\n",
              "      <td>0</td>\n",
              "      <td>Provincia de Catamarca</td>\n",
              "      <td>Provincia</td>\n",
              "      <td>Catamarca</td>\n",
              "      <td>10</td>\n",
              "      <td>Geografía</td>\n",
              "      <td>IGN</td>\n",
              "      <td>POLYGON ((-68.50537 -25.16851, -68.50386 -25.1...</td>\n",
              "    </tr>\n",
              "    <tr>\n",
              "      <th>6</th>\n",
              "      <td>7</td>\n",
              "      <td>0</td>\n",
              "      <td>Provincia de Tucumán</td>\n",
              "      <td>Provincia</td>\n",
              "      <td>Tucumán</td>\n",
              "      <td>90</td>\n",
              "      <td>Geografía</td>\n",
              "      <td>IGN</td>\n",
              "      <td>POLYGON ((-65.35915 -26.05944, -65.35868 -26.0...</td>\n",
              "    </tr>\n",
              "    <tr>\n",
              "      <th>7</th>\n",
              "      <td>8</td>\n",
              "      <td>0</td>\n",
              "      <td>Provincia del Chaco</td>\n",
              "      <td>Provincia</td>\n",
              "      <td>Chaco</td>\n",
              "      <td>22</td>\n",
              "      <td>Geografía</td>\n",
              "      <td>IGN</td>\n",
              "      <td>POLYGON ((-62.32434 -24.12318, -62.31959 -24.1...</td>\n",
              "    </tr>\n",
              "    <tr>\n",
              "      <th>8</th>\n",
              "      <td>9</td>\n",
              "      <td>0</td>\n",
              "      <td>Provincia de Formosa</td>\n",
              "      <td>Provincia</td>\n",
              "      <td>Formosa</td>\n",
              "      <td>34</td>\n",
              "      <td>Geografía</td>\n",
              "      <td>IGN</td>\n",
              "      <td>POLYGON ((-62.31201 -22.48666, -62.31056 -22.4...</td>\n",
              "    </tr>\n",
              "    <tr>\n",
              "      <th>9</th>\n",
              "      <td>10</td>\n",
              "      <td>0</td>\n",
              "      <td>Provincia de Santa Cruz</td>\n",
              "      <td>Provincia</td>\n",
              "      <td>Santa Cruz</td>\n",
              "      <td>78</td>\n",
              "      <td>Geografía</td>\n",
              "      <td>IGN</td>\n",
              "      <td>MULTIPOLYGON (((-67.59361 -46.01744, -67.59357...</td>\n",
              "    </tr>\n",
              "    <tr>\n",
              "      <th>10</th>\n",
              "      <td>11</td>\n",
              "      <td>0</td>\n",
              "      <td>Provincia del Chubut</td>\n",
              "      <td>Provincia</td>\n",
              "      <td>Chubut</td>\n",
              "      <td>26</td>\n",
              "      <td>Geografía</td>\n",
              "      <td>IGN</td>\n",
              "      <td>MULTIPOLYGON (((-67.75057 -41.99999, -67.50038...</td>\n",
              "    </tr>\n",
              "    <tr>\n",
              "      <th>11</th>\n",
              "      <td>12</td>\n",
              "      <td>0</td>\n",
              "      <td>Provincia de Mendoza</td>\n",
              "      <td>Provincia</td>\n",
              "      <td>Mendoza</td>\n",
              "      <td>50</td>\n",
              "      <td>Geografía</td>\n",
              "      <td>IGN</td>\n",
              "      <td>POLYGON ((-70.10797 -32.79905, -70.10773 -32.7...</td>\n",
              "    </tr>\n",
              "    <tr>\n",
              "      <th>12</th>\n",
              "      <td>13</td>\n",
              "      <td>0</td>\n",
              "      <td>Provincia de Entre Ríos</td>\n",
              "      <td>Provincia</td>\n",
              "      <td>Entre Ríos</td>\n",
              "      <td>30</td>\n",
              "      <td>Geografía</td>\n",
              "      <td>IGN</td>\n",
              "      <td>POLYGON ((-58.58534 -30.15902, -58.58449 -30.1...</td>\n",
              "    </tr>\n",
              "    <tr>\n",
              "      <th>13</th>\n",
              "      <td>14</td>\n",
              "      <td>0</td>\n",
              "      <td>Provincia de San Juan</td>\n",
              "      <td>Provincia</td>\n",
              "      <td>San Juan</td>\n",
              "      <td>70</td>\n",
              "      <td>Geografía</td>\n",
              "      <td>IGN</td>\n",
              "      <td>POLYGON ((-70.08109 -30.37927, -70.08100 -30.3...</td>\n",
              "    </tr>\n",
              "    <tr>\n",
              "      <th>14</th>\n",
              "      <td>15</td>\n",
              "      <td>0</td>\n",
              "      <td>Provincia de Jujuy</td>\n",
              "      <td>Provincia</td>\n",
              "      <td>Jujuy</td>\n",
              "      <td>38</td>\n",
              "      <td>Geografía</td>\n",
              "      <td>IGN</td>\n",
              "      <td>POLYGON ((-66.20766 -21.78835, -66.19414 -21.7...</td>\n",
              "    </tr>\n",
              "    <tr>\n",
              "      <th>15</th>\n",
              "      <td>16</td>\n",
              "      <td>0</td>\n",
              "      <td>Provincia de Santiago del Estero</td>\n",
              "      <td>Provincia</td>\n",
              "      <td>Santiago del Estero</td>\n",
              "      <td>86</td>\n",
              "      <td>Geografía</td>\n",
              "      <td>IGN</td>\n",
              "      <td>POLYGON ((-62.37913 -25.65195, -62.35185 -25.6...</td>\n",
              "    </tr>\n",
              "    <tr>\n",
              "      <th>16</th>\n",
              "      <td>17</td>\n",
              "      <td>0</td>\n",
              "      <td>Provincia de Río Negro</td>\n",
              "      <td>Provincia</td>\n",
              "      <td>Río Negro</td>\n",
              "      <td>62</td>\n",
              "      <td>Geografía</td>\n",
              "      <td>IGN</td>\n",
              "      <td>MULTIPOLYGON (((-68.23829 -37.58522, -68.23727...</td>\n",
              "    </tr>\n",
              "    <tr>\n",
              "      <th>17</th>\n",
              "      <td>18</td>\n",
              "      <td>0</td>\n",
              "      <td>Provincia de Corrientes</td>\n",
              "      <td>Provincia</td>\n",
              "      <td>Corrientes</td>\n",
              "      <td>18</td>\n",
              "      <td>Geografía</td>\n",
              "      <td>IGN</td>\n",
              "      <td>MULTIPOLYGON (((-57.01171 -27.48709, -57.00578...</td>\n",
              "    </tr>\n",
              "    <tr>\n",
              "      <th>18</th>\n",
              "      <td>19</td>\n",
              "      <td>0</td>\n",
              "      <td>Provincia de Misiones</td>\n",
              "      <td>Provincia</td>\n",
              "      <td>Misiones</td>\n",
              "      <td>54</td>\n",
              "      <td>Geografía</td>\n",
              "      <td>IGN</td>\n",
              "      <td>MULTIPOLYGON (((-54.10906 -25.53982, -54.11194...</td>\n",
              "    </tr>\n",
              "    <tr>\n",
              "      <th>19</th>\n",
              "      <td>20</td>\n",
              "      <td>0</td>\n",
              "      <td>Provincia de Salta</td>\n",
              "      <td>Provincia</td>\n",
              "      <td>Salta</td>\n",
              "      <td>66</td>\n",
              "      <td>Geografía</td>\n",
              "      <td>IGN</td>\n",
              "      <td>POLYGON ((-63.97873 -22.08606, -63.97916 -22.0...</td>\n",
              "    </tr>\n",
              "    <tr>\n",
              "      <th>20</th>\n",
              "      <td>21</td>\n",
              "      <td>0</td>\n",
              "      <td>Provincia de Córdoba</td>\n",
              "      <td>Provincia</td>\n",
              "      <td>Córdoba</td>\n",
              "      <td>14</td>\n",
              "      <td>Geografía</td>\n",
              "      <td>IGN</td>\n",
              "      <td>POLYGON ((-63.89431 -29.62860, -63.87386 -29.6...</td>\n",
              "    </tr>\n",
              "    <tr>\n",
              "      <th>21</th>\n",
              "      <td>22</td>\n",
              "      <td>0</td>\n",
              "      <td>Provincia de Buenos Aires</td>\n",
              "      <td>Provincia</td>\n",
              "      <td>Buenos Aires</td>\n",
              "      <td>06</td>\n",
              "      <td>Geografía</td>\n",
              "      <td>IGN</td>\n",
              "      <td>MULTIPOLYGON (((-60.24091 -33.27285, -60.22821...</td>\n",
              "    </tr>\n",
              "    <tr>\n",
              "      <th>22</th>\n",
              "      <td>23</td>\n",
              "      <td>0</td>\n",
              "      <td>Provincia de La Pampa</td>\n",
              "      <td>Provincia</td>\n",
              "      <td>La Pampa</td>\n",
              "      <td>42</td>\n",
              "      <td>Geografía</td>\n",
              "      <td>IGN</td>\n",
              "      <td>POLYGON ((-63.38588 -35.01093, -63.38588 -35.0...</td>\n",
              "    </tr>\n",
              "    <tr>\n",
              "      <th>23</th>\n",
              "      <td>24</td>\n",
              "      <td>0</td>\n",
              "      <td>Provincia de Tierra del Fuego, Antártida e Isl...</td>\n",
              "      <td>Provincia</td>\n",
              "      <td>Tierra del Fuego, Antártida e Islas del Atlánt...</td>\n",
              "      <td>94</td>\n",
              "      <td>Geografía</td>\n",
              "      <td>IGN</td>\n",
              "      <td>MULTIPOLYGON (((-25.27443 -75.88101, -25.23634...</td>\n",
              "    </tr>\n",
              "  </tbody>\n",
              "</table>\n",
              "</div>"
            ],
            "text/plain": [
              "    gid  entidad                                                fna  \\\n",
              "0     1        0                    Ciudad Autónoma de Buenos Aires   \n",
              "1     2        0                              Provincia del Neuquén   \n",
              "2     3        0                              Provincia de San Luis   \n",
              "3     4        0                              Provincia de Santa Fe   \n",
              "4     5        0                              Provincia de La Rioja   \n",
              "5     6        0                             Provincia de Catamarca   \n",
              "6     7        0                               Provincia de Tucumán   \n",
              "7     8        0                                Provincia del Chaco   \n",
              "8     9        0                               Provincia de Formosa   \n",
              "9    10        0                            Provincia de Santa Cruz   \n",
              "10   11        0                               Provincia del Chubut   \n",
              "11   12        0                               Provincia de Mendoza   \n",
              "12   13        0                            Provincia de Entre Ríos   \n",
              "13   14        0                              Provincia de San Juan   \n",
              "14   15        0                                 Provincia de Jujuy   \n",
              "15   16        0                   Provincia de Santiago del Estero   \n",
              "16   17        0                             Provincia de Río Negro   \n",
              "17   18        0                            Provincia de Corrientes   \n",
              "18   19        0                              Provincia de Misiones   \n",
              "19   20        0                                 Provincia de Salta   \n",
              "20   21        0                               Provincia de Córdoba   \n",
              "21   22        0                          Provincia de Buenos Aires   \n",
              "22   23        0                              Provincia de La Pampa   \n",
              "23   24        0  Provincia de Tierra del Fuego, Antártida e Isl...   \n",
              "\n",
              "                gna                                                nam in1  \\\n",
              "0   Ciudad Autónoma                    Ciudad Autónoma de Buenos Aires  02   \n",
              "1         Provincia                                            Neuquén  58   \n",
              "2         Provincia                                           San Luis  74   \n",
              "3         Provincia                                           Santa Fe  82   \n",
              "4         Provincia                                           La Rioja  46   \n",
              "5         Provincia                                          Catamarca  10   \n",
              "6         Provincia                                            Tucumán  90   \n",
              "7         Provincia                                              Chaco  22   \n",
              "8         Provincia                                            Formosa  34   \n",
              "9         Provincia                                         Santa Cruz  78   \n",
              "10        Provincia                                             Chubut  26   \n",
              "11        Provincia                                            Mendoza  50   \n",
              "12        Provincia                                         Entre Ríos  30   \n",
              "13        Provincia                                           San Juan  70   \n",
              "14        Provincia                                              Jujuy  38   \n",
              "15        Provincia                                Santiago del Estero  86   \n",
              "16        Provincia                                          Río Negro  62   \n",
              "17        Provincia                                         Corrientes  18   \n",
              "18        Provincia                                           Misiones  54   \n",
              "19        Provincia                                              Salta  66   \n",
              "20        Provincia                                            Córdoba  14   \n",
              "21        Provincia                                       Buenos Aires  06   \n",
              "22        Provincia                                           La Pampa  42   \n",
              "23        Provincia  Tierra del Fuego, Antártida e Islas del Atlánt...  94   \n",
              "\n",
              "          fdc  sag                                           geometry  \n",
              "0   Geografía  IGN  POLYGON ((-58.45535 -34.52776, -58.45404 -34.5...  \n",
              "1   Geografía  IGN  POLYGON ((-70.39341 -36.15624, -70.39333 -36.1...  \n",
              "2   Geografía  IGN  POLYGON ((-67.05547 -31.85605, -67.05000 -31.8...  \n",
              "3   Geografía  IGN  POLYGON ((-61.04639 -27.99800, -61.00805 -27.9...  \n",
              "4   Geografía  IGN  POLYGON ((-68.52136 -27.81792, -68.52148 -27.8...  \n",
              "5   Geografía  IGN  POLYGON ((-68.50537 -25.16851, -68.50386 -25.1...  \n",
              "6   Geografía  IGN  POLYGON ((-65.35915 -26.05944, -65.35868 -26.0...  \n",
              "7   Geografía  IGN  POLYGON ((-62.32434 -24.12318, -62.31959 -24.1...  \n",
              "8   Geografía  IGN  POLYGON ((-62.31201 -22.48666, -62.31056 -22.4...  \n",
              "9   Geografía  IGN  MULTIPOLYGON (((-67.59361 -46.01744, -67.59357...  \n",
              "10  Geografía  IGN  MULTIPOLYGON (((-67.75057 -41.99999, -67.50038...  \n",
              "11  Geografía  IGN  POLYGON ((-70.10797 -32.79905, -70.10773 -32.7...  \n",
              "12  Geografía  IGN  POLYGON ((-58.58534 -30.15902, -58.58449 -30.1...  \n",
              "13  Geografía  IGN  POLYGON ((-70.08109 -30.37927, -70.08100 -30.3...  \n",
              "14  Geografía  IGN  POLYGON ((-66.20766 -21.78835, -66.19414 -21.7...  \n",
              "15  Geografía  IGN  POLYGON ((-62.37913 -25.65195, -62.35185 -25.6...  \n",
              "16  Geografía  IGN  MULTIPOLYGON (((-68.23829 -37.58522, -68.23727...  \n",
              "17  Geografía  IGN  MULTIPOLYGON (((-57.01171 -27.48709, -57.00578...  \n",
              "18  Geografía  IGN  MULTIPOLYGON (((-54.10906 -25.53982, -54.11194...  \n",
              "19  Geografía  IGN  POLYGON ((-63.97873 -22.08606, -63.97916 -22.0...  \n",
              "20  Geografía  IGN  POLYGON ((-63.89431 -29.62860, -63.87386 -29.6...  \n",
              "21  Geografía  IGN  MULTIPOLYGON (((-60.24091 -33.27285, -60.22821...  \n",
              "22  Geografía  IGN  POLYGON ((-63.38588 -35.01093, -63.38588 -35.0...  \n",
              "23  Geografía  IGN  MULTIPOLYGON (((-25.27443 -75.88101, -25.23634...  "
            ]
          },
          "execution_count": 35,
          "metadata": {},
          "output_type": "execute_result"
        }
      ],
      "source": [
        "# importo el Mapa de Argentina CON info por provincias\n",
        "\n",
        "data_location = \"./provincias/provincia.shx\"\n",
        "mapa_argentina = gpd.read_file(data_location)\n",
        "\n",
        "# importo el Mapa (2) de Argentina SIN info por provincias\n",
        "\n",
        "mundo = gpd.read_file(gpd.datasets.get_path(\"naturalearth_lowres\"))\n",
        "mapa_argentina_2 = mundo[mundo.name == \"Argentina\"]\n",
        "\n",
        "mapa_argentina.head(24)"
      ]
    },
    {
      "cell_type": "code",
      "execution_count": 36,
      "metadata": {
        "id": "sj65LIk9D_2k"
      },
      "outputs": [
        {
          "data": {
            "text/plain": [
              "<AxesSubplot:>"
            ]
          },
          "execution_count": 36,
          "metadata": {},
          "output_type": "execute_result"
        },
        {
          "data": {
            "image/png": "[encoded data removed]",
            "text/plain": [
              "<Figure size 640x480 with 1 Axes>"
            ]
          },
          "metadata": {},
          "output_type": "display_data"
        }
      ],
      "source": [
        "# este mapa trae los poligonos de cada provincia.\n",
        "\n",
        "mapa_argentina.plot()"
      ]
    },
    {
      "cell_type": "code",
      "execution_count": 37,
      "metadata": {
        "id": "3DMkMK2XD_2k"
      },
      "outputs": [
        {
          "data": {
            "text/plain": [
              "<AxesSubplot:>"
            ]
          },
          "execution_count": 37,
          "metadata": {},
          "output_type": "execute_result"
        },
        {
          "data": {
            "image/png": "[encoded data removed]",
            "text/plain": [
              "<Figure size 640x480 with 1 Axes>"
            ]
          },
          "metadata": {},
          "output_type": "display_data"
        }
      ],
      "source": [
        "# este mapa no trae info de provincias (mas practico para ploteo general de todas las propiedades)\n",
        "\n",
        "mapa_argentina_2.plot()"
      ]
    },
    {
      "cell_type": "code",
      "execution_count": 38,
      "metadata": {
        "id": "P1_Dl8rfD_2l"
      },
      "outputs": [
        {
          "name": "stdout",
          "output_type": "stream",
          "text": [
            "(52562, 20)\n"
          ]
        }
      ],
      "source": [
        "# Traemos el geodataframe 'data_geonames'\n",
        "\n",
        "location_geonames = './provincias/AR/AR.csv'\n",
        "data_geonames = gpd.read_file(location_geonames, sep='\\t')\n",
        "\n",
        "print(data_geonames.shape)"
      ]
    },
    {
      "cell_type": "code",
      "execution_count": 39,
      "metadata": {},
      "outputs": [
        {
          "data": {
            "text/html": [
              "<div>\n",
              "<style scoped>\n",
              "    .dataframe tbody tr th:only-of-type {\n",
              "        vertical-align: middle;\n",
              "    }\n",
              "\n",
              "    .dataframe tbody tr th {\n",
              "        vertical-align: top;\n",
              "    }\n",
              "\n",
              "    .dataframe thead th {\n",
              "        text-align: right;\n",
              "    }\n",
              "</style>\n",
              "<table border=\"1\" class=\"dataframe\">\n",
              "  <thead>\n",
              "    <tr style=\"text-align: right;\">\n",
              "      <th></th>\n",
              "      <th>GEONAMEID</th>\n",
              "      <th>NAME</th>\n",
              "      <th>ASCIINAME</th>\n",
              "      <th>ALTNAMES</th>\n",
              "      <th>LATITUDE</th>\n",
              "      <th>LONGITUDE</th>\n",
              "      <th>FEATCLASS</th>\n",
              "    </tr>\n",
              "  </thead>\n",
              "  <tbody>\n",
              "    <tr>\n",
              "      <th>4272</th>\n",
              "      <td>3431487</td>\n",
              "      <td>Puesto La Unión</td>\n",
              "      <td>Puesto La Union</td>\n",
              "      <td></td>\n",
              "      <td>-24.81964</td>\n",
              "      <td>-59.82946</td>\n",
              "      <td>S</td>\n",
              "    </tr>\n",
              "    <tr>\n",
              "      <th>28961</th>\n",
              "      <td>3851680</td>\n",
              "      <td>Estancia La Elena</td>\n",
              "      <td>Estancia La Elena</td>\n",
              "      <td></td>\n",
              "      <td>-31.21684</td>\n",
              "      <td>-60.42131</td>\n",
              "      <td>S</td>\n",
              "    </tr>\n",
              "    <tr>\n",
              "      <th>41926</th>\n",
              "      <td>3864700</td>\n",
              "      <td>Arroyo Barrancoso</td>\n",
              "      <td>Arroyo Barrancoso</td>\n",
              "      <td></td>\n",
              "      <td>-32.94924</td>\n",
              "      <td>-60.02886</td>\n",
              "      <td>H</td>\n",
              "    </tr>\n",
              "    <tr>\n",
              "      <th>50129</th>\n",
              "      <td>12548832</td>\n",
              "      <td>La Angostura</td>\n",
              "      <td>La Angostura</td>\n",
              "      <td>La Angostura</td>\n",
              "      <td>-43.32811</td>\n",
              "      <td>-65.54124</td>\n",
              "      <td>P</td>\n",
              "    </tr>\n",
              "    <tr>\n",
              "      <th>37496</th>\n",
              "      <td>3860250</td>\n",
              "      <td>Cordobita</td>\n",
              "      <td>Cordobita</td>\n",
              "      <td>Cordobita,La Cordobita</td>\n",
              "      <td>-28.30568</td>\n",
              "      <td>-67.21783</td>\n",
              "      <td>P</td>\n",
              "    </tr>\n",
              "    <tr>\n",
              "      <th>750</th>\n",
              "      <td>3427953</td>\n",
              "      <td>Puesto Siete Árboles</td>\n",
              "      <td>Puesto Siete Arboles</td>\n",
              "      <td></td>\n",
              "      <td>-25.87101</td>\n",
              "      <td>-59.68892</td>\n",
              "      <td>S</td>\n",
              "    </tr>\n",
              "    <tr>\n",
              "      <th>29675</th>\n",
              "      <td>3852395</td>\n",
              "      <td>La Calavera</td>\n",
              "      <td>La Calavera</td>\n",
              "      <td></td>\n",
              "      <td>-24.43333</td>\n",
              "      <td>-62.20000</td>\n",
              "      <td>L</td>\n",
              "    </tr>\n",
              "    <tr>\n",
              "      <th>26371</th>\n",
              "      <td>3849086</td>\n",
              "      <td>Estancia La Reacción</td>\n",
              "      <td>Estancia La Reaccion</td>\n",
              "      <td></td>\n",
              "      <td>-38.71626</td>\n",
              "      <td>-60.89138</td>\n",
              "      <td>S</td>\n",
              "    </tr>\n",
              "    <tr>\n",
              "      <th>33554</th>\n",
              "      <td>3856294</td>\n",
              "      <td>Puesto El Vinal</td>\n",
              "      <td>Puesto El Vinal</td>\n",
              "      <td></td>\n",
              "      <td>-23.61667</td>\n",
              "      <td>-61.21667</td>\n",
              "      <td>S</td>\n",
              "    </tr>\n",
              "    <tr>\n",
              "      <th>9565</th>\n",
              "      <td>3832200</td>\n",
              "      <td>Cerro Yungara Sur</td>\n",
              "      <td>Cerro Yungara Sur</td>\n",
              "      <td>Cerro Yungara Sur</td>\n",
              "      <td>-23.52401</td>\n",
              "      <td>-66.61686</td>\n",
              "      <td>T</td>\n",
              "    </tr>\n",
              "  </tbody>\n",
              "</table>\n",
              "</div>"
            ],
            "text/plain": [
              "      GEONAMEID                  NAME             ASCIINAME  \\\n",
              "4272    3431487       Puesto La Unión       Puesto La Union   \n",
              "28961   3851680     Estancia La Elena     Estancia La Elena   \n",
              "41926   3864700     Arroyo Barrancoso     Arroyo Barrancoso   \n",
              "50129  12548832          La Angostura          La Angostura   \n",
              "37496   3860250             Cordobita             Cordobita   \n",
              "750     3427953  Puesto Siete Árboles  Puesto Siete Arboles   \n",
              "29675   3852395           La Calavera           La Calavera   \n",
              "26371   3849086  Estancia La Reacción  Estancia La Reaccion   \n",
              "33554   3856294       Puesto El Vinal       Puesto El Vinal   \n",
              "9565    3832200     Cerro Yungara Sur     Cerro Yungara Sur   \n",
              "\n",
              "                     ALTNAMES  LATITUDE  LONGITUDE FEATCLASS  \n",
              "4272                          -24.81964  -59.82946         S  \n",
              "28961                         -31.21684  -60.42131         S  \n",
              "41926                         -32.94924  -60.02886         H  \n",
              "50129            La Angostura -43.32811  -65.54124         P  \n",
              "37496  Cordobita,La Cordobita -28.30568  -67.21783         P  \n",
              "750                           -25.87101  -59.68892         S  \n",
              "29675                         -24.43333  -62.20000         L  \n",
              "26371                         -38.71626  -60.89138         S  \n",
              "33554                         -23.61667  -61.21667         S  \n",
              "9565        Cerro Yungara Sur -23.52401  -66.61686         T  "
            ]
          },
          "execution_count": 39,
          "metadata": {},
          "output_type": "execute_result"
        }
      ],
      "source": [
        "subset_data = data_geonames.iloc[:, 0:7]  # Selecciona las columnas del 0 al 10 (inclusivo)\n",
        "subset_data.sample(10)  # Selecciona una muestra aleatoria de 10 filas"
      ]
    },
    {
      "cell_type": "code",
      "execution_count": 40,
      "metadata": {
        "id": "x1bCZ29U0Jax"
      },
      "outputs": [],
      "source": [
        "# Se hacen algunos ajustes al dataframe DATA_GEONAMES:\n",
        "# Primero, convierto a float64 la columna 'GEONAMEID' que es un string. Dicha columna se usara para matchear con 'geonames_id' en properatti_df (float64).\n",
        "\n",
        "data_geonames['GEONAMEID'] = pd.to_numeric(data_geonames['GEONAMEID'], errors='coerce').astype(float)"
      ]
    },
    {
      "cell_type": "code",
      "execution_count": 41,
      "metadata": {
        "id": "VHe15MuMD_2l"
      },
      "outputs": [
        {
          "data": {
            "text/html": [
              "<div>\n",
              "<style scoped>\n",
              "    .dataframe tbody tr th:only-of-type {\n",
              "        vertical-align: middle;\n",
              "    }\n",
              "\n",
              "    .dataframe tbody tr th {\n",
              "        vertical-align: top;\n",
              "    }\n",
              "\n",
              "    .dataframe thead th {\n",
              "        text-align: right;\n",
              "    }\n",
              "</style>\n",
              "<table border=\"1\" class=\"dataframe\">\n",
              "  <thead>\n",
              "    <tr style=\"text-align: right;\">\n",
              "      <th></th>\n",
              "      <th>GEONAMEID</th>\n",
              "      <th>NAME</th>\n",
              "      <th>ASCIINAME</th>\n",
              "      <th>ALTNAMES</th>\n",
              "      <th>LATITUDE</th>\n",
              "      <th>LONGITUDE</th>\n",
              "      <th>FEATCLASS</th>\n",
              "      <th>FEATCODE</th>\n",
              "      <th>COUNTRY</th>\n",
              "      <th>CC2</th>\n",
              "      <th>ADMIN1</th>\n",
              "      <th>ADMIN2</th>\n",
              "      <th>ADMIN3</th>\n",
              "      <th>ADMIN4</th>\n",
              "      <th>POPULATION</th>\n",
              "      <th>ELEVATION</th>\n",
              "      <th>GTOPO30</th>\n",
              "      <th>TIMEZONE</th>\n",
              "      <th>MODDATE</th>\n",
              "      <th>geometry</th>\n",
              "      <th>provincia</th>\n",
              "    </tr>\n",
              "  </thead>\n",
              "  <tbody>\n",
              "    <tr>\n",
              "      <th>0</th>\n",
              "      <td>3427200.0</td>\n",
              "      <td>Sierra del 15</td>\n",
              "      <td>Sierra del 15</td>\n",
              "      <td></td>\n",
              "      <td>-37.96613</td>\n",
              "      <td>-57.94670</td>\n",
              "      <td>T</td>\n",
              "      <td>HLL</td>\n",
              "      <td>AR</td>\n",
              "      <td></td>\n",
              "      <td>01</td>\n",
              "      <td>06357</td>\n",
              "      <td></td>\n",
              "      <td></td>\n",
              "      <td>0.0</td>\n",
              "      <td>NaN</td>\n",
              "      <td>200</td>\n",
              "      <td>America/Argentina/Buenos_Aires</td>\n",
              "      <td>2016-01-30</td>\n",
              "      <td>POINT (-57.94670 -37.96613)</td>\n",
              "      <td>Buenos Aires</td>\n",
              "    </tr>\n",
              "    <tr>\n",
              "      <th>1</th>\n",
              "      <td>3427201.0</td>\n",
              "      <td>Puesto 1 Napoleón Cué</td>\n",
              "      <td>Puesto 1 Napoleon Cue</td>\n",
              "      <td></td>\n",
              "      <td>-28.63333</td>\n",
              "      <td>-56.11667</td>\n",
              "      <td>S</td>\n",
              "      <td>HSE</td>\n",
              "      <td>AR</td>\n",
              "      <td></td>\n",
              "      <td>06</td>\n",
              "      <td>18168</td>\n",
              "      <td></td>\n",
              "      <td></td>\n",
              "      <td>0.0</td>\n",
              "      <td>NaN</td>\n",
              "      <td>79</td>\n",
              "      <td>America/Argentina/Cordoba</td>\n",
              "      <td>2016-01-30</td>\n",
              "      <td>POINT (-56.11667 -28.63333)</td>\n",
              "      <td>Cordoba</td>\n",
              "    </tr>\n",
              "    <tr>\n",
              "      <th>2</th>\n",
              "      <td>3427202.0</td>\n",
              "      <td>Cañada del Zorro</td>\n",
              "      <td>Canada del Zorro</td>\n",
              "      <td></td>\n",
              "      <td>-32.16667</td>\n",
              "      <td>-59.50000</td>\n",
              "      <td>H</td>\n",
              "      <td>STM</td>\n",
              "      <td>AR</td>\n",
              "      <td></td>\n",
              "      <td>08</td>\n",
              "      <td></td>\n",
              "      <td></td>\n",
              "      <td></td>\n",
              "      <td>0.0</td>\n",
              "      <td>NaN</td>\n",
              "      <td>65</td>\n",
              "      <td>America/Argentina/Cordoba</td>\n",
              "      <td>1993-12-21</td>\n",
              "      <td>POINT (-59.50000 -32.16667)</td>\n",
              "      <td>Cordoba</td>\n",
              "    </tr>\n",
              "    <tr>\n",
              "      <th>3</th>\n",
              "      <td>3427203.0</td>\n",
              "      <td>Estancia Zorraquín</td>\n",
              "      <td>Estancia Zorraquin</td>\n",
              "      <td></td>\n",
              "      <td>-31.51553</td>\n",
              "      <td>-58.55208</td>\n",
              "      <td>S</td>\n",
              "      <td>RNCH</td>\n",
              "      <td>AR</td>\n",
              "      <td></td>\n",
              "      <td>08</td>\n",
              "      <td>30113</td>\n",
              "      <td></td>\n",
              "      <td></td>\n",
              "      <td>0.0</td>\n",
              "      <td>NaN</td>\n",
              "      <td>71</td>\n",
              "      <td>America/Argentina/Cordoba</td>\n",
              "      <td>2016-01-30</td>\n",
              "      <td>POINT (-58.55208 -31.51553)</td>\n",
              "      <td>Cordoba</td>\n",
              "    </tr>\n",
              "    <tr>\n",
              "      <th>4</th>\n",
              "      <td>3427204.0</td>\n",
              "      <td>Estancia Zequeira Cué</td>\n",
              "      <td>Estancia Zequeira Cue</td>\n",
              "      <td></td>\n",
              "      <td>-28.43825</td>\n",
              "      <td>-56.08838</td>\n",
              "      <td>S</td>\n",
              "      <td>RNCH</td>\n",
              "      <td>AR</td>\n",
              "      <td></td>\n",
              "      <td>06</td>\n",
              "      <td>18168</td>\n",
              "      <td></td>\n",
              "      <td></td>\n",
              "      <td>0.0</td>\n",
              "      <td>NaN</td>\n",
              "      <td>98</td>\n",
              "      <td>America/Argentina/Cordoba</td>\n",
              "      <td>2016-01-30</td>\n",
              "      <td>POINT (-56.08838 -28.43825)</td>\n",
              "      <td>Cordoba</td>\n",
              "    </tr>\n",
              "    <tr>\n",
              "      <th>5</th>\n",
              "      <td>3427205.0</td>\n",
              "      <td>Arroyo Zequeira</td>\n",
              "      <td>Arroyo Zequeira</td>\n",
              "      <td></td>\n",
              "      <td>-27.83789</td>\n",
              "      <td>-56.08614</td>\n",
              "      <td>H</td>\n",
              "      <td>STM</td>\n",
              "      <td>AR</td>\n",
              "      <td></td>\n",
              "      <td>06</td>\n",
              "      <td></td>\n",
              "      <td></td>\n",
              "      <td></td>\n",
              "      <td>0.0</td>\n",
              "      <td>NaN</td>\n",
              "      <td>96</td>\n",
              "      <td>America/Argentina/Cordoba</td>\n",
              "      <td>2011-04-19</td>\n",
              "      <td>POINT (-56.08614 -27.83789)</td>\n",
              "      <td>Cordoba</td>\n",
              "    </tr>\n",
              "    <tr>\n",
              "      <th>6</th>\n",
              "      <td>3427206.0</td>\n",
              "      <td>Zenón Videla Dorna</td>\n",
              "      <td>Zenon Videla Dorna</td>\n",
              "      <td>Z. Videla Dorna,Zenon Videla Dorna,Zenón Videl...</td>\n",
              "      <td>-35.54208</td>\n",
              "      <td>-58.88645</td>\n",
              "      <td>P</td>\n",
              "      <td>PPL</td>\n",
              "      <td>AR</td>\n",
              "      <td></td>\n",
              "      <td>01</td>\n",
              "      <td>06547</td>\n",
              "      <td></td>\n",
              "      <td></td>\n",
              "      <td>0.0</td>\n",
              "      <td>NaN</td>\n",
              "      <td>26</td>\n",
              "      <td>America/Argentina/Buenos_Aires</td>\n",
              "      <td>2023-12-11</td>\n",
              "      <td>POINT (-58.88645 -35.54208)</td>\n",
              "      <td>Buenos Aires</td>\n",
              "    </tr>\n",
              "    <tr>\n",
              "      <th>7</th>\n",
              "      <td>3427207.0</td>\n",
              "      <td>Zenón Roca</td>\n",
              "      <td>Zenon Roca</td>\n",
              "      <td>Zenon Roca,Zenón Roca</td>\n",
              "      <td>-31.54708</td>\n",
              "      <td>-58.77304</td>\n",
              "      <td>P</td>\n",
              "      <td>PPL</td>\n",
              "      <td>AR</td>\n",
              "      <td></td>\n",
              "      <td>08</td>\n",
              "      <td>30113</td>\n",
              "      <td></td>\n",
              "      <td></td>\n",
              "      <td>0.0</td>\n",
              "      <td>NaN</td>\n",
              "      <td>71</td>\n",
              "      <td>America/Argentina/Cordoba</td>\n",
              "      <td>2023-12-11</td>\n",
              "      <td>POINT (-58.77304 -31.54708)</td>\n",
              "      <td>Cordoba</td>\n",
              "    </tr>\n",
              "    <tr>\n",
              "      <th>8</th>\n",
              "      <td>3427208.0</td>\n",
              "      <td>Zelaya</td>\n",
              "      <td>Zelaya</td>\n",
              "      <td>Zelaya</td>\n",
              "      <td>-34.37052</td>\n",
              "      <td>-58.86938</td>\n",
              "      <td>P</td>\n",
              "      <td>PPL</td>\n",
              "      <td>AR</td>\n",
              "      <td></td>\n",
              "      <td>01</td>\n",
              "      <td>06638</td>\n",
              "      <td></td>\n",
              "      <td></td>\n",
              "      <td>0.0</td>\n",
              "      <td>NaN</td>\n",
              "      <td>21</td>\n",
              "      <td>America/Argentina/Buenos_Aires</td>\n",
              "      <td>2023-12-11</td>\n",
              "      <td>POINT (-58.86938 -34.37052)</td>\n",
              "      <td>Buenos Aires</td>\n",
              "    </tr>\n",
              "    <tr>\n",
              "      <th>9</th>\n",
              "      <td>3427209.0</td>\n",
              "      <td>Arroyo de la Zarza</td>\n",
              "      <td>Arroyo de la Zarza</td>\n",
              "      <td></td>\n",
              "      <td>-32.13507</td>\n",
              "      <td>-59.85856</td>\n",
              "      <td>H</td>\n",
              "      <td>STM</td>\n",
              "      <td>AR</td>\n",
              "      <td></td>\n",
              "      <td>08</td>\n",
              "      <td></td>\n",
              "      <td></td>\n",
              "      <td></td>\n",
              "      <td>0.0</td>\n",
              "      <td>NaN</td>\n",
              "      <td>62</td>\n",
              "      <td>America/Argentina/Cordoba</td>\n",
              "      <td>2011-04-19</td>\n",
              "      <td>POINT (-59.85856 -32.13507)</td>\n",
              "      <td>Cordoba</td>\n",
              "    </tr>\n",
              "  </tbody>\n",
              "</table>\n",
              "</div>"
            ],
            "text/plain": [
              "   GEONAMEID                   NAME              ASCIINAME  \\\n",
              "0  3427200.0          Sierra del 15          Sierra del 15   \n",
              "1  3427201.0  Puesto 1 Napoleón Cué  Puesto 1 Napoleon Cue   \n",
              "2  3427202.0       Cañada del Zorro       Canada del Zorro   \n",
              "3  3427203.0     Estancia Zorraquín     Estancia Zorraquin   \n",
              "4  3427204.0  Estancia Zequeira Cué  Estancia Zequeira Cue   \n",
              "5  3427205.0        Arroyo Zequeira        Arroyo Zequeira   \n",
              "6  3427206.0     Zenón Videla Dorna     Zenon Videla Dorna   \n",
              "7  3427207.0             Zenón Roca             Zenon Roca   \n",
              "8  3427208.0                 Zelaya                 Zelaya   \n",
              "9  3427209.0     Arroyo de la Zarza     Arroyo de la Zarza   \n",
              "\n",
              "                                            ALTNAMES  LATITUDE  LONGITUDE  \\\n",
              "0                                                    -37.96613  -57.94670   \n",
              "1                                                    -28.63333  -56.11667   \n",
              "2                                                    -32.16667  -59.50000   \n",
              "3                                                    -31.51553  -58.55208   \n",
              "4                                                    -28.43825  -56.08838   \n",
              "5                                                    -27.83789  -56.08614   \n",
              "6  Z. Videla Dorna,Zenon Videla Dorna,Zenón Videl... -35.54208  -58.88645   \n",
              "7                              Zenon Roca,Zenón Roca -31.54708  -58.77304   \n",
              "8                                             Zelaya -34.37052  -58.86938   \n",
              "9                                                    -32.13507  -59.85856   \n",
              "\n",
              "  FEATCLASS FEATCODE COUNTRY CC2 ADMIN1 ADMIN2 ADMIN3 ADMIN4  POPULATION  \\\n",
              "0         T      HLL      AR         01  06357                       0.0   \n",
              "1         S      HSE      AR         06  18168                       0.0   \n",
              "2         H      STM      AR         08                              0.0   \n",
              "3         S     RNCH      AR         08  30113                       0.0   \n",
              "4         S     RNCH      AR         06  18168                       0.0   \n",
              "5         H      STM      AR         06                              0.0   \n",
              "6         P      PPL      AR         01  06547                       0.0   \n",
              "7         P      PPL      AR         08  30113                       0.0   \n",
              "8         P      PPL      AR         01  06638                       0.0   \n",
              "9         H      STM      AR         08                              0.0   \n",
              "\n",
              "   ELEVATION  GTOPO30                        TIMEZONE     MODDATE  \\\n",
              "0        NaN      200  America/Argentina/Buenos_Aires  2016-01-30   \n",
              "1        NaN       79       America/Argentina/Cordoba  2016-01-30   \n",
              "2        NaN       65       America/Argentina/Cordoba  1993-12-21   \n",
              "3        NaN       71       America/Argentina/Cordoba  2016-01-30   \n",
              "4        NaN       98       America/Argentina/Cordoba  2016-01-30   \n",
              "5        NaN       96       America/Argentina/Cordoba  2011-04-19   \n",
              "6        NaN       26  America/Argentina/Buenos_Aires  2023-12-11   \n",
              "7        NaN       71       America/Argentina/Cordoba  2023-12-11   \n",
              "8        NaN       21  America/Argentina/Buenos_Aires  2023-12-11   \n",
              "9        NaN       62       America/Argentina/Cordoba  2011-04-19   \n",
              "\n",
              "                      geometry     provincia  \n",
              "0  POINT (-57.94670 -37.96613)  Buenos Aires  \n",
              "1  POINT (-56.11667 -28.63333)       Cordoba  \n",
              "2  POINT (-59.50000 -32.16667)       Cordoba  \n",
              "3  POINT (-58.55208 -31.51553)       Cordoba  \n",
              "4  POINT (-56.08838 -28.43825)       Cordoba  \n",
              "5  POINT (-56.08614 -27.83789)       Cordoba  \n",
              "6  POINT (-58.88645 -35.54208)  Buenos Aires  \n",
              "7  POINT (-58.77304 -31.54708)       Cordoba  \n",
              "8  POINT (-58.86938 -34.37052)  Buenos Aires  \n",
              "9  POINT (-59.85856 -32.13507)       Cordoba  "
            ]
          },
          "execution_count": 41,
          "metadata": {},
          "output_type": "execute_result"
        }
      ],
      "source": [
        "# Segundo, utilizo la informacion de 'TIMEZONE' para crear una columna llamada 'provincia'. Dicha columna se usara para matchear con 'provincia' en properatti_df (object)).\n",
        "\n",
        "pattern = re.compile(r'/([^/]+)$')\n",
        "\n",
        "def cambiar_nombre(timezone):\n",
        "    match = re.search(pattern, timezone)\n",
        "    return match.group(1).replace('_', ' ') if match else None\n",
        "\n",
        "data_geonames['provincia'] = data_geonames['TIMEZONE'].apply(lambda x: cambiar_nombre(x))\n",
        "data_geonames.head(10)"
      ]
    },
    {
      "cell_type": "code",
      "execution_count": 42,
      "metadata": {
        "id": "Jx55N4sQD_2l"
      },
      "outputs": [
        {
          "name": "stdout",
          "output_type": "stream",
          "text": [
            "nulls en 'lat' y 'lon': (51180, 24)\n",
            "nulls en 'lat-lon': (51180, 24)\n",
            "nulls en 'geonames_id': (18629, 24)\n",
            "ninguna informacion: (8158, 24)\n"
          ]
        }
      ],
      "source": [
        "# chequeo de valores nulos en las columnas de la geografia:\n",
        "\n",
        "mask_lat_lon = np.logical_and(properatti_df['lat'].isnull(), properatti_df['lon'].isnull())\n",
        "mask_latlon = properatti_df['lat-lon'].isnull()\n",
        "mask_geonames = properatti_df['geonames_id'].isnull()\n",
        "combined_mask = mask_lat_lon & mask_geonames\n",
        "\n",
        "\n",
        "geografia_filtered_df = properatti_df.loc[mask_lat_lon]\n",
        "print(\"nulls en 'lat' y 'lon': \" f\"{geografia_filtered_df.shape}\")\n",
        "geografia_filtered_df = properatti_df.loc[mask_latlon]\n",
        "print(\"nulls en 'lat-lon': \" f\"{geografia_filtered_df.shape}\")\n",
        "# 'lat', 'lon' y 'lat-lon' tienen la misma info\n",
        "\n",
        "geografia_filtered_df = properatti_df.loc[mask_geonames]\n",
        "print(\"nulls en 'geonames_id': \" f\"{geografia_filtered_df.shape}\")\n",
        "geografia_filtered_df = properatti_df.loc[combined_mask]\n",
        "print(\"ninguna informacion: \" f\"{geografia_filtered_df.shape}\")\n",
        "\n",
        "\n"
      ]
    },
    {
      "cell_type": "code",
      "execution_count": 43,
      "metadata": {
        "id": "mPgsq_iXkl0J"
      },
      "outputs": [
        {
          "data": {
            "image/png": "[encoded data removed]",
            "text/plain": [
              "<Figure size 1000x600 with 1 Axes>"
            ]
          },
          "metadata": {},
          "output_type": "display_data"
        }
      ],
      "source": [
        "# Estado de los valores nulos al comienzo del proceso.\n",
        "\n",
        "nulls_df = properatti_df[['lat', 'lon', 'lat-lon', 'geonames_id']].isnull()\n",
        "\n",
        "# Plotear los valores nulos en un heatmap abarcando todo el dataframe.\n",
        "\n",
        "plt.figure(figsize=(10, 6))\n",
        "sns.heatmap(nulls_df, cmap='viridis', cbar=False, yticklabels=False)\n",
        "plt.title('Valores Nulos en Columnas de Geografía')\n",
        "plt.show()\n",
        "\n",
        "# Se ve claramente que 'lat', 'lon' y 'lat-lon' son redundantes, es decir tienen la misma informacion. La diferencia es que 'lat-lon' tiene los valores 'lat' y 'lon' en forma de lista."
      ]
    },
    {
      "cell_type": "code",
      "execution_count": 44,
      "metadata": {
        "id": "o9kSZOOJD_2k"
      },
      "outputs": [
        {
          "data": {
            "text/plain": [
              "place_with_parent_names\n",
              "|Argentina|Santa Fe|Rosario|                                                     8398\n",
              "|Argentina|Córdoba|Córdoba|                                                      6509\n",
              "|Argentina|Buenos Aires Costa Atlántica|Mar del Plata|                           6476\n",
              "|Argentina|Bs.As. G.B.A. Zona Norte|Tigre|Nordelta|                              3315\n",
              "|Argentina|Capital Federal|Belgrano|                                             2974\n",
              "                                                                                 ... \n",
              "|Argentina|Bs.As. G.B.A. Zona Norte|San Fernando|Islas|                             1\n",
              "|Argentina|Bs.As. G.B.A. Zona Norte|San Fernando|Barrio Cerrado \"La Damasia\"|       1\n",
              "|Argentina|La Rioja|Villa Unión|                                                    1\n",
              "|Argentina|Mendoza|Los Corralitos|                                                  1\n",
              "|Argentina|Bs.As. G.B.A. Zona Sur|Berazategui|Altos de Hudson I|                    1\n",
              "Name: count, Length: 1163, dtype: int64"
            ]
          },
          "execution_count": 44,
          "metadata": {},
          "output_type": "execute_result"
        }
      ],
      "source": [
        "# Un pantallazo a la columna 'place_with_parent_names' muestra que es en principio la informacion sobre la provincia (cuando se trata de Buenos Aires, tambien hay informacion sobre el partido), ciudad, y en algunos casos barrio.\n",
        "# Esta informacion me va a servir para cruzar datos con DATA GEONAMES, cuando no haya informacion de 'lat' y 'lon'.\n",
        "\n",
        "properatti_df['place_with_parent_names'].value_counts()"
      ]
    },
    {
      "cell_type": "code",
      "execution_count": 45,
      "metadata": {
        "id": "6yIkKDHKD_2l"
      },
      "outputs": [
        {
          "data": {
            "text/plain": [
              "0"
            ]
          },
          "execution_count": 45,
          "metadata": {},
          "output_type": "execute_result"
        }
      ],
      "source": [
        "# Chequeo si falta algun dato en 'place_with_parent_names'\n",
        "\n",
        "properatti_df.place_with_parent_names.isnull().sum()\n",
        "\n",
        "# Todos tienen algun tipo de informacion de lugar(pais provincia ciudad)"
      ]
    },
    {
      "cell_type": "code",
      "execution_count": 46,
      "metadata": {
        "id": "AmoaCZ_WD_2l"
      },
      "outputs": [
        {
          "name": "stderr",
          "output_type": "stream",
          "text": [
            "/var/folders/cv/c6ctbt612w9_hm1ltt9l68vc0000gn/T/ipykernel_55149/2556021755.py:9: FutureWarning: DataFrame.applymap has been deprecated. Use DataFrame.map instead.\n",
            "  properatti_df[columns_2] = properatti_df[columns_2].applymap(remove_accents)\n",
            "/var/folders/cv/c6ctbt612w9_hm1ltt9l68vc0000gn/T/ipykernel_55149/2556021755.py:10: FutureWarning: DataFrame.applymap has been deprecated. Use DataFrame.map instead.\n",
            "  data_geonames[columns_1] = data_geonames[columns_1].applymap(remove_accents)\n"
          ]
        }
      ],
      "source": [
        "# Filtro los acentos en DATA_GEONAMES y en properatti_df, para que si hay que matchear, no haya diferencias por acentos.\n",
        "\n",
        "columns_2 = ['place_with_parent_names']\n",
        "columns_1 = ['NAME', 'ASCIINAME', 'provincia']\n",
        "\n",
        "def remove_accents(text):\n",
        "    return unidecode(text) if pd.notna(text) else text\n",
        "\n",
        "properatti_df[columns_2] = properatti_df[columns_2].applymap(remove_accents)\n",
        "data_geonames[columns_1] = data_geonames[columns_1].applymap(remove_accents)"
      ]
    },
    {
      "cell_type": "code",
      "execution_count": 47,
      "metadata": {
        "id": "tO2QIYOQD_2m"
      },
      "outputs": [],
      "source": [
        "# Asigno la informacion de 'place_with_parent_name' a tres nuevas columnas: 'provincia', 'ciudad' y 'barrio'\n",
        "\n",
        "pattern = re.compile(r'\\|(?P<pais>[^|]+)\\|(?P<provincia>[^|]+)(?:\\|(?P<ciudad>[^|]+))?(?:\\|(?P<barrio>[^|]+))?')\n",
        "\n",
        "def extract_parts(location_info):\n",
        "    match = pattern.match(location_info)\n",
        "    return {'provincia': match.group('provincia') if match else None, 'ciudad': match.group('ciudad') if match else None, 'barrio': match.group('barrio') if match else None}\n",
        "\n",
        "properatti_df[['provincia', 'ciudad', 'barrio']] = properatti_df['place_with_parent_names'].apply(\n",
        "    lambda x: pd.Series(extract_parts(x))\n",
        ")\n",
        "\n",
        "\n"
      ]
    },
    {
      "cell_type": "code",
      "execution_count": 48,
      "metadata": {
        "id": "-uEH8eRJD_2m"
      },
      "outputs": [],
      "source": [
        "# Mando a Capital Federal adentro de la Provincia de Buenos Aires (por razones geograficas -no administrativas-)\n",
        "\n",
        "def clean_capital(row):\n",
        "    if row['provincia'] == 'Capital Federal':\n",
        "        row['provincia'] = 'Buenos Aires'\n",
        "        row['barrio'] = row['ciudad']\n",
        "        row['ciudad'] = 'Ciudad Autonoma de Buenos Aires'\n",
        "    return row\n",
        "\n",
        "properatti_df = properatti_df.apply(clean_capital, axis=1)"
      ]
    },
    {
      "cell_type": "code",
      "execution_count": 49,
      "metadata": {
        "id": "8YTPVJhhzDN4"
      },
      "outputs": [
        {
          "data": {
            "text/html": [
              "<div>\n",
              "<style scoped>\n",
              "    .dataframe tbody tr th:only-of-type {\n",
              "        vertical-align: middle;\n",
              "    }\n",
              "\n",
              "    .dataframe tbody tr th {\n",
              "        vertical-align: top;\n",
              "    }\n",
              "\n",
              "    .dataframe thead th {\n",
              "        text-align: right;\n",
              "    }\n",
              "</style>\n",
              "<table border=\"1\" class=\"dataframe\">\n",
              "  <thead>\n",
              "    <tr style=\"text-align: right;\">\n",
              "      <th></th>\n",
              "      <th>title</th>\n",
              "      <th>provincia</th>\n",
              "      <th>ciudad</th>\n",
              "      <th>barrio</th>\n",
              "    </tr>\n",
              "  </thead>\n",
              "  <tbody>\n",
              "    <tr>\n",
              "      <th>0</th>\n",
              "      <td>2 amb tipo casa sin expensas en pb</td>\n",
              "      <td>Buenos Aires</td>\n",
              "      <td>Ciudad Autonoma de Buenos Aires</td>\n",
              "      <td>Mataderos</td>\n",
              "    </tr>\n",
              "    <tr>\n",
              "      <th>1</th>\n",
              "      <td>venta depto 2 dorm. a estrenar 7 e/ 36 y 37   ...</td>\n",
              "      <td>Bs.As. G.B.A. Zona Sur</td>\n",
              "      <td>La Plata</td>\n",
              "      <td>None</td>\n",
              "    </tr>\n",
              "    <tr>\n",
              "      <th>2</th>\n",
              "      <td>2 amb 3er piso con ascensor apto credito</td>\n",
              "      <td>Buenos Aires</td>\n",
              "      <td>Ciudad Autonoma de Buenos Aires</td>\n",
              "      <td>Mataderos</td>\n",
              "    </tr>\n",
              "    <tr>\n",
              "      <th>3</th>\n",
              "      <td>ph 3 amb. cfte. reciclado</td>\n",
              "      <td>Buenos Aires</td>\n",
              "      <td>Ciudad Autonoma de Buenos Aires</td>\n",
              "      <td>Liniers</td>\n",
              "    </tr>\n",
              "    <tr>\n",
              "      <th>4</th>\n",
              "      <td>depto 2 amb al contrafrente zona centro/plaza ...</td>\n",
              "      <td>Buenos Aires Costa Atlantica</td>\n",
              "      <td>Mar del Plata</td>\n",
              "      <td>Centro</td>\n",
              "    </tr>\n",
              "    <tr>\n",
              "      <th>5</th>\n",
              "      <td>casa barrio 338. sobre calle 3 de caballería, ...</td>\n",
              "      <td>Entre Rios</td>\n",
              "      <td>Gualeguaychu</td>\n",
              "      <td>None</td>\n",
              "    </tr>\n",
              "    <tr>\n",
              "      <th>6</th>\n",
              "      <td>muy buen ph al frente dos dormitorios , patio,...</td>\n",
              "      <td>Bs.As. G.B.A. Zona Norte</td>\n",
              "      <td>Vicente Lopez</td>\n",
              "      <td>Munro</td>\n",
              "    </tr>\n",
              "    <tr>\n",
              "      <th>7</th>\n",
              "      <td>jose hernandez 1400 monoambiente  estrenar cat...</td>\n",
              "      <td>Buenos Aires</td>\n",
              "      <td>Ciudad Autonoma de Buenos Aires</td>\n",
              "      <td>Belgrano</td>\n",
              "    </tr>\n",
              "    <tr>\n",
              "      <th>8</th>\n",
              "      <td>jose hernandez   1400 dos ambientes estrenar ,...</td>\n",
              "      <td>Buenos Aires</td>\n",
              "      <td>Ciudad Autonoma de Buenos Aires</td>\n",
              "      <td>Belgrano</td>\n",
              "    </tr>\n",
              "    <tr>\n",
              "      <th>9</th>\n",
              "      <td>white 7637 - 2 dormitorios con patio</td>\n",
              "      <td>Santa Fe</td>\n",
              "      <td>Rosario</td>\n",
              "      <td>None</td>\n",
              "    </tr>\n",
              "  </tbody>\n",
              "</table>\n",
              "</div>"
            ],
            "text/plain": [
              "                                               title  \\\n",
              "0                 2 amb tipo casa sin expensas en pb   \n",
              "1  venta depto 2 dorm. a estrenar 7 e/ 36 y 37   ...   \n",
              "2           2 amb 3er piso con ascensor apto credito   \n",
              "3                       ph 3 amb. cfte. reciclado      \n",
              "4  depto 2 amb al contrafrente zona centro/plaza ...   \n",
              "5  casa barrio 338. sobre calle 3 de caballería, ...   \n",
              "6  muy buen ph al frente dos dormitorios , patio,...   \n",
              "7  jose hernandez 1400 monoambiente  estrenar cat...   \n",
              "8  jose hernandez   1400 dos ambientes estrenar ,...   \n",
              "9         white 7637 - 2 dormitorios con patio         \n",
              "\n",
              "                      provincia                           ciudad     barrio  \n",
              "0                  Buenos Aires  Ciudad Autonoma de Buenos Aires  Mataderos  \n",
              "1        Bs.As. G.B.A. Zona Sur                         La Plata       None  \n",
              "2                  Buenos Aires  Ciudad Autonoma de Buenos Aires  Mataderos  \n",
              "3                  Buenos Aires  Ciudad Autonoma de Buenos Aires    Liniers  \n",
              "4  Buenos Aires Costa Atlantica                    Mar del Plata     Centro  \n",
              "5                    Entre Rios                     Gualeguaychu       None  \n",
              "6      Bs.As. G.B.A. Zona Norte                    Vicente Lopez      Munro  \n",
              "7                  Buenos Aires  Ciudad Autonoma de Buenos Aires   Belgrano  \n",
              "8                  Buenos Aires  Ciudad Autonoma de Buenos Aires   Belgrano  \n",
              "9                      Santa Fe                          Rosario       None  "
            ]
          },
          "execution_count": 49,
          "metadata": {},
          "output_type": "execute_result"
        }
      ],
      "source": [
        "# resultado de limpiar 'place_with_parent_names'\n",
        "\n",
        "properatti_df[['title','provincia','ciudad','barrio']].head(10)"
      ]
    },
    {
      "cell_type": "code",
      "execution_count": 50,
      "metadata": {
        "id": "uGBv654vD_2m"
      },
      "outputs": [
        {
          "data": {
            "text/plain": [
              "provincia\n",
              "Buenos Aires                    31942\n",
              "Bs.As. G.B.A. Zona Norte        25408\n",
              "Bs.As. G.B.A. Zona Sur          13808\n",
              "Cordoba                         11856\n",
              "Santa Fe                        10043\n",
              "Buenos Aires Costa Atlantica     9906\n",
              "Bs.As. G.B.A. Zona Oeste         9242\n",
              "Buenos Aires Interior            2256\n",
              "Rio Negro                         791\n",
              "Neuquen                           720\n",
              "Tucuman                           670\n",
              "Mendoza                           655\n",
              "Corrientes                        583\n",
              "Misiones                          457\n",
              "Entre Rios                        360\n",
              "Salta                             278\n",
              "Chubut                            258\n",
              "San Luis                          250\n",
              "La Pampa                          154\n",
              "Formosa                            65\n",
              "Chaco                              54\n",
              "San Juan                           39\n",
              "Tierra Del Fuego                   31\n",
              "Catamarca                          27\n",
              "Jujuy                              26\n",
              "Santa Cruz                         20\n",
              "Santiago Del Estero                 4\n",
              "La Rioja                            4\n",
              "Name: count, dtype: int64"
            ]
          },
          "execution_count": 50,
          "metadata": {},
          "output_type": "execute_result"
        }
      ],
      "source": [
        "# Vemos que cuando la provincia es Buenos Aires, el dato nos queda sucio, con informacion sobre el partido.\n",
        "properatti_df['provincia'].value_counts()"
      ]
    },
    {
      "cell_type": "code",
      "execution_count": 51,
      "metadata": {
        "id": "jnK28YGrD_2m"
      },
      "outputs": [],
      "source": [
        "# Uso regex para limpiar Buenos Aires, enviando la informacion subsiguiente a una nueva columna 'partido'\n",
        "pattern = re.compile(r'(?P<provincia>Bs\\.As\\.|Buenos Aires)\\s(?P<partido>.+)')\n",
        "\n",
        "def match_location(location_info):\n",
        "    if pd.isna(location_info):  # Chequea valores faltantes\n",
        "        return pd.Series({'provincia': None, 'partido': None})\n",
        "\n",
        "    match = pattern.match(location_info)\n",
        "    if match:\n",
        "        provincia = 'Buenos Aires'\n",
        "        partido = match.group('partido')\n",
        "        return pd.Series({'provincia': provincia, 'partido': partido})\n",
        "    else:\n",
        "        return pd.Series({'provincia': location_info, 'partido': None})\n",
        "\n",
        "\n",
        "properatti_df[['provincia', 'partido']] = properatti_df['provincia'].apply(match_location)"
      ]
    },
    {
      "cell_type": "code",
      "execution_count": 52,
      "metadata": {
        "id": "jG-IRcSyD_2m"
      },
      "outputs": [
        {
          "data": {
            "text/plain": [
              "provincia     partido          \n",
              "Buenos Aires  G.B.A. Zona Norte    25408\n",
              "              G.B.A. Zona Sur      13808\n",
              "              Costa Atlantica       9906\n",
              "              G.B.A. Zona Oeste     9242\n",
              "              Interior              2256\n",
              "Name: count, dtype: int64"
            ]
          },
          "execution_count": 52,
          "metadata": {},
          "output_type": "execute_result"
        }
      ],
      "source": [
        "# Vemos que ahora, el dato Buenos Aires aparece unificado, y el resto de la informacion aparece en 'partido'\n",
        "properatti_df[['provincia','partido']].value_counts()"
      ]
    },
    {
      "cell_type": "code",
      "execution_count": 53,
      "metadata": {
        "id": "P6VvrvewD_2m"
      },
      "outputs": [
        {
          "data": {
            "text/plain": [
              "ciudad\n",
              "Ciudad Autonoma de Buenos Aires    31942\n",
              "Tigre                               8940\n",
              "Mar del Plata                       7646\n",
              "Vicente Lopez                       3651\n",
              "Lomas de Zamora                     3449\n",
              "                                   ...  \n",
              "Reta                                   1\n",
              "Laprida                                1\n",
              "Villarino                              1\n",
              "Mar de Cobo                            1\n",
              "General Paz                            1\n",
              "Name: count, Length: 128, dtype: int64"
            ]
          },
          "execution_count": 53,
          "metadata": {},
          "output_type": "execute_result"
        }
      ],
      "source": [
        "# Pantallazo al campo 'ciudad' correspondiente a 'provincia' == Buenos Aires\n",
        "properatti_df[properatti_df['provincia'] == 'Buenos Aires']['ciudad'].value_counts()"
      ]
    },
    {
      "cell_type": "code",
      "execution_count": 54,
      "metadata": {
        "id": "mTTTnH-QD_2n"
      },
      "outputs": [],
      "source": [
        "# Primer paso para imputar valores nulos en 'lat' y 'lon':\n",
        "\n",
        "# Matchea los valores de 'geonames_id' en el dataframe 'data_geonames'\n",
        "# cuando los encuentra, se trae el valor de las columnas 'LATITUDE' y 'LONGITUDE'\n",
        "\n",
        "def normalize_geonameid(row):\n",
        "    if pd.isnull(row['lat']) and pd.isnull(row['lon']):\n",
        "        geoname_id = row['geonames_id']\n",
        "        if geoname_id in data_geonames['GEONAMEID'].values:\n",
        "            matching_row = data_geonames[data_geonames['GEONAMEID'] == geoname_id]\n",
        "            if not matching_row.empty:\n",
        "                row.loc['lat'] = matching_row['LATITUDE'].iloc[0]\n",
        "                row.loc['lon'] = matching_row['LONGITUDE'].iloc[0]\n",
        "\n",
        "    return row\n",
        "\n",
        "properatti_df = properatti_df.apply(normalize_geonameid, axis=1)"
      ]
    },
    {
      "cell_type": "code",
      "execution_count": 55,
      "metadata": {
        "id": "qefNLb-ypTLz"
      },
      "outputs": [
        {
          "data": {
            "text/plain": [
              "lat    8319\n",
              "lon    8319\n",
              "dtype: int64"
            ]
          },
          "execution_count": 55,
          "metadata": {},
          "output_type": "execute_result"
        }
      ],
      "source": [
        "properatti_df[['lat', 'lon']].isnull().sum()"
      ]
    },
    {
      "cell_type": "code",
      "execution_count": 56,
      "metadata": {
        "id": "V0OtCWSeD_2n"
      },
      "outputs": [
        {
          "data": {
            "image/png": "[encoded data removed]",
            "text/plain": [
              "<Figure size 1000x600 with 1 Axes>"
            ]
          },
          "metadata": {},
          "output_type": "display_data"
        }
      ],
      "source": [
        "# Estado de los valores nulos al final del primer paso\n",
        "\n",
        "nulls_df = properatti_df[['lat', 'lon', 'geonames_id']].isnull()\n",
        "plt.figure(figsize=(10, 6))\n",
        "sns.heatmap(nulls_df, cmap='viridis', cbar=False, yticklabels=False)\n",
        "plt.title('Valores Nulos en Columnas de Geografía')\n",
        "plt.show()\n",
        "\n",
        "# La reduccion de nulos es considerable."
      ]
    },
    {
      "cell_type": "code",
      "execution_count": 57,
      "metadata": {
        "id": "lVF5fwiTD_2n"
      },
      "outputs": [],
      "source": [
        "# Segundo paso:\n",
        "# Entrecruzo las columnas 'ciudad' y 'NAME' en DATA_GEONAMES (tiene informacion de ciudad).\n",
        "# Si hay matches, me traigo los valores 'LATITUDE' y 'LONGITUDE' de data_geonames.\n",
        "\n",
        "def find_ciudad_province_in_data_geonames(row):\n",
        "    if pd.isnull(row['lat']) and pd.isnull(row['lon']):\n",
        "        ciudad = row['ciudad']\n",
        "        matching_rows = data_geonames[data_geonames['NAME'].isin([ciudad])]\n",
        "\n",
        "        if not matching_rows.empty:\n",
        "            matching_row = matching_rows.iloc[0]\n",
        "            row['lat'] = pd.to_numeric(matching_row['LATITUDE']).astype(float)\n",
        "            row['lon'] = pd.to_numeric(matching_row['LONGITUDE']).astype(float)\n",
        "\n",
        "    return row\n",
        "\n",
        "properatti_df = properatti_df.apply(find_ciudad_province_in_data_geonames, axis=1)"
      ]
    },
    {
      "cell_type": "code",
      "execution_count": 58,
      "metadata": {
        "id": "mrPaMWrdD_2n"
      },
      "outputs": [
        {
          "data": {
            "text/plain": [
              "lat    371\n",
              "lon    371\n",
              "dtype: int64"
            ]
          },
          "execution_count": 58,
          "metadata": {},
          "output_type": "execute_result"
        }
      ],
      "source": [
        "# La reducción de nulos es significativa.\n",
        "\n",
        "properatti_df[['lat', 'lon']].isnull().sum()"
      ]
    },
    {
      "cell_type": "code",
      "execution_count": 59,
      "metadata": {
        "id": "a89X0uTND_2n"
      },
      "outputs": [],
      "source": [
        "# Tercer paso:\n",
        "# Entrecruzo las columnas 'provincia' (properatti_df) y 'provincia' en DATA_GEONAMES (campo creado a partir de 'TIMEZONE' que tiene info de provincias).\n",
        "# Si hay matches, me traigo los valores 'LATITUDE' y 'LONGITUDE' de data_geonames.\n",
        "\n",
        "def find_ciudad_province_in_data_geonames(row):\n",
        "    if pd.isnull(row['lat']) and pd.isnull(row['lon']):\n",
        "        provincia = row['provincia']\n",
        "        matching_rows = data_geonames[data_geonames['provincia'].isin([provincia])]\n",
        "\n",
        "        if not matching_rows.empty:\n",
        "            matching_row = matching_rows.iloc[0]\n",
        "            row['lat'] = pd.to_numeric(matching_row['LATITUDE']).astype(float)\n",
        "            row['lon'] = pd.to_numeric(matching_row['LONGITUDE']).astype(float)\n",
        "\n",
        "    return row\n",
        "\n",
        "properatti_df = properatti_df.apply(find_ciudad_province_in_data_geonames, axis=1)"
      ]
    },
    {
      "cell_type": "code",
      "execution_count": 60,
      "metadata": {
        "id": "VhUO01eOD_2n"
      },
      "outputs": [
        {
          "data": {
            "text/plain": [
              "lat    0\n",
              "lon    0\n",
              "dtype: int64"
            ]
          },
          "execution_count": 60,
          "metadata": {},
          "output_type": "execute_result"
        }
      ],
      "source": [
        "# No hay mas nulos, por lo tanto todos las propiedades han sido imputadas con algun dato relacionado a su ubicación geográfica.\n",
        "\n",
        "properatti_df[['lat', 'lon']].isnull().sum()"
      ]
    },
    {
      "cell_type": "code",
      "execution_count": 61,
      "metadata": {
        "id": "5eVmLjfkD_2o"
      },
      "outputs": [],
      "source": [
        "# creo un geoDataFrame con la info geografica\n",
        "geometry = gpd.points_from_xy(pd.to_numeric(properatti_df.lon), pd.to_numeric(properatti_df.lat))\n",
        "\n",
        "\n",
        "properatti_df = gpd.GeoDataFrame(properatti_df, geometry=geometry)\n",
        "\n",
        "# outlier corregido (aparentemente es un error en el dataframe 'DATA_GEONAMES')\n",
        "\n",
        "properatti_df.at[9761, 'geometry'] = Point(-64.00000, -32.00000)\n"
      ]
    },
    {
      "cell_type": "code",
      "execution_count": 62,
      "metadata": {
        "id": "6NYBeTf4D_2o"
      },
      "outputs": [
        {
          "data": {
            "image/png": "[encoded data removed]",
            "text/plain": [
              "<Figure size 640x480 with 1 Axes>"
            ]
          },
          "metadata": {},
          "output_type": "display_data"
        }
      ],
      "source": [
        "# Objetivo 1: Plot de todas las propiedades:\n",
        "\n",
        "properatti_df_final_geografia = properatti_df[['title','place_with_parent_names','provincia','ciudad','barrio','partido','geometry']]\n",
        "# Mapa de Argentina\n",
        "ax = mapa_argentina_2.plot(color='white', edgecolor='black')\n",
        "\n",
        "# Sobre las ciudades superpone el mapa del país\n",
        "properatti_df.plot(ax=ax, color='red', markersize=0.05)\n",
        "\n",
        "plt.title('Localización de todas las propiedades en Argentina')\n",
        "plt.show()"
      ]
    },
    {
      "cell_type": "code",
      "execution_count": 63,
      "metadata": {
        "id": "sGETqF6xD_2o"
      },
      "outputs": [
        {
          "data": {
            "image/png": "[encoded data removed]",
            "text/plain": [
              "<Figure size 1000x1000 with 1 Axes>"
            ]
          },
          "metadata": {},
          "output_type": "display_data"
        }
      ],
      "source": [
        "# Objetivo 1.1: Plot por provincia. En este caso, (ej.) San Luis.\n",
        "\n",
        "mapa_san_luis = mapa_argentina[mapa_argentina.fna == \"Provincia de San Luis\"]\n",
        "\n",
        "  # Para plotear, filtro los puntos que estan dentro de 'mapa_san_luis'\n",
        "\n",
        "contained_points = properatti_df[properatti_df.geometry.within(mapa_san_luis.unary_union)]\n",
        "\n",
        "# plot del mapa_san_luis\n",
        "ax = mapa_san_luis.plot(figsize=(10, 10), color='lightgray', edgecolor='black')\n",
        "contained_points.plot(ax=ax, color='red', marker='o', markersize=5, alpha=0.5)\n",
        "plt.title('Propiedades en San Luis')\n",
        "plt.show()"
      ]
    },
    {
      "cell_type": "code",
      "execution_count": 64,
      "metadata": {},
      "outputs": [
        {
          "name": "stderr",
          "output_type": "stream",
          "text": [
            "/var/folders/cv/c6ctbt612w9_hm1ltt9l68vc0000gn/T/ipykernel_55149/1275857656.py:10: FutureWarning: \n",
            "\n",
            "Passing `palette` without assigning `hue` is deprecated and will be removed in v0.14.0. Assign the `x` variable to `hue` and set `legend=False` for the same effect.\n",
            "\n",
            "  sns.violinplot(data=precios_barrios, x='barrio', y='price', palette='Set3')\n",
            "No artists with labels found to put in legend.  Note that artists whose label start with an underscore are ignored when legend() is called with no argument.\n"
          ]
        },
        {
          "data": {
            "image/png": "[encoded data removed]",
            "text/plain": [
              "<Figure size 1200x800 with 1 Axes>"
            ]
          },
          "metadata": {},
          "output_type": "display_data"
        }
      ],
      "source": [
        "properatti_df[properatti_df['ciudad'] == 'Mar del Plata']['barrio'].value_counts()\n",
        "\n",
        "# Barrios específicos en Mar del Plata\n",
        "barrios = ['Centro', 'Plaza Mitre', 'Chauvin']\n",
        "\n",
        "# Filtra el DataFrame original para incluir solo las propiedades de esos barrios en Mar del Plata\n",
        "precios_barrios = properatti_df[(properatti_df['ciudad'] == 'Mar del Plata') & (properatti_df['barrio'].isin(barrios))]\n",
        "\n",
        "plt.figure(figsize=(12, 8))\n",
        "sns.violinplot(data=precios_barrios, x='barrio', y='price', palette='Set3')\n",
        "\n",
        "plt.title('Precios en Barrios de Mar del Plata')\n",
        "plt.xlabel('Precio')\n",
        "plt.ylabel('Frecuencia')\n",
        "plt.legend(title='Barrio')\n",
        "plt.show()"
      ]
    },
    {
      "cell_type": "code",
      "execution_count": 65,
      "metadata": {},
      "outputs": [
        {
          "data": {
            "text/plain": [
              "price_per_m2\n",
              "False    3309\n",
              "True     3200\n",
              "Name: count, dtype: int64"
            ]
          },
          "execution_count": 65,
          "metadata": {},
          "output_type": "execute_result"
        }
      ],
      "source": [
        "properatti_df[properatti_df['ciudad'] == 'Cordoba']['price_per_m2'].isnull().value_counts()\n"
      ]
    },
    {
      "cell_type": "code",
      "execution_count": 66,
      "metadata": {},
      "outputs": [
        {
          "data": {
            "text/plain": [
              "(8940, 29)"
            ]
          },
          "execution_count": 66,
          "metadata": {},
          "output_type": "execute_result"
        }
      ],
      "source": [
        "properatti_df[properatti_df['ciudad'] == 'Tigre'].shape"
      ]
    },
    {
      "cell_type": "code",
      "execution_count": 67,
      "metadata": {
        "id": "aGGVJoaP4G4J"
      },
      "outputs": [
        {
          "name": "stderr",
          "output_type": "stream",
          "text": [
            "/var/folders/cv/c6ctbt612w9_hm1ltt9l68vc0000gn/T/ipykernel_55149/3716194373.py:8: FutureWarning: \n",
            "\n",
            "Passing `palette` without assigning `hue` is deprecated and will be removed in v0.14.0. Assign the `x` variable to `hue` and set `legend=False` for the same effect.\n",
            "\n",
            "  sns.violinplot(x='barrio', y='price', data=precios_barrios, palette='Set3')\n"
          ]
        },
        {
          "data": {
            "image/png": "[encoded data removed]",
            "text/plain": [
              "<Figure size 1200x800 with 1 Axes>"
            ]
          },
          "metadata": {},
          "output_type": "display_data"
        }
      ],
      "source": [
        "# Objetivo 2: Histograma de precios en tres barrios: Palermo, Nordelta y Centro de Mar del Plata.\n",
        "\n",
        "barrios = ['Palermo', 'Belgrano', 'Retiro']\n",
        "\n",
        "precios_barrios = properatti_df[properatti_df['barrio'].isin(barrios)]\n",
        "\n",
        "plt.figure(figsize=(12, 8))\n",
        "sns.violinplot(x='barrio', y='price', data=precios_barrios, palette='Set3')\n",
        "\n",
        "plt.title('Distribución de Precios en Barrios de Bs. As.')\n",
        "plt.xlabel('Barrio')\n",
        "plt.ylabel('Precio')\n",
        "plt.show()\n",
        "\n",
        "\n",
        "\n",
        "\n"
      ]
    },
    {
      "cell_type": "markdown",
      "metadata": {
        "id": "BVyzLfEZK_nn"
      },
      "source": []
    },
    {
      "cell_type": "markdown",
      "metadata": {
        "id": "1HJWWlTVK__0"
      },
      "source": [
        "#Limpieza de la columna \"surface_total_in_m2\""
      ]
    },
    {
      "cell_type": "code",
      "execution_count": 68,
      "metadata": {
        "id": "XzV4b2f-LHmO"
      },
      "outputs": [
        {
          "name": "stdout",
          "output_type": "stream",
          "text": [
            "Nulos en Surface Total: 38917\n",
            "Procentaje de nulos en Surface Total: 0.32455986723043695\n"
          ]
        }
      ],
      "source": [
        "#cuento las cantidad de valores nulos de la columa superficie total\n",
        "df_surface_total = properatti_df['surface_total_in_m2']\n",
        "print('Nulos en Surface Total:', df_surface_total.isnull().sum())\n",
        "\n",
        "#calculo el porcentaje de nulos en Superficie Total\n",
        "print('Procentaje de nulos en Surface Total:', (df_surface_total.isnull().sum()/ properatti_df.shape[0]))"
      ]
    },
    {
      "cell_type": "code",
      "execution_count": 69,
      "metadata": {
        "id": "tPLvZGrTLgqE"
      },
      "outputs": [],
      "source": [
        "# separlo las columnas en las que se buscará la información faltante\n",
        "df_description = properatti_df['description']\n",
        "df_title = properatti_df['title']\n",
        "df_url = properatti_df['properati_url']"
      ]
    },
    {
      "cell_type": "code",
      "execution_count": 70,
      "metadata": {
        "id": "0QoqpNa-Lgio"
      },
      "outputs": [
        {
          "name": "stdout",
          "output_type": "stream",
          "text": [
            "Nulos en Description: 2\n",
            "Nulos en Title: 0\n",
            "Nulos en Url: 0\n"
          ]
        }
      ],
      "source": [
        "#me fijo cuantos valores nulos hay en las columnas donde se buscará la información\n",
        "print('Nulos en Description:', df_description.isnull().sum())\n",
        "\n",
        "print('Nulos en Title:', df_title.isnull().sum())\n",
        "\n",
        "print('Nulos en Url:', df_url.isnull().sum())"
      ]
    },
    {
      "cell_type": "code",
      "execution_count": 71,
      "metadata": {
        "id": "0zwSZNb7LgeO"
      },
      "outputs": [],
      "source": [
        "#busco una regex para ver en que descripción/title/url hablan de superficie\n",
        "\n",
        "surface_pattern = r\"(\\d+(?:,\\d{1,2})?)\\s*(m²|metros|m2|metros)\"\n",
        "\n",
        "regex = re.compile(surface_pattern, re.IGNORECASE)"
      ]
    },
    {
      "cell_type": "code",
      "execution_count": 72,
      "metadata": {
        "id": "0JlyVIqyLgH6"
      },
      "outputs": [
        {
          "name": "stdout",
          "output_type": "stream",
          "text": [
            "ultima unidad disponiblehaus boulevard: metros cubiertos: 115,23m²contado u$d250.000haus village es un complejo residencial de 20 casas con cochera y jardín propio, dentro del barrio cerrado buenos aires village.todas las unidades tienen entrada para auto, en planta baja cuentan con un toilette, living comedor con cocina separada.patio exclusivo y, en planta alta, 3 dormitorios con espacio para placard (uno en suite).realizados en una estructura monolítica de hormigón armado sobre platea de fundación y aberturas de pvc con dvh. la calidad de la construcción conjuga lo moderno y lo funcional, con un cuidado especial por lo estético. son amplias superficies vidriadas que permiten vivir el verde del jardín en todo momento. el barrio cerrado cuenta con una doble entrada, lo que permite una mejor circulación interna de vehículos. ofrece excelentes alternativas para los accesos al barrio, una entrada es por la autopista del buen ayre y la otra por la calle flaubert. easybroker id: eb-an8955\n"
          ]
        }
      ],
      "source": [
        "#busco una descripción que hable de metros cuadrados para probar la regex\n",
        "\n",
        "print(df_description.iloc[15])"
      ]
    },
    {
      "cell_type": "code",
      "execution_count": 73,
      "metadata": {
        "id": "xmgCRb07LwJG"
      },
      "outputs": [
        {
          "name": "stdout",
          "output_type": "stream",
          "text": [
            "<re.Match object; span=(58, 66), match='115,23m²'>\n"
          ]
        }
      ],
      "source": [
        "# pruebo si la regex funciona en una descrpción en la que se que hablan de m2\n",
        "\n",
        "print(regex.search(df_description.iloc[15]))"
      ]
    },
    {
      "cell_type": "code",
      "execution_count": 74,
      "metadata": {
        "id": "8jxgodu1LwHF"
      },
      "outputs": [
        {
          "name": "stdout",
          "output_type": "stream",
          "text": [
            "[('245', 'metros')]\n"
          ]
        }
      ],
      "source": [
        "#pruebo la regex en un texto generado por mi\n",
        "texto = 'dakfj jdhf urhfsdfh jhdfa fp 245 metros cuadrados djdfhsjkdhf'\n",
        "\n",
        "prueba = re.findall(surface_pattern, texto)\n",
        "\n",
        "print(prueba)"
      ]
    },
    {
      "cell_type": "code",
      "execution_count": 75,
      "metadata": {
        "id": "483dZSitLwEt"
      },
      "outputs": [
        {
          "name": "stdout",
          "output_type": "stream",
          "text": [
            "(38917, 29)\n"
          ]
        }
      ],
      "source": [
        "#filtro el data frame\n",
        "df_filtrado = properatti_df[(properatti_df['surface_total_in_m2'].isnull())]\n",
        "\n",
        "#veo el tamaño del dataframe filtrado\n",
        "print(df_filtrado.shape)"
      ]
    },
    {
      "cell_type": "code",
      "execution_count": 76,
      "metadata": {
        "id": "fGcj21MELwCK"
      },
      "outputs": [
        {
          "name": "stderr",
          "output_type": "stream",
          "text": [
            "/var/folders/cv/c6ctbt612w9_hm1ltt9l68vc0000gn/T/ipykernel_55149/2891084609.py:3: UserWarning: This pattern is interpreted as a regular expression, and has match groups. To actually get the groups, use str.extract.\n",
            "  df_filtrado[\"description\"].str.contains(surface_pattern) |\n"
          ]
        },
        {
          "name": "stdout",
          "output_type": "stream",
          "text": [
            "(9911, 29)\n"
          ]
        },
        {
          "name": "stderr",
          "output_type": "stream",
          "text": [
            "/var/folders/cv/c6ctbt612w9_hm1ltt9l68vc0000gn/T/ipykernel_55149/2891084609.py:4: UserWarning: This pattern is interpreted as a regular expression, and has match groups. To actually get the groups, use str.extract.\n",
            "  df_filtrado[\"title\"].str.contains(surface_pattern) |\n",
            "/var/folders/cv/c6ctbt612w9_hm1ltt9l68vc0000gn/T/ipykernel_55149/2891084609.py:5: UserWarning: This pattern is interpreted as a regular expression, and has match groups. To actually get the groups, use str.extract.\n",
            "  df_filtrado[\"properati_url\"].str.contains(surface_pattern)\n"
          ]
        }
      ],
      "source": [
        "#filtro el dataframe donde la regex encuantra valores y el cuantas encontró\n",
        "df_filtrado_2 = df_filtrado[\n",
        "    df_filtrado[\"description\"].str.contains(surface_pattern) |\n",
        "    df_filtrado[\"title\"].str.contains(surface_pattern) |\n",
        "    df_filtrado[\"properati_url\"].str.contains(surface_pattern)\n",
        "]\n",
        "\n",
        "print(df_filtrado_2.shape)"
      ]
    },
    {
      "cell_type": "code",
      "execution_count": 77,
      "metadata": {
        "id": "QYrL7_qRMSic"
      },
      "outputs": [],
      "source": [
        "#defino una función para aplicar la regex\n",
        "def extract_largest_value(text, regex_pattern):\n",
        "    matches = re.findall(regex_pattern, text)\n",
        "\n",
        "    if matches:\n",
        "        valores_numericos = [float(match[0].replace(',', '.')) for match in matches]\n",
        "        max_valor = max(valores_numericos)\n",
        "        return str(max_valor)\n",
        "    else:\n",
        "        return \"\""
      ]
    },
    {
      "cell_type": "code",
      "execution_count": 78,
      "metadata": {
        "id": "UjGLf0wHMSgN"
      },
      "outputs": [
        {
          "name": "stdout",
          "output_type": "stream",
          "text": [
            "(9911, 29)\n",
            "(9911, 32)\n",
            "65         50.0\n",
            "77             \n",
            "79             \n",
            "109        60.0\n",
            "111        90.0\n",
            "          ...  \n",
            "121134    124.0\n",
            "121155    550.0\n",
            "121156    550.0\n",
            "121207    210.0\n",
            "121208    210.0\n",
            "Name: description_short, Length: 9911, dtype: object\n",
            "65            \n",
            "77        85.0\n",
            "79        42.0\n",
            "109           \n",
            "111           \n",
            "          ... \n",
            "121134        \n",
            "121155        \n",
            "121156        \n",
            "121207        \n",
            "121208        \n",
            "Name: title_short, Length: 9911, dtype: object\n"
          ]
        },
        {
          "name": "stderr",
          "output_type": "stream",
          "text": [
            "/Users/juanvassallo/anaconda3/envs/dhdsblend2021_geopandas/lib/python3.9/site-packages/geopandas/geodataframe.py:1543: SettingWithCopyWarning: \n",
            "A value is trying to be set on a copy of a slice from a DataFrame.\n",
            "Try using .loc[row_indexer,col_indexer] = value instead\n",
            "\n",
            "See the caveats in the documentation: https://pandas.pydata.org/pandas-docs/stable/user_guide/indexing.html#returning-a-view-versus-a-copy\n",
            "  super().__setitem__(key, value)\n",
            "/Users/juanvassallo/anaconda3/envs/dhdsblend2021_geopandas/lib/python3.9/site-packages/geopandas/geodataframe.py:1543: SettingWithCopyWarning: \n",
            "A value is trying to be set on a copy of a slice from a DataFrame.\n",
            "Try using .loc[row_indexer,col_indexer] = value instead\n",
            "\n",
            "See the caveats in the documentation: https://pandas.pydata.org/pandas-docs/stable/user_guide/indexing.html#returning-a-view-versus-a-copy\n",
            "  super().__setitem__(key, value)\n",
            "/Users/juanvassallo/anaconda3/envs/dhdsblend2021_geopandas/lib/python3.9/site-packages/geopandas/geodataframe.py:1543: SettingWithCopyWarning: \n",
            "A value is trying to be set on a copy of a slice from a DataFrame.\n",
            "Try using .loc[row_indexer,col_indexer] = value instead\n",
            "\n",
            "See the caveats in the documentation: https://pandas.pydata.org/pandas-docs/stable/user_guide/indexing.html#returning-a-view-versus-a-copy\n",
            "  super().__setitem__(key, value)\n"
          ]
        }
      ],
      "source": [
        "#agrego 3 columnas con los valores encontrados por la regex\n",
        "print(df_filtrado_2.shape)\n",
        "df_filtrado_2.loc[:, 'description_short'] = df_filtrado_2['description'].apply(lambda x: extract_largest_value(x, surface_pattern))\n",
        "df_filtrado_2.loc[:, 'title_short'] = df_filtrado_2['title'].apply(lambda x: extract_largest_value(x, surface_pattern))\n",
        "df_filtrado_2.loc[:, 'url_short'] = df_filtrado_2['properati_url'].apply(lambda x: extract_largest_value(x, surface_pattern))\n",
        "print(df_filtrado_2.shape)\n",
        "print(df_filtrado_2[\"description_short\"])\n",
        "print(df_filtrado_2[\"title_short\"])"
      ]
    },
    {
      "cell_type": "code",
      "execution_count": 79,
      "metadata": {
        "id": "mEPI2nFjMSdl"
      },
      "outputs": [
        {
          "name": "stderr",
          "output_type": "stream",
          "text": [
            "/Users/juanvassallo/anaconda3/envs/dhdsblend2021_geopandas/lib/python3.9/site-packages/geopandas/geodataframe.py:1543: SettingWithCopyWarning: \n",
            "A value is trying to be set on a copy of a slice from a DataFrame.\n",
            "Try using .loc[row_indexer,col_indexer] = value instead\n",
            "\n",
            "See the caveats in the documentation: https://pandas.pydata.org/pandas-docs/stable/user_guide/indexing.html#returning-a-view-versus-a-copy\n",
            "  super().__setitem__(key, value)\n",
            "/var/folders/cv/c6ctbt612w9_hm1ltt9l68vc0000gn/T/ipykernel_55149/919461477.py:23: SettingWithCopyWarning: \n",
            "A value is trying to be set on a copy of a slice from a DataFrame\n",
            "\n",
            "See the caveats in the documentation: https://pandas.pydata.org/pandas-docs/stable/user_guide/indexing.html#returning-a-view-versus-a-copy\n",
            "  df_filtrado_2.drop('index_column', axis=1, inplace=True)\n"
          ]
        }
      ],
      "source": [
        "#defino una función para aplicar otra regex y solo quedamre con los valores numerícos eliminando los m2, metros o metros cuadrados\n",
        "def extract_number_from_string(string):\n",
        "    match = re.search(r'(\\d+(\\.\\d+)?)', str(string))\n",
        "    return float(match.group(1)) if match else pd.NA\n",
        "\n",
        "#defino una función para juntar los valores obtenidos con los originales del data frame\n",
        "def fill_null(row):\n",
        "    if pd.isnull(row['surface_total_in_m2']):\n",
        "        corresponding_value = df_filtrado_2.loc[df_filtrado_2['index_column'] == row['index_column'], 'description_short'].values\n",
        "        if len(corresponding_value) > 0:\n",
        "            return extract_number_from_string(corresponding_value[0])\n",
        "    return row['surface_total_in_m2']\n",
        "\n",
        "#Agrego una columna de índice común a ambos DataFrames para machear filas\n",
        "properatti_df['index_column'] = properatti_df.index\n",
        "df_filtrado_2['index_column'] = df_filtrado_2.index\n",
        "\n",
        "#aplico la función y creo la columna 'surface_covered_clean' con los valores\n",
        "properatti_df['surface_total_clean'] = properatti_df.apply(fill_null, axis=1)\n",
        "\n",
        "#elimino la columna de índice temporal\n",
        "properatti_df.drop('index_column', axis=1, inplace=True)\n",
        "df_filtrado_2.drop('index_column', axis=1, inplace=True)"
      ]
    },
    {
      "cell_type": "code",
      "execution_count": 80,
      "metadata": {
        "id": "y9O3qoEAMSa4"
      },
      "outputs": [
        {
          "name": "stdout",
          "output_type": "stream",
          "text": [
            "Nulos en la Surface_clean: 29279\n",
            "Nulos en Surface original 38917\n",
            "Cantidad de valores agregados: 9638\n"
          ]
        }
      ],
      "source": [
        "#veo cuantos nulos quedaron en la nueva columna y comparo con la irginal\n",
        "\n",
        "print('Nulos en la Surface_clean:', properatti_df['surface_total_clean'].isnull().sum())\n",
        "print('Nulos en Surface original', properatti_df['surface_total_in_m2'].isnull().sum())\n",
        "print('Cantidad de valores agregados:',properatti_df['surface_total_in_m2'].isnull().sum() - properatti_df['surface_total_clean'].isnull().sum())"
      ]
    },
    {
      "cell_type": "code",
      "execution_count": 81,
      "metadata": {
        "id": "g4awx4IMLv_v"
      },
      "outputs": [
        {
          "data": {
            "text/plain": [
              "336.2083309793882"
            ]
          },
          "execution_count": 81,
          "metadata": {},
          "output_type": "execute_result"
        }
      ],
      "source": [
        "#calculo la media de las superficies\n",
        "properatti_df['surface_total_clean'].mean()"
      ]
    },
    {
      "cell_type": "markdown",
      "metadata": {
        "id": "8D2VfH1iaLcZ"
      },
      "source": [
        "# Limpieza de la columna \"price\""
      ]
    },
    {
      "cell_type": "code",
      "execution_count": 82,
      "metadata": {
        "id": "89be090e"
      },
      "outputs": [
        {
          "data": {
            "text/html": [
              "<div>\n",
              "<style scoped>\n",
              "    .dataframe tbody tr th:only-of-type {\n",
              "        vertical-align: middle;\n",
              "    }\n",
              "\n",
              "    .dataframe tbody tr th {\n",
              "        vertical-align: top;\n",
              "    }\n",
              "\n",
              "    .dataframe thead th {\n",
              "        text-align: right;\n",
              "    }\n",
              "</style>\n",
              "<table border=\"1\" class=\"dataframe\">\n",
              "  <thead>\n",
              "    <tr style=\"text-align: right;\">\n",
              "      <th></th>\n",
              "      <th>price</th>\n",
              "      <th>currency</th>\n",
              "      <th>price_aprox_local_currency</th>\n",
              "      <th>price_aprox_usd</th>\n",
              "      <th>price_usd_per_m2</th>\n",
              "      <th>price_per_m2</th>\n",
              "    </tr>\n",
              "  </thead>\n",
              "  <tbody>\n",
              "    <tr>\n",
              "      <th>0</th>\n",
              "      <td>62000.0</td>\n",
              "      <td>USD</td>\n",
              "      <td>1093959.00</td>\n",
              "      <td>62000.0</td>\n",
              "      <td>1127.272727</td>\n",
              "      <td>1550.000000</td>\n",
              "    </tr>\n",
              "    <tr>\n",
              "      <th>1</th>\n",
              "      <td>150000.0</td>\n",
              "      <td>USD</td>\n",
              "      <td>2646675.00</td>\n",
              "      <td>150000.0</td>\n",
              "      <td>NaN</td>\n",
              "      <td>NaN</td>\n",
              "    </tr>\n",
              "    <tr>\n",
              "      <th>2</th>\n",
              "      <td>72000.0</td>\n",
              "      <td>USD</td>\n",
              "      <td>1270404.00</td>\n",
              "      <td>72000.0</td>\n",
              "      <td>1309.090909</td>\n",
              "      <td>1309.090909</td>\n",
              "    </tr>\n",
              "    <tr>\n",
              "      <th>3</th>\n",
              "      <td>95000.0</td>\n",
              "      <td>USD</td>\n",
              "      <td>1676227.50</td>\n",
              "      <td>95000.0</td>\n",
              "      <td>NaN</td>\n",
              "      <td>NaN</td>\n",
              "    </tr>\n",
              "    <tr>\n",
              "      <th>4</th>\n",
              "      <td>64000.0</td>\n",
              "      <td>USD</td>\n",
              "      <td>1129248.00</td>\n",
              "      <td>64000.0</td>\n",
              "      <td>1828.571429</td>\n",
              "      <td>1828.571429</td>\n",
              "    </tr>\n",
              "    <tr>\n",
              "      <th>...</th>\n",
              "      <td>...</td>\n",
              "      <td>...</td>\n",
              "      <td>...</td>\n",
              "      <td>...</td>\n",
              "      <td>...</td>\n",
              "      <td>...</td>\n",
              "    </tr>\n",
              "    <tr>\n",
              "      <th>121215</th>\n",
              "      <td>870000.0</td>\n",
              "      <td>USD</td>\n",
              "      <td>15350715.00</td>\n",
              "      <td>870000.0</td>\n",
              "      <td>7699.115044</td>\n",
              "      <td>9354.838710</td>\n",
              "    </tr>\n",
              "    <tr>\n",
              "      <th>121216</th>\n",
              "      <td>498000.0</td>\n",
              "      <td>USD</td>\n",
              "      <td>8786961.00</td>\n",
              "      <td>498000.0</td>\n",
              "      <td>1383.333333</td>\n",
              "      <td>1383.333333</td>\n",
              "    </tr>\n",
              "    <tr>\n",
              "      <th>121217</th>\n",
              "      <td>131500.0</td>\n",
              "      <td>USD</td>\n",
              "      <td>2320251.75</td>\n",
              "      <td>131500.0</td>\n",
              "      <td>2858.695652</td>\n",
              "      <td>3371.794872</td>\n",
              "    </tr>\n",
              "    <tr>\n",
              "      <th>121218</th>\n",
              "      <td>95900.0</td>\n",
              "      <td>USD</td>\n",
              "      <td>1692107.55</td>\n",
              "      <td>95900.0</td>\n",
              "      <td>1997.916667</td>\n",
              "      <td>1997.916667</td>\n",
              "    </tr>\n",
              "    <tr>\n",
              "      <th>121219</th>\n",
              "      <td>129000.0</td>\n",
              "      <td>USD</td>\n",
              "      <td>2276140.50</td>\n",
              "      <td>129000.0</td>\n",
              "      <td>1675.324675</td>\n",
              "      <td>1675.324675</td>\n",
              "    </tr>\n",
              "  </tbody>\n",
              "</table>\n",
              "<p>119907 rows × 6 columns</p>\n",
              "</div>"
            ],
            "text/plain": [
              "           price currency  price_aprox_local_currency  price_aprox_usd  \\\n",
              "0        62000.0      USD                  1093959.00          62000.0   \n",
              "1       150000.0      USD                  2646675.00         150000.0   \n",
              "2        72000.0      USD                  1270404.00          72000.0   \n",
              "3        95000.0      USD                  1676227.50          95000.0   \n",
              "4        64000.0      USD                  1129248.00          64000.0   \n",
              "...          ...      ...                         ...              ...   \n",
              "121215  870000.0      USD                 15350715.00         870000.0   \n",
              "121216  498000.0      USD                  8786961.00         498000.0   \n",
              "121217  131500.0      USD                  2320251.75         131500.0   \n",
              "121218   95900.0      USD                  1692107.55          95900.0   \n",
              "121219  129000.0      USD                  2276140.50         129000.0   \n",
              "\n",
              "        price_usd_per_m2  price_per_m2  \n",
              "0            1127.272727   1550.000000  \n",
              "1                    NaN           NaN  \n",
              "2            1309.090909   1309.090909  \n",
              "3                    NaN           NaN  \n",
              "4            1828.571429   1828.571429  \n",
              "...                  ...           ...  \n",
              "121215       7699.115044   9354.838710  \n",
              "121216       1383.333333   1383.333333  \n",
              "121217       2858.695652   3371.794872  \n",
              "121218       1997.916667   1997.916667  \n",
              "121219       1675.324675   1675.324675  \n",
              "\n",
              "[119907 rows x 6 columns]"
            ]
          },
          "execution_count": 82,
          "metadata": {},
          "output_type": "execute_result"
        }
      ],
      "source": [
        "#Selecciono las columnas relacionadas con precio como currency, precio, precio aprox usd etc#\n",
        "\n",
        "precios=properatti_df.loc[:,[\"price\",\"currency\",\"price_aprox_local_currency\",\"price_aprox_usd\",\"price_usd_per_m2\",\"price_per_m2\"]]\n",
        "precios"
      ]
    },
    {
      "cell_type": "code",
      "execution_count": 83,
      "metadata": {
        "id": "cf938a79"
      },
      "outputs": [
        {
          "data": {
            "text/plain": [
              "0              1\n",
              "1              2\n",
              "2              3\n",
              "3              4\n",
              "4              5\n",
              "           ...  \n",
              "121215    119903\n",
              "121216    119904\n",
              "121217    119905\n",
              "121218    119906\n",
              "121219    119907\n",
              "Name: Index, Length: 119907, dtype: int64"
            ]
          },
          "execution_count": 83,
          "metadata": {},
          "output_type": "execute_result"
        }
      ],
      "source": [
        "precios['Index'] = range(1, len(precios)+1)\n",
        "precios[\"Index\"]"
      ]
    },
    {
      "cell_type": "code",
      "execution_count": 84,
      "metadata": {
        "id": "59f16d44"
      },
      "outputs": [
        {
          "data": {
            "text/plain": [
              "20149"
            ]
          },
          "execution_count": 84,
          "metadata": {},
          "output_type": "execute_result"
        }
      ],
      "source": [
        "#Calculo cantidad de nulos en precio. siguiente 3 comandos#\n",
        "\n",
        "nulos=pd.isnull(properatti_df[\"price\"]).sum()\n",
        "nulos"
      ]
    },
    {
      "cell_type": "code",
      "execution_count": 85,
      "metadata": {
        "id": "377d5188"
      },
      "outputs": [],
      "source": [
        "porcentaje_nulos=nulos/(properatti_df[\"price\"].shape[0])*100"
      ]
    },
    {
      "cell_type": "code",
      "execution_count": 86,
      "metadata": {
        "id": "314e26d3"
      },
      "outputs": [
        {
          "data": {
            "text/plain": [
              "16.80385632198287"
            ]
          },
          "execution_count": 86,
          "metadata": {},
          "output_type": "execute_result"
        }
      ],
      "source": [
        "porcentaje_nulos"
      ]
    },
    {
      "cell_type": "code",
      "execution_count": 87,
      "metadata": {
        "id": "779c6e0e"
      },
      "outputs": [
        {
          "name": "stdout",
          "output_type": "stream",
          "text": [
            "price                          99758\n",
            "currency                       99757\n",
            "price_aprox_local_currency     99758\n",
            "price_aprox_usd                99758\n",
            "price_usd_per_m2               67861\n",
            "price_per_m2                   86774\n",
            "Index                         119907\n",
            "dtype: int64\n"
          ]
        }
      ],
      "source": [
        "nulos.dtype\n",
        "\n",
        "is_notnull_result = precios.notnull()\n",
        "canti_not_null=is_notnull_result.sum()\n",
        "print(canti_not_null)\n"
      ]
    },
    {
      "cell_type": "code",
      "execution_count": 88,
      "metadata": {
        "id": "d9b597db"
      },
      "outputs": [],
      "source": [
        "porcentaje_no_nulos=canti_not_null/(properatti_df.shape[0])*100"
      ]
    },
    {
      "cell_type": "code",
      "execution_count": 89,
      "metadata": {
        "id": "68c7d53d"
      },
      "outputs": [
        {
          "data": {
            "text/plain": [
              "price                          83.196144\n",
              "currency                       83.195310\n",
              "price_aprox_local_currency     83.196144\n",
              "price_aprox_usd                83.196144\n",
              "price_usd_per_m2               56.594694\n",
              "price_per_m2                   72.367752\n",
              "Index                         100.000000\n",
              "dtype: float64"
            ]
          },
          "execution_count": 89,
          "metadata": {},
          "output_type": "execute_result"
        }
      ],
      "source": [
        "porcentaje_no_nulos"
      ]
    },
    {
      "cell_type": "code",
      "execution_count": 90,
      "metadata": {
        "id": "1b5864b8"
      },
      "outputs": [
        {
          "data": {
            "text/plain": [
              "price                         float64\n",
              "currency                       object\n",
              "price_aprox_local_currency    float64\n",
              "price_aprox_usd               float64\n",
              "price_usd_per_m2              float64\n",
              "price_per_m2                  float64\n",
              "Index                           int64\n",
              "dtype: object"
            ]
          },
          "execution_count": 90,
          "metadata": {},
          "output_type": "execute_result"
        }
      ],
      "source": [
        "precios.dtypes"
      ]
    },
    {
      "cell_type": "code",
      "execution_count": 91,
      "metadata": {
        "id": "8953cbd1"
      },
      "outputs": [
        {
          "data": {
            "text/plain": [
              "0     62000.0\n",
              "1    150000.0\n",
              "2     72000.0\n",
              "3     95000.0\n",
              "4     64000.0\n",
              "5         NaN\n",
              "6    130000.0\n",
              "7    138000.0\n",
              "8    195000.0\n",
              "9    460000.0\n",
              "Name: price, dtype: float64"
            ]
          },
          "execution_count": 91,
          "metadata": {},
          "output_type": "execute_result"
        }
      ],
      "source": [
        "#corroborar que hay nulos en precios#\n",
        "precios[\"price\"].head(10)"
      ]
    },
    {
      "cell_type": "code",
      "execution_count": 92,
      "metadata": {
        "id": "bb16fd05"
      },
      "outputs": [
        {
          "data": {
            "text/plain": [
              "price\n",
              "NaN          20149\n",
              "120000.0      1655\n",
              "130000.0      1453\n",
              "150000.0      1395\n",
              "110000.0      1323\n",
              "             ...  \n",
              "292100.0         1\n",
              "1467000.0        1\n",
              "1356000.0        1\n",
              "232837.0         1\n",
              "1036300.0        1\n",
              "Name: count, Length: 9595, dtype: int64"
            ]
          },
          "execution_count": 92,
          "metadata": {},
          "output_type": "execute_result"
        }
      ],
      "source": [
        "#contar cantidad de nulos#\n",
        "contar_valores=properatti_df[\"price\"].value_counts(dropna=False)\n",
        "contar_valores"
      ]
    },
    {
      "cell_type": "code",
      "execution_count": 93,
      "metadata": {
        "id": "92e96fca"
      },
      "outputs": [],
      "source": [
        "#Tipos de monedas que componen el campo currency#"
      ]
    },
    {
      "cell_type": "code",
      "execution_count": 94,
      "metadata": {
        "id": "eb888deb"
      },
      "outputs": [],
      "source": [
        "df_currency_type = properatti_df.groupby(\"currency\")"
      ]
    },
    {
      "cell_type": "code",
      "execution_count": 95,
      "metadata": {
        "id": "b2014fb1"
      },
      "outputs": [
        {
          "data": {
            "text/plain": [
              "['ARS', 'PEN', 'USD', 'UYU']"
            ]
          },
          "execution_count": 95,
          "metadata": {},
          "output_type": "execute_result"
        }
      ],
      "source": [
        "df_currency_type_values = list(df_currency_type.groups.keys())\n",
        "df_currency_type_values"
      ]
    },
    {
      "cell_type": "code",
      "execution_count": 96,
      "metadata": {
        "id": "11c0cdfe"
      },
      "outputs": [
        {
          "data": {
            "text/plain": [
              "currency\n",
              "ARS    12910\n",
              "PEN        2\n",
              "USD    86844\n",
              "UYU        1\n",
              "Name: price, dtype: int64"
            ]
          },
          "execution_count": 96,
          "metadata": {},
          "output_type": "execute_result"
        }
      ],
      "source": [
        "#Cantidad de entries con cada campo#\n",
        "\n",
        "precio_por_moneda=properatti_df.groupby(\"currency\")[\"price\"].count()\n",
        "precio_por_moneda"
      ]
    },
    {
      "cell_type": "code",
      "execution_count": 97,
      "metadata": {
        "id": "c8d19f4b"
      },
      "outputs": [
        {
          "data": {
            "text/html": [
              "<div>\n",
              "<style scoped>\n",
              "    .dataframe tbody tr th:only-of-type {\n",
              "        vertical-align: middle;\n",
              "    }\n",
              "\n",
              "    .dataframe tbody tr th {\n",
              "        vertical-align: top;\n",
              "    }\n",
              "\n",
              "    .dataframe thead th {\n",
              "        text-align: right;\n",
              "    }\n",
              "</style>\n",
              "<table border=\"1\" class=\"dataframe\">\n",
              "  <thead>\n",
              "    <tr style=\"text-align: right;\">\n",
              "      <th></th>\n",
              "      <th>price</th>\n",
              "      <th>currency</th>\n",
              "      <th>price_aprox_local_currency</th>\n",
              "      <th>price_aprox_usd</th>\n",
              "      <th>price_usd_per_m2</th>\n",
              "      <th>price_per_m2</th>\n",
              "      <th>Index</th>\n",
              "    </tr>\n",
              "  </thead>\n",
              "  <tbody>\n",
              "    <tr>\n",
              "      <th>107390</th>\n",
              "      <td>650000000.0</td>\n",
              "      <td>UYU</td>\n",
              "      <td>4.054773e+08</td>\n",
              "      <td>22980378.29</td>\n",
              "      <td>NaN</td>\n",
              "      <td>NaN</td>\n",
              "      <td>106216</td>\n",
              "    </tr>\n",
              "  </tbody>\n",
              "</table>\n",
              "</div>"
            ],
            "text/plain": [
              "              price currency  price_aprox_local_currency  price_aprox_usd  \\\n",
              "107390  650000000.0      UYU                4.054773e+08      22980378.29   \n",
              "\n",
              "        price_usd_per_m2  price_per_m2   Index  \n",
              "107390               NaN           NaN  106216  "
            ]
          },
          "execution_count": 97,
          "metadata": {},
          "output_type": "execute_result"
        }
      ],
      "source": [
        "mascara_uyu=precios[\"currency\"]==\"UYU\"\n",
        "fila_uy=precios[mascara_uyu]\n",
        "fila_uy"
      ]
    },
    {
      "cell_type": "code",
      "execution_count": 98,
      "metadata": {
        "id": "38282639"
      },
      "outputs": [
        {
          "data": {
            "text/html": [
              "<div>\n",
              "<style scoped>\n",
              "    .dataframe tbody tr th:only-of-type {\n",
              "        vertical-align: middle;\n",
              "    }\n",
              "\n",
              "    .dataframe tbody tr th {\n",
              "        vertical-align: top;\n",
              "    }\n",
              "\n",
              "    .dataframe thead th {\n",
              "        text-align: right;\n",
              "    }\n",
              "</style>\n",
              "<table border=\"1\" class=\"dataframe\">\n",
              "  <thead>\n",
              "    <tr style=\"text-align: right;\">\n",
              "      <th></th>\n",
              "      <th>price</th>\n",
              "      <th>currency</th>\n",
              "      <th>price_aprox_local_currency</th>\n",
              "      <th>price_aprox_usd</th>\n",
              "      <th>price_usd_per_m2</th>\n",
              "      <th>price_per_m2</th>\n",
              "      <th>Index</th>\n",
              "    </tr>\n",
              "  </thead>\n",
              "  <tbody>\n",
              "    <tr>\n",
              "      <th>50387</th>\n",
              "      <td>380000.0</td>\n",
              "      <td>PEN</td>\n",
              "      <td>2066864.90</td>\n",
              "      <td>117139.33</td>\n",
              "      <td>NaN</td>\n",
              "      <td>NaN</td>\n",
              "      <td>49718</td>\n",
              "    </tr>\n",
              "    <tr>\n",
              "      <th>50388</th>\n",
              "      <td>950000.0</td>\n",
              "      <td>PEN</td>\n",
              "      <td>5167162.35</td>\n",
              "      <td>292848.33</td>\n",
              "      <td>NaN</td>\n",
              "      <td>NaN</td>\n",
              "      <td>49719</td>\n",
              "    </tr>\n",
              "  </tbody>\n",
              "</table>\n",
              "</div>"
            ],
            "text/plain": [
              "          price currency  price_aprox_local_currency  price_aprox_usd  \\\n",
              "50387  380000.0      PEN                  2066864.90        117139.33   \n",
              "50388  950000.0      PEN                  5167162.35        292848.33   \n",
              "\n",
              "       price_usd_per_m2  price_per_m2  Index  \n",
              "50387               NaN           NaN  49718  \n",
              "50388               NaN           NaN  49719  "
            ]
          },
          "execution_count": 98,
          "metadata": {},
          "output_type": "execute_result"
        }
      ],
      "source": [
        "mascara_pen=precios[\"currency\"]==\"PEN\"\n",
        "fila_pen=precios[mascara_pen]\n",
        "fila_pen"
      ]
    },
    {
      "cell_type": "code",
      "execution_count": 99,
      "metadata": {
        "id": "ea030892"
      },
      "outputs": [
        {
          "name": "stdout",
          "output_type": "stream",
          "text": [
            "107390    casa con calefacción central, mendoza, san roque, por $ 650.000.000\n",
            "Name: description, dtype: object\n",
            "107390    http://www.properati.com.ar/1by0s_venta_casa_san-roque_garage_ciudad-inmobiliaria_go2\n",
            "Name: properati_url, dtype: object\n",
            "107390    casa - san vicente\n",
            "Name: title, dtype: object\n"
          ]
        }
      ],
      "source": [
        "valores=properatti_df[mascara_uyu]\n",
        "pd.set_option(\"display.max_colwidth\",1000)\n",
        "print(valores[\"description\"])\n",
        "print(valores[\"properati_url\"])\n",
        "print(valores[\"title\"])"
      ]
    },
    {
      "cell_type": "code",
      "execution_count": 100,
      "metadata": {
        "id": "7444d438"
      },
      "outputs": [
        {
          "data": {
            "text/html": [
              "<div>\n",
              "<style scoped>\n",
              "    .dataframe tbody tr th:only-of-type {\n",
              "        vertical-align: middle;\n",
              "    }\n",
              "\n",
              "    .dataframe tbody tr th {\n",
              "        vertical-align: top;\n",
              "    }\n",
              "\n",
              "    .dataframe thead th {\n",
              "        text-align: right;\n",
              "    }\n",
              "</style>\n",
              "<table border=\"1\" class=\"dataframe\">\n",
              "  <thead>\n",
              "    <tr style=\"text-align: right;\">\n",
              "      <th></th>\n",
              "      <th>price</th>\n",
              "      <th>currency</th>\n",
              "      <th>price_aprox_local_currency</th>\n",
              "      <th>price_aprox_usd</th>\n",
              "      <th>price_usd_per_m2</th>\n",
              "      <th>price_per_m2</th>\n",
              "      <th>Index</th>\n",
              "    </tr>\n",
              "  </thead>\n",
              "  <tbody>\n",
              "    <tr>\n",
              "      <th>107390</th>\n",
              "      <td>650000000.0</td>\n",
              "      <td>UYU</td>\n",
              "      <td>4.054773e+08</td>\n",
              "      <td>22980378.29</td>\n",
              "      <td>NaN</td>\n",
              "      <td>NaN</td>\n",
              "      <td>106216</td>\n",
              "    </tr>\n",
              "  </tbody>\n",
              "</table>\n",
              "</div>"
            ],
            "text/plain": [
              "              price currency  price_aprox_local_currency  price_aprox_usd  \\\n",
              "107390  650000000.0      UYU                4.054773e+08      22980378.29   \n",
              "\n",
              "        price_usd_per_m2  price_per_m2   Index  \n",
              "107390               NaN           NaN  106216  "
            ]
          },
          "execution_count": 100,
          "metadata": {},
          "output_type": "execute_result"
        }
      ],
      "source": [
        "valor_pesos=precios[mascara_uyu]\n",
        "valor_pesos"
      ]
    },
    {
      "cell_type": "code",
      "execution_count": 101,
      "metadata": {
        "id": "11782bb0"
      },
      "outputs": [],
      "source": [
        "#Filtramos los datos de descripcion por moneda#\n",
        "\n",
        "import re"
      ]
    },
    {
      "cell_type": "code",
      "execution_count": 102,
      "metadata": {
        "id": "71d8e6bb"
      },
      "outputs": [
        {
          "name": "stdout",
          "output_type": "stream",
          "text": [
            "(3667, 30)\n"
          ]
        }
      ],
      "source": [
        "data_filtrada = properatti_df[properatti_df['price'].isnull()]\n",
        "regex_pattern_2 = re.compile(r'\\b(?:usd|us\\$|u\\$s|\\$|ars)\\b', re.IGNORECASE)\n",
        "filtered_df_2 = data_filtrada[\n",
        "    data_filtrada[\"description\"].str.contains(regex_pattern_2) |\n",
        "    data_filtrada[\"title\"].str.contains(regex_pattern_2) |\n",
        "    data_filtrada[\"properati_url\"].str.contains(regex_pattern_2)\n",
        "]\n",
        "\n",
        "print(filtered_df_2.shape)"
      ]
    },
    {
      "cell_type": "markdown",
      "metadata": {
        "id": "xXxFzrymF9GU"
      },
      "source": [
        "hay 3695 lineas filtradas que corresponden a valores de precio nulos y que se pueden rellenar\n",
        "#"
      ]
    },
    {
      "cell_type": "code",
      "execution_count": 103,
      "metadata": {
        "id": "701db83a"
      },
      "outputs": [
        {
          "name": "stdout",
          "output_type": "stream",
          "text": [
            "(3667, 30)\n",
            "(3667, 33)\n",
            "124                                                                                                                                                                                                                                                                                                                                                                                                                                                                                                                                                                                                                                                                                                                                        codigo: 2366-347 ubicado en: puerto roldan -  publicado por: cosa propiedades. el precio es de ars 1 null. 3 dormitorios 125 m2 cubiertos + 54 m2 semicubiertos terreno 1115 m2 (26x43) todo en una planta 2 baños completos living comedor con cocina semi integrada . publicado a través de mapaprop\n",
            "125                                                                                                                                                                                                                                                                                                                                                                                                                                                                                                                                                                                                                                                                                                                                                                                                                                                                           codigo: 438-12112 ubicado en: test de prueba -  publicado por: vip propiedades. el precio es de ars 6500 null. descripcion de test . publicado a través de mapaprop\n",
            "126                                                                                                                                                                                                                                                                                                                        codigo: 021 ubicado en: quintana 4900 -  publicado por: anzalone propiedades. el precio es de usd 1 null. compuesta de cocina – comedor diario con alacena y bajo mesada en formica, living – comedor, 2 dormitorios (uno más amplio al frente y un segundo dormitorio más chico con pisos de parquet), hall distribuidor amplio, baño completo con bañera de material con revestimiento cerámico, patio descubierto, lavadero cubierto, garaje cubierto para 1 vehículo con entrada por calle irigoyen, quincho con parrilla y jardín. la propiedad tiene una antigüedad aproximada de 60 años.  consulte valor en nuestra oficina ubicada en avenida velez sarsfield 1027 c.madero  . publicado a través de mapaprop\n",
            "263       codigo:  ubicado en: tucuman -  publicado por: agustin kreiber servicios inmobiliarios. el precio es de usd 1 null. se vende casa céntrica de aprox. 200m2 cub, y 1 depto. integrado de 35m2, emplazados sobre lote de 630m2, en excelente ubicación sobre calle tucumán entre álvaro barros y mitre de viedma. la casa está compuesta por 3 habitaciones, living amplio, cocina completa, un baño, sala multiuso, hermoso quincho con fogón, garage cubierto de 40m2 (con depósito en contra-frente del mismo), lavadero, y patio amplio integrado en el lateral y frente de la propiedad. a su vez cuenta con un depto. de dos hab, y un baño integrado con acceso por el patio del frente de la propiedad.  la casa cuenta con espacios amplios y se encuentra en excelente estado de conservación, con mobiliario moderno, muy cómoda y segura apta para crédito. valor u$s240.000 (dólares).-  para más información consultar por privado o al 60/ 4-54718 (fijo) o personalmente en bv. ayacucho 913 esq. pueyrredón - viedma ...\n",
            "273                                                                                                                                                                                                                                                                                                                                                                                                                                                                                                                                                                                                                                                                                                                                 codigo:  ubicado en: urquiza 410 -  publicado por: valeria sanchez ferreiros. el precio es de usd 1 null. departamento en primer piso por escalera. cuenta con 3 dormitorios, 2 de ellos con baño en suite, cocina, living, comedor, baño. 2do. piso lavadero con terraza .  . publicado a través de mapaprop\n",
            "                                                                                                                                                                                                                                                                                                                                                                                                                                                                                                                           ...                                                                                                                                                                                                                                                                                                                                                                                                                                                                                                                   \n",
            "120911                                                                                                                                                                                                                                  ambiente divisible con pisos de porcelanato natural con zócalos de madera color wengue- amplio baño completo revestido con cerámica san lorenzo color arena y guardas de venecitas- artefactos sanitarios y griferías serán de marcas de primera línea (roca, genebre, ferrum o similar)- placard completo-cocina con mesada de granito, muebles bajo y sobre mesada completos-  cocina con horno y anafe de 4 hornallas a gas- pre-instalación para equipos de aire acondicionadoagua caliente central-balcón con conexión para lavarropas- amenities: solárium con parrilla.entrega septiembre 2018precio de contado- consultar por financiación adelanto de 35% y cuotas con ajuste cac.cocheras opcionales desde u$s20.000.-bauleras opcionales u$s2.200.-consúltenos- sucursal palermo-             \n",
            "120912                                                                                                                                                                                                                                  ambiente divisible con pisos de porcelanato natural con zócalos de madera color wengue- amplio baño completo revestido con cerámica san lorenzo color arena y guardas de venecitas- artefactos sanitarios y griferías serán de marcas de primera línea (roca, genebre, ferrum o similar)- placard completo-cocina con mesada de granito, muebles bajo y sobre mesada completos-  cocina con horno y anafe de 4 hornallas a gas- pre-instalación para equipos de aire acondicionadoagua caliente central-balcón con conexión para lavarropas- amenities: solárium con parrilla.entrega septiembre 2018precio de contado- consultar por financiación adelanto de 35% y cuotas con ajuste cac.cocheras opcionales desde u$s20.000.-bauleras opcionales u$s2,200.-consúltenos- sucursal palermo-             \n",
            "120913                                                                                                                                                                                                                                  ambiente divisible con pisos de porcelanato natural con zócalos de madera color wengue- amplio baño completo revestido con cerámica san lorenzo color arena y guardas de venecitas- artefactos sanitarios y griferías serán de marcas de primera línea (roca, genebre, ferrum o similar)- placard completo-cocina con mesada de granito, muebles bajo y sobre mesada completos-  cocina con horno y anafe de 4 hornallas a gas- pre-instalación para equipos de aire acondicionadoagua caliente central-balcón con conexión para lavarropas- amenities: solárium con parrilla.entrega septiembre 2018precio de contado- consultar por financiación adelanto de 35% y cuotas con ajuste cac.cocheras opcionales desde u$s20.000.-bauleras opcionales u$s2.200.-consúltenos- sucursal palermo-             \n",
            "120914                                                                                                                                                                                                                                  ambiente divisible con pisos de porcelanato natural con zócalos de madera color wengue- amplio baño completo revestido con cerámica san lorenzo color arena y guardas de venecitas- artefactos sanitarios y griferías serán de marcas de primera línea (roca, genebre, ferrum o similar)- placard completo-cocina con mesada de granito, muebles bajo y sobre mesada completos-  cocina con horno y anafe de 4 hornallas a gas- pre-instalación para equipos de aire acondicionadoagua caliente central-balcón con conexión para lavarropas- amenities: solárium con parrilla.entrega septiembre 2018precio de contado- consultar por financiación adelanto de 35% y cuotas con ajuste cac.cocheras opcionales desde u$s20.000.-bauleras opcionales u$s2.200.-consúltenos- sucursal palermo-             \n",
            "121214                                                                                                                                                                                                                                                                                                                                                                                                                                                                                                                                   ***venta con renta***local en edificio lomas park muy bien ubicado.muy buen local súper luminoso,amplio salón de ventas y atención al público. privado.2 baños. kichinette. 3 cocheras cubiertas. estacionamiento de cortesía.venta con renta: alquilado a search seguridad contrato por 5 años. inicio diciembre 2014 . con proyección de quedarse, alquilan además  oficinas en el piso de arriba. actualmente valor de alquiler: u$s 1.338. -para el 4to. año u$s 1.471.-para el 5to. año u$s 1.619.-\n",
            "Name: description, Length: 3667, dtype: object\n",
            "                   u$d 260.000  u$d 115.000  u$d 740.000  u$d 740.000  u$d 740.000  u$d 740.000  u$d 740.000  u$d 740.000  u$d 740.000  u$d 740.000  u$d 740.000  u$d 740.000  u$d 115.000  u$d 740.000  u$d 740.000  u$d 740.000  u$d 740.000  u$d 740.000  u$d 740.000  u$d 740.000  u$d 740.000  u$d 740.000  u$d 740.000  u$d 740.000  u$d 740.000  u$d 110.000  u$d 180.000  u$d 975.000  u$d 170.000  u$d 100.000  u$d 320.000  u$d 143.000  u$d 140.000  u$d 110.000  u$d 180.000  u$d 72.000 - u$d 135.000  u$d 160.000  u$d 85.000 - u$d 135.000  u$d 110.000  u$d 190.000  u$d 235.000  u$d 1 - loca u$d 98.000 - u$d 115.000  u$d 380.000  u$d 435.000  u$d 290.000  u$d 145.000  u$d 215.000  u$d 695.000  u$d 109.000  u$d 200.000  u$d 89.000 - u$d 55.000 - u$d 175.000  u$d 215.000  u$d 85.000 - u$d 170.000  u$d 167.000  u$d 258.000  u$d 258.000  u$d 258.000  u$d 258.000  u$d 258.000  u$d 258.000  u$d 258.000  u$d 258.000  u$d 298.000  u$d 430.000  u$d 255.000  u$d 240.000  u$d 130.000  u$d 155.000  u$d 229.000  u$d 120.000  u$d 275.000  u$d 239.000  u$d 365.000  u$d 380.000  u$d 380.000  u$d 380.000  u$d 380.000  u$d 380.000  u$d 380.000  u$d 380.000  u$d 380.000  u$d 380.000  u$d 380.000  u$d 170.000  u$d 700.000  u$d 160.000  u$d 250.000  u$d 99.000 - u$d 85.000 - u$d 137.000  u$d 159.000  u$d 155.000  u$d 130.000  u$d 110.000  u$d 88.000 - u$d 85.000 - u$d 145.000  u$d 190.000  u$d 315.000  u$d 125.000  u$d 130.000  u$d 150.000  u$d 175.000  u$d 180.000  u$d 500.000  u$d 78.000 - u$d 250.000  u$d 1.690.00 u$d 55.000 - u$d 70.000 - u$d 490.000  u$d 100.000  u$d 1.000.00 u$d 300.000  u$d 60.000 - u$d 55.000 - u$d 160.000  u$d 275.000  u$d 180.000  u$d 215.000  u$d 235.000  u$d 180.000  u$d 350.000  u$d 85.000 - u$d 160.000  u$d 1.200.00 u$d 180.000  u$d 265.000  u$d 439.000  u$d 439.000  u$d 439.000  u$d 439.000  u$d 72.000 - u$d 235.000  u$d 280.000  u$d 99.000 - u$d 439.000  u$d 95.000 - u$d 130.000  u$d 72.000 - u$d 190.000  u$d 190.000  u$d 160.000  u$d 200.000  u$d 120.000  u$d 65.000 - u$d 120.000  u$d 150.000  u$d 110.000  u$d 125.000  u$d 120.000  u$d 65.000 - u$d 96.000 - u$d 60.000 - u$d 160.000  u$d 125.000  u$d 94.000 - u$d 50.000 - u$d 220.000  u$d 73.000 - u$d 320.000  u$d 72.000 - u$d 149.000  u$d 130.000  u$d 150.000  u$d 260.000  u$d 285.000  u$d 175.000  u$d 80 - dep u$d 260.000  u$d 260.000  u$d 260.000  u$d 260.000  u$d 260.000  u$d 260.000  u$d 165.000  u$d 165.000  u$d 165.000  u$d 165.000  u$d 90.000 - u$d 189.000  u$d 78.000 - u$d 339.000  u$d 80.000 - u$d 80.000 - u$d 80.000 - u$d 80.000 - u$d 92.000 - u$d 190.000  u$d 150.000  u$d 110.000  u$d 55.000 - u$d 120.000  u$d 62.500 - u$d 68.000 - u$d 65.000 - u$d 55.000 - u$d 330.000  u$d 330.000  u$d 330.000  u$d 330.000  u$d 330.000  u$d 85.000 - u$d 290.000  u$d 450.000  u$d 450.000  u$d 450.000  u$d 450.000  u$d 450.000  u$d 450.000  u$d 450.000  u$d 450.000  u$d 185.000  u$d 12 - cas u$d 130.000  u$d 215.000  u$d 86.000 - u$d 275.000  u$d 360.000  u$d 85.000 - u$d 85.000 - u$d 162.000  u$d 248.000  u$d 165.000  u$d 85.000 - u$d 550.000  u$d 124.900  u$d 75.000 - u$d 160.000  u$d 1.234.56 u$d 123.456. u$d 290.000  u$d 440.000  u$d 440.000  u$d 440.000  u$d 440.000  u$d 440.000  u$d 440.000  u$d 440.000  u$d 440.000  u$d 85.000 - u$d 160.000  u$d 95.000 - u$d 70.000 - u$d 117.000  u$d 250.000  u$d 68.000 - u$d 240.000  u$d 45.000 - u$d 189.000  u$d 142.000  u$d 70.000 - u$d 42.000 - u$d 35.000 - u$d 145.000  u$d 68.000 - u$d 100.000  u$d 90.000 - u$d 170.000  u$d 125.000  u$d 250.000  u$d 138.000  u$d 248.000  u$d 690.000  u$d 690.000  u$d 690.000  u$d 690.000  u$d 690.000  u$d 690.000  u$d 690.000  u$d 690.000  u$d 690.000  u$d 690.000  u$d 690.000  u$d 690.000  u$d 690.000  u$d 230.000  u$d 70.000 - u$d 147.000  u$d 189.000  u$d 200.000  u$d 199.000  u$d 160.000  u$d 150.000  u$d 145.000  u$d 550.000  u$d 155.000  u$d 109.000  u$d 320.000  u$d 125.000  u$d 85.000 - u$d 250.000  u$d 100.000  u$d 1 - casa u$d 200.000  u$d 125.000  u$d 350.000  u$d 390.000  u$d 390.000  u$d 390.000  u$d 390.000  u$d 390.000  u$d 179.900  u$d 132.000  u$d 390.000  u$d 390.000  u$d 390.000  u$d 390.000  u$d 135.000  u$d 118.000  u$d 490.000  u$d 180.000  u$d 550.000  u$d 70.000 - u$d 151.050  u$d 140.400  u$d 135.000  u$d 210.000  u$d 320.000  u$d 230.000  u$d 85.000 - u$d 120.000  u$d 75.000 - u$d 160.000  u$d 110.000  u$d 53.000 - u$d 220.000  u$d 175.000  u$d 175.000  u$d 175.000  u$d 112.000  u$d 175.000  u$d 175.000  u$d 175.000  u$d 175.000  u$d 175.000  u$d 175.000  u$d 175.000  u$d 175.000  u$d 230.000  u$d 130.000  u$d 120.000  u$d 240.000  u$d 420.000  u$d 75.000 - u$d 85.733 - u$d 430.000  u$d 120.000  u$d 85.000 - u$d 140.000  u$d 240.000  u$d 145.000  u$d 60.000 - u$d 220.000  u$d 170.000  u$d 240.000  u$d 250.000  u$d 497.000  u$d 497.000  u$d 497.000  u$d 497.000  u$d 497.000  u$d 497.000  u$d 497.000  u$d 497.000  u$d 245.000  u$d 245.000  u$d 11.800.0 u$d 350.000  u$d 125.000  u$d 175.000  u$d 300.000  u$d 142.000  u$d 155.000  u$d 400.000  u$d 380.000  u$d 650.000  u$d 450.000  u$d 700.000  u$d 500.000  u$d 180.000  u$d 72.000 - u$d 250.000  u$d 380.000  u$d 120.000  u$d 138.000  u$d 535.000  u$d 535.000  u$d 535.000  u$d 535.000  u$d 535.000  u$d 535.000  u$d 535.000  u$d 535.000  u$d 535.000  u$d 535.000  u$d 535.000  u$d 535.000  u$d 136.000  u$d 126.000  u$d 280.000  u$d 79.000 - u$d 320.000  u$d 270.000  u$d 130.000  u$d 350.000  u$d 149.000  u$d 275.000  u$d 135.000  u$d 290.000  u$d 1.150.00 u$d 49.500 - u$d 125.000  u$d 175.000  u$d 250.000  u$d 250.000  u$d 250.000  u$d 250.000  u$d 250.000  u$d 250.000  u$d 250.000  u$d 250.000  u$d 250.000  u$d 250.000  u$d 250.000  u$d 250.000  u$d 140.400  u$d 135.150  u$d 900.000  u$d 900.000  u$d 900.000  u$d 900.000  u$d 900.000  u$d 900.000  u$d 900.000  u$d 900.000  u$d 900.000  u$d 145.000  u$d 450.000  u$d 450.000  u$d 450.000  u$d 450.000  u$d 450.000  u$d 450.000  u$d 450.000  u$d 450.000  u$d 450.000  u$d 450.000  u$d 450.000  u$d 450.000  u$d 80.000 - u$d 60.000 - u$d 110.000  u$d 250.000  u$d 300.000  u$d 300.000  u$d 300.000  u$d 300.000  u$d 300.000  u$d 300.000  u$d 300.000  u$d 300.000  u$d 300.000  u$d 300.000  u$d 300.000  u$d 300.000  u$d 300.000  u$d 200.000  u$d 100.000  u$d 100.000  u$d 100.000  u$d 100.000  u$d 100.000  u$d 100.000  u$d 100.000  u$d 100.000  u$d 260.000  u$d 420.000  u$d 130.000  u$d 110.000  u$d 159.500  u$d 220.000  u$d 190.000  u$d 165.000  u$d 100.000  u$d 60.000 - u$d 85.000 - u$d 85.000 - u$d 360.000  u$d 360.000  u$d 360.000  u$d 360.000  u$d 360.000  u$d 360.000  u$d 140.000  u$d 65.000 - u$d 67.000 - u$d 90.000 - u$d 75.000 - u$d 240.000  u$d 110.000  u$d 70.000 - u$d 85.000 - u$d 190.000  u$d 175.000  u$d 175.000  u$d 175.000  u$d 130.720  u$d 145.000  u$d 74.320 - u$d 395.000  u$d 160.000  u$d 330.000  u$d 110.000  u$d 95.000 - u$d 88.000 - u$d 70.000 - u$d 45.000 - u$d 243.000  u$d 4.400 -  u$d 88.000 - u$d 63.000 - u$d 44.000 - u$d 380.000  u$d 360.000  u$d 145.000  u$d 250.000  u$d 90.000 - u$d 95.000 - u$d 110.000  u$d 110.000  u$d 100.000  u$d 160.000  u$d 90.000 - u$d 65.000 - u$d 175.000  u$d 135.000  u$d 479.000  u$d 120.000  u$d 155.500  u$d 164.500  u$d 300.000  u$d 90.000 - u$d 97.000 - u$d 320.000  u$d 330.000  u$d 280.000  u$d 55.000 - u$d 1.150 -  u$d 37.400 - u$d 66.000 - u$d 2.200 -  u$d 479.000  u$d 1.550 -  u$d 36.000 -  u$d 98.000 - u$d 275.000  u$d 150.000  u$d 388.000  u$d 85.000 - u$d 145.000  u$d 70.000 - u$d 80.000 - u$d 80.000 - u$d 97.000 - u$d 55.000 - u$d 190.000  u$d 190.000  u$d 190.000  u$d 190.000  u$d 190.000  u$d 190.000  u$d 190.000  u$d 190.000  u$d 285.000  u$d 285.000  u$d 285.000  u$d 285.000  u$d 285.000  u$d 285.000  u$d 285.000  u$d 285.000  u$d 285.000  u$d 285.000  u$d 285.000  u$d 285.000  u$d 260.000  u$d 260.000  u$d 175.000  u$d 129.000  u$d 215.000  u$d 1 - casa u$d 175.000  u$d 175.000  u$d 175.000  u$d 320.000  u$d 39.000 - u$d 140.000  u$d 175.000  u$d 175.000  u$d 175.000  u$d 76.900 - u$d 185.000  u$d 175.000  u$d 175.000  u$d 150.000  u$d 130.000  u$d 175.000  u$d 50.000 - u$d 50.000 - u$d 125.000  u$d 260.000  u$d 260.000  u$d 260.000  u$d 260.000  u$d 260.000  u$d 260.000  u$d 260.000  u$d 260.000  u$d 260.000  u$d 260.000  u$d 260.000  u$d 260.000  u$d 125.000  u$d 110.000  u$d 285.000  u$d 80.000 - u$d 75.000 - u$d 70.000 - u$d 185.000  u$d 100.000  u$d 98.000 - u$d 152.000  u$d 180.000  u$d 175.000  u$d 200.000  u$d 350.000  u$d 250.000  u$d 275.000  u$d 208.000  u$d 95.000 - u$d 100.000  u$d 230.000  u$d 100.000  u$d 120.000  u$d 72.000 - u$d 215.000  u$d 215.000  u$d 215.000  u$d 215.000  u$d 215.000  u$d 215.000  u$d 215.000  u$d 215.000  u$d 215.000  u$d 70.000 - u$d 92.000 - u$d 95.000 - u$d 150.000  u$d 150.000  u$d 150.000  u$d 150.000  u$d 150.000  u$d 150.000  u$d 150.000  u$d 47.000 - u$d 145.000  u$d 150.000  u$d 80.000 - u$d 110.000  u$d 140.000  u$d 74.000 - u$d 330.000  u$d 58.000 - u$d 1.100.00 u$d 730.000  u$d 120.000  u$d 65.000 - u$d 88.000 - u$d 185.000  u$d 290.000  u$d 245.000  u$d 70.000 - u$d 215.000  u$d 195.000  u$d 90.000 - u$d 144.000  u$d 144.000  u$d 144.000  u$d 144.000  u$d 144.000  u$d 144.000  u$d 144.000  u$d 144.000  u$d 144.000  u$d 144.000  u$d 144.000  u$d 144.000  u$d 144.000  u$d 70.000 - u$d 170.000  u$d 140.000  u$d 125.000  u$d 110.000  u$d 340.000  u$d 70.000 - u$d 175.000  u$d 125.000  u$d 260.000  u$d 130.000  u$d 110.000  u$d 120.000  u$d 160.000  u$d 48.000 - u$d 345.435   u$d 90.000 - u$d 95.000 - u$d 200.000  u$d 145.000  u$d 145.000  u$d 145.000  u$d 145.000  u$d 145.000  u$d 145.000  u$d 145.000  u$d 145.000  u$d 145.000  u$d 145.000  u$d 145.000  u$d 290.000  u$d 130.000  u$d 68.000 - u$d 65.000 - u$d 120.000  u$d 84.000 - u$d 370.000  u$d 135.000  u$d 250.000  u$d 140.000  u$d 110.000  u$d 155.000  u$d 200.000  u$d 140.000  u$d 70.000 - u$d 160.000  u$d 180.000  u$d 310.000  u$d 175.000  u$d 152.000  u$d 152.000  u$d 152.000  u$d 152.000  u$d 152.000  u$d 152.000  u$d 152.000  u$d 152.000  u$d 152.000  u$d 152.000  u$d 152.000  u$d 195.000  u$d 120.000  u$d 55.000 - u$d 279.000  u$d 340.000  u$d 355.000  u$d 350.000  u$d 350.000  u$d 350.000  u$d 1 - casa u$d 750.000  u$d 1 - casa u$d 90.000 - u$d 143.000  u$d 110.000  u$d 280.000  u$d 125.000  u$d 75.000 - u$d 105.000  u$d 75.000 - u$d 430.000  u$d 1 - casa u$d 110.000  u$d 110.000  u$d 80.000 - u$d 189.000  u$d 120.000  u$d 100.000  u$d 1.234 -  u$d 310.000  u$d 120.000  u$d 85.000 - u$d 110.000  u$d 275.000  u$d 90.000 - u$d 56.000 - u$d 80.000 - u$d 75.000 - u$d 200.000  u$d 108.000  u$d 210.000  u$d 350.000  u$d 210.000  u$d 65.000 - u$d 280.000  u$d 170.000  u$d 79.500 - u$d 120.000  u$d 70.000 - u$d 132.000  u$d 92.000 - u$d 175.000  u$d 175.000  u$d 175.000  u$d 930.000  u$d 480.000  u$d 105.000  u$d 65.000 - u$d 406.000  u$d 915.000  u$d 120.000  u$d 430.000  u$d 98.000 - u$d 160.000  u$d 159.000  u$d 85.000 - u$d 70.000 - u$d 125.000  u$d 260.000  u$d 185.000  u$d 185.000  u$d 49.000 - u$d 59.000 - u$d 30.000 - u$d 150.000  u$d 104.000  u$d 128.000  u$d 350.000  u$d 270.000  u$d 228.000  u$d 75.000 - u$d 1 - casa u$d 92.000 - u$d 100.000  u$d 98.000 - u$d 134.000  u$d 98.000 - u$d 72.000 - u$d 38.500 - u$d 85.000 - u$d 327.000  u$d 155.000  u$d 305.000  u$d 430.000  u$d 1 - casa u$d 75.000 - u$d 1 - casa u$d 85.000 - u$d 130.000  u$d 115.000  u$d 490.000  u$d 200.000  u$d 145.000  u$d 55.000 - u$d 175.000  u$d 85.000 - u$d 1 - depa u$d 1 - depa u$d 1 - depa u$d 1 - depa u$d 170.000  u$d 1 - casa u$d 130.000  u$d 230.000  u$d 73.000 - u$d 76.000 - u$d 85.000 - u$d 65.000 - u$d 185.000  u$d 100.000  u$d 228.000  u$d 170.000  u$d 208.000  u$d 74.000 - u$d 60.000 - u$d 355.000  u$d 60.000 - u$d 125.000  u$d 125.000  u$d 375.000  u$d 85.000 - u$d 215.000  u$d 225.000  u$d 85.000 - u$d 150.000  u$d 165.000  u$d 65.000 - u$d 60.000 - u$d 145.000  u$d 110.000  u$d 55.000 - u$d 100.000  u$d 90.000 - u$d 1 - casa u$d 60.000 - u$d 315.000  u$d 140.000  u$d 120.000  u$d 140.000  u$d 1.500.00 u$d 58.000 - u$d 1 - casa u$d 60.000 - u$d 320.000  u$d 107.000  u$d 155.000  u$d 155.000  u$d 173.000  u$d 85.000 - u$d 120.000  u$d 135.000  u$d 118.000  u$d 98.000 - u$d 389.000  u$d 320.000  u$d 340.000  u$d 600.000  u$d 55.000 - u$d 45.000 - u$d 471.000  u$d 600.000  u$d 1 - casa u$d 350.000  u$d 370.000  u$d 550.000  u$d 60.000 - u$d 800.000  u$d 380.000  u$d 330.000  u$d 275.000  u$d 850.000  u$d 280.000  u$d 240.000  u$d 320.000  u$d 220.000  u$d 850.000  u$d 500.000  u$d 700.000  u$d 900.000  u$d 430.000  u$d 650.000  u$d 135.000  u$d 136.000  u$d 82.000 - u$d 55.000 - u$d 68.000 - u$d 44.000 - u$d 160.000  u$d 320.000  u$d 360.000  u$d 490.000  u$d 250.000  u$d 80.000 - u$d 95.000 - u$d 270.000  u$d 450.000  u$d 740.000  u$d 390.000  u$d 100.000  u$d 450.000  u$d 270.000  u$d 395.000  u$d 80.000 - u$d 250.000  u$d 120.000  u$d 95.000 - u$d 90.000 - u$d 104.000  u$d 58.000 - u$d 167.000  u$d 480.000  u$d 128.500  u$d 144.000  u$d 95.000 - u$d 140.000  u$d 110.000  u$d 43.000 - u$d 180.000  u$d 179.000  u$d 169.000  u$d 150.000  u$d 400.000  u$d 115.000  u$d 88.000 - u$d 90.000 - u$d 52.000 - u$d 40.000 - u$d 85.000 - u$d 180.000  u$d 115.000  u$d 178.000  u$d 365.000  u$d 95.000 - u$d 140.000  u$d 145.000  u$d 60.000 - u$d 65.000 - u$d 82.000 - u$d 320.000  u$d 85.000 - u$d 280.000  u$d 390.000  u$d 330.000  u$d 215.000  u$d 300.000  u$d 170.000  u$d 410.000  u$d 600.000  u$d 1 - casa u$d 150.000  u$d 193.000  u$d 1 - depa u$d 260.000  u$d 155.000  u$d 170.000  u$d 280.000  u$d 130.000  u$d 250.000  u$d 285.000  u$d 125.000  u$d 56.000 - u$d 168.000  u$d 105.000  u$d 145.000  u$d 65.000 - u$d 65.000 - u$d 285.000  u$d 240.000  u$d 250.000  u$d 130.000  u$d 180.000  u$d 1.200.00 u$d 137.000  u$d 220.000  u$d 95.000 - u$d 65.000 - u$d 70.000 - u$d 105.000  u$d 82.000 - u$d 150.000  u$d 250.000  u$d 79.000 - u$d 570.000  u$d 190.000  u$d 87.000 - u$d 650.000  u$d 60.000 - u$d 95.000 - u$d 95.000 - u$d 53.000 - u$d 55.000 - u$d 90.000 - u$d 320.000  u$d 395.000  u$d 235.000  u$d 790.000  u$d 350.000  u$d 139.500  u$d 105.000  u$d 85.000 - u$d 98.000 - u$d 98.000 - u$d 70.000 - u$d 60.000 - u$d 135.000  u$d 130.000  u$d 125.000  u$d 49.000 - u$d 115.000  u$d 75.000 - u$d 55.000 - u$d 180.000  u$d 100.000  u$d 55.000 - u$d 135.000  u$d 95.000 - u$d 92.000 - u$d 115.000  u$d 185.000  u$d 120.000  u$d 130.000  u$d 500.000  u$d 90.000 - u$d 55.000 - u$d 385.000  u$d 66.000 - u$d 980.000  u$d 240.000  u$d 120.000  u$d 65.000 - u$d 150.000  u$d 142.000  u$d 289.000  u$d 239.000  u$d 190.000  u$d 78.000 - u$d 130.000  u$d 150.000  u$d 200.000  u$d 117.000  u$d 50.000 - u$d 115.000  u$d 117.000  u$d 80.000 - u$d 160.000  u$d 76.000 - u$d 76.000 - u$d 74.500 - u$d 74.500 - u$d 255.000  u$d 198.000  u$d 457.000  u$d 260.000  u$d 40.000 - u$d 115.000  u$d 660.000  u$d 105.000  u$d 225.000  u$d 385.000  u$d 350.000  u$d 220.000  u$d 68.000 - u$d 79.000 - u$d 1.300.00 u$d 180.000  u$d 95.000 - u$d 98.000 - u$d 98.000 - u$d 98.000 - u$d 98.000 - u$d 98.000 - u$d 98.000 - u$d 270.000  u$d 270.000  u$d 270.000  u$d 270.000  u$d 270.000  u$d 270.000  u$d 270.000  u$d 270.000  u$d 270.000  u$d 270.000  u$d 270.000  u$d 120.000  u$d 120.000  u$d 150.000  u$d 75.000 - u$d 300.000  u$d 80.000 - u$d 130.000  u$d 60.000 - u$d 230.000  u$d 58.000 - u$d 55.000 - u$d 130.000  u$d 350.000  u$d 250.000  u$d 75.000 - u$d 60.000 - u$d 295.000  u$d 225.000  u$d 110.000  u$d 120.000  u$d 120.000  u$d 50.000 - u$d 68.000 - u$d 120.000  u$d 42.000 - u$d 79.000 - u$d 60.000 - u$d 185.000  u$d 240.000  u$d 135.000  u$d 223.000  u$d 250.000  u$d 1.800.00 u$d 69.900 - u$d 120.000  u$d 175.000  u$d 88.000 - u$d 75.000 - u$d 98.000 - u$d 50.000 - u$d 60.000 - u$d 75.000 - u$d 335.000  u$d 260.000  u$d 80.000 - u$d 90.000 - u$d 70.000 - u$d 200.000  u$d 280.000  u$d 55.000 - u$d 300.000  u$d 220.000  u$d 220.000  u$d 135.000  u$d 125.000  u$d 110.000  u$d 340.000  u$d 50.000 - u$d 215.000  u$d 62.000 - u$d 280.000  u$d 180.000  u$d 191.000  u$d 191.000  u$d 191.000  u$d 191.000  u$d 900.000  u$d 191.000  u$d 69.000 - u$d 120.000  u$d 191.000  u$d 100.000  u$d 60.000 - u$d 300.000  u$d 380.000  u$d 47.000 - u$d 105.000  u$d 295.000  u$d 90.000 - u$d 155.000  u$d 110.000  u$d 750.000  u$d 92.400 - u$d 350.000  u$d 88.000 - u$d 135.000  u$d 190.000  u$d 165.000  u$d 180.000  u$d 300.000  u$d 120.000  u$d 250.000  u$d 210.000  u$d 300.000  u$d 310.000  u$d 285.000  u$d 106.000  u$d 290.000  u$d 315.000  u$d 105.000  u$d 48.000 - u$d 140.000  u$d 120.000  u$d 130.000  u$d 120.000  u$d 135.000  u$d 85.000 - u$d 320.000  u$d 135.000  u$d 90.000 - u$d 85.000 - u$d 165.000  u$d 150.000  u$d 158.000  u$d 55.000 - u$d 175.000  u$d 75.000 - u$d 140.000  u$d 210.000  u$d 112.000  u$d 140.000  u$d 75.000 - u$d 95.000 - u$d 240.000  u$d 140.000  u$d 135.000  u$d 198.000  u$d 130.000  u$d 110.000  u$d 155.000  u$d 210.000  u$d 75.000 - u$d 129.000  u$d 95.000 - u$d 170.000  u$d 130.000  u$d 77.000 - u$d 200.000  u$d 289.000  u$d 130.000  u$d 55.000 - u$d 284.000  u$d 115.000  u$d 41.000 - u$d 41.000 - u$d 120.000  u$d 210.000  u$d 65.000 - u$d 150.000  u$d 249.000  u$d 300.000  u$d 115.000  u$d 170.000  u$d 135.000  u$d 165.000  u$d 260.000  u$d 138.000  u$d 300.000  u$d 250.000  u$d 240.000  u$d 105.000  u$d 90.000 - u$d 180.000  u$d 105.000  u$d 245.000  u$d 90.000 - u$d 120.000  u$d 120.000  u$d 250.000  u$d 120.000  u$d 150.000  u$d 98.000 - u$d 330.000  u$d 105.000  u$d 280.000  u$d 130.000  u$d 150.000  u$d 160.000  u$d 70.000 - u$d 180.000  u$d 19.000 - u$d 94.000 - u$d 250.000  u$d 300.000  u$d 230.000  u$d 260.000  u$d 180.000  u$d 168.000  u$d 200.000  u$d 135.000  u$d 245.000  u$d 89.000 - u$d 85.000 - u$d 230.000  u$d 50.000 - u$d 205.000  u$d 145.000  u$d 82.000 - u$d 100.000  u$d 125.000  u$d 210.000  u$d 65.000 - u$d 105.000  u$d 249.000  u$d 160.000  u$d 68.000 - u$d 45.000 - u$d 90.000 - u$d 78.000 - u$d 110.000  u$d 240.000  u$d 130.000  u$d 107.000  u$d 375.000  u$d 140.000  u$d 149.000  u$d 159.000  u$d 230.000  u$d 129.000  u$d 115.000  u$d 100.000  u$d 135.000  u$d 230.000  u$d 78.000 - u$d 72.000 - u$d 290.000  u$d 113.000  u$d 68.000 - u$d 90.000 - u$d 240.000  u$d 180.000  u$d 88.000 - u$d 120.000  u$d 130.000  u$d 100.000  u$d 80.000 - u$d 270.000  u$d 60.000 - u$d 45.000 - u$d 150.000  u$d 165.000  u$d 249.000  u$d 65.000 - u$d 76.000 - u$d 125.000  u$d 75.000 - u$d 260.000  u$d 120.000  u$d 170.000  u$d 155.000  u$d 105.000  u$d 99.000 - u$d 200.000  u$d 120.000  u$d 125.000  u$d 270.000  u$d 115.000  u$d 115.000  u$d 100.000  u$d 177.000  u$d 110.000  u$d 63.000 - u$d 170.000  u$d 190.000  u$d 225.000  u$d 68.000 - u$d 140.000  u$d 130.000  u$d 100.000  u$d 180.000  u$d 385.000  u$d 600.000  u$d 850.000  u$d 140.000  u$d 240.000  u$d 460.000  u$d 250.000  u$d 220.000  u$d 80.000 - u$d 125.000  u$d 280.000  u$d 95.000 - u$d 70.000 - u$d 180.000  u$d 110.000  u$d 160.000  u$d 95.000 - u$d 150.000  u$d 100.000  u$d 85.000 - u$d 90.000 - u$d 140.000  u$d 190.000  u$d 95.000 - u$d 280.000  u$d 52.000 - u$d 100.000  u$d 150.000  u$d 129.000  u$d 210.000  u$d 65.000 - u$d 80.000 - u$d 215.000  u$d 115.000  u$d 151.000  u$d 120.000  u$d 160.000  u$d 160.000  u$d 45.000 - u$d 100.000  u$d 55.000 - u$d 125.000  u$d 340.000  u$d 249.000  u$d 198.000  u$d 160.000  u$d 379.000  u$d 135.000  u$d 135.000  u$d 320.000  u$d 165.000  u$d 350.000  u$d 340.000  u$d 375.000  u$d 450.000  u$d 240.000  u$d 330.000  u$d 50.000 - u$d 445.000  u$d 178.000  u$d 530.000  u$d 650.000  u$d 90.000 - u$d 450.000  u$d 120.000  u$d 130.000  u$d 308.000  u$d 450.000  u$d 380.000  u$d 143.000  u$d 180.000  u$d 230.000  u$d 199.000  u$d 585.000  u$d 120.000  u$d 249.000  u$d 330.000  u$d 165.000  u$d 330.000  u$d 310.000  u$d 750.000  u$d 790.000  u$d 180.000  u$d 300.000  u$d 620.000  u$d 900.000  u$d 265.000  u$d 350.000  u$d 140.000  u$d 320.000  u$d 360.000  u$d 480.000  u$d 350.000  u$d 240.000  u$d 130.000  u$d 650.000  u$d 310.000  u$d 520.000  u$d 850.000  u$d 250.000  u$d 200.000  u$d 320.000  u$d 1.000.00 u$d 850.000  u$d 350.000  u$d 950.000  u$d 190.000  u$d 388.000  u$d 230.000  u$d 315.000  u$d 670.000  u$d 120.000  u$d 180.000  u$d 670.000  u$d 440.000  u$d 350.000  u$d 170.000  u$d 94.000 - u$d 200.000  u$d 85.000 - u$d 58.000 - u$d 70.000 - u$d 90.000 - u$d 120.000  u$d 53.000 - u$d 80.000 - u$d 250.000  u$d 170.000  u$d 200.000  u$d 95.000 - u$d 300.000  u$d 230.000  u$d 170.000  u$d 120.000  u$d 130.000  u$d 130.000  u$d 115.000  u$d 90.000 - u$d 98.000 - u$d 115.000  u$d 100.000  u$d 98.000 - u$d 230.000  u$d 80.000 - u$d 150.000  u$d 85.000 - u$d 80.000 - u$d 70.000 - u$d 120.000  u$d 150.000  u$d 250.000  u$d 180.000  u$d 170.000  u$d 95.000 - u$d 115.000  u$d 180.000  u$d 135.000  u$d 230.000  u$d 110.000  u$d 270.000  u$d 170.000  u$d 85.000 - u$d 175.000  u$d 120.000  u$d 82.000 - u$d 280.000  u$d 85.000 - u$d 230.000  u$d 110.000  u$d 110.000  u$d 420.000  u$d 140.000  u$d 90.000 - u$d 80.000 - u$d 130.000  u$d 25.000 - u$d 75.000 - u$d 80.000 - u$d 200.000  u$d 140.000  u$d 95.000 - u$d 90.000 - u$d 300.000  u$d 170.000  u$d 90.000 - u$d 75.000 - u$d 180.000  u$d 165.000  u$d 120.000  u$d 160.000  u$d 65.000 - u$d 110.000  u$d 220.000  u$d 95.000 - u$d 50.000 - u$d 89.000 - u$d 52.000 - u$d 95.000 - u$d 95.000 - u$d 110.000  u$d 85.000 - u$d 59.000 - u$d 65.000 - u$d 95.000 - u$d 85.000 - u$d 59.000 - u$d 65.000 - u$d 85.000 - u$d 65.000 - u$d 85.000 - u$d 89.000 - u$d 95.000 - u$d 95.000 - u$d 110.000  u$d 85.000 - u$d 95.000 - u$d 95.000 - u$d 95.000 - u$d 110.000  u$d 59.000 - u$d 85.000 - u$d 95.000 - u$d 105.000  u$d 75.000 - u$d 50.000 - u$d 37.000 - u$d 140.000  u$d 75.000 - u$d 100.000  u$d 89.000 - u$d 65.000 - u$d 90.000 - u$d 98.000 - u$d 90.000 - u$d 220.000  u$d 92.000 - u$d 340.000  u$d 1.800.00 u$d 150.000  u$d 98.000 - u$d 79.900 - u$d 68.000 - u$d 65.000 - u$d 90.000 - u$d 180.000  u$d 43.000 - u$d 75.000 - u$d 65.000 - u$d 55.000 - u$d 285.000  u$d 290.000  u$d 75.000 - u$d 120.000  u$d 125.000  u$d 100.000  u$d 155.000  u$d 145.000  u$d 60.000 - u$d 75.000 - u$d 90.000 - u$d 40.000 - u$d 63.000 - u$d 110.000  u$d 125.000  u$d 320.000  u$d 45.000 - u$d 110.000  u$d 40.000 - u$d 220.000  u$d 65.000 - u$d 260.000  u$d 40.000 - u$d 40.000 - u$d 130.000  u$d 180.000  u$d 150.000  u$d 150.000  u$d 50.000 - u$d 82.000 - u$d 56.500 - u$d 350.000  u$d 125.000  u$d 58.000 - u$d 190.000  u$d 220.000  u$d 220.000  u$d 220.000  u$d 220.000  u$d 220.000  u$d 220.000  u$d 220.000  u$d 220.000  u$d 220.000  u$d 220.000  u$d 220.000  u$d 220.000  u$d 220.000  u$d 320.000  u$d 270.000  u$d 120.000  u$d 48.000 - u$d 230.000  u$d 45.000 - u$d 170.000  u$d 240.000  u$d 68.000 - u$d 110.000  u$d 250.000  u$d 330.000  u$d 340.000  u$d 340.000  u$d 340.000  u$d 340.000  u$d 340.000  u$d 340.000  u$d 340.000  u$d 35.000 - u$d 30.000 - u$d 460.000  u$d 178.000  u$d 370.000  u$d 170.000  u$d 135.000  u$d 180.000  u$d 120.000  u$d 160.000  u$d 250.000  u$d 275.000  u$d 237.000  u$d 95.000 - u$d 95.000 - u$d 120.000  u$d 92.000 - u$d 260.000  u$d 260.000  u$d 260.000  u$d 260.000  u$d 260.000  u$d 260.000  u$d 260.000  u$d 260.000  u$d 230.000  u$d 125.000  u$d 65.000 - u$d 56.000 - u$d 150.000  u$d 125.000  u$d 195.000  u$d 88.000 - u$d 98.000 - u$d 450.000  u$d 130.000  u$d 135.000  u$d 260.000  u$d 1.380.00 u$d 160.000  u$d 90.000 - u$d 53.600 - u$d 160.000  u$d 160.000  u$d 160.000  u$d 160.000  u$d 160.000  u$d 160.000  u$d 160.000  u$d 240.000  u$d 240.000  u$d 240.000  u$d 240.000  u$d 240.000  u$d 240.000  u$d 240.000  u$d 239.000  u$d 383.000  u$d 355.000  u$d 85.000 - u$d 135.000  u$d 55.000 - u$d 130.000  u$d 170.000  u$d 73.000 - u$d 155.000  u$d 200.000  u$d 170.000  u$d 115.000  u$d 195.000  u$d 85.000 - u$d 98.000 - u$d 265.000  u$d 265.000  u$d 195.000  u$d 265.000  u$d 265.000  u$d 265.000  u$d 265.000  u$d 265.000  u$d 135.000  u$d 95.000 - u$d 125.000  u$d 355.000  u$d 355.000  u$d 70.000 - u$d 190.000  u$d 60.000 - u$d 55.000 - u$d 70.000 - u$d 250.000  u$d 220.000  u$d 37.900 - u$d 300.000  u$d 110.000  u$d 160.000  u$d 95.000 - u$d 95.000 - u$d 110.000  u$d 65.000 - u$d 240.000  u$d 240.000  u$d 240.000  u$d 240.000  u$d 240.000  u$d 240.000  u$d 240.000  u$d 240.000  u$d 240.000  u$d 240.000  u$d 240.000  u$d 240.000  u$d 240.000  u$d 62.000 - u$d 35.000 - u$d 75.000 - u$d 135.000  u$d 58.000 - u$d 420.000  u$d 80.000 - u$d 240.000  u$d 220.000  u$d 100.000  u$d 135.000  u$d 130.000  u$d 138.000  u$d 149.000  u$d 150.000  u$d 110.000  u$d 55.000 - u$d 85.000 - u$d 90.000 - u$d 105.000  u$d 450.000  u$d 110.000  u$d 115.000  u$d 151.000  u$d 250.000  u$d 70.000 - u$d 180.000  u$d 75.000 - u$d 150.000  u$d 220.000  u$d 50.000 - u$d 200.000  u$d 90.000 - u$d 120.000  u$d 60.000 - u$d 97.000 - u$d 98.000 - u$d 110.000  u$d 95.000 - u$d 110.000  u$d 80.000 - u$d 200.000  u$d 165.000  u$d 155.000  u$d 600.000  u$d 160.000  u$d 130.000  u$d 150.000  u$d 150.000  u$d 75.000 - u$d 100.000  u$d 210.000  u$d 120.000  u$d 250.000  u$d 83.000 - u$d 110.000  u$d 98.000 - u$d 70.000 - u$d 110.000  u$d 138.000  u$d 283.000  u$d 120.000  u$d 140.000  u$d 140.000  u$d 130.000  u$d 130.000  u$d 210.000  u$d 90.000 - u$d 250.000  u$d 115.000  u$d 80.000 - u$d 65.000 - u$d 65.000 - u$d 130.000  u$d 198.000  u$d 60.000 - u$d 230.000  u$d 125.000  u$d 115.000  u$d 255.000  u$d 149.000  u$d 450.000  u$d 155.000  u$d 140.000  u$d 98.000 - u$d 1.300.00 u$d 1.300.00 u$d 95.000 - u$d 180.000  u$d 70.000 - u$d 55.000 - u$d 980.000  u$d 980.000  u$d 980.000  u$d 980.000  u$d 980.000  u$d 980.000  u$d 980.000  u$d 120.000  u$d 110.000  u$d 99.000 - u$d 80.000 - u$d 50.000 - u$d 685.000  u$d 370.000  u$d 250.000  u$d 300.000  u$d 120.000  u$d 65.000 - u$d 3.600.00 u$d 180.000  u$d 140.000  u$d 1.900.00 u$d 90.000 - u$d 95.000 - u$d 130.000  u$d 760.000  u$d 135.000  u$d 270.000  u$d 120.000  u$d 300.000  u$d 450.000  u$d 400.000  u$d 550.000  u$d 750.000  u$d 105.000  u$d 82.583 - u$d 195.000  u$d 80.273 - u$d 125.000  u$d 200.000  u$d 55.000 - u$d 180.000  u$d 185.000  u$d 590.000  u$d 170.000  u$d 70.000 - u$d 150.000  u$d 132.000  u$d 165.000  u$d 250.000  u$d 150.000  u$d 270.000  u$d 135.000  u$d 155.000  u$d 165.000  u$d 78.500 - u$d 230.000  u$d 146.000  u$d 55.000 - u$d 72.000 - u$d 130.000  u$d 220.000  u$d 75.000 - u$d 175.000  u$d 350.000  u$d 95.000 - u$d 260.000  u$d 135.000  u$d 200.000  u$d 140.000  u$d 95.000 - u$d 100.000  u$d 140.000  u$d 170.000  u$d 100.000  u$d 110.000  u$d 50.000 - u$d 95.000 - u$d 450.000  u$d 140.000  u$d 240.000  u$d 269.500  u$d 240.000  u$d 230.000  u$d 130.000  u$d 65.000 - u$d 120.000  u$d 130.000  u$d 82.000 - u$d 120.000  u$d 80.000 - u$d 90.000 - u$d 80.000 - u$d 55.000 - u$d 48.000 - u$d 65.000 - u$d 75.000 - u$d 105.000  u$d 74.500 - u$d 70.800 - u$d 66.000 - u$d 300.000  u$d 159.999  u$d 94.000 - u$d 108.000  u$d 50.000 - u$d 75.000 - u$d 55.000 - u$d 55.000 - u$d 90.000 - u$d 48.000 - u$d 60.000 - u$d 130.000  u$d 1.600 -  u$d 63.000 - u$d 85.000 - u$d 74.500 - u$d 399.500  u$d 200.000  u$d 270.000  u$d 300.000  u$d 80.000 - u$d 80.000 - u$d 80.000 - u$d 80.000 - u$d 80.000 - u$d 80.000 - u$d 80.000 - u$d 330.000  u$d 120.000  u$d 245.000  u$d 70.000 - u$d 165.000  u$d 450.000  u$d 160.000  u$d 125.000  u$d 440.000  u$d 80.000 - u$d 58.000 - u$d 79.700 - u$d 180.000  u$d 110.000  u$d 58.500 - u$d 100.000  u$d 150.000  u$d 180.000  u$d 96.000 - u$d 190.000  u$d 245.000  u$d 109.000  u$d 109.000  u$d 140.000  u$d 370.000  u$d 78.000 - u$d 685.000  u$d 110.000  u$d 345.000  u$d 340.000  u$d 260.000  u$d 248.000  u$d 245.000  u$d 285.000  u$d 210.000  u$d 250.000  u$d 270.000  u$d 80.000 - u$d 120.000  u$d 200.000  u$d 270.000  u$d 77.000 - u$d 130.000  u$d 46.000 - u$d 102.500  u$d 115.000  u$d 130.000  u$d 128.200  u$d 85.000 - u$d 170.000  u$d 85.000 - u$d 80.000 - u$d 180.000  u$d 96.000 - u$d 96.000 - u$d 540.000  u$d 245.000  u$d 170.000  u$d 129.800  u$d 147.000  u$d 162.000  u$d 166.000  u$d 78.000 - u$d 170.000  u$d 119.000  u$d 90.000 - u$d 75.000 - u$d 1.100 -  u$d 495.000  u$d 495.000  u$d 505.000  u$d 110.000  u$d 379.000  u$d 100.000  u$d 165.000  u$d 52.000 - u$d 245.000  u$d 50.000 - u$d 430.000  u$d 340.000  u$d 82.000 - u$d 490.000  u$d 79.000 - u$d 597.000  u$d 375.000  u$d 750.000  u$d 200.000  u$d 320.000  u$d 220.000  u$d 330.000  u$d 230.000  u$d 450.000  u$d 50.000 - u$d 125.000  u$d 450.000  u$d 340.000  u$d 248.000  u$d 340.000  u$d 140.000  u$d 580.000  u$d 95.000 - u$d 100.000  u$d 260.000  u$d 830.000  u$d 729.000  u$d 240.000  u$d 335.000  u$d 89.000 - u$d 480.000  u$d 297.000  u$d 220.000  u$d 100.000  u$d 280.000  u$d 245.000  u$d 248.000  u$d 345.000  u$d 60.000 - u$d 690.000  u$d 395.000  u$d 350.000  u$d 225.000  u$d 260.000  u$d 170.000  u$d 440.000  u$d 70.000 - u$d 230.000  u$d 165.000  u$d 350.000  u$d 359.000  u$d 245.000  u$d 265.000  u$d 255.000  u$d 250.000  u$d 245.000  u$d 335.000  u$d 729.000  u$d 729.000  u$d 235.000  u$d 343.000  u$d 180.000  u$d 550.000  u$d 44.000 - u$d 830.000  u$d 729.000  u$d 63.000 - u$d 120.000  u$d 120.000  u$d 950.000  u$d 390.000  u$d 160.000  u$d 140.000  u$d 480.000  u$d 480.000  u$d 155.000  u$d 155.000  u$d 235.000  u$d 137.500  u$d 550.000  u$d 200.000  u$d 350.000  u$d 475.000  u$d 310.000  u$d 225.000  u$d 595.000  u$d 280.000  u$d 240.000  u$d 239.000  u$d 320.000  u$d 260.000  u$d 2.900.00 u$d 320.000  u$d 210.000  u$d 200.000  u$d 375.000  u$d 445.000  u$d 370.000  u$d 270.506  u$d 259.000  u$d 228.000  u$d 245.000  u$d 245.000  u$d 230.000  u$d 440.000  u$d 450.000  u$d 220.000  u$d 300.000  u$d 425.000  u$d 245.000  u$d 210.000  u$d 235.000  u$d 270.000  u$d 240.000  u$d 235.000  u$d 215.000  u$d 250.000  u$d 310.000  u$d 280.000  u$d 420.000  u$d 425.000  u$d 490.000  u$d 470.000  u$d 265.000  u$d 175.000  u$d 235.000  u$d 290.000  u$d 720.000  u$d 347.000  u$d 199.000  u$d 145.000  u$d 250.000  u$d 120.000  u$d 800.000  u$d 315.000  u$d 720.000  u$d 340.000  u$d 295.000  u$d 310.000  u$d 405.000  u$d 435.000  u$d 380.000  u$d 450.000  u$d 680.000  u$d 345.000  u$d 280.000  u$d 450.000  u$d 400.000  u$d 430.000  u$d 380.000  u$d 240.000  u$d 360.000  u$d 270.000  u$d 1 - depa u$d 67.000 - u$d 250.000  u$d 75.000 - u$d 110.000  u$d 380.000  u$d 195.000  u$d 160.000  u$d 135.000  u$d 75.000 - u$d 95.000 - u$d 290.000  u$d 270.000  u$d 85.000 - u$d 90.000 - u$d 260.000  u$d 92.000 - u$d 66.500 - u$d 230.000  u$d 84.000 - u$d 120.000  u$d 130.000  u$d 89.000 - u$d 95.000 - u$d 880.000  u$d 80.000 - u$d 350.000  u$d 100.000  u$d 155.000  u$d 250.000  u$d 110.000  u$d 110.000  u$d 60.000 - u$d 70.000 - u$d 100.000  u$d 140.000  u$d 155.000  u$d 160.000  u$d 80.000 - u$d 135.000  u$d 125.000  u$d 145.000  u$d 70.000 - u$d 170.000  u$d 95.000 - u$d 130.000  u$d 87.000 - u$d 80.000 - u$d 265.000  u$d 190.000  u$d 55.000 - u$d 175.000  u$d 60.000 - u$d 90.000 - u$d 120.000  u$d 98.000 - u$d 280.000  u$d 515.000  u$d 92.000 - u$d 120.000  u$d 125.000  u$d 95.000 - u$d 360.000  u$d 98.000 - u$d 230.000  u$d 135.000  u$d 170.000  u$d 70.000 - u$d 170.000  u$d 45.000 - u$d 298.000  u$d 290.000  u$d 110.000  u$d 185.000  u$d 190.000  u$d 280.000  u$d 88.000 - u$d 145.000  u$d 500.000  u$d 350.000  u$d 270.000  u$d 115.000  u$d 95.000 - u$d 220.000  u$d 450.000  u$d 78.000 - u$d 110.000  u$d 145.000  u$d 120.000  u$d 420.000  u$d 390.000  u$d 77.000 - u$d 192.000  u$d 85.000 - u$d 62.000 - u$d 55.000 - u$d 85.000 - u$d 130.000  u$d 90.000 - u$d 300.000  u$d 160.000  u$d 85.000 - u$d 70.000 - u$d 75.000 - u$d 320.000  u$d 95.000 - u$d 110.000  u$d 280.000  u$d 48.000 - u$d 80.000 - u$d 250.000  u$d 150.000  u$d 240.000  u$d 70.000 - u$d 155.000  u$d 88.000 - u$d 72.000 - u$d 115.000  u$d 74.000 - u$d 85.000 -                                                                                                                                                                                                                                         to!!!u$s 125.000                                    sde u$34.2 otal u$s 35.080- ipo u$50.000 + c    chera$15000.ant.                                                                                         sur u$s 85000                                                                                                                                                   usd 68.000 vi           ntro u$s 158000 ntro u$s 101000 ntro u$s 235000 veva u$s 180000                                                                                                                     2 - u$s370.000 o                                                                                                                                    enta u$s 300.000                                                                                                                                                                                                                                                                                                                                                   trega$300mil y c     a de ars                                                                                                     \n"
          ]
        },
        {
          "name": "stderr",
          "output_type": "stream",
          "text": [
            "/Users/juanvassallo/anaconda3/envs/dhdsblend2021_geopandas/lib/python3.9/site-packages/geopandas/geodataframe.py:1543: SettingWithCopyWarning: \n",
            "A value is trying to be set on a copy of a slice from a DataFrame.\n",
            "Try using .loc[row_indexer,col_indexer] = value instead\n",
            "\n",
            "See the caveats in the documentation: https://pandas.pydata.org/pandas-docs/stable/user_guide/indexing.html#returning-a-view-versus-a-copy\n",
            "  super().__setitem__(key, value)\n",
            "/Users/juanvassallo/anaconda3/envs/dhdsblend2021_geopandas/lib/python3.9/site-packages/geopandas/geodataframe.py:1543: SettingWithCopyWarning: \n",
            "A value is trying to be set on a copy of a slice from a DataFrame.\n",
            "Try using .loc[row_indexer,col_indexer] = value instead\n",
            "\n",
            "See the caveats in the documentation: https://pandas.pydata.org/pandas-docs/stable/user_guide/indexing.html#returning-a-view-versus-a-copy\n",
            "  super().__setitem__(key, value)\n",
            "/Users/juanvassallo/anaconda3/envs/dhdsblend2021_geopandas/lib/python3.9/site-packages/geopandas/geodataframe.py:1543: SettingWithCopyWarning: \n",
            "A value is trying to be set on a copy of a slice from a DataFrame.\n",
            "Try using .loc[row_indexer,col_indexer] = value instead\n",
            "\n",
            "See the caveats in the documentation: https://pandas.pydata.org/pandas-docs/stable/user_guide/indexing.html#returning-a-view-versus-a-copy\n",
            "  super().__setitem__(key, value)\n"
          ]
        }
      ],
      "source": [
        "# Define a function to extract substrings around the regex pattern\n",
        "def extract_substring(text, regex_pattern):\n",
        "    match = re.search(regex_pattern, text)\n",
        "    if match:\n",
        "        start_index = max(0, match.start() - 5)\n",
        "        end_index = match.end() + 10\n",
        "        return text[start_index:end_index]\n",
        "    else:\n",
        "        return \"\"\n",
        "\n",
        "\n",
        "\n",
        "# Use .loc to set values in the DataFrame\n",
        "print(filtered_df_2.shape)\n",
        "filtered_df_2.loc[:, 'description_short'] = filtered_df_2['description'].apply(lambda x: extract_substring(x, regex_pattern_2))\n",
        "filtered_df_2.loc[:, 'title_short'] = filtered_df_2['title'].apply(lambda x: extract_substring(x, regex_pattern_2))\n",
        "filtered_df_2.loc[:, 'url_short'] = filtered_df_2['properati_url'].apply(lambda x: extract_substring(x, regex_pattern_2))\n",
        "print(filtered_df_2.shape)\n",
        "print(filtered_df_2[\"description\"])\n",
        "print(*filtered_df_2[\"title_short\"])\n",
        "\n"
      ]
    },
    {
      "cell_type": "code",
      "execution_count": 104,
      "metadata": {
        "id": "d023c5a9"
      },
      "outputs": [
        {
          "data": {
            "text/plain": [
              "property_type                   object\n",
              "place_name                      object\n",
              "place_with_parent_names         object\n",
              "country_name                    object\n",
              "state_name                      object\n",
              "geonames_id                    float64\n",
              "lat-lon                         object\n",
              "lat                            float64\n",
              "lon                            float64\n",
              "price                          float64\n",
              "currency                        object\n",
              "price_aprox_local_currency     float64\n",
              "price_aprox_usd                float64\n",
              "surface_total_in_m2            float64\n",
              "surface_covered_in_m2          float64\n",
              "price_usd_per_m2               float64\n",
              "price_per_m2                   float64\n",
              "floor                          float64\n",
              "rooms                          float64\n",
              "expenses                       float64\n",
              "properati_url                   object\n",
              "description                     object\n",
              "title                           object\n",
              "image_thumbnail                 object\n",
              "provincia                       object\n",
              "ciudad                          object\n",
              "barrio                          object\n",
              "partido                         object\n",
              "geometry                      geometry\n",
              "surface_total_clean             object\n",
              "description_short               object\n",
              "title_short                     object\n",
              "url_short                       object\n",
              "dtype: object"
            ]
          },
          "execution_count": 104,
          "metadata": {},
          "output_type": "execute_result"
        }
      ],
      "source": [
        "filtered_df_2.dtypes"
      ]
    },
    {
      "cell_type": "code",
      "execution_count": 105,
      "metadata": {
        "id": "c1805ad3"
      },
      "outputs": [
        {
          "name": "stdout",
          "output_type": "stream",
          "text": [
            "              0\n",
            "124         NaN\n",
            "125         NaN\n",
            "126         NaN\n",
            "263         NaN\n",
            "273         NaN\n",
            "...         ...\n",
            "120911  20000.0\n",
            "120912  20000.0\n",
            "120913  20000.0\n",
            "120914  20000.0\n",
            "121214      NaN\n",
            "\n",
            "[3667 rows x 1 columns]\n"
          ]
        },
        {
          "data": {
            "text/plain": [
              "0    3667\n",
              "dtype: int64"
            ]
          },
          "execution_count": 105,
          "metadata": {},
          "output_type": "execute_result"
        }
      ],
      "source": [
        "#Luego de filtrados los datos por moneda, los filtramos por moneda de vuelta, por . y por cantidad de 5 digitos o màs (para descartar que se pusieran datos que correspondan a expensas u otras cosas )\n",
        "\n",
        "pattern_regex=\"U\\$S\\s|usd|us\\$*\"\n",
        "dolar_regex=re.compile(pattern_regex)\n",
        "decimal_regex=\"\\.\"\n",
        "compile_decimal=re.compile(decimal_regex)\n",
        "\n",
        "sin_dolar = filtered_df_2.description_short.apply(lambda x: x if x is np.NaN else dolar_regex.sub(\"\", x))\n",
        "sin_dolar.head(10)\n",
        "sin_punto=sin_dolar.apply(lambda x: x if x is np.NaN else compile_decimal.sub(\"\", x))\n",
        "sin_punto.head(10)\n",
        "\n",
        "pattern_numero=r'(\\d{5,})'\n",
        "regex_numero=re.compile(pattern_numero)\n",
        "cinco_digitos=sin_punto.str.extract(pattern_numero).astype(float)\n",
        "print(cinco_digitos)\n",
        "cinco_digitos.isnull().count()\n"
      ]
    },
    {
      "cell_type": "code",
      "execution_count": 106,
      "metadata": {
        "id": "679e64ee"
      },
      "outputs": [],
      "source": [
        "#En base a los anteriores filtrados y a descartar la cantidad de entries que no cumplen con el campo quedan 580 entries en descripcion que permiten llenar el campo precio#"
      ]
    },
    {
      "cell_type": "code",
      "execution_count": 107,
      "metadata": {
        "id": "a51de2e9"
      },
      "outputs": [],
      "source": [
        "nulos_descripcion=cinco_digitos.dropna()"
      ]
    },
    {
      "cell_type": "code",
      "execution_count": 108,
      "metadata": {
        "id": "4a22dfdf"
      },
      "outputs": [
        {
          "name": "stdout",
          "output_type": "stream",
          "text": [
            "0    572\n",
            "dtype: int64\n"
          ]
        }
      ],
      "source": [
        "print(nulos_descripcion.count())\n"
      ]
    },
    {
      "cell_type": "code",
      "execution_count": 109,
      "metadata": {
        "id": "575148f5"
      },
      "outputs": [],
      "source": [
        "precios[\"price_clean\"]=precios[\"price\"].copy()"
      ]
    },
    {
      "cell_type": "code",
      "execution_count": 110,
      "metadata": {
        "id": "5fc9e38b"
      },
      "outputs": [
        {
          "data": {
            "text/plain": [
              "0      62000.0\n",
              "1     150000.0\n",
              "2      72000.0\n",
              "3      95000.0\n",
              "4      64000.0\n",
              "5          NaN\n",
              "6     130000.0\n",
              "7     138000.0\n",
              "8     195000.0\n",
              "9     460000.0\n",
              "10     70000.0\n",
              "11    150000.0\n",
              "12    115000.0\n",
              "13    111700.0\n",
              "14    147900.0\n",
              "15    250000.0\n",
              "16    239000.0\n",
              "17    315000.0\n",
              "18    570000.0\n",
              "Name: price_clean, dtype: float64"
            ]
          },
          "execution_count": 110,
          "metadata": {},
          "output_type": "execute_result"
        }
      ],
      "source": [
        "precios[\"price_clean\"].head(19)"
      ]
    },
    {
      "cell_type": "code",
      "execution_count": 111,
      "metadata": {
        "id": "582bf8cb"
      },
      "outputs": [
        {
          "name": "stdout",
          "output_type": "stream",
          "text": [
            "1413       11111.0\n",
            "1665      260000.0\n",
            "1666      115000.0\n",
            "1677      115000.0\n",
            "1690      110000.0\n",
            "            ...   \n",
            "120910     20000.0\n",
            "120911     20000.0\n",
            "120912     20000.0\n",
            "120913     20000.0\n",
            "120914     20000.0\n",
            "Name: 0, Length: 572, dtype: float64\n"
          ]
        }
      ],
      "source": [
        "print(nulos_descripcion[0])"
      ]
    },
    {
      "cell_type": "code",
      "execution_count": 112,
      "metadata": {
        "id": "6c465c90"
      },
      "outputs": [],
      "source": [
        "precios['Clean_precios'] = precios[\"price_clean\"].fillna(nulos_descripcion.iloc[:,0])"
      ]
    },
    {
      "cell_type": "code",
      "execution_count": 113,
      "metadata": {
        "id": "95c95f8c"
      },
      "outputs": [
        {
          "data": {
            "text/plain": [
              "0          62000.0\n",
              "1         150000.0\n",
              "2          72000.0\n",
              "3          95000.0\n",
              "4          64000.0\n",
              "            ...   \n",
              "121215    870000.0\n",
              "121216    498000.0\n",
              "121217    131500.0\n",
              "121218     95900.0\n",
              "121219    129000.0\n",
              "Name: Clean_precios, Length: 119907, dtype: float64"
            ]
          },
          "execution_count": 113,
          "metadata": {},
          "output_type": "execute_result"
        }
      ],
      "source": [
        "precios[\"Clean_precios\"]"
      ]
    },
    {
      "cell_type": "code",
      "execution_count": 114,
      "metadata": {
        "id": "af43100b"
      },
      "outputs": [
        {
          "data": {
            "text/plain": [
              "1413       11111.0\n",
              "1665      260000.0\n",
              "1666      115000.0\n",
              "1677      115000.0\n",
              "1690      110000.0\n",
              "            ...   \n",
              "120910     20000.0\n",
              "120911     20000.0\n",
              "120912     20000.0\n",
              "120913     20000.0\n",
              "120914     20000.0\n",
              "Name: 0, Length: 572, dtype: float64"
            ]
          },
          "execution_count": 114,
          "metadata": {},
          "output_type": "execute_result"
        }
      ],
      "source": [
        "nulos_descripcion.iloc[:,0]"
      ]
    },
    {
      "cell_type": "code",
      "execution_count": 115,
      "metadata": {
        "id": "48cf2b6f"
      },
      "outputs": [
        {
          "name": "stdout",
          "output_type": "stream",
          "text": [
            "         0\n",
            "124    NaN\n",
            "125    NaN\n",
            "126    NaN\n",
            "263    NaN\n",
            "273    NaN\n",
            "...     ..\n",
            "120911 NaN\n",
            "120912 NaN\n",
            "120913 NaN\n",
            "120914 NaN\n",
            "121214 NaN\n",
            "\n",
            "[3667 rows x 1 columns]\n"
          ]
        },
        {
          "data": {
            "text/plain": [
              "0    3667\n",
              "dtype: int64"
            ]
          },
          "execution_count": 115,
          "metadata": {},
          "output_type": "execute_result"
        }
      ],
      "source": [
        "pattern_regex=\"U\\$S\\s|usd|us\\$*\"\n",
        "dolar_regex=re.compile(pattern_regex)\n",
        "decimal_regex=\"\\.\"\n",
        "compile_decimal=re.compile(decimal_regex)\n",
        "\n",
        "sin_dolar = filtered_df_2.title_short.apply(lambda x: x if x is np.NaN else dolar_regex.sub(\"\", x))\n",
        "sin_dolar.head(10)\n",
        "sin_punto=sin_dolar.apply(lambda x: x if x is np.NaN else compile_decimal.sub(\"\", x))\n",
        "sin_punto.head(10)\n",
        "\n",
        "pattern_numero=r'(\\d{5,})'\n",
        "regex_numero=re.compile(pattern_numero)\n",
        "cinco_digitos_ti=sin_punto.str.extract(pattern_numero).astype(float)\n",
        "print(cinco_digitos_ti)\n",
        "cinco_digitos_ti.isnull().count()"
      ]
    },
    {
      "cell_type": "code",
      "execution_count": 116,
      "metadata": {
        "id": "2b5a4284"
      },
      "outputs": [],
      "source": [
        "#Se hizo el mismo protocolo para el titulo (el ti de los comandos hace referencia a eso) se encontraron 2412 campos que permitirian llenar#"
      ]
    },
    {
      "cell_type": "code",
      "execution_count": 117,
      "metadata": {
        "id": "30cd2dda"
      },
      "outputs": [
        {
          "data": {
            "text/plain": [
              "0    2411\n",
              "dtype: int64"
            ]
          },
          "execution_count": 117,
          "metadata": {},
          "output_type": "execute_result"
        }
      ],
      "source": [
        "nulos_descripcion_ti=cinco_digitos_ti.dropna()\n",
        "nulos_descripcion_ti.count()"
      ]
    },
    {
      "cell_type": "code",
      "execution_count": 118,
      "metadata": {
        "id": "0f5de2b1"
      },
      "outputs": [],
      "source": [
        "precios['Clean_precio_titulo'] = precios[\"Clean_precios\"].fillna(nulos_descripcion_ti.iloc[:,0])"
      ]
    },
    {
      "cell_type": "code",
      "execution_count": 119,
      "metadata": {
        "id": "696093b6"
      },
      "outputs": [
        {
          "data": {
            "text/plain": [
              "17413"
            ]
          },
          "execution_count": 119,
          "metadata": {},
          "output_type": "execute_result"
        }
      ],
      "source": [
        "precios[\"Clean_precio_titulo\"].isnull().sum()"
      ]
    },
    {
      "cell_type": "code",
      "execution_count": 120,
      "metadata": {
        "id": "86b13406"
      },
      "outputs": [
        {
          "name": "stdout",
          "output_type": "stream",
          "text": [
            "         0\n",
            "124    NaN\n",
            "125    NaN\n",
            "126    NaN\n",
            "263    NaN\n",
            "273    NaN\n",
            "...     ..\n",
            "120911 NaN\n",
            "120912 NaN\n",
            "120913 NaN\n",
            "120914 NaN\n",
            "121214 NaN\n",
            "\n",
            "[3667 rows x 1 columns]\n"
          ]
        },
        {
          "data": {
            "text/plain": [
              "0    0\n",
              "dtype: int64"
            ]
          },
          "execution_count": 120,
          "metadata": {},
          "output_type": "execute_result"
        }
      ],
      "source": [
        "#mismo protocolo para el caso de la URL. se encontraron 0 campos que permite llenar#\n",
        "\n",
        "sin_dolar = filtered_df_2.url_short.apply(lambda x: x if x is np.NaN else dolar_regex.sub(\"\", x))\n",
        "sin_dolar.head(10)\n",
        "sin_punto=sin_dolar.apply(lambda x: x if x is np.NaN else compile_decimal.sub(\"\", x))\n",
        "sin_punto.head(10)\n",
        "\n",
        "pattern_numero=r'(\\d{5,})'\n",
        "regex_numero=re.compile(pattern_numero)\n",
        "cinco_digitos_url=sin_punto.str.extract(pattern_numero).astype(float)\n",
        "print(cinco_digitos_url)\n",
        "cinco_digitos_url.isnull().count()\n",
        "nulos_descripcion_url=cinco_digitos_url.dropna()\n",
        "nulos_descripcion_url.count()"
      ]
    },
    {
      "cell_type": "raw",
      "metadata": {
        "id": "31b4e5c9"
      },
      "source": [
        "Una vez hecho eso, pensaba en funcion de los campos\n",
        "price, price_aprox_local_currency, price_aprox_USD y currency estimar  un promedio de la cotizacion del dolar\n",
        "para, de esa forma, poder normalizar todas las cotizaciones a USD"
      ]
    },
    {
      "cell_type": "markdown",
      "metadata": {
        "id": "geb74WtLHZzj"
      },
      "source": [
        "para hacer lo anterior hago una mascara con currency ars"
      ]
    },
    {
      "cell_type": "code",
      "execution_count": 121,
      "metadata": {
        "id": "18f06ccc"
      },
      "outputs": [
        {
          "data": {
            "text/html": [
              "<div>\n",
              "<style scoped>\n",
              "    .dataframe tbody tr th:only-of-type {\n",
              "        vertical-align: middle;\n",
              "    }\n",
              "\n",
              "    .dataframe tbody tr th {\n",
              "        vertical-align: top;\n",
              "    }\n",
              "\n",
              "    .dataframe thead th {\n",
              "        text-align: right;\n",
              "    }\n",
              "</style>\n",
              "<table border=\"1\" class=\"dataframe\">\n",
              "  <thead>\n",
              "    <tr style=\"text-align: right;\">\n",
              "      <th></th>\n",
              "      <th>price</th>\n",
              "      <th>currency</th>\n",
              "      <th>price_aprox_local_currency</th>\n",
              "      <th>price_aprox_usd</th>\n",
              "      <th>price_usd_per_m2</th>\n",
              "      <th>price_per_m2</th>\n",
              "      <th>Index</th>\n",
              "      <th>price_clean</th>\n",
              "      <th>Clean_precios</th>\n",
              "      <th>Clean_precio_titulo</th>\n",
              "    </tr>\n",
              "  </thead>\n",
              "  <tbody>\n",
              "    <tr>\n",
              "      <th>9</th>\n",
              "      <td>460000.0</td>\n",
              "      <td>ARS</td>\n",
              "      <td>455201.45</td>\n",
              "      <td>25798.49</td>\n",
              "      <td>NaN</td>\n",
              "      <td>NaN</td>\n",
              "      <td>10</td>\n",
              "      <td>460000.0</td>\n",
              "      <td>460000.0</td>\n",
              "      <td>460000.0</td>\n",
              "    </tr>\n",
              "    <tr>\n",
              "      <th>32</th>\n",
              "      <td>550000.0</td>\n",
              "      <td>ARS</td>\n",
              "      <td>544262.59</td>\n",
              "      <td>30846.02</td>\n",
              "      <td>616.920400</td>\n",
              "      <td>11000.000000</td>\n",
              "      <td>33</td>\n",
              "      <td>550000.0</td>\n",
              "      <td>550000.0</td>\n",
              "      <td>550000.0</td>\n",
              "    </tr>\n",
              "    <tr>\n",
              "      <th>37</th>\n",
              "      <td>1250000.0</td>\n",
              "      <td>ARS</td>\n",
              "      <td>1236960.43</td>\n",
              "      <td>70104.59</td>\n",
              "      <td>934.727867</td>\n",
              "      <td>16666.666667</td>\n",
              "      <td>38</td>\n",
              "      <td>1250000.0</td>\n",
              "      <td>1250000.0</td>\n",
              "      <td>1250000.0</td>\n",
              "    </tr>\n",
              "    <tr>\n",
              "      <th>78</th>\n",
              "      <td>5500000.0</td>\n",
              "      <td>ARS</td>\n",
              "      <td>5442626.35</td>\n",
              "      <td>308460.22</td>\n",
              "      <td>1181.839923</td>\n",
              "      <td>295.460650</td>\n",
              "      <td>78</td>\n",
              "      <td>5500000.0</td>\n",
              "      <td>5500000.0</td>\n",
              "      <td>5500000.0</td>\n",
              "    </tr>\n",
              "    <tr>\n",
              "      <th>97</th>\n",
              "      <td>1423800.0</td>\n",
              "      <td>ARS</td>\n",
              "      <td>1408947.37</td>\n",
              "      <td>79851.93</td>\n",
              "      <td>NaN</td>\n",
              "      <td>NaN</td>\n",
              "      <td>97</td>\n",
              "      <td>1423800.0</td>\n",
              "      <td>1423800.0</td>\n",
              "      <td>1423800.0</td>\n",
              "    </tr>\n",
              "    <tr>\n",
              "      <th>99</th>\n",
              "      <td>850000.0</td>\n",
              "      <td>ARS</td>\n",
              "      <td>841133.07</td>\n",
              "      <td>47671.12</td>\n",
              "      <td>238.355600</td>\n",
              "      <td>4722.222222</td>\n",
              "      <td>99</td>\n",
              "      <td>850000.0</td>\n",
              "      <td>850000.0</td>\n",
              "      <td>850000.0</td>\n",
              "    </tr>\n",
              "    <tr>\n",
              "      <th>122</th>\n",
              "      <td>2600000.0</td>\n",
              "      <td>ARS</td>\n",
              "      <td>2572877.76</td>\n",
              "      <td>145817.55</td>\n",
              "      <td>423.888227</td>\n",
              "      <td>13829.787234</td>\n",
              "      <td>121</td>\n",
              "      <td>2600000.0</td>\n",
              "      <td>2600000.0</td>\n",
              "      <td>2600000.0</td>\n",
              "    </tr>\n",
              "    <tr>\n",
              "      <th>128</th>\n",
              "      <td>1250000.0</td>\n",
              "      <td>ARS</td>\n",
              "      <td>1236960.43</td>\n",
              "      <td>70104.59</td>\n",
              "      <td>543.446434</td>\n",
              "      <td>18939.393939</td>\n",
              "      <td>127</td>\n",
              "      <td>1250000.0</td>\n",
              "      <td>1250000.0</td>\n",
              "      <td>1250000.0</td>\n",
              "    </tr>\n",
              "    <tr>\n",
              "      <th>154</th>\n",
              "      <td>1200000.0</td>\n",
              "      <td>ARS</td>\n",
              "      <td>1187482.08</td>\n",
              "      <td>67300.41</td>\n",
              "      <td>NaN</td>\n",
              "      <td>30000.000000</td>\n",
              "      <td>152</td>\n",
              "      <td>1200000.0</td>\n",
              "      <td>1200000.0</td>\n",
              "      <td>1200000.0</td>\n",
              "    </tr>\n",
              "    <tr>\n",
              "      <th>168</th>\n",
              "      <td>2500000.0</td>\n",
              "      <td>ARS</td>\n",
              "      <td>2473921.05</td>\n",
              "      <td>140209.19</td>\n",
              "      <td>719.021487</td>\n",
              "      <td>NaN</td>\n",
              "      <td>166</td>\n",
              "      <td>2500000.0</td>\n",
              "      <td>2500000.0</td>\n",
              "      <td>2500000.0</td>\n",
              "    </tr>\n",
              "  </tbody>\n",
              "</table>\n",
              "</div>"
            ],
            "text/plain": [
              "         price currency  price_aprox_local_currency  price_aprox_usd  \\\n",
              "9     460000.0      ARS                   455201.45         25798.49   \n",
              "32    550000.0      ARS                   544262.59         30846.02   \n",
              "37   1250000.0      ARS                  1236960.43         70104.59   \n",
              "78   5500000.0      ARS                  5442626.35        308460.22   \n",
              "97   1423800.0      ARS                  1408947.37         79851.93   \n",
              "99    850000.0      ARS                   841133.07         47671.12   \n",
              "122  2600000.0      ARS                  2572877.76        145817.55   \n",
              "128  1250000.0      ARS                  1236960.43         70104.59   \n",
              "154  1200000.0      ARS                  1187482.08         67300.41   \n",
              "168  2500000.0      ARS                  2473921.05        140209.19   \n",
              "\n",
              "     price_usd_per_m2  price_per_m2  Index  price_clean  Clean_precios  \\\n",
              "9                 NaN           NaN     10     460000.0       460000.0   \n",
              "32         616.920400  11000.000000     33     550000.0       550000.0   \n",
              "37         934.727867  16666.666667     38    1250000.0      1250000.0   \n",
              "78        1181.839923    295.460650     78    5500000.0      5500000.0   \n",
              "97                NaN           NaN     97    1423800.0      1423800.0   \n",
              "99         238.355600   4722.222222     99     850000.0       850000.0   \n",
              "122        423.888227  13829.787234    121    2600000.0      2600000.0   \n",
              "128        543.446434  18939.393939    127    1250000.0      1250000.0   \n",
              "154               NaN  30000.000000    152    1200000.0      1200000.0   \n",
              "168        719.021487           NaN    166    2500000.0      2500000.0   \n",
              "\n",
              "     Clean_precio_titulo  \n",
              "9               460000.0  \n",
              "32              550000.0  \n",
              "37             1250000.0  \n",
              "78             5500000.0  \n",
              "97             1423800.0  \n",
              "99              850000.0  \n",
              "122            2600000.0  \n",
              "128            1250000.0  \n",
              "154            1200000.0  \n",
              "168            2500000.0  "
            ]
          },
          "execution_count": 121,
          "metadata": {},
          "output_type": "execute_result"
        }
      ],
      "source": [
        "mascara_ars=precios[\"currency\"]==\"ARS\"\n",
        "entries_en_ARS=precios[mascara_ars]\n",
        "entries_en_ARS.head(10)"
      ]
    },
    {
      "cell_type": "code",
      "execution_count": 122,
      "metadata": {
        "id": "a72ee05f"
      },
      "outputs": [],
      "source": [
        "precios[\"conversion_en_USD\"]=entries_en_ARS[\"price_aprox_local_currency\"]/entries_en_ARS[\"price_aprox_usd\"]"
      ]
    },
    {
      "cell_type": "code",
      "execution_count": 123,
      "metadata": {
        "id": "ab7f55fd"
      },
      "outputs": [
        {
          "data": {
            "text/plain": [
              "0        NaN\n",
              "1        NaN\n",
              "2        NaN\n",
              "3        NaN\n",
              "4        NaN\n",
              "5        NaN\n",
              "6        NaN\n",
              "7        NaN\n",
              "8        NaN\n",
              "9    17.6445\n",
              "Name: conversion_en_USD, dtype: float64"
            ]
          },
          "execution_count": 123,
          "metadata": {},
          "output_type": "execute_result"
        }
      ],
      "source": [
        "precios[\"conversion_en_USD\"].head(10)"
      ]
    },
    {
      "cell_type": "code",
      "execution_count": 124,
      "metadata": {
        "id": "0ef34b1b"
      },
      "outputs": [],
      "source": [
        "descarto_nulos_conversion_USD=precios[\"conversion_en_USD\"].dropna()"
      ]
    },
    {
      "cell_type": "code",
      "execution_count": 125,
      "metadata": {
        "id": "f77054ad"
      },
      "outputs": [
        {
          "data": {
            "text/plain": [
              "9      17.6445\n",
              "32     17.6445\n",
              "37     17.6445\n",
              "78     17.6445\n",
              "97     17.6445\n",
              "99     17.6445\n",
              "122    17.6445\n",
              "128    17.6445\n",
              "154    17.6445\n",
              "168    17.6445\n",
              "Name: conversion_en_USD, dtype: float64"
            ]
          },
          "execution_count": 125,
          "metadata": {},
          "output_type": "execute_result"
        }
      ],
      "source": [
        "descarto_nulos_conversion_USD.head(10)"
      ]
    },
    {
      "cell_type": "code",
      "execution_count": 126,
      "metadata": {
        "id": "9b338f85"
      },
      "outputs": [
        {
          "data": {
            "text/plain": [
              "17.644499924849544"
            ]
          },
          "execution_count": 126,
          "metadata": {},
          "output_type": "execute_result"
        }
      ],
      "source": [
        "descarto_nulos_conversion_USD.mean()"
      ]
    },
    {
      "cell_type": "code",
      "execution_count": 127,
      "metadata": {
        "id": "VAwrPxGp6ZF0"
      },
      "outputs": [],
      "source": [
        "#De acuerdo con este promedio 1 dolar corresponde a 17,6445 pesos Se podrìa comprobar lo mismo con las entradas correspondientes al campo currency USD"
      ]
    },
    {
      "cell_type": "code",
      "execution_count": 128,
      "metadata": {
        "id": "12f9d33d"
      },
      "outputs": [
        {
          "data": {
            "text/html": [
              "<div>\n",
              "<style scoped>\n",
              "    .dataframe tbody tr th:only-of-type {\n",
              "        vertical-align: middle;\n",
              "    }\n",
              "\n",
              "    .dataframe tbody tr th {\n",
              "        vertical-align: top;\n",
              "    }\n",
              "\n",
              "    .dataframe thead th {\n",
              "        text-align: right;\n",
              "    }\n",
              "</style>\n",
              "<table border=\"1\" class=\"dataframe\">\n",
              "  <thead>\n",
              "    <tr style=\"text-align: right;\">\n",
              "      <th></th>\n",
              "      <th>price</th>\n",
              "      <th>currency</th>\n",
              "      <th>price_aprox_local_currency</th>\n",
              "      <th>price_aprox_usd</th>\n",
              "      <th>price_usd_per_m2</th>\n",
              "      <th>price_per_m2</th>\n",
              "      <th>Index</th>\n",
              "      <th>price_clean</th>\n",
              "      <th>Clean_precios</th>\n",
              "      <th>Clean_precio_titulo</th>\n",
              "      <th>conversion_en_USD</th>\n",
              "    </tr>\n",
              "  </thead>\n",
              "  <tbody>\n",
              "    <tr>\n",
              "      <th>0</th>\n",
              "      <td>62000.0</td>\n",
              "      <td>USD</td>\n",
              "      <td>1093959.0</td>\n",
              "      <td>62000.0</td>\n",
              "      <td>1127.272727</td>\n",
              "      <td>1550.000000</td>\n",
              "      <td>1</td>\n",
              "      <td>62000.0</td>\n",
              "      <td>62000.0</td>\n",
              "      <td>62000.0</td>\n",
              "      <td>NaN</td>\n",
              "    </tr>\n",
              "    <tr>\n",
              "      <th>1</th>\n",
              "      <td>150000.0</td>\n",
              "      <td>USD</td>\n",
              "      <td>2646675.0</td>\n",
              "      <td>150000.0</td>\n",
              "      <td>NaN</td>\n",
              "      <td>NaN</td>\n",
              "      <td>2</td>\n",
              "      <td>150000.0</td>\n",
              "      <td>150000.0</td>\n",
              "      <td>150000.0</td>\n",
              "      <td>NaN</td>\n",
              "    </tr>\n",
              "    <tr>\n",
              "      <th>2</th>\n",
              "      <td>72000.0</td>\n",
              "      <td>USD</td>\n",
              "      <td>1270404.0</td>\n",
              "      <td>72000.0</td>\n",
              "      <td>1309.090909</td>\n",
              "      <td>1309.090909</td>\n",
              "      <td>3</td>\n",
              "      <td>72000.0</td>\n",
              "      <td>72000.0</td>\n",
              "      <td>72000.0</td>\n",
              "      <td>NaN</td>\n",
              "    </tr>\n",
              "    <tr>\n",
              "      <th>3</th>\n",
              "      <td>95000.0</td>\n",
              "      <td>USD</td>\n",
              "      <td>1676227.5</td>\n",
              "      <td>95000.0</td>\n",
              "      <td>NaN</td>\n",
              "      <td>NaN</td>\n",
              "      <td>4</td>\n",
              "      <td>95000.0</td>\n",
              "      <td>95000.0</td>\n",
              "      <td>95000.0</td>\n",
              "      <td>NaN</td>\n",
              "    </tr>\n",
              "    <tr>\n",
              "      <th>4</th>\n",
              "      <td>64000.0</td>\n",
              "      <td>USD</td>\n",
              "      <td>1129248.0</td>\n",
              "      <td>64000.0</td>\n",
              "      <td>1828.571429</td>\n",
              "      <td>1828.571429</td>\n",
              "      <td>5</td>\n",
              "      <td>64000.0</td>\n",
              "      <td>64000.0</td>\n",
              "      <td>64000.0</td>\n",
              "      <td>NaN</td>\n",
              "    </tr>\n",
              "    <tr>\n",
              "      <th>6</th>\n",
              "      <td>130000.0</td>\n",
              "      <td>USD</td>\n",
              "      <td>2293785.0</td>\n",
              "      <td>130000.0</td>\n",
              "      <td>1226.415094</td>\n",
              "      <td>1666.666667</td>\n",
              "      <td>7</td>\n",
              "      <td>130000.0</td>\n",
              "      <td>130000.0</td>\n",
              "      <td>130000.0</td>\n",
              "      <td>NaN</td>\n",
              "    </tr>\n",
              "    <tr>\n",
              "      <th>7</th>\n",
              "      <td>138000.0</td>\n",
              "      <td>USD</td>\n",
              "      <td>2434941.0</td>\n",
              "      <td>138000.0</td>\n",
              "      <td>3066.666667</td>\n",
              "      <td>3450.000000</td>\n",
              "      <td>8</td>\n",
              "      <td>138000.0</td>\n",
              "      <td>138000.0</td>\n",
              "      <td>138000.0</td>\n",
              "      <td>NaN</td>\n",
              "    </tr>\n",
              "    <tr>\n",
              "      <th>8</th>\n",
              "      <td>195000.0</td>\n",
              "      <td>USD</td>\n",
              "      <td>3440677.5</td>\n",
              "      <td>195000.0</td>\n",
              "      <td>3000.000000</td>\n",
              "      <td>3250.000000</td>\n",
              "      <td>9</td>\n",
              "      <td>195000.0</td>\n",
              "      <td>195000.0</td>\n",
              "      <td>195000.0</td>\n",
              "      <td>NaN</td>\n",
              "    </tr>\n",
              "    <tr>\n",
              "      <th>10</th>\n",
              "      <td>70000.0</td>\n",
              "      <td>USD</td>\n",
              "      <td>1235115.0</td>\n",
              "      <td>70000.0</td>\n",
              "      <td>46.235139</td>\n",
              "      <td>NaN</td>\n",
              "      <td>11</td>\n",
              "      <td>70000.0</td>\n",
              "      <td>70000.0</td>\n",
              "      <td>70000.0</td>\n",
              "      <td>NaN</td>\n",
              "    </tr>\n",
              "    <tr>\n",
              "      <th>11</th>\n",
              "      <td>150000.0</td>\n",
              "      <td>USD</td>\n",
              "      <td>2646675.0</td>\n",
              "      <td>150000.0</td>\n",
              "      <td>NaN</td>\n",
              "      <td>NaN</td>\n",
              "      <td>12</td>\n",
              "      <td>150000.0</td>\n",
              "      <td>150000.0</td>\n",
              "      <td>150000.0</td>\n",
              "      <td>NaN</td>\n",
              "    </tr>\n",
              "  </tbody>\n",
              "</table>\n",
              "</div>"
            ],
            "text/plain": [
              "       price currency  price_aprox_local_currency  price_aprox_usd  \\\n",
              "0    62000.0      USD                   1093959.0          62000.0   \n",
              "1   150000.0      USD                   2646675.0         150000.0   \n",
              "2    72000.0      USD                   1270404.0          72000.0   \n",
              "3    95000.0      USD                   1676227.5          95000.0   \n",
              "4    64000.0      USD                   1129248.0          64000.0   \n",
              "6   130000.0      USD                   2293785.0         130000.0   \n",
              "7   138000.0      USD                   2434941.0         138000.0   \n",
              "8   195000.0      USD                   3440677.5         195000.0   \n",
              "10   70000.0      USD                   1235115.0          70000.0   \n",
              "11  150000.0      USD                   2646675.0         150000.0   \n",
              "\n",
              "    price_usd_per_m2  price_per_m2  Index  price_clean  Clean_precios  \\\n",
              "0        1127.272727   1550.000000      1      62000.0        62000.0   \n",
              "1                NaN           NaN      2     150000.0       150000.0   \n",
              "2        1309.090909   1309.090909      3      72000.0        72000.0   \n",
              "3                NaN           NaN      4      95000.0        95000.0   \n",
              "4        1828.571429   1828.571429      5      64000.0        64000.0   \n",
              "6        1226.415094   1666.666667      7     130000.0       130000.0   \n",
              "7        3066.666667   3450.000000      8     138000.0       138000.0   \n",
              "8        3000.000000   3250.000000      9     195000.0       195000.0   \n",
              "10         46.235139           NaN     11      70000.0        70000.0   \n",
              "11               NaN           NaN     12     150000.0       150000.0   \n",
              "\n",
              "    Clean_precio_titulo  conversion_en_USD  \n",
              "0               62000.0                NaN  \n",
              "1              150000.0                NaN  \n",
              "2               72000.0                NaN  \n",
              "3               95000.0                NaN  \n",
              "4               64000.0                NaN  \n",
              "6              130000.0                NaN  \n",
              "7              138000.0                NaN  \n",
              "8              195000.0                NaN  \n",
              "10              70000.0                NaN  \n",
              "11             150000.0                NaN  "
            ]
          },
          "execution_count": 128,
          "metadata": {},
          "output_type": "execute_result"
        }
      ],
      "source": [
        "mascara_usd=precios[\"currency\"]==\"USD\"\n",
        "entries_en_usd=precios[mascara_usd]\n",
        "entries_en_usd.head(10)\n",
        "\n"
      ]
    },
    {
      "cell_type": "code",
      "execution_count": 129,
      "metadata": {
        "id": "b22e99cc"
      },
      "outputs": [],
      "source": [
        "precios[\"conversion_en_USD_currency_USD\"]=entries_en_usd[\"price_aprox_local_currency\"]/entries_en_usd[\"price_aprox_usd\"]"
      ]
    },
    {
      "cell_type": "code",
      "execution_count": 130,
      "metadata": {
        "id": "084e01c8"
      },
      "outputs": [],
      "source": [
        "descarto_nulos_conversion_USD_currency_USD=precios[\"conversion_en_USD_currency_USD\"].dropna()"
      ]
    },
    {
      "cell_type": "code",
      "execution_count": 131,
      "metadata": {
        "id": "b8aef958"
      },
      "outputs": [
        {
          "data": {
            "text/plain": [
              "0     17.6445\n",
              "1     17.6445\n",
              "2     17.6445\n",
              "3     17.6445\n",
              "4     17.6445\n",
              "6     17.6445\n",
              "7     17.6445\n",
              "8     17.6445\n",
              "10    17.6445\n",
              "11    17.6445\n",
              "Name: conversion_en_USD_currency_USD, dtype: float64"
            ]
          },
          "execution_count": 131,
          "metadata": {},
          "output_type": "execute_result"
        }
      ],
      "source": [
        "descarto_nulos_conversion_USD_currency_USD.head(10)"
      ]
    },
    {
      "cell_type": "code",
      "execution_count": 132,
      "metadata": {
        "id": "5a479156"
      },
      "outputs": [
        {
          "data": {
            "text/plain": [
              "17.644499998125596"
            ]
          },
          "execution_count": 132,
          "metadata": {},
          "output_type": "execute_result"
        }
      ],
      "source": [
        "descarto_nulos_conversion_USD_currency_USD.mean()"
      ]
    },
    {
      "cell_type": "code",
      "execution_count": 133,
      "metadata": {
        "id": "nPBa96Nj6eO8"
      },
      "outputs": [],
      "source": [
        "#De acuerdo con este promedio 1 dolar corresponde a 17,6445 pesos\n",
        "\n",
        "#Valor con las entradas correspondientes al campo currency USD\n",
        "#Se pueden normalizar los entries por ese valor de pesos"
      ]
    },
    {
      "cell_type": "code",
      "execution_count": 134,
      "metadata": {
        "id": "4QZm8SXc6lHH"
      },
      "outputs": [],
      "source": [
        "#conversion de los campos del dataframe PRecios que tiene como moneda ARS a USD\n",
        "#a la vez se corrigen los valores de ARS#"
      ]
    },
    {
      "cell_type": "code",
      "execution_count": 135,
      "metadata": {
        "id": "43c8e788"
      },
      "outputs": [],
      "source": [
        "precios.loc[mascara_ars,\"Clean_precio_titulo\"]/=(descarto_nulos_conversion_USD.mean())"
      ]
    },
    {
      "cell_type": "code",
      "execution_count": 136,
      "metadata": {
        "id": "aa1ac160"
      },
      "outputs": [
        {
          "data": {
            "text/html": [
              "<div>\n",
              "<style scoped>\n",
              "    .dataframe tbody tr th:only-of-type {\n",
              "        vertical-align: middle;\n",
              "    }\n",
              "\n",
              "    .dataframe tbody tr th {\n",
              "        vertical-align: top;\n",
              "    }\n",
              "\n",
              "    .dataframe thead th {\n",
              "        text-align: right;\n",
              "    }\n",
              "</style>\n",
              "<table border=\"1\" class=\"dataframe\">\n",
              "  <thead>\n",
              "    <tr style=\"text-align: right;\">\n",
              "      <th></th>\n",
              "      <th>price</th>\n",
              "      <th>currency</th>\n",
              "      <th>price_aprox_local_currency</th>\n",
              "      <th>price_aprox_usd</th>\n",
              "      <th>price_usd_per_m2</th>\n",
              "      <th>price_per_m2</th>\n",
              "      <th>Index</th>\n",
              "      <th>price_clean</th>\n",
              "      <th>Clean_precios</th>\n",
              "      <th>Clean_precio_titulo</th>\n",
              "      <th>conversion_en_USD</th>\n",
              "      <th>conversion_en_USD_currency_USD</th>\n",
              "    </tr>\n",
              "  </thead>\n",
              "  <tbody>\n",
              "    <tr>\n",
              "      <th>9</th>\n",
              "      <td>460000.0</td>\n",
              "      <td>ARS</td>\n",
              "      <td>455201.45</td>\n",
              "      <td>25798.49</td>\n",
              "      <td>NaN</td>\n",
              "      <td>NaN</td>\n",
              "      <td>10</td>\n",
              "      <td>460000.0</td>\n",
              "      <td>460000.0</td>\n",
              "      <td>26070.446993</td>\n",
              "      <td>17.6445</td>\n",
              "      <td>NaN</td>\n",
              "    </tr>\n",
              "    <tr>\n",
              "      <th>32</th>\n",
              "      <td>550000.0</td>\n",
              "      <td>ARS</td>\n",
              "      <td>544262.59</td>\n",
              "      <td>30846.02</td>\n",
              "      <td>616.920400</td>\n",
              "      <td>11000.000000</td>\n",
              "      <td>33</td>\n",
              "      <td>550000.0</td>\n",
              "      <td>550000.0</td>\n",
              "      <td>31171.186621</td>\n",
              "      <td>17.6445</td>\n",
              "      <td>NaN</td>\n",
              "    </tr>\n",
              "    <tr>\n",
              "      <th>37</th>\n",
              "      <td>1250000.0</td>\n",
              "      <td>ARS</td>\n",
              "      <td>1236960.43</td>\n",
              "      <td>70104.59</td>\n",
              "      <td>934.727867</td>\n",
              "      <td>16666.666667</td>\n",
              "      <td>38</td>\n",
              "      <td>1250000.0</td>\n",
              "      <td>1250000.0</td>\n",
              "      <td>70843.605958</td>\n",
              "      <td>17.6445</td>\n",
              "      <td>NaN</td>\n",
              "    </tr>\n",
              "    <tr>\n",
              "      <th>78</th>\n",
              "      <td>5500000.0</td>\n",
              "      <td>ARS</td>\n",
              "      <td>5442626.35</td>\n",
              "      <td>308460.22</td>\n",
              "      <td>1181.839923</td>\n",
              "      <td>295.460650</td>\n",
              "      <td>78</td>\n",
              "      <td>5500000.0</td>\n",
              "      <td>5500000.0</td>\n",
              "      <td>311711.866215</td>\n",
              "      <td>17.6445</td>\n",
              "      <td>NaN</td>\n",
              "    </tr>\n",
              "    <tr>\n",
              "      <th>97</th>\n",
              "      <td>1423800.0</td>\n",
              "      <td>ARS</td>\n",
              "      <td>1408947.37</td>\n",
              "      <td>79851.93</td>\n",
              "      <td>NaN</td>\n",
              "      <td>NaN</td>\n",
              "      <td>97</td>\n",
              "      <td>1423800.0</td>\n",
              "      <td>1423800.0</td>\n",
              "      <td>80693.700930</td>\n",
              "      <td>17.6445</td>\n",
              "      <td>NaN</td>\n",
              "    </tr>\n",
              "    <tr>\n",
              "      <th>...</th>\n",
              "      <td>...</td>\n",
              "      <td>...</td>\n",
              "      <td>...</td>\n",
              "      <td>...</td>\n",
              "      <td>...</td>\n",
              "      <td>...</td>\n",
              "      <td>...</td>\n",
              "      <td>...</td>\n",
              "      <td>...</td>\n",
              "      <td>...</td>\n",
              "      <td>...</td>\n",
              "      <td>...</td>\n",
              "    </tr>\n",
              "    <tr>\n",
              "      <th>121202</th>\n",
              "      <td>1507000.0</td>\n",
              "      <td>ARS</td>\n",
              "      <td>1491279.61</td>\n",
              "      <td>84518.10</td>\n",
              "      <td>1625.348077</td>\n",
              "      <td>NaN</td>\n",
              "      <td>119890</td>\n",
              "      <td>1507000.0</td>\n",
              "      <td>1507000.0</td>\n",
              "      <td>85409.051343</td>\n",
              "      <td>17.6445</td>\n",
              "      <td>NaN</td>\n",
              "    </tr>\n",
              "    <tr>\n",
              "      <th>121203</th>\n",
              "      <td>1502000.0</td>\n",
              "      <td>ARS</td>\n",
              "      <td>1486331.74</td>\n",
              "      <td>84237.68</td>\n",
              "      <td>1684.753600</td>\n",
              "      <td>NaN</td>\n",
              "      <td>119891</td>\n",
              "      <td>1502000.0</td>\n",
              "      <td>1502000.0</td>\n",
              "      <td>85125.676919</td>\n",
              "      <td>17.6445</td>\n",
              "      <td>NaN</td>\n",
              "    </tr>\n",
              "    <tr>\n",
              "      <th>121204</th>\n",
              "      <td>1502000.0</td>\n",
              "      <td>ARS</td>\n",
              "      <td>1486331.74</td>\n",
              "      <td>84237.68</td>\n",
              "      <td>1684.753600</td>\n",
              "      <td>NaN</td>\n",
              "      <td>119892</td>\n",
              "      <td>1502000.0</td>\n",
              "      <td>1502000.0</td>\n",
              "      <td>85125.676919</td>\n",
              "      <td>17.6445</td>\n",
              "      <td>NaN</td>\n",
              "    </tr>\n",
              "    <tr>\n",
              "      <th>121205</th>\n",
              "      <td>1507000.0</td>\n",
              "      <td>ARS</td>\n",
              "      <td>1491279.61</td>\n",
              "      <td>84518.10</td>\n",
              "      <td>1690.362000</td>\n",
              "      <td>NaN</td>\n",
              "      <td>119893</td>\n",
              "      <td>1507000.0</td>\n",
              "      <td>1507000.0</td>\n",
              "      <td>85409.051343</td>\n",
              "      <td>17.6445</td>\n",
              "      <td>NaN</td>\n",
              "    </tr>\n",
              "    <tr>\n",
              "      <th>121206</th>\n",
              "      <td>1507000.0</td>\n",
              "      <td>ARS</td>\n",
              "      <td>1491279.61</td>\n",
              "      <td>84518.10</td>\n",
              "      <td>1690.362000</td>\n",
              "      <td>NaN</td>\n",
              "      <td>119894</td>\n",
              "      <td>1507000.0</td>\n",
              "      <td>1507000.0</td>\n",
              "      <td>85409.051343</td>\n",
              "      <td>17.6445</td>\n",
              "      <td>NaN</td>\n",
              "    </tr>\n",
              "  </tbody>\n",
              "</table>\n",
              "<p>12910 rows × 12 columns</p>\n",
              "</div>"
            ],
            "text/plain": [
              "            price currency  price_aprox_local_currency  price_aprox_usd  \\\n",
              "9        460000.0      ARS                   455201.45         25798.49   \n",
              "32       550000.0      ARS                   544262.59         30846.02   \n",
              "37      1250000.0      ARS                  1236960.43         70104.59   \n",
              "78      5500000.0      ARS                  5442626.35        308460.22   \n",
              "97      1423800.0      ARS                  1408947.37         79851.93   \n",
              "...           ...      ...                         ...              ...   \n",
              "121202  1507000.0      ARS                  1491279.61         84518.10   \n",
              "121203  1502000.0      ARS                  1486331.74         84237.68   \n",
              "121204  1502000.0      ARS                  1486331.74         84237.68   \n",
              "121205  1507000.0      ARS                  1491279.61         84518.10   \n",
              "121206  1507000.0      ARS                  1491279.61         84518.10   \n",
              "\n",
              "        price_usd_per_m2  price_per_m2   Index  price_clean  Clean_precios  \\\n",
              "9                    NaN           NaN      10     460000.0       460000.0   \n",
              "32            616.920400  11000.000000      33     550000.0       550000.0   \n",
              "37            934.727867  16666.666667      38    1250000.0      1250000.0   \n",
              "78           1181.839923    295.460650      78    5500000.0      5500000.0   \n",
              "97                   NaN           NaN      97    1423800.0      1423800.0   \n",
              "...                  ...           ...     ...          ...            ...   \n",
              "121202       1625.348077           NaN  119890    1507000.0      1507000.0   \n",
              "121203       1684.753600           NaN  119891    1502000.0      1502000.0   \n",
              "121204       1684.753600           NaN  119892    1502000.0      1502000.0   \n",
              "121205       1690.362000           NaN  119893    1507000.0      1507000.0   \n",
              "121206       1690.362000           NaN  119894    1507000.0      1507000.0   \n",
              "\n",
              "        Clean_precio_titulo  conversion_en_USD  conversion_en_USD_currency_USD  \n",
              "9              26070.446993            17.6445                             NaN  \n",
              "32             31171.186621            17.6445                             NaN  \n",
              "37             70843.605958            17.6445                             NaN  \n",
              "78            311711.866215            17.6445                             NaN  \n",
              "97             80693.700930            17.6445                             NaN  \n",
              "...                     ...                ...                             ...  \n",
              "121202         85409.051343            17.6445                             NaN  \n",
              "121203         85125.676919            17.6445                             NaN  \n",
              "121204         85125.676919            17.6445                             NaN  \n",
              "121205         85409.051343            17.6445                             NaN  \n",
              "121206         85409.051343            17.6445                             NaN  \n",
              "\n",
              "[12910 rows x 12 columns]"
            ]
          },
          "execution_count": 136,
          "metadata": {},
          "output_type": "execute_result"
        }
      ],
      "source": [
        "precios[mascara_ars]"
      ]
    },
    {
      "cell_type": "code",
      "execution_count": 137,
      "metadata": {
        "id": "515f22d3"
      },
      "outputs": [],
      "source": [
        "precios[\"currency_new\"]=precios[\"currency\"].replace(\"ARS\",\"USD\")"
      ]
    },
    {
      "cell_type": "code",
      "execution_count": 138,
      "metadata": {
        "id": "55931b62"
      },
      "outputs": [
        {
          "data": {
            "text/plain": [
              "0         USD\n",
              "1         USD\n",
              "2         USD\n",
              "3         USD\n",
              "4         USD\n",
              "         ... \n",
              "121215    USD\n",
              "121216    USD\n",
              "121217    USD\n",
              "121218    USD\n",
              "121219    USD\n",
              "Name: currency_new, Length: 119907, dtype: object"
            ]
          },
          "execution_count": 138,
          "metadata": {},
          "output_type": "execute_result"
        }
      ],
      "source": [
        "precios[\"currency_new\"]"
      ]
    },
    {
      "cell_type": "code",
      "execution_count": 139,
      "metadata": {
        "id": "20646f70"
      },
      "outputs": [],
      "source": [
        "precios = precios.rename(columns={'Clean_precio_titulo': 'precios_nuevos'})"
      ]
    },
    {
      "cell_type": "code",
      "execution_count": 140,
      "metadata": {
        "id": "45ca7276"
      },
      "outputs": [
        {
          "data": {
            "text/plain": [
              "price                             float64\n",
              "currency                           object\n",
              "price_aprox_local_currency        float64\n",
              "price_aprox_usd                   float64\n",
              "price_usd_per_m2                  float64\n",
              "price_per_m2                      float64\n",
              "Index                               int64\n",
              "price_clean                       float64\n",
              "Clean_precios                     float64\n",
              "precios_nuevos                    float64\n",
              "conversion_en_USD                 float64\n",
              "conversion_en_USD_currency_USD    float64\n",
              "currency_new                       object\n",
              "dtype: object"
            ]
          },
          "execution_count": 140,
          "metadata": {},
          "output_type": "execute_result"
        }
      ],
      "source": [
        "precios.dtypes"
      ]
    },
    {
      "cell_type": "markdown",
      "metadata": {
        "id": "sWze7OGQG_Z2"
      },
      "source": [
        "Cambio todos los valores del campo currency_new a USD#"
      ]
    },
    {
      "cell_type": "code",
      "execution_count": 141,
      "metadata": {
        "id": "3ecdf5ae"
      },
      "outputs": [],
      "source": [
        "fill=\"USD\""
      ]
    },
    {
      "cell_type": "code",
      "execution_count": 142,
      "metadata": {
        "id": "1a1a622b"
      },
      "outputs": [],
      "source": [
        "precios['currency_new'] = precios.apply(lambda row: fill if pd.isna(row['currency_new']) and pd.notna(row['precios_nuevos']) else row['currency_new'], axis=1)"
      ]
    },
    {
      "cell_type": "markdown",
      "metadata": {
        "id": "8cjEOC5rHIX_"
      },
      "source": [
        "Por ùltimo tomo en cuenta los valores de los campos correspondientes a las sntradas de currency en UYU y en PEN\n",
        "y las normalizo a USD"
      ]
    },
    {
      "cell_type": "code",
      "execution_count": 143,
      "metadata": {
        "id": "1968ebd8"
      },
      "outputs": [
        {
          "data": {
            "text/html": [
              "<div>\n",
              "<style scoped>\n",
              "    .dataframe tbody tr th:only-of-type {\n",
              "        vertical-align: middle;\n",
              "    }\n",
              "\n",
              "    .dataframe tbody tr th {\n",
              "        vertical-align: top;\n",
              "    }\n",
              "\n",
              "    .dataframe thead th {\n",
              "        text-align: right;\n",
              "    }\n",
              "</style>\n",
              "<table border=\"1\" class=\"dataframe\">\n",
              "  <thead>\n",
              "    <tr style=\"text-align: right;\">\n",
              "      <th></th>\n",
              "      <th>price</th>\n",
              "      <th>currency</th>\n",
              "      <th>price_aprox_local_currency</th>\n",
              "      <th>price_aprox_usd</th>\n",
              "      <th>price_usd_per_m2</th>\n",
              "      <th>price_per_m2</th>\n",
              "      <th>Index</th>\n",
              "      <th>price_clean</th>\n",
              "      <th>Clean_precios</th>\n",
              "      <th>precios_nuevos</th>\n",
              "      <th>conversion_en_USD</th>\n",
              "      <th>conversion_en_USD_currency_USD</th>\n",
              "      <th>currency_new</th>\n",
              "    </tr>\n",
              "  </thead>\n",
              "  <tbody>\n",
              "    <tr>\n",
              "      <th>107390</th>\n",
              "      <td>650000000.0</td>\n",
              "      <td>UYU</td>\n",
              "      <td>4.054773e+08</td>\n",
              "      <td>22980378.29</td>\n",
              "      <td>NaN</td>\n",
              "      <td>NaN</td>\n",
              "      <td>106216</td>\n",
              "      <td>650000000.0</td>\n",
              "      <td>650000000.0</td>\n",
              "      <td>650000000.0</td>\n",
              "      <td>NaN</td>\n",
              "      <td>NaN</td>\n",
              "      <td>UYU</td>\n",
              "    </tr>\n",
              "  </tbody>\n",
              "</table>\n",
              "</div>"
            ],
            "text/plain": [
              "              price currency  price_aprox_local_currency  price_aprox_usd  \\\n",
              "107390  650000000.0      UYU                4.054773e+08      22980378.29   \n",
              "\n",
              "        price_usd_per_m2  price_per_m2   Index  price_clean  Clean_precios  \\\n",
              "107390               NaN           NaN  106216  650000000.0    650000000.0   \n",
              "\n",
              "        precios_nuevos  conversion_en_USD  conversion_en_USD_currency_USD  \\\n",
              "107390     650000000.0                NaN                             NaN   \n",
              "\n",
              "       currency_new  \n",
              "107390          UYU  "
            ]
          },
          "execution_count": 143,
          "metadata": {},
          "output_type": "execute_result"
        }
      ],
      "source": [
        "precios[mascara_uyu]"
      ]
    },
    {
      "cell_type": "code",
      "execution_count": 144,
      "metadata": {
        "id": "35f54be9"
      },
      "outputs": [
        {
          "data": {
            "text/html": [
              "<div>\n",
              "<style scoped>\n",
              "    .dataframe tbody tr th:only-of-type {\n",
              "        vertical-align: middle;\n",
              "    }\n",
              "\n",
              "    .dataframe tbody tr th {\n",
              "        vertical-align: top;\n",
              "    }\n",
              "\n",
              "    .dataframe thead th {\n",
              "        text-align: right;\n",
              "    }\n",
              "</style>\n",
              "<table border=\"1\" class=\"dataframe\">\n",
              "  <thead>\n",
              "    <tr style=\"text-align: right;\">\n",
              "      <th></th>\n",
              "      <th>property_type</th>\n",
              "      <th>place_name</th>\n",
              "      <th>place_with_parent_names</th>\n",
              "      <th>country_name</th>\n",
              "      <th>state_name</th>\n",
              "      <th>geonames_id</th>\n",
              "      <th>lat-lon</th>\n",
              "      <th>lat</th>\n",
              "      <th>lon</th>\n",
              "      <th>price</th>\n",
              "      <th>currency</th>\n",
              "      <th>price_aprox_local_currency</th>\n",
              "      <th>price_aprox_usd</th>\n",
              "      <th>surface_total_in_m2</th>\n",
              "      <th>surface_covered_in_m2</th>\n",
              "      <th>price_usd_per_m2</th>\n",
              "      <th>price_per_m2</th>\n",
              "      <th>floor</th>\n",
              "      <th>rooms</th>\n",
              "      <th>expenses</th>\n",
              "      <th>properati_url</th>\n",
              "      <th>description</th>\n",
              "      <th>title</th>\n",
              "      <th>image_thumbnail</th>\n",
              "      <th>provincia</th>\n",
              "      <th>ciudad</th>\n",
              "      <th>barrio</th>\n",
              "      <th>partido</th>\n",
              "      <th>geometry</th>\n",
              "      <th>surface_total_clean</th>\n",
              "    </tr>\n",
              "  </thead>\n",
              "  <tbody>\n",
              "    <tr>\n",
              "      <th>107390</th>\n",
              "      <td>house</td>\n",
              "      <td>San Roque</td>\n",
              "      <td>|Argentina|Mendoza|San Roque|</td>\n",
              "      <td>Argentina</td>\n",
              "      <td>Mendoza</td>\n",
              "      <td>3836586.0</td>\n",
              "      <td>NaN</td>\n",
              "      <td>-33.02887</td>\n",
              "      <td>-68.59729</td>\n",
              "      <td>650000000.0</td>\n",
              "      <td>UYU</td>\n",
              "      <td>4.054773e+08</td>\n",
              "      <td>22980378.29</td>\n",
              "      <td>NaN</td>\n",
              "      <td>NaN</td>\n",
              "      <td>NaN</td>\n",
              "      <td>NaN</td>\n",
              "      <td>NaN</td>\n",
              "      <td>NaN</td>\n",
              "      <td>NaN</td>\n",
              "      <td>http://www.properati.com.ar/1by0s_venta_casa_san-roque_garage_ciudad-inmobiliaria_go2</td>\n",
              "      <td>casa con calefacción central, mendoza, san roque, por $ 650.000.000</td>\n",
              "      <td>casa - san vicente</td>\n",
              "      <td>https://thumbs4.properati.com/2/pA0RbuDKRK6GgVfYNIGhuZABjmw=/trim/198x0/smart/filters:strip_icc()/tbcn.s3-accelerate.amazonaws.com/pictures/93074386646834267802048084061149412749606864096523041674189414770450190912595.jpg</td>\n",
              "      <td>Mendoza</td>\n",
              "      <td>San Roque</td>\n",
              "      <td>None</td>\n",
              "      <td>None</td>\n",
              "      <td>POINT (-68.59729 -33.02887)</td>\n",
              "      <td>NaN</td>\n",
              "    </tr>\n",
              "  </tbody>\n",
              "</table>\n",
              "</div>"
            ],
            "text/plain": [
              "       property_type place_name        place_with_parent_names country_name  \\\n",
              "107390         house  San Roque  |Argentina|Mendoza|San Roque|    Argentina   \n",
              "\n",
              "       state_name  geonames_id lat-lon       lat       lon        price  \\\n",
              "107390    Mendoza    3836586.0     NaN -33.02887 -68.59729  650000000.0   \n",
              "\n",
              "       currency  price_aprox_local_currency  price_aprox_usd  \\\n",
              "107390      UYU                4.054773e+08      22980378.29   \n",
              "\n",
              "        surface_total_in_m2  surface_covered_in_m2  price_usd_per_m2  \\\n",
              "107390                  NaN                    NaN               NaN   \n",
              "\n",
              "        price_per_m2  floor  rooms  expenses  \\\n",
              "107390           NaN    NaN    NaN       NaN   \n",
              "\n",
              "                                                                                properati_url  \\\n",
              "107390  http://www.properati.com.ar/1by0s_venta_casa_san-roque_garage_ciudad-inmobiliaria_go2   \n",
              "\n",
              "                                                                description  \\\n",
              "107390  casa con calefacción central, mendoza, san roque, por $ 650.000.000   \n",
              "\n",
              "                     title  \\\n",
              "107390  casa - san vicente   \n",
              "\n",
              "                                                                                                                                                                                                                      image_thumbnail  \\\n",
              "107390  https://thumbs4.properati.com/2/pA0RbuDKRK6GgVfYNIGhuZABjmw=/trim/198x0/smart/filters:strip_icc()/tbcn.s3-accelerate.amazonaws.com/pictures/93074386646834267802048084061149412749606864096523041674189414770450190912595.jpg   \n",
              "\n",
              "       provincia     ciudad barrio partido                     geometry  \\\n",
              "107390   Mendoza  San Roque   None    None  POINT (-68.59729 -33.02887)   \n",
              "\n",
              "       surface_total_clean  \n",
              "107390                 NaN  "
            ]
          },
          "execution_count": 144,
          "metadata": {},
          "output_type": "execute_result"
        }
      ],
      "source": [
        "fila_uy[\"price_aprox_local_currency\"]/fila_uy[\"price_aprox_usd\"]\n",
        "masc_uyu=properatti_df[\"currency\"]==\"UYU\"\n",
        "properatti_df[masc_uyu]"
      ]
    },
    {
      "cell_type": "code",
      "execution_count": 145,
      "metadata": {
        "id": "16e5fabf"
      },
      "outputs": [
        {
          "data": {
            "text/plain": [
              "107390    28.285\n",
              "dtype: float64"
            ]
          },
          "execution_count": 145,
          "metadata": {},
          "output_type": "execute_result"
        }
      ],
      "source": [
        "fila_uy[\"price_aprox_local_currency\"]/fila_uy[\"price\"]\n",
        "fila_uy[\"price\"]/fila_uy[\"price_aprox_usd\"]"
      ]
    },
    {
      "cell_type": "code",
      "execution_count": 146,
      "metadata": {
        "id": "cfe627eb"
      },
      "outputs": [
        {
          "data": {
            "text/plain": [
              "107390    22980378.29\n",
              "Name: price_aprox_usd, dtype: float64"
            ]
          },
          "execution_count": 146,
          "metadata": {},
          "output_type": "execute_result"
        }
      ],
      "source": [
        "new_price_UYUtoUSD=fila_uy[\"price_aprox_usd\"]\n",
        "new_price_UYUtoUSD"
      ]
    },
    {
      "cell_type": "code",
      "execution_count": 147,
      "metadata": {
        "id": "fad89ae6"
      },
      "outputs": [
        {
          "name": "stderr",
          "output_type": "stream",
          "text": [
            "/var/folders/cv/c6ctbt612w9_hm1ltt9l68vc0000gn/T/ipykernel_55149/2193192114.py:1: SettingWithCopyWarning: \n",
            "A value is trying to be set on a copy of a slice from a DataFrame\n",
            "\n",
            "See the caveats in the documentation: https://pandas.pydata.org/pandas-docs/stable/user_guide/indexing.html#returning-a-view-versus-a-copy\n",
            "  precios[\"precios_nuevos\"][107391]=new_price_UYUtoUSD\n",
            "/var/folders/cv/c6ctbt612w9_hm1ltt9l68vc0000gn/T/ipykernel_55149/2193192114.py:1: FutureWarning: Calling float on a single element Series is deprecated and will raise a TypeError in the future. Use float(ser.iloc[0]) instead\n",
            "  precios[\"precios_nuevos\"][107391]=new_price_UYUtoUSD\n"
          ]
        }
      ],
      "source": [
        "precios[\"precios_nuevos\"][107391]=new_price_UYUtoUSD"
      ]
    },
    {
      "cell_type": "code",
      "execution_count": 148,
      "metadata": {
        "id": "6a535d2c"
      },
      "outputs": [
        {
          "data": {
            "text/plain": [
              "22980378.29"
            ]
          },
          "execution_count": 148,
          "metadata": {},
          "output_type": "execute_result"
        }
      ],
      "source": [
        "precios[\"precios_nuevos\"][107391]"
      ]
    },
    {
      "cell_type": "code",
      "execution_count": 149,
      "metadata": {
        "id": "d6717926"
      },
      "outputs": [
        {
          "data": {
            "text/html": [
              "<div>\n",
              "<style scoped>\n",
              "    .dataframe tbody tr th:only-of-type {\n",
              "        vertical-align: middle;\n",
              "    }\n",
              "\n",
              "    .dataframe tbody tr th {\n",
              "        vertical-align: top;\n",
              "    }\n",
              "\n",
              "    .dataframe thead th {\n",
              "        text-align: right;\n",
              "    }\n",
              "</style>\n",
              "<table border=\"1\" class=\"dataframe\">\n",
              "  <thead>\n",
              "    <tr style=\"text-align: right;\">\n",
              "      <th></th>\n",
              "      <th>price</th>\n",
              "      <th>currency</th>\n",
              "      <th>price_aprox_local_currency</th>\n",
              "      <th>price_aprox_usd</th>\n",
              "      <th>price_usd_per_m2</th>\n",
              "      <th>price_per_m2</th>\n",
              "      <th>Index</th>\n",
              "    </tr>\n",
              "  </thead>\n",
              "  <tbody>\n",
              "    <tr>\n",
              "      <th>50387</th>\n",
              "      <td>380000.0</td>\n",
              "      <td>PEN</td>\n",
              "      <td>2066864.90</td>\n",
              "      <td>117139.33</td>\n",
              "      <td>NaN</td>\n",
              "      <td>NaN</td>\n",
              "      <td>49718</td>\n",
              "    </tr>\n",
              "    <tr>\n",
              "      <th>50388</th>\n",
              "      <td>950000.0</td>\n",
              "      <td>PEN</td>\n",
              "      <td>5167162.35</td>\n",
              "      <td>292848.33</td>\n",
              "      <td>NaN</td>\n",
              "      <td>NaN</td>\n",
              "      <td>49719</td>\n",
              "    </tr>\n",
              "  </tbody>\n",
              "</table>\n",
              "</div>"
            ],
            "text/plain": [
              "          price currency  price_aprox_local_currency  price_aprox_usd  \\\n",
              "50387  380000.0      PEN                  2066864.90        117139.33   \n",
              "50388  950000.0      PEN                  5167162.35        292848.33   \n",
              "\n",
              "       price_usd_per_m2  price_per_m2  Index  \n",
              "50387               NaN           NaN  49718  \n",
              "50388               NaN           NaN  49719  "
            ]
          },
          "execution_count": 149,
          "metadata": {},
          "output_type": "execute_result"
        }
      ],
      "source": [
        "fila_pen"
      ]
    },
    {
      "cell_type": "code",
      "execution_count": 150,
      "metadata": {
        "id": "8aa74a0f"
      },
      "outputs": [
        {
          "data": {
            "text/plain": [
              "50387    3.244\n",
              "50388    3.244\n",
              "dtype: float64"
            ]
          },
          "execution_count": 150,
          "metadata": {},
          "output_type": "execute_result"
        }
      ],
      "source": [
        "fila_pen[\"price\"]/fila_pen[\"price_aprox_usd\"]"
      ]
    },
    {
      "cell_type": "code",
      "execution_count": 151,
      "metadata": {
        "id": "59f19dd0"
      },
      "outputs": [
        {
          "data": {
            "text/plain": [
              "50387    17.6445\n",
              "50388    17.6445\n",
              "dtype: float64"
            ]
          },
          "execution_count": 151,
          "metadata": {},
          "output_type": "execute_result"
        }
      ],
      "source": [
        "fila_pen[\"price_aprox_local_currency\"]/fila_pen[\"price_aprox_usd\"]"
      ]
    },
    {
      "cell_type": "code",
      "execution_count": 152,
      "metadata": {
        "id": "3a3885a5"
      },
      "outputs": [],
      "source": [
        "new_price_PENtoUSD=fila_pen[\"price_aprox_usd\"]"
      ]
    },
    {
      "cell_type": "code",
      "execution_count": 153,
      "metadata": {
        "id": "191d5c80"
      },
      "outputs": [],
      "source": [
        "precios.loc[mascara_pen,\"precios_nuevos\"]=new_price_PENtoUSD"
      ]
    },
    {
      "cell_type": "code",
      "execution_count": 154,
      "metadata": {
        "id": "b21ea9b9"
      },
      "outputs": [
        {
          "data": {
            "text/plain": [
              "0         USD\n",
              "1         USD\n",
              "2         USD\n",
              "3         USD\n",
              "4         USD\n",
              "         ... \n",
              "121215    USD\n",
              "121216    USD\n",
              "121217    USD\n",
              "121218    USD\n",
              "121219    USD\n",
              "Name: currency_new, Length: 119907, dtype: object"
            ]
          },
          "execution_count": 154,
          "metadata": {},
          "output_type": "execute_result"
        }
      ],
      "source": [
        "precios['currency_new'].replace(\"PEN\",\"USD\")\n",
        "precios[\"currency_new\"].replace(\"UYU\",\"USD\")\n",
        "precios[\"currency_new\"]"
      ]
    },
    {
      "cell_type": "markdown",
      "metadata": {
        "id": "IzFsXx4XHLb0"
      },
      "source": [
        "Luego de seleccionadas las columnas correpsondeintes a price aprox en USD para los casos de pesos UYU y de PEN se\n",
        "unificaron los currency en la columna currency para establecer su normalizacion a USD"
      ]
    },
    {
      "cell_type": "code",
      "execution_count": 155,
      "metadata": {
        "id": "2a9ec66b"
      },
      "outputs": [
        {
          "data": {
            "text/plain": [
              "price                             float64\n",
              "currency                           object\n",
              "price_aprox_local_currency        float64\n",
              "price_aprox_usd                   float64\n",
              "price_usd_per_m2                  float64\n",
              "price_per_m2                      float64\n",
              "Index                               int64\n",
              "price_clean                       float64\n",
              "Clean_precios                     float64\n",
              "precios_nuevos                    float64\n",
              "conversion_en_USD                 float64\n",
              "conversion_en_USD_currency_USD    float64\n",
              "currency_new                       object\n",
              "dtype: object"
            ]
          },
          "execution_count": 155,
          "metadata": {},
          "output_type": "execute_result"
        }
      ],
      "source": [
        "precios.dtypes"
      ]
    },
    {
      "cell_type": "code",
      "execution_count": 156,
      "metadata": {
        "id": "1ef7c128"
      },
      "outputs": [],
      "source": [
        "precios=precios.drop(labels=[\"price_clean\", \"Clean_precios\", \"conversion_en_USD\", \"conversion_en_USD_currency_USD\"], axis=1)"
      ]
    },
    {
      "cell_type": "code",
      "execution_count": 157,
      "metadata": {
        "id": "7738a5fc"
      },
      "outputs": [
        {
          "data": {
            "text/html": [
              "<div>\n",
              "<style scoped>\n",
              "    .dataframe tbody tr th:only-of-type {\n",
              "        vertical-align: middle;\n",
              "    }\n",
              "\n",
              "    .dataframe tbody tr th {\n",
              "        vertical-align: top;\n",
              "    }\n",
              "\n",
              "    .dataframe thead th {\n",
              "        text-align: right;\n",
              "    }\n",
              "</style>\n",
              "<table border=\"1\" class=\"dataframe\">\n",
              "  <thead>\n",
              "    <tr style=\"text-align: right;\">\n",
              "      <th></th>\n",
              "      <th>price</th>\n",
              "      <th>currency</th>\n",
              "      <th>price_aprox_local_currency</th>\n",
              "      <th>price_aprox_usd</th>\n",
              "      <th>price_usd_per_m2</th>\n",
              "      <th>price_per_m2</th>\n",
              "      <th>Index</th>\n",
              "      <th>precios_nuevos</th>\n",
              "      <th>currency_new</th>\n",
              "    </tr>\n",
              "  </thead>\n",
              "  <tbody>\n",
              "    <tr>\n",
              "      <th>0</th>\n",
              "      <td>62000.0</td>\n",
              "      <td>USD</td>\n",
              "      <td>1093959.00</td>\n",
              "      <td>62000.0</td>\n",
              "      <td>1127.272727</td>\n",
              "      <td>1550.000000</td>\n",
              "      <td>1</td>\n",
              "      <td>62000.0</td>\n",
              "      <td>USD</td>\n",
              "    </tr>\n",
              "    <tr>\n",
              "      <th>1</th>\n",
              "      <td>150000.0</td>\n",
              "      <td>USD</td>\n",
              "      <td>2646675.00</td>\n",
              "      <td>150000.0</td>\n",
              "      <td>NaN</td>\n",
              "      <td>NaN</td>\n",
              "      <td>2</td>\n",
              "      <td>150000.0</td>\n",
              "      <td>USD</td>\n",
              "    </tr>\n",
              "    <tr>\n",
              "      <th>2</th>\n",
              "      <td>72000.0</td>\n",
              "      <td>USD</td>\n",
              "      <td>1270404.00</td>\n",
              "      <td>72000.0</td>\n",
              "      <td>1309.090909</td>\n",
              "      <td>1309.090909</td>\n",
              "      <td>3</td>\n",
              "      <td>72000.0</td>\n",
              "      <td>USD</td>\n",
              "    </tr>\n",
              "    <tr>\n",
              "      <th>3</th>\n",
              "      <td>95000.0</td>\n",
              "      <td>USD</td>\n",
              "      <td>1676227.50</td>\n",
              "      <td>95000.0</td>\n",
              "      <td>NaN</td>\n",
              "      <td>NaN</td>\n",
              "      <td>4</td>\n",
              "      <td>95000.0</td>\n",
              "      <td>USD</td>\n",
              "    </tr>\n",
              "    <tr>\n",
              "      <th>4</th>\n",
              "      <td>64000.0</td>\n",
              "      <td>USD</td>\n",
              "      <td>1129248.00</td>\n",
              "      <td>64000.0</td>\n",
              "      <td>1828.571429</td>\n",
              "      <td>1828.571429</td>\n",
              "      <td>5</td>\n",
              "      <td>64000.0</td>\n",
              "      <td>USD</td>\n",
              "    </tr>\n",
              "    <tr>\n",
              "      <th>...</th>\n",
              "      <td>...</td>\n",
              "      <td>...</td>\n",
              "      <td>...</td>\n",
              "      <td>...</td>\n",
              "      <td>...</td>\n",
              "      <td>...</td>\n",
              "      <td>...</td>\n",
              "      <td>...</td>\n",
              "      <td>...</td>\n",
              "    </tr>\n",
              "    <tr>\n",
              "      <th>121215</th>\n",
              "      <td>870000.0</td>\n",
              "      <td>USD</td>\n",
              "      <td>15350715.00</td>\n",
              "      <td>870000.0</td>\n",
              "      <td>7699.115044</td>\n",
              "      <td>9354.838710</td>\n",
              "      <td>119903</td>\n",
              "      <td>870000.0</td>\n",
              "      <td>USD</td>\n",
              "    </tr>\n",
              "    <tr>\n",
              "      <th>121216</th>\n",
              "      <td>498000.0</td>\n",
              "      <td>USD</td>\n",
              "      <td>8786961.00</td>\n",
              "      <td>498000.0</td>\n",
              "      <td>1383.333333</td>\n",
              "      <td>1383.333333</td>\n",
              "      <td>119904</td>\n",
              "      <td>498000.0</td>\n",
              "      <td>USD</td>\n",
              "    </tr>\n",
              "    <tr>\n",
              "      <th>121217</th>\n",
              "      <td>131500.0</td>\n",
              "      <td>USD</td>\n",
              "      <td>2320251.75</td>\n",
              "      <td>131500.0</td>\n",
              "      <td>2858.695652</td>\n",
              "      <td>3371.794872</td>\n",
              "      <td>119905</td>\n",
              "      <td>131500.0</td>\n",
              "      <td>USD</td>\n",
              "    </tr>\n",
              "    <tr>\n",
              "      <th>121218</th>\n",
              "      <td>95900.0</td>\n",
              "      <td>USD</td>\n",
              "      <td>1692107.55</td>\n",
              "      <td>95900.0</td>\n",
              "      <td>1997.916667</td>\n",
              "      <td>1997.916667</td>\n",
              "      <td>119906</td>\n",
              "      <td>95900.0</td>\n",
              "      <td>USD</td>\n",
              "    </tr>\n",
              "    <tr>\n",
              "      <th>121219</th>\n",
              "      <td>129000.0</td>\n",
              "      <td>USD</td>\n",
              "      <td>2276140.50</td>\n",
              "      <td>129000.0</td>\n",
              "      <td>1675.324675</td>\n",
              "      <td>1675.324675</td>\n",
              "      <td>119907</td>\n",
              "      <td>129000.0</td>\n",
              "      <td>USD</td>\n",
              "    </tr>\n",
              "  </tbody>\n",
              "</table>\n",
              "<p>119907 rows × 9 columns</p>\n",
              "</div>"
            ],
            "text/plain": [
              "           price currency  price_aprox_local_currency  price_aprox_usd  \\\n",
              "0        62000.0      USD                  1093959.00          62000.0   \n",
              "1       150000.0      USD                  2646675.00         150000.0   \n",
              "2        72000.0      USD                  1270404.00          72000.0   \n",
              "3        95000.0      USD                  1676227.50          95000.0   \n",
              "4        64000.0      USD                  1129248.00          64000.0   \n",
              "...          ...      ...                         ...              ...   \n",
              "121215  870000.0      USD                 15350715.00         870000.0   \n",
              "121216  498000.0      USD                  8786961.00         498000.0   \n",
              "121217  131500.0      USD                  2320251.75         131500.0   \n",
              "121218   95900.0      USD                  1692107.55          95900.0   \n",
              "121219  129000.0      USD                  2276140.50         129000.0   \n",
              "\n",
              "        price_usd_per_m2  price_per_m2   Index  precios_nuevos currency_new  \n",
              "0            1127.272727   1550.000000       1         62000.0          USD  \n",
              "1                    NaN           NaN       2        150000.0          USD  \n",
              "2            1309.090909   1309.090909       3         72000.0          USD  \n",
              "3                    NaN           NaN       4         95000.0          USD  \n",
              "4            1828.571429   1828.571429       5         64000.0          USD  \n",
              "...                  ...           ...     ...             ...          ...  \n",
              "121215       7699.115044   9354.838710  119903        870000.0          USD  \n",
              "121216       1383.333333   1383.333333  119904        498000.0          USD  \n",
              "121217       2858.695652   3371.794872  119905        131500.0          USD  \n",
              "121218       1997.916667   1997.916667  119906         95900.0          USD  \n",
              "121219       1675.324675   1675.324675  119907        129000.0          USD  \n",
              "\n",
              "[119907 rows x 9 columns]"
            ]
          },
          "execution_count": 157,
          "metadata": {},
          "output_type": "execute_result"
        }
      ],
      "source": [
        "precios"
      ]
    },
    {
      "cell_type": "code",
      "execution_count": 158,
      "metadata": {
        "id": "N_GNwpW0818L"
      },
      "outputs": [
        {
          "name": "stdout",
          "output_type": "stream",
          "text": [
            "nulos en la columna precios nueva : 17413\n",
            "nulos en la columna precios inicial: 20149\n"
          ]
        }
      ],
      "source": [
        "print(\"nulos en la columna precios nueva :\", precios['precios_nuevos'].isnull().sum())\n",
        "print(\"nulos en la columna precios inicial:\", precios['price'].isnull().sum())"
      ]
    },
    {
      "cell_type": "markdown",
      "metadata": {
        "id": "26ZSEyW0biQq"
      },
      "source": [
        "# Gráficos de porcentajes de nulos en cada columna"
      ]
    },
    {
      "cell_type": "code",
      "execution_count": 159,
      "metadata": {
        "id": "fe52289a"
      },
      "outputs": [
        {
          "name": "stdout",
          "output_type": "stream",
          "text": [
            "property_type\n",
            "place_name\n",
            "place_with_parent_names\n",
            "country_name\n",
            "state_name\n",
            "geonames_id\n",
            "lat-lon\n",
            "lat\n",
            "lon\n",
            "price\n",
            "currency\n",
            "price_aprox_local_currency\n",
            "price_aprox_usd\n",
            "surface_total_in_m2\n",
            "surface_covered_in_m2\n",
            "price_usd_per_m2\n",
            "price_per_m2\n",
            "floor\n",
            "rooms\n",
            "expenses\n",
            "properati_url\n",
            "description\n",
            "title\n",
            "image_thumbnail\n",
            "provincia\n",
            "ciudad\n",
            "barrio\n",
            "partido\n",
            "geometry\n",
            "surface_total_clean\n"
          ]
        }
      ],
      "source": [
        "for col in properatti_df.columns:\n",
        "    print(col)"
      ]
    },
    {
      "cell_type": "code",
      "execution_count": 160,
      "metadata": {
        "id": "70c43e1a"
      },
      "outputs": [
        {
          "data": {
            "text/plain": [
              "property_type                   object\n",
              "place_name                      object\n",
              "place_with_parent_names         object\n",
              "country_name                    object\n",
              "state_name                      object\n",
              "geonames_id                    float64\n",
              "lat-lon                         object\n",
              "lat                            float64\n",
              "lon                            float64\n",
              "price                          float64\n",
              "currency                        object\n",
              "price_aprox_local_currency     float64\n",
              "price_aprox_usd                float64\n",
              "surface_total_in_m2            float64\n",
              "surface_covered_in_m2          float64\n",
              "price_usd_per_m2               float64\n",
              "price_per_m2                   float64\n",
              "floor                          float64\n",
              "rooms                          float64\n",
              "expenses                       float64\n",
              "properati_url                   object\n",
              "description                     object\n",
              "title                           object\n",
              "image_thumbnail                 object\n",
              "provincia                       object\n",
              "ciudad                          object\n",
              "barrio                          object\n",
              "partido                         object\n",
              "geometry                      geometry\n",
              "surface_total_clean             object\n",
              "dtype: object"
            ]
          },
          "execution_count": 160,
          "metadata": {},
          "output_type": "execute_result"
        }
      ],
      "source": [
        "properatti_df.dtypes"
      ]
    },
    {
      "cell_type": "code",
      "execution_count": 161,
      "metadata": {
        "id": "b3dee895"
      },
      "outputs": [],
      "source": [
        "numero_de_nulos=properatti_df.isna().sum()"
      ]
    },
    {
      "cell_type": "code",
      "execution_count": 162,
      "metadata": {
        "id": "2ffb81e8"
      },
      "outputs": [
        {
          "data": {
            "text/plain": [
              "119907"
            ]
          },
          "execution_count": 162,
          "metadata": {},
          "output_type": "execute_result"
        }
      ],
      "source": [
        "properatti_df.shape[0]"
      ]
    },
    {
      "cell_type": "code",
      "execution_count": 163,
      "metadata": {
        "id": "dfb4a039"
      },
      "outputs": [],
      "source": [
        "porcentaje_de_nulos=numero_de_nulos/(properatti_df.shape[0])*100"
      ]
    },
    {
      "cell_type": "code",
      "execution_count": 164,
      "metadata": {
        "id": "f4193a4b"
      },
      "outputs": [],
      "source": [
        "nulos_redondeados=porcentaje_de_nulos.round(2)"
      ]
    },
    {
      "cell_type": "code",
      "execution_count": 165,
      "metadata": {
        "id": "1e6b5ba4"
      },
      "outputs": [
        {
          "data": {
            "text/plain": [
              "property_type                  0.00\n",
              "place_name                     0.02\n",
              "place_with_parent_names        0.00\n",
              "country_name                   0.00\n",
              "state_name                     0.00\n",
              "geonames_id                   15.54\n",
              "lat-lon                       42.68\n",
              "lat                            0.00\n",
              "lon                            0.00\n",
              "price                         16.80\n",
              "currency                      16.80\n",
              "price_aprox_local_currency    16.80\n",
              "price_aprox_usd               16.80\n",
              "surface_total_in_m2           32.46\n",
              "surface_covered_in_m2         16.35\n",
              "price_usd_per_m2              43.41\n",
              "price_per_m2                  27.63\n",
              "floor                         93.43\n",
              "rooms                         61.01\n",
              "expenses                      88.16\n",
              "properati_url                  0.00\n",
              "description                    0.00\n",
              "title                          0.00\n",
              "image_thumbnail                2.58\n",
              "provincia                      0.00\n",
              "ciudad                         2.86\n",
              "barrio                        41.97\n",
              "partido                       49.44\n",
              "geometry                       0.00\n",
              "surface_total_clean           24.42\n",
              "dtype: float64"
            ]
          },
          "execution_count": 165,
          "metadata": {},
          "output_type": "execute_result"
        }
      ],
      "source": [
        "nulos_redondeados"
      ]
    },
    {
      "cell_type": "code",
      "execution_count": 166,
      "metadata": {
        "id": "61e5a7f1"
      },
      "outputs": [],
      "source": [
        "lista=properatti_df.columns.tolist()"
      ]
    },
    {
      "cell_type": "code",
      "execution_count": 167,
      "metadata": {
        "id": "5be29a92"
      },
      "outputs": [
        {
          "data": {
            "text/plain": [
              "'property_type'"
            ]
          },
          "execution_count": 167,
          "metadata": {},
          "output_type": "execute_result"
        }
      ],
      "source": [
        "lista[0]"
      ]
    },
    {
      "cell_type": "code",
      "execution_count": 168,
      "metadata": {
        "id": "d86d742a"
      },
      "outputs": [],
      "source": [
        "valores=nulos_redondeados.tolist()"
      ]
    },
    {
      "cell_type": "code",
      "execution_count": 169,
      "metadata": {
        "id": "39ace931"
      },
      "outputs": [
        {
          "data": {
            "text/plain": [
              "[0.0,\n",
              " 0.02,\n",
              " 0.0,\n",
              " 0.0,\n",
              " 0.0,\n",
              " 15.54,\n",
              " 42.68,\n",
              " 0.0,\n",
              " 0.0,\n",
              " 16.8,\n",
              " 16.8,\n",
              " 16.8,\n",
              " 16.8,\n",
              " 32.46,\n",
              " 16.35,\n",
              " 43.41,\n",
              " 27.63,\n",
              " 93.43,\n",
              " 61.01,\n",
              " 88.16,\n",
              " 0.0,\n",
              " 0.0,\n",
              " 0.0,\n",
              " 2.58,\n",
              " 0.0,\n",
              " 2.86,\n",
              " 41.97,\n",
              " 49.44,\n",
              " 0.0,\n",
              " 24.42]"
            ]
          },
          "execution_count": 169,
          "metadata": {},
          "output_type": "execute_result"
        }
      ],
      "source": [
        "valores"
      ]
    },
    {
      "cell_type": "code",
      "execution_count": 170,
      "metadata": {
        "id": "155f08c0"
      },
      "outputs": [
        {
          "name": "stdout",
          "output_type": "stream",
          "text": [
            "30\n",
            "30\n"
          ]
        }
      ],
      "source": [
        "print(len(lista))\n",
        "print(len(valores))"
      ]
    },
    {
      "cell_type": "code",
      "execution_count": 171,
      "metadata": {
        "id": "db9cfde1"
      },
      "outputs": [
        {
          "name": "stdout",
          "output_type": "stream",
          "text": [
            "['property_type', 'place_name', 'place_with_parent_names', 'country_name', 'state_name', 'geonames_id', 'lat-lon', 'lat']\n",
            "['lon', 'price', 'currency', 'price_aprox_local_currency', 'price_aprox_usd', 'surface_total_in_m2', 'surface_covered_in_m2', 'price_usd_per_m2', 'price_per_m2']\n",
            "['floor', 'rooms', 'expenses', 'properati_url', 'description', 'title', 'image_thumbnail', 'provincia', 'ciudad', 'barrio', 'partido', 'geometry', 'surface_total_clean']\n"
          ]
        }
      ],
      "source": [
        "lista1=lista[0:8]\n",
        "print(lista1)\n",
        "lista2=lista[8:17]\n",
        "print(lista2)\n",
        "lista3=lista[17:]\n",
        "print(lista3)"
      ]
    },
    {
      "cell_type": "code",
      "execution_count": 172,
      "metadata": {
        "id": "f781f55d"
      },
      "outputs": [
        {
          "name": "stdout",
          "output_type": "stream",
          "text": [
            "[0.0, 0.02, 0.0, 0.0, 0.0, 15.54, 42.68, 0.0]\n",
            "[0.0, 16.8, 16.8, 16.8, 16.8, 32.46, 16.35, 43.41, 27.63]\n",
            "[93.43, 61.01, 88.16, 0.0, 0.0, 0.0, 2.58, 0.0, 2.86, 41.97, 49.44, 0.0, 24.42]\n"
          ]
        }
      ],
      "source": [
        "valores1=valores[0:8]\n",
        "print(valores1)\n",
        "valores2=valores[8:17]\n",
        "print(valores2)\n",
        "valores3=valores[17:]\n",
        "print(valores3)"
      ]
    },
    {
      "cell_type": "code",
      "execution_count": 173,
      "metadata": {
        "id": "b9fb24b0"
      },
      "outputs": [
        {
          "data": {
            "image/png": "[encoded data removed]",
            "text/plain": [
              "<Figure size 640x480 with 1 Axes>"
            ]
          },
          "metadata": {},
          "output_type": "display_data"
        }
      ],
      "source": [
        "fig, ax = plt.subplots()\n",
        "\n",
        "ax.bar(lista1, valores1, tick_label= lista1)\n",
        "\n",
        "ax.set(xlabel = \"Columna\", ylabel = \"Porcentaje de nulos y\", title = \"Porcentaje de nulos en cada columna\")\n",
        "plt.xticks(rotation=45, ha=\"right\")\n",
        "plt.show()\n"
      ]
    },
    {
      "cell_type": "code",
      "execution_count": 174,
      "metadata": {
        "id": "f5a9e22e"
      },
      "outputs": [
        {
          "data": {
            "image/png": "[encoded data removed]",
            "text/plain": [
              "<Figure size 640x480 with 1 Axes>"
            ]
          },
          "metadata": {},
          "output_type": "display_data"
        }
      ],
      "source": [
        "fig2, ax2 = plt.subplots()\n",
        "\n",
        "ax2.bar(lista2, valores2, tick_label= lista2)\n",
        "\n",
        "ax2.set(xlabel = \"Columna\", ylabel = \"Porcentaje de nulos y\", title = \"Porcentaje de nulos en cada columna\")\n",
        "plt.xticks(rotation=45, ha=\"right\")\n",
        "plt.show()\n"
      ]
    },
    {
      "cell_type": "code",
      "execution_count": 175,
      "metadata": {
        "id": "0f37cb06"
      },
      "outputs": [
        {
          "data": {
            "image/png": "[encoded data removed]",
            "text/plain": [
              "<Figure size 640x480 with 1 Axes>"
            ]
          },
          "metadata": {},
          "output_type": "display_data"
        }
      ],
      "source": [
        "fig3, ax3 = plt.subplots()\n",
        "\n",
        "ax3.bar(lista3, valores3, tick_label= lista3)\n",
        "\n",
        "ax3.set(xlabel = \"Columna\", ylabel = \"Porcentaje de nulos y\", title = \"Porcentaje de nulos en cada columna\")\n",
        "plt.xticks(rotation=45, ha=\"right\")\n",
        "plt.show()\n"
      ]
    },
    {
      "cell_type": "markdown",
      "metadata": {
        "id": "DfTxvJBCS3HX"
      },
      "source": [
        "# Floor (Valentino)"
      ]
    },
    {
      "cell_type": "code",
      "execution_count": 176,
      "metadata": {
        "id": "aKb1PJ_tdhgf"
      },
      "outputs": [],
      "source": [
        "df_floor=properatti_df.floor\n",
        "#creamos variable de la columna floor"
      ]
    },
    {
      "cell_type": "code",
      "execution_count": 177,
      "metadata": {
        "id": "QIqEa1OSdq7L"
      },
      "outputs": [
        {
          "data": {
            "text/plain": [
              "119907"
            ]
          },
          "execution_count": 177,
          "metadata": {},
          "output_type": "execute_result"
        }
      ],
      "source": [
        "df_floor.size\n",
        "#tamanio de la columna"
      ]
    },
    {
      "cell_type": "code",
      "execution_count": 178,
      "metadata": {
        "id": "3C0XN4i7dspk"
      },
      "outputs": [
        {
          "data": {
            "text/plain": [
              "112027"
            ]
          },
          "execution_count": 178,
          "metadata": {},
          "output_type": "execute_result"
        }
      ],
      "source": [
        "df_floor.isnull().sum()\n",
        "#cantidad de nulos"
      ]
    },
    {
      "cell_type": "code",
      "execution_count": 179,
      "metadata": {
        "id": "Jifz5lyRdshY"
      },
      "outputs": [
        {
          "data": {
            "text/plain": [
              "(0.999, 5.0]    5660\n",
              "(5.0, 10.0]     1471\n",
              "(10.0, 15.0]     398\n",
              "(15.0, 20.0]      86\n",
              "(20.0, 25.0]      34\n",
              "(25.0, 30.0]      12\n",
              "(30.0, 35.0]      12\n",
              "(35.0, 40.0]       9\n",
              "(45.0, 50.0]       7\n",
              "(40.0, 45.0]       6\n",
              "(50.0, 55.0]       4\n",
              "(55.0, 60.0]       3\n",
              "(60.0, 65.0]       3\n",
              "(75.0, 80.0]       2\n",
              "(65.0, 70.0]       1\n",
              "(70.0, 75.0]       0\n",
              "Name: count, dtype: int64"
            ]
          },
          "execution_count": 179,
          "metadata": {},
          "output_type": "execute_result"
        }
      ],
      "source": [
        "df_floor.value_counts(bins=[1,5,10,15,20,25,30,35,40,45,50,55,60,65,70,75,80])\n",
        "#cantidad por rango"
      ]
    },
    {
      "cell_type": "code",
      "execution_count": 180,
      "metadata": {
        "id": "dofLxlcZdsaD"
      },
      "outputs": [
        {
          "data": {
            "text/plain": [
              "floor\n",
              "108.0     5\n",
              "1609.0    4\n",
              "104.0     4\n",
              "403.0     4\n",
              "106.0     3\n",
              "         ..\n",
              "1109.0    1\n",
              "407.0     1\n",
              "252.0     1\n",
              "513.0     1\n",
              "309.0     1\n",
              "Name: count, Length: 125, dtype: int64"
            ]
          },
          "execution_count": 180,
          "metadata": {},
          "output_type": "execute_result"
        }
      ],
      "source": [
        "df_floor.loc[df_floor>=75].value_counts()"
      ]
    },
    {
      "cell_type": "code",
      "execution_count": 181,
      "metadata": {
        "id": "x1gVHVn9dsJV"
      },
      "outputs": [],
      "source": [
        "df_floor_clean=df_floor.apply(lambda x: np.nan if x>=54 or x==np.nan else x)\n",
        "#eliminamos los valores mayores a 54"
      ]
    },
    {
      "cell_type": "code",
      "execution_count": 182,
      "metadata": {
        "id": "P0fp3IgQd0nr"
      },
      "outputs": [],
      "source": [
        "#ponemos valor 100 para cuando no tiene valor la casilla\n",
        "#esto para cuando se trate de una casa que no tiene piso o por si tenia un valor irreal\n",
        "df_floor_clean=df_floor_clean.fillna(100)"
      ]
    },
    {
      "cell_type": "code",
      "execution_count": 183,
      "metadata": {
        "id": "WltInzNdd0fl"
      },
      "outputs": [
        {
          "data": {
            "text/plain": [
              "property_type\n",
              "apartment    6502\n",
              "house         765\n",
              "PH            573\n",
              "store          40\n",
              "Name: count, dtype: int64"
            ]
          },
          "execution_count": 183,
          "metadata": {},
          "output_type": "execute_result"
        }
      ],
      "source": [
        "# A continuacion vemos que valores de propiedad se toman cuando no es nulo el valor floor\n",
        "properatti_df.loc[properatti_df.floor>=0]['property_type'].value_counts()\n",
        "# Concluimos en que los valores de apartment estan bien ya que excluimos aquellos mayores a 54\n",
        "# Pero no seria logico que el valor de una casa un PH o una store sea mayor a 1 entoces esos valores hay que pasarlos a 100 (nuestro sinonimo de nulo)"
      ]
    },
    {
      "cell_type": "code",
      "execution_count": 184,
      "metadata": {
        "id": "FwkAfZV0d0Y3"
      },
      "outputs": [
        {
          "name": "stderr",
          "output_type": "stream",
          "text": [
            "/Users/juanvassallo/anaconda3/envs/dhdsblend2021_geopandas/lib/python3.9/site-packages/geopandas/geodataframe.py:1474: UserWarning: Boolean Series key will be reindexed to match DataFrame index.\n",
            "  result = super().__getitem__(key)\n"
          ]
        },
        {
          "data": {
            "text/plain": [
              "Index([    93,     94,    192,    193,    301,    346,    347,    691,    692,\n",
              "          693,\n",
              "       ...\n",
              "       119452, 119509, 119511, 119513, 119517, 119519, 119603, 119627, 119653,\n",
              "       119660],\n",
              "      dtype='int64', length=815)"
            ]
          },
          "execution_count": 184,
          "metadata": {},
          "output_type": "execute_result"
        }
      ],
      "source": [
        "indice=properatti_df.loc[properatti_df.floor>1][properatti_df.property_type!='apartment']['floor'].index\n",
        "indice"
      ]
    },
    {
      "cell_type": "code",
      "execution_count": 185,
      "metadata": {
        "id": "_PMLmia_d0MT"
      },
      "outputs": [
        {
          "data": {
            "text/plain": [
              "floor\n",
              "100.0    112317\n",
              "1.0        2042\n",
              "2.0        1514\n",
              "3.0         901\n",
              "4.0         644\n",
              "5.0         478\n",
              "6.0         476\n",
              "7.0         348\n",
              "8.0         248\n",
              "9.0         203\n",
              "10.0        179\n",
              "11.0        123\n",
              "12.0        115\n",
              "13.0         69\n",
              "14.0         48\n",
              "15.0         40\n",
              "17.0         31\n",
              "16.0         24\n",
              "22.0         16\n",
              "18.0         15\n",
              "19.0          9\n",
              "27.0          6\n",
              "25.0          6\n",
              "20.0          6\n",
              "21.0          6\n",
              "33.0          5\n",
              "31.0          4\n",
              "23.0          3\n",
              "36.0          3\n",
              "24.0          3\n",
              "47.0          2\n",
              "29.0          2\n",
              "42.0          2\n",
              "39.0          2\n",
              "32.0          2\n",
              "40.0          2\n",
              "38.0          1\n",
              "41.0          1\n",
              "53.0          1\n",
              "37.0          1\n",
              "50.0          1\n",
              "28.0          1\n",
              "34.0          1\n",
              "45.0          1\n",
              "48.0          1\n",
              "49.0          1\n",
              "43.0          1\n",
              "30.0          1\n",
              "26.0          1\n",
              "Name: count, dtype: int64"
            ]
          },
          "execution_count": 185,
          "metadata": {},
          "output_type": "execute_result"
        }
      ],
      "source": [
        "df_floor_clean.iloc[indice]=100\n",
        "df_floor_clean.value_counts()"
      ]
    },
    {
      "cell_type": "code",
      "execution_count": 186,
      "metadata": {
        "id": "moHFEAgetu0T"
      },
      "outputs": [
        {
          "name": "stdout",
          "output_type": "stream",
          "text": [
            "0\n"
          ]
        }
      ],
      "source": [
        "null_count = df_floor_clean.isnull().sum()\n",
        "print(null_count)"
      ]
    },
    {
      "cell_type": "markdown",
      "metadata": {
        "id": "DdH7MT6K0uL8"
      },
      "source": [
        "# Limpieza de la columna \"expenses\""
      ]
    },
    {
      "cell_type": "code",
      "execution_count": 187,
      "metadata": {
        "id": "e22e0d6d"
      },
      "outputs": [
        {
          "data": {
            "text/html": [
              "<div>\n",
              "<style scoped>\n",
              "    .dataframe tbody tr th:only-of-type {\n",
              "        vertical-align: middle;\n",
              "    }\n",
              "\n",
              "    .dataframe tbody tr th {\n",
              "        vertical-align: top;\n",
              "    }\n",
              "\n",
              "    .dataframe thead th {\n",
              "        text-align: right;\n",
              "    }\n",
              "</style>\n",
              "<table border=\"1\" class=\"dataframe\">\n",
              "  <thead>\n",
              "    <tr style=\"text-align: right;\">\n",
              "      <th></th>\n",
              "      <th>expenses</th>\n",
              "      <th>description</th>\n",
              "      <th>title</th>\n",
              "      <th>properati_url</th>\n",
              "    </tr>\n",
              "  </thead>\n",
              "  <tbody>\n",
              "    <tr>\n",
              "      <th>0</th>\n",
              "      <td>NaN</td>\n",
              "      <td>2 ambientes tipo casa planta baja por pasillo, refaccionado a nuevo, patio grande, con lavadero, living comedor con cocina integrada, artefacto de cocina, alacena, baño completo, y dormitorio. todo en excelente estado, para habitar.no es apto credito aviso publicado por pixel inmobiliario (servicio de páginas web para inmobiliarias).</td>\n",
              "      <td>2 amb tipo casa sin expensas en pb</td>\n",
              "      <td>http://www.properati.com.ar/15bo8_venta_ph_mataderos_lavadero_patio_inmobiliaria-fedele</td>\n",
              "    </tr>\n",
              "    <tr>\n",
              "      <th>1</th>\n",
              "      <td>NaN</td>\n",
              "      <td>venta de departamento en décimo piso al frente, a estrenar. living comedor con ventanales hacia el balcón con pisos de madera. cocina completa con doble mesada, muebles bajo mesada. lavadero separado. toilette.dormitorio con placard. segundo dormitorio a dividir. calefacción por radiadorbaño completo.balcón corrido. posibilidad de cochera semicubierta. u$d 20.000                     aviso publicado por pixel inmobiliario (servicio de páginas web para inmobiliarias).</td>\n",
              "      <td>venta depto 2 dorm. a estrenar 7 e/ 36 y 37</td>\n",
              "      <td>http://www.properati.com.ar/15bob_venta_departamentos_la-plata_balcon_lavadero_toilette_garage_estrenar_antonini-propiedades_dcp</td>\n",
              "    </tr>\n",
              "    <tr>\n",
              "      <th>2</th>\n",
              "      <td>NaN</td>\n",
              "      <td>2 ambientes 3er piso lateral living comedor amplio cocina separada con lavadero, baño completo y dormitorio con placard. bajas expensas, excelente ubicacion     aviso publicado por pixel inmobiliario (servicio de páginas web para inmobiliarias).</td>\n",
              "      <td>2 amb 3er piso con ascensor apto credito</td>\n",
              "      <td>http://www.properati.com.ar/15bod_venta_departamentos_mataderos_lavadero_placard_inmobiliaria-fedele</td>\n",
              "    </tr>\n",
              "    <tr>\n",
              "      <th>3</th>\n",
              "      <td>NaN</td>\n",
              "      <td>ph 3 ambientes con patio. hay 3 deptos en lote, 2 en pb y 1 en 1º piso.reciclado a nuevo. \"muy buen estado\"     aviso publicado por pixel inmobiliario (servicio de páginas web para inmobiliarias).</td>\n",
              "      <td>ph 3 amb. cfte. reciclado</td>\n",
              "      <td>http://www.properati.com.ar/15boh_venta_ph_liniers_patio_g-goffredo</td>\n",
              "    </tr>\n",
              "  </tbody>\n",
              "</table>\n",
              "</div>"
            ],
            "text/plain": [
              "   expenses  \\\n",
              "0       NaN   \n",
              "1       NaN   \n",
              "2       NaN   \n",
              "3       NaN   \n",
              "\n",
              "                                                                                                                                                                                                                                                                                                                                                                                                                                                                              description  \\\n",
              "0                                                                                                                                         2 ambientes tipo casa planta baja por pasillo, refaccionado a nuevo, patio grande, con lavadero, living comedor con cocina integrada, artefacto de cocina, alacena, baño completo, y dormitorio. todo en excelente estado, para habitar.no es apto credito aviso publicado por pixel inmobiliario (servicio de páginas web para inmobiliarias).   \n",
              "1  venta de departamento en décimo piso al frente, a estrenar. living comedor con ventanales hacia el balcón con pisos de madera. cocina completa con doble mesada, muebles bajo mesada. lavadero separado. toilette.dormitorio con placard. segundo dormitorio a dividir. calefacción por radiadorbaño completo.balcón corrido. posibilidad de cochera semicubierta. u$d 20.000                     aviso publicado por pixel inmobiliario (servicio de páginas web para inmobiliarias).   \n",
              "2                                                                                                                                                                                                                                   2 ambientes 3er piso lateral living comedor amplio cocina separada con lavadero, baño completo y dormitorio con placard. bajas expensas, excelente ubicacion     aviso publicado por pixel inmobiliario (servicio de páginas web para inmobiliarias).   \n",
              "3                                                                                                                                                                                                                                                                                    ph 3 ambientes con patio. hay 3 deptos en lote, 2 en pb y 1 en 1º piso.reciclado a nuevo. \"muy buen estado\"     aviso publicado por pixel inmobiliario (servicio de páginas web para inmobiliarias).   \n",
              "\n",
              "                                                        title  \\\n",
              "0                          2 amb tipo casa sin expensas en pb   \n",
              "1  venta depto 2 dorm. a estrenar 7 e/ 36 y 37                  \n",
              "2                    2 amb 3er piso con ascensor apto credito   \n",
              "3                                ph 3 amb. cfte. reciclado      \n",
              "\n",
              "                                                                                                                      properati_url  \n",
              "0                                           http://www.properati.com.ar/15bo8_venta_ph_mataderos_lavadero_patio_inmobiliaria-fedele  \n",
              "1  http://www.properati.com.ar/15bob_venta_departamentos_la-plata_balcon_lavadero_toilette_garage_estrenar_antonini-propiedades_dcp  \n",
              "2                              http://www.properati.com.ar/15bod_venta_departamentos_mataderos_lavadero_placard_inmobiliaria-fedele  \n",
              "3                                                               http://www.properati.com.ar/15boh_venta_ph_liniers_patio_g-goffredo  "
            ]
          },
          "execution_count": 187,
          "metadata": {},
          "output_type": "execute_result"
        }
      ],
      "source": [
        "#creo el dataframe expensas para analizar\n",
        "expensas=properatti_df.loc[:,[\"expenses\", \"description\", \"title\", \"properati_url\"]]\n",
        "expensas.head(4)"
      ]
    },
    {
      "cell_type": "code",
      "execution_count": 188,
      "metadata": {
        "id": "1110e815"
      },
      "outputs": [],
      "source": [
        "#se calcula la cantidad de nulos en la columna expensas\n",
        "cant_nulos_expensas=expensas[\"expenses\"].isnull().sum()"
      ]
    },
    {
      "cell_type": "code",
      "execution_count": 189,
      "metadata": {
        "id": "5d902409"
      },
      "outputs": [
        {
          "data": {
            "text/plain": [
              "105713"
            ]
          },
          "execution_count": 189,
          "metadata": {},
          "output_type": "execute_result"
        }
      ],
      "source": [
        "cant_nulos_expensas"
      ]
    },
    {
      "cell_type": "code",
      "execution_count": 190,
      "metadata": {
        "id": "b15b7293"
      },
      "outputs": [],
      "source": [
        "cantidad_entries=expensas.shape[0]"
      ]
    },
    {
      "cell_type": "code",
      "execution_count": 191,
      "metadata": {
        "id": "1f0a9742"
      },
      "outputs": [
        {
          "data": {
            "text/plain": [
              "119907"
            ]
          },
          "execution_count": 191,
          "metadata": {},
          "output_type": "execute_result"
        }
      ],
      "source": [
        "cantidad_entries"
      ]
    },
    {
      "cell_type": "code",
      "execution_count": 192,
      "metadata": {
        "id": "8fbaf466"
      },
      "outputs": [],
      "source": [
        "#se calcula el porcentaje de nulos\n",
        "porcentaje_nulos_expensas=cant_nulos_expensas/cantidad_entries*100"
      ]
    },
    {
      "cell_type": "code",
      "execution_count": 193,
      "metadata": {
        "id": "c1897cfb"
      },
      "outputs": [
        {
          "data": {
            "text/plain": [
              "88.16"
            ]
          },
          "execution_count": 193,
          "metadata": {},
          "output_type": "execute_result"
        }
      ],
      "source": [
        "porcentaje_nulos_expensas.round(2)"
      ]
    },
    {
      "cell_type": "code",
      "execution_count": 194,
      "metadata": {
        "id": "c499dab3"
      },
      "outputs": [
        {
          "data": {
            "text/plain": [
              "expenses         float64\n",
              "description       object\n",
              "title             object\n",
              "properati_url     object\n",
              "dtype: object"
            ]
          },
          "execution_count": 194,
          "metadata": {},
          "output_type": "execute_result"
        }
      ],
      "source": [
        "expensas.dtypes"
      ]
    },
    {
      "cell_type": "code",
      "execution_count": 195,
      "metadata": {
        "id": "cf09bc49"
      },
      "outputs": [
        {
          "name": "stderr",
          "output_type": "stream",
          "text": [
            "/var/folders/cv/c6ctbt612w9_hm1ltt9l68vc0000gn/T/ipykernel_55149/2845727468.py:5: UserWarning: This pattern is interpreted as a regular expression, and has match groups. To actually get the groups, use str.extract.\n",
            "  data_filtrada[\"description\"].str.contains(regex_pattern_exp) |\n"
          ]
        },
        {
          "name": "stdout",
          "output_type": "stream",
          "text": [
            "(683, 4)\n"
          ]
        },
        {
          "name": "stderr",
          "output_type": "stream",
          "text": [
            "/var/folders/cv/c6ctbt612w9_hm1ltt9l68vc0000gn/T/ipykernel_55149/2845727468.py:6: UserWarning: This pattern is interpreted as a regular expression, and has match groups. To actually get the groups, use str.extract.\n",
            "  data_filtrada[\"title\"].str.contains(regex_pattern_exp)\n"
          ]
        }
      ],
      "source": [
        "#busco los campos expensas que se encuentren en las columnas description, title y url\n",
        "data_filtrada = expensas[expensas[\"expenses\"].isnull()]\n",
        "regex_pattern_exp = re.compile(r'\\b(exp*)\\b', re.IGNORECASE)\n",
        "filtered_df_2 = data_filtrada[\n",
        "    data_filtrada[\"description\"].str.contains(regex_pattern_exp) |\n",
        "    data_filtrada[\"title\"].str.contains(regex_pattern_exp)\n",
        "]\n",
        "\n",
        "print(filtered_df_2.shape)"
      ]
    },
    {
      "cell_type": "code",
      "execution_count": 196,
      "metadata": {
        "id": "634fa341"
      },
      "outputs": [
        {
          "name": "stdout",
          "output_type": "stream",
          "text": [
            "(683, 4)\n",
            "(683, 6)\n",
            "163                                                                                                                                                                                                                                                                                                                                                                                                                                                                                                                                                                                                                                                                                                                                                                      amplio dúplex independiente. pb: living comedor, cocina, baño, garaje, pequeño patio.pa: 2 dormitorios y baño completo.los baños están recién reciclados. la propiedad está a 80m de la entrada principal del barrio, cuenta con calefacción por radiadores con caldera.\n",
            "289                                                                                                                                                                                                                                                                                                            único piso 3 amb  y dep. serv. - gran balcón terrazaz/plaza mitre - vista panoramicapiso en venta plaza mitre en mar del plata acc.  priv. - living comedor apaisado con pisos porcelanato ,amplios ventanales , balcón terraza de 10 x 3.70 mts con parrilla  , sol y vista panorámica - 2 dorm. ext c/ plac . y  pisos flotantes - baño cpto. reciclado a nuevo - cocina reciclada a nuevo c/vista a plaza mitre - comedor diario igual vista  ,que era  hab.serv.  se puede volver a  disponer como antes) . baño de serv. comodo, ascesor y entrada de servicio, calefacción x aire, , exp. $ 1.000 x mes - el reciclaje esta hecho con artefactos,materiales y amoblamientos de 1ra. marcas. con baulera propia consultenos!!\n",
            "290                                                                                                                                                                                                                                                                                                                                                                                                                                                                                                                                                                                                                                                                                                                                                                                                                        departamento 3 amb en barrio san josedepartamentoliving comedor c/pisos tarugados a la calle, cocina comedor, lavadero, 2 dormitorios c/placard, baño completo. todo c/vista a la plaza.exp: $ 1400.-sup. cub: 65 m2.-\n",
            "320                                                                                                                                                                                                                                                                                                                                                                                                                                                                                                                                                                                                                                                                                                                                                                                                                                                    casa de tres ambiente a refaccionar, lote de 10x30. una cuadra de av. arnoldi ( ex tropas).living comedor cocina separada dos dormitorios,baã±o,jardã­n amplio galpon,entrada para autos.-\n",
            "669                                                                                                                                                                                                                                                                                                                                                                                                                                                                                                                                                                                                                                                                                                                                                                                                                                                                     departamento 3 amb en barrio san cayetanodeptoliving comedor, cocina comedor, lavadero, 2 dormitorios c/placard, baño, espacio de cochera.sup. cub: 70 m2.-exp: $ 1.200.-\n",
            "                                                                                                                                                                                                                                                                                                                                                                                                                                                                                                                           ...                                                                                                                                                                                                                                                                                                                                                                                                                                                                                                                   \n",
            "119730    corredor responsable: win bienes raices srl - csi 5352contacto: máximo álvarez jordan - mls id # 420521022-36importante casa 400 m2 cub. desarrollada en 2 plantas construida con doble pared de ladrillo vista, cámara de aire y aislación térmica, sobre lote de 834 m2 ubicada en mini barrio cerrado en triangulo de don torcuato,tigre. vigilancia. muy bajas expensas ($2500)  apto credito.                                 todos los detalles de alta calidad hacen que esta propiedad sea única en su estilo                                 hermosa arboleda y muy buen entorno, fácil acceso a 1 cuadra de panamericana.   planta baja: acceso a amplio hall de recepcion con pisos de porcelanato. puerta principal doble de cedro con marcos de incienso. placard de recepción, escritorio, baño completo y placard.  gran living - comedor (9,40 x 6,50) con pisos tarugados de viraró, convector tromen a leña con carga de leños desde el exterior, el sector de comedor amplio con pisos de porcelanato con salida ...\n",
            "119756                                                                                                                                                           corredor responsable: veronica grela reina - cucicba 4731contacto: cynthia bergman - mls id # 420671020-65veronica grela reina  cucicba 4731  todas las propiedades que figuran en mi perfil se encuentran a  cargo del profesional matriculado de la oficina, la intermediación y la conclusión de las operaciones serán llevadas exclusivamente por el. descripción: moderno y luminoso monomabiente divisible a estrenar con terminaciones de calidad y gusto exquisito, ubicado en condominio  de duplex. balcon aterrazado al frente. baño completo y cocina integrada con mesada de marmol.  el complejo cuenta con patio pb, jardín fondo,parrilla con patio exterior, baño y mesada. agua caliente central por 2 termotanques de alta recuperación eskabe acquapiu de 1.100 lts/h. espacio guardacoches pb opcional. ascensor hidráulico con cabina en acero inoxidable.\n",
            "119787    departamentos de 2 ambientes, dúplex y tríplexterrazas privadasfecha de entrega: 09/2018young tower vi, condosla tranquilidad y el confort en un solo lugar.a 6 cuadras de la playa, exclusivas unidades en triplex, dúplex y 2 ambientes con terrazas privadas. sobre calle lamadrid, a una cuadra del nuevo complejo comercial y cultural (ex terminal) y rodeado de múltiples alternativas comerciales, educacionales y de salud, encontramos este espectacular desarrollo inmobiliario. un espacio para disfrutar en plenitud de la ciudad y la naturaleza. unidades cuentan con terrazas y jardines colgantes .su diseño minimalista otorga un aspecto moderno y atractivo. espacios amplios e iluminados que ofrecen una gran variedad de opciones de ambientación y decoración. todas las unidades brindan una excelente vista del barrio y el entorno desde sus ventanas y balcones como así también una excelente iluminación.terrazas privadas con deck y parrilla, son algunas de las cualidades que hacen a este proyect...\n",
            "119807                                                                                                                                                                                                                                                                                                                                                                                                                                                                                                                                                                                                                                                                                                                                                               loft  1 amb. divisible 32 mts. cfte. apto profesional muyluminoso. se aceptan mascotas. quedan las cortinasblack out  roller, tiro balanceado. exp. incl. aysaantiguedad 15 años  amb. c/ pl  cerca subte linea  \"h\"total: 32 mts.bienvende amelia claroav. monroe 22374781-\n",
            "119988                                                                                                                                                                                                                                                                                                                                                                                                                codigo: 3246-jmv165 ubicado en: patagones 1350 -  publicado por: javier morroni propiedades. el precio es de usd 90000 null. amplio y prolijo ph al fondo ubicado a pocas cuadras de av. don bosco y av eva peron (ex pierrestegui), dos lineas de colectivos al frente a moron centro - hospital y el palomar. asfalto - agua corriente - gas natural.  el inmueble dispone de cocina comedor amplia y luminosa, sala de estar, lavadero cubierto, dos baños, tres dormitorios, pequeño patio trasero y espacio para guardar varios autos. inmueble apto credito - consulte su propuesta. . publicado a través de mapaprop\n",
            "Name: description, Length: 683, dtype: object\n",
            "e 2 (ex 21) chapa                  zona ex zoo). amp                   zona ex terminal ge.s/exp.ent. inde  ta - ex terminal ia s/exp    00 $ exp.!       25 – ex tupungato        .000 exp. $ 1.400   za s/exp apto cred     is ( ex farias) a         eral ex  terminal      zona ex terminal    amb ex municipal  sol ex km 14 1/2        te s/exp apto cred       win -ex.casa foa     zona ex terminal  ajas exp.            sin exp      zona ex terminal       c. s/exp.             sin exp         sin exp -sin exp - patiosx    .000 exp. $ 2.300 zona ex terminal zona ex terminal zona ex terminal   ra ( ex don pelay 00 s/exp techos al       obre ex ruta 8, p   sin exp! te s/exp      ades ex ajas exp.  sin exp ap cred   tes, ex terminal   io y ex local com       sin exp. retasado  pas (ex los tilos pas (ex los tilos pas (ex los tilos casa ex municipal   pas (ex los tilos  .000 exp. 2.000           ta s/exp- oportuni         ron (ex pierraste   ajas exp        a, s/exp a s/ exp   zona ex terminal      casa ex municipal    baja exp en san an baja exp en san an      ezón ex auto cine                     casa ex municipal -sin exp.-exc. est    ajas exp lindo bar /sin exp./caballit baja exp       ajas exp        sin exp          ajas exp. cerca su   ex entidad b tas.(ex-municipal  ajas exp  sin exp!!! 3 de f  ajas exp       d. s/exp c/terraza  ajas exp.  oportun     .000 exp. $ 2.000      ,sin exp.,terraza                lon /ex teatro 24       pio (ex garage).           sin exp c/renta a -sin exp ge-s/exp-oportunid    za s/exp-luz-oport          b. s/exp. terraza.            lber ex pobladora                        ajas exp.                 enta ex fabrica d      4 (ex 61) e/ 12  467 (ex calle11)                                                                                                                    bjas exp .000 exp. $ 3.000   baja exp.   casa ex municipal /sin exp(no apto/     bjas exp, exc . s/ exp                          ex hotel   año. exp. bajas. 3 año. exp. bajas. 3                                                  ajas exp  excel.ub                                  ajas exp. caballit raza,exp $ 1.000 ajas exp baja exp-pexigente r s/ exp   \n"
          ]
        },
        {
          "name": "stderr",
          "output_type": "stream",
          "text": [
            "/var/folders/cv/c6ctbt612w9_hm1ltt9l68vc0000gn/T/ipykernel_55149/3109285218.py:15: SettingWithCopyWarning: \n",
            "A value is trying to be set on a copy of a slice from a DataFrame.\n",
            "Try using .loc[row_indexer,col_indexer] = value instead\n",
            "\n",
            "See the caveats in the documentation: https://pandas.pydata.org/pandas-docs/stable/user_guide/indexing.html#returning-a-view-versus-a-copy\n",
            "  filtered_df_2.loc[:, 'description_short'] = filtered_df_2['description'].apply(lambda x: extract_substring(x, regex_pattern_exp))\n",
            "/var/folders/cv/c6ctbt612w9_hm1ltt9l68vc0000gn/T/ipykernel_55149/3109285218.py:16: SettingWithCopyWarning: \n",
            "A value is trying to be set on a copy of a slice from a DataFrame.\n",
            "Try using .loc[row_indexer,col_indexer] = value instead\n",
            "\n",
            "See the caveats in the documentation: https://pandas.pydata.org/pandas-docs/stable/user_guide/indexing.html#returning-a-view-versus-a-copy\n",
            "  filtered_df_2.loc[:, 'title_short'] = filtered_df_2['title'].apply(lambda x: extract_substring(x, regex_pattern_exp))\n"
          ]
        }
      ],
      "source": [
        "def extract_substring(text, regex_pattern):\n",
        "    match = re.search(regex_pattern, text)\n",
        "    if match:\n",
        "        start_index = max(0, match.start() - 5)\n",
        "        end_index = match.end() + 10\n",
        "\n",
        "        return text[start_index:end_index]\n",
        "    else:\n",
        "        return \"\"\n",
        "\n",
        "\n",
        "\n",
        "# Use .loc to set values in the DataFrame\n",
        "print(filtered_df_2.shape)\n",
        "filtered_df_2.loc[:, 'description_short'] = filtered_df_2['description'].apply(lambda x: extract_substring(x, regex_pattern_exp))\n",
        "filtered_df_2.loc[:, 'title_short'] = filtered_df_2['title'].apply(lambda x: extract_substring(x, regex_pattern_exp))\n",
        "print(filtered_df_2.shape)\n",
        "print(filtered_df_2[\"description\"])\n",
        "print(*filtered_df_2[\"title_short\"])\n"
      ]
    },
    {
      "cell_type": "code",
      "execution_count": 197,
      "metadata": {
        "id": "0cda05e1"
      },
      "outputs": [
        {
          "data": {
            "text/plain": [
              "0.7499023201414267"
            ]
          },
          "execution_count": 197,
          "metadata": {},
          "output_type": "execute_result"
        }
      ],
      "source": [
        "#calculo el porcentaje del campo expensas que quedaría sin llenar\n",
        "cantidad_maxima_a_agregar=(filtered_df_2.shape[0])/cantidad_entries*100\n",
        "campos_sin_llenar_en_porcentaje=porcentaje_nulos_expensas-cantidad_maxima_a_agregar\n",
        "campos_sin_llenar_en_porcentaje.round(0)\n",
        "calculate_correlation(properatti_df[properatti_df['property_type']=='apartment'],'rooms','surface_covered_in_m2')\n"
      ]
    },
    {
      "cell_type": "markdown",
      "metadata": {
        "id": "GzZR7Jcr0Ixp"
      },
      "source": [
        "Los campos que contienen exp (expenses) que se extraen de la descripcion, de title y de url son, en total, a lo sumo 689.\n",
        "Representa menos del 0,6% de campos totales. Por lo tanto, quedan alrededor de 88 % de campos sin llenar.\n",
        "\n",
        "---\n",
        "\n",
        "\n",
        "Se descarta la columna\n",
        "\n",
        "\n",
        "\n"
      ]
    },
    {
      "cell_type": "markdown",
      "metadata": {
        "id": "ua8MGsyYwRuU"
      },
      "source": [
        "# funciones de correlacion"
      ]
    },
    {
      "cell_type": "code",
      "execution_count": null,
      "metadata": {
        "id": "8qMQO0DMwULf"
      },
      "outputs": [],
      "source": []
    },
    {
      "cell_type": "markdown",
      "metadata": {
        "id": "FrRQMrRfwkcO"
      },
      "source": [
        "# funcion de llenado de rooms con superficie\n"
      ]
    },
    {
      "cell_type": "code",
      "execution_count": 198,
      "metadata": {
        "id": "NqdKAOKHwuZa"
      },
      "outputs": [],
      "source": [
        "def get_rooms_with_surface(df):\n",
        "\n",
        "    #filtro las entries con superficie valida\n",
        "    valid_rows = df[df['surface_covered_in_m2'].notnull()]\n",
        "\n",
        "    #agrupo por superficie cubierta y obtengo la media de rooms\n",
        "    mean_rooms_by_surface = valid_rows.groupby('surface_covered_in_m2')['rooms'].mean()\n",
        "\n",
        "    #recorro mi df y asigno valor a rooms cuando no tiene valor\n",
        "    for index, row in df.iterrows():\n",
        "        if pd.isna(row['rooms']):\n",
        "            surface_value = row['surface_covered_in_m2']\n",
        "            if surface_value in mean_rooms_by_surface.index:\n",
        "                mean_rooms = mean_rooms_by_surface[surface_value]\n",
        "                # Chequeo si la media != NaN\n",
        "                if not np.isnan(mean_rooms):\n",
        "                    probability = mean_rooms - int(mean_rooms)\n",
        "                    rounded_rooms = np.random.choice([np.floor(mean_rooms), np.ceil(mean_rooms)], p=[1 - probability, probability])\n",
        "                    df.at[index, 'rooms'] = rounded_rooms\n",
        "                else:\n",
        "                    #si la media es NaN\n",
        "                    df.at[index, 'rooms'] = mean_rooms\n",
        "    return df"
      ]
    },
    {
      "cell_type": "code",
      "execution_count": 199,
      "metadata": {
        "id": "VrbQBJjgpp19"
      },
      "outputs": [],
      "source": [
        "\n"
      ]
    },
    {
      "cell_type": "code",
      "execution_count": 203,
      "metadata": {
        "id": "hyt4YdkYpps4"
      },
      "outputs": [],
      "source": [
        "# Creamos X e y\n",
        "\n",
        "feature_cols = ['price','floor', 'rooms', 'surface_total_clean']\n",
        "X = properatti_df[feature_cols]\n",
        "y = properatti_df.price_per_m2"
      ]
    },
    {
      "cell_type": "code",
      "execution_count": 202,
      "metadata": {
        "id": "iNa-AjXuppm2"
      },
      "outputs": [
        {
          "data": {
            "text/html": [
              "<div>\n",
              "<style scoped>\n",
              "    .dataframe tbody tr th:only-of-type {\n",
              "        vertical-align: middle;\n",
              "    }\n",
              "\n",
              "    .dataframe tbody tr th {\n",
              "        vertical-align: top;\n",
              "    }\n",
              "\n",
              "    .dataframe thead th {\n",
              "        text-align: right;\n",
              "    }\n",
              "</style>\n",
              "<table border=\"1\" class=\"dataframe\">\n",
              "  <thead>\n",
              "    <tr style=\"text-align: right;\">\n",
              "      <th></th>\n",
              "      <th>property_type</th>\n",
              "      <th>place_name</th>\n",
              "      <th>place_with_parent_names</th>\n",
              "      <th>country_name</th>\n",
              "      <th>state_name</th>\n",
              "      <th>geonames_id</th>\n",
              "      <th>lat-lon</th>\n",
              "      <th>lat</th>\n",
              "      <th>lon</th>\n",
              "      <th>price</th>\n",
              "      <th>currency</th>\n",
              "      <th>price_aprox_local_currency</th>\n",
              "      <th>price_aprox_usd</th>\n",
              "      <th>surface_total_in_m2</th>\n",
              "      <th>surface_covered_in_m2</th>\n",
              "      <th>price_usd_per_m2</th>\n",
              "      <th>price_per_m2</th>\n",
              "      <th>floor</th>\n",
              "      <th>rooms</th>\n",
              "      <th>expenses</th>\n",
              "      <th>properati_url</th>\n",
              "      <th>description</th>\n",
              "      <th>title</th>\n",
              "      <th>image_thumbnail</th>\n",
              "      <th>provincia</th>\n",
              "      <th>ciudad</th>\n",
              "      <th>barrio</th>\n",
              "      <th>partido</th>\n",
              "      <th>geometry</th>\n",
              "      <th>surface_total_clean</th>\n",
              "    </tr>\n",
              "  </thead>\n",
              "  <tbody>\n",
              "    <tr>\n",
              "      <th>0</th>\n",
              "      <td>PH</td>\n",
              "      <td>Mataderos</td>\n",
              "      <td>|Argentina|Capital Federal|Mataderos|</td>\n",
              "      <td>Argentina</td>\n",
              "      <td>Capital Federal</td>\n",
              "      <td>3430787.0</td>\n",
              "      <td>-34.6618237,-58.5088387</td>\n",
              "      <td>-34.661824</td>\n",
              "      <td>-58.508839</td>\n",
              "      <td>62000.0</td>\n",
              "      <td>USD</td>\n",
              "      <td>1093959.0</td>\n",
              "      <td>62000.0</td>\n",
              "      <td>55.0</td>\n",
              "      <td>40.0</td>\n",
              "      <td>1127.272727</td>\n",
              "      <td>1550.000000</td>\n",
              "      <td>NaN</td>\n",
              "      <td>NaN</td>\n",
              "      <td>NaN</td>\n",
              "      <td>http://www.properati.com.ar/15bo8_venta_ph_mataderos_lavadero_patio_inmobiliaria-fedele</td>\n",
              "      <td>2 ambientes tipo casa planta baja por pasillo, refaccionado a nuevo, patio grande, con lavadero, living comedor con cocina integrada, artefacto de cocina, alacena, baño completo, y dormitorio. todo en excelente estado, para habitar.no es apto credito aviso publicado por pixel inmobiliario (servicio de páginas web para inmobiliarias).</td>\n",
              "      <td>2 amb tipo casa sin expensas en pb</td>\n",
              "      <td>https://thumbs4.properati.com/8/BluUYiHJLhgIIKufMJMwHtquzhk=/trim/198x0/smart/filters:strip_icc()/inmobiliariafedele.com/photos/CARHUE%202278-IMG_3400.JPG</td>\n",
              "      <td>Buenos Aires</td>\n",
              "      <td>Ciudad Autonoma de Buenos Aires</td>\n",
              "      <td>Mataderos</td>\n",
              "      <td>None</td>\n",
              "      <td>POINT (-58.50884 -34.66182)</td>\n",
              "      <td>55.0</td>\n",
              "    </tr>\n",
              "    <tr>\n",
              "      <th>1</th>\n",
              "      <td>apartment</td>\n",
              "      <td>La Plata</td>\n",
              "      <td>|Argentina|Bs.As. G.B.A. Zona Sur|La Plata|</td>\n",
              "      <td>Argentina</td>\n",
              "      <td>Bs.As. G.B.A. Zona Sur</td>\n",
              "      <td>3432039.0</td>\n",
              "      <td>-34.9038831,-57.9643295</td>\n",
              "      <td>-34.903883</td>\n",
              "      <td>-57.964330</td>\n",
              "      <td>150000.0</td>\n",
              "      <td>USD</td>\n",
              "      <td>2646675.0</td>\n",
              "      <td>150000.0</td>\n",
              "      <td>NaN</td>\n",
              "      <td>NaN</td>\n",
              "      <td>NaN</td>\n",
              "      <td>NaN</td>\n",
              "      <td>NaN</td>\n",
              "      <td>NaN</td>\n",
              "      <td>NaN</td>\n",
              "      <td>http://www.properati.com.ar/15bob_venta_departamentos_la-plata_balcon_lavadero_toilette_garage_estrenar_antonini-propiedades_dcp</td>\n",
              "      <td>venta de departamento en décimo piso al frente, a estrenar. living comedor con ventanales hacia el balcón con pisos de madera. cocina completa con doble mesada, muebles bajo mesada. lavadero separado. toilette.dormitorio con placard. segundo dormitorio a dividir. calefacción por radiadorbaño completo.balcón corrido. posibilidad de cochera semicubierta. u$d 20.000                     aviso publicado por pixel inmobiliario (servicio de páginas web para inmobiliarias).</td>\n",
              "      <td>venta depto 2 dorm. a estrenar 7 e/ 36 y 37</td>\n",
              "      <td>https://thumbs4.properati.com/7/ikpVBu2ztHA7jv45KAKirGL3JM8=/trim/198x0/smart/filters:strip_icc()/antoninipropiedades.com/photos/401-1-7%20y%2037%2010A%201.jpg</td>\n",
              "      <td>Buenos Aires</td>\n",
              "      <td>La Plata</td>\n",
              "      <td>None</td>\n",
              "      <td>G.B.A. Zona Sur</td>\n",
              "      <td>POINT (-57.96433 -34.90388)</td>\n",
              "      <td>NaN</td>\n",
              "    </tr>\n",
              "    <tr>\n",
              "      <th>2</th>\n",
              "      <td>apartment</td>\n",
              "      <td>Mataderos</td>\n",
              "      <td>|Argentina|Capital Federal|Mataderos|</td>\n",
              "      <td>Argentina</td>\n",
              "      <td>Capital Federal</td>\n",
              "      <td>3430787.0</td>\n",
              "      <td>-34.6522615,-58.5229825</td>\n",
              "      <td>-34.652262</td>\n",
              "      <td>-58.522982</td>\n",
              "      <td>72000.0</td>\n",
              "      <td>USD</td>\n",
              "      <td>1270404.0</td>\n",
              "      <td>72000.0</td>\n",
              "      <td>55.0</td>\n",
              "      <td>55.0</td>\n",
              "      <td>1309.090909</td>\n",
              "      <td>1309.090909</td>\n",
              "      <td>NaN</td>\n",
              "      <td>NaN</td>\n",
              "      <td>NaN</td>\n",
              "      <td>http://www.properati.com.ar/15bod_venta_departamentos_mataderos_lavadero_placard_inmobiliaria-fedele</td>\n",
              "      <td>2 ambientes 3er piso lateral living comedor amplio cocina separada con lavadero, baño completo y dormitorio con placard. bajas expensas, excelente ubicacion     aviso publicado por pixel inmobiliario (servicio de páginas web para inmobiliarias).</td>\n",
              "      <td>2 amb 3er piso con ascensor apto credito</td>\n",
              "      <td>https://thumbs4.properati.com/5/SXKr34F_IwG3W_Ejwfu6QpW4cH0=/trim/198x0/smart/filters:strip_icc()/inmobiliariafedele.com/photos/GUAMINI%201171-IMG_3403.JPG</td>\n",
              "      <td>Buenos Aires</td>\n",
              "      <td>Ciudad Autonoma de Buenos Aires</td>\n",
              "      <td>Mataderos</td>\n",
              "      <td>None</td>\n",
              "      <td>POINT (-58.52298 -34.65226)</td>\n",
              "      <td>55.0</td>\n",
              "    </tr>\n",
              "  </tbody>\n",
              "</table>\n",
              "</div>"
            ],
            "text/plain": [
              "  property_type place_name                      place_with_parent_names  \\\n",
              "0            PH  Mataderos        |Argentina|Capital Federal|Mataderos|   \n",
              "1     apartment   La Plata  |Argentina|Bs.As. G.B.A. Zona Sur|La Plata|   \n",
              "2     apartment  Mataderos        |Argentina|Capital Federal|Mataderos|   \n",
              "\n",
              "  country_name              state_name  geonames_id                  lat-lon  \\\n",
              "0    Argentina         Capital Federal    3430787.0  -34.6618237,-58.5088387   \n",
              "1    Argentina  Bs.As. G.B.A. Zona Sur    3432039.0  -34.9038831,-57.9643295   \n",
              "2    Argentina         Capital Federal    3430787.0  -34.6522615,-58.5229825   \n",
              "\n",
              "         lat        lon     price currency  price_aprox_local_currency  \\\n",
              "0 -34.661824 -58.508839   62000.0      USD                   1093959.0   \n",
              "1 -34.903883 -57.964330  150000.0      USD                   2646675.0   \n",
              "2 -34.652262 -58.522982   72000.0      USD                   1270404.0   \n",
              "\n",
              "   price_aprox_usd  surface_total_in_m2  surface_covered_in_m2  \\\n",
              "0          62000.0                 55.0                   40.0   \n",
              "1         150000.0                  NaN                    NaN   \n",
              "2          72000.0                 55.0                   55.0   \n",
              "\n",
              "   price_usd_per_m2  price_per_m2  floor  rooms  expenses  \\\n",
              "0       1127.272727   1550.000000    NaN    NaN       NaN   \n",
              "1               NaN           NaN    NaN    NaN       NaN   \n",
              "2       1309.090909   1309.090909    NaN    NaN       NaN   \n",
              "\n",
              "                                                                                                                      properati_url  \\\n",
              "0                                           http://www.properati.com.ar/15bo8_venta_ph_mataderos_lavadero_patio_inmobiliaria-fedele   \n",
              "1  http://www.properati.com.ar/15bob_venta_departamentos_la-plata_balcon_lavadero_toilette_garage_estrenar_antonini-propiedades_dcp   \n",
              "2                              http://www.properati.com.ar/15bod_venta_departamentos_mataderos_lavadero_placard_inmobiliaria-fedele   \n",
              "\n",
              "                                                                                                                                                                                                                                                                                                                                                                                                                                                                              description  \\\n",
              "0                                                                                                                                         2 ambientes tipo casa planta baja por pasillo, refaccionado a nuevo, patio grande, con lavadero, living comedor con cocina integrada, artefacto de cocina, alacena, baño completo, y dormitorio. todo en excelente estado, para habitar.no es apto credito aviso publicado por pixel inmobiliario (servicio de páginas web para inmobiliarias).   \n",
              "1  venta de departamento en décimo piso al frente, a estrenar. living comedor con ventanales hacia el balcón con pisos de madera. cocina completa con doble mesada, muebles bajo mesada. lavadero separado. toilette.dormitorio con placard. segundo dormitorio a dividir. calefacción por radiadorbaño completo.balcón corrido. posibilidad de cochera semicubierta. u$d 20.000                     aviso publicado por pixel inmobiliario (servicio de páginas web para inmobiliarias).   \n",
              "2                                                                                                                                                                                                                                   2 ambientes 3er piso lateral living comedor amplio cocina separada con lavadero, baño completo y dormitorio con placard. bajas expensas, excelente ubicacion     aviso publicado por pixel inmobiliario (servicio de páginas web para inmobiliarias).   \n",
              "\n",
              "                                                        title  \\\n",
              "0                          2 amb tipo casa sin expensas en pb   \n",
              "1  venta depto 2 dorm. a estrenar 7 e/ 36 y 37                  \n",
              "2                    2 amb 3er piso con ascensor apto credito   \n",
              "\n",
              "                                                                                                                                                   image_thumbnail  \\\n",
              "0       https://thumbs4.properati.com/8/BluUYiHJLhgIIKufMJMwHtquzhk=/trim/198x0/smart/filters:strip_icc()/inmobiliariafedele.com/photos/CARHUE%202278-IMG_3400.JPG   \n",
              "1  https://thumbs4.properati.com/7/ikpVBu2ztHA7jv45KAKirGL3JM8=/trim/198x0/smart/filters:strip_icc()/antoninipropiedades.com/photos/401-1-7%20y%2037%2010A%201.jpg   \n",
              "2      https://thumbs4.properati.com/5/SXKr34F_IwG3W_Ejwfu6QpW4cH0=/trim/198x0/smart/filters:strip_icc()/inmobiliariafedele.com/photos/GUAMINI%201171-IMG_3403.JPG   \n",
              "\n",
              "      provincia                           ciudad     barrio          partido  \\\n",
              "0  Buenos Aires  Ciudad Autonoma de Buenos Aires  Mataderos             None   \n",
              "1  Buenos Aires                         La Plata       None  G.B.A. Zona Sur   \n",
              "2  Buenos Aires  Ciudad Autonoma de Buenos Aires  Mataderos             None   \n",
              "\n",
              "                      geometry surface_total_clean  \n",
              "0  POINT (-58.50884 -34.66182)                55.0  \n",
              "1  POINT (-57.96433 -34.90388)                 NaN  \n",
              "2  POINT (-58.52298 -34.65226)                55.0  "
            ]
          },
          "execution_count": 202,
          "metadata": {},
          "output_type": "execute_result"
        }
      ],
      "source": [
        "properatti_df.head(3)"
      ]
    },
    {
      "cell_type": "code",
      "execution_count": null,
      "metadata": {
        "id": "pYYIOt-rppjp"
      },
      "outputs": [],
      "source": []
    }
  ],
  "metadata": {
    "colab": {
      "private_outputs": true,
      "provenance": [],
      "toc_visible": true
    },
    "kernelspec": {
      "display_name": "Python 3",
      "name": "python3"
    },
    "language_info": {
      "codemirror_mode": {
        "name": "ipython",
        "version": 3
      },
      "file_extension": ".py",
      "mimetype": "text/x-python",
      "name": "python",
      "nbconvert_exporter": "python",
      "pygments_lexer": "ipython3",
      "version": "3.9.18"
    }
  },
  "nbformat": 4,
  "nbformat_minor": 0
}
